{
 "cells": [
  {
   "cell_type": "code",
   "execution_count": 1,
   "metadata": {},
   "outputs": [],
   "source": [
    "try:\n",
    "    import google.colab\n",
    "    import urllib.request\n",
    "    download_files = [\n",
    "        \"requirements.txt\",\n",
    "        \"data_downloader.sh\",\n",
    "        \"model_first.joblib\",\n",
    "        \"saved_model_modified.pth\",\n",
    "        \"face_landmarker_v2_with_blendshapes.task\",\n",
    "    ]\n",
    "    for file in download_files:\n",
    "        urllib.request.urlretrieve(f\"https://github.com/av-savchenko/Speaker-Trainer/blob/main/Experiments/{file}?raw=true\", file)\n",
    "    FACIAL_ATTRS_RECOGNIZER_MODEL_PATH = \"./\"\n",
    "    far_models = [\n",
    "        \"age_gender_ethnicity_lagenda_enet0_ft.onnx\",\n",
    "        \"age_gender_ethnicity_lagenda_mbf_ft.onnx\",\n",
    "    ]\n",
    "    for file in far_models:\n",
    "        urllib.request.urlretrieve(f\"https://github.com/av-savchenko/Speaker-Trainer/blob/main/Experiments/age_gender/models/{file}?raw=true\", file)\n",
    "    !pip install -r requirements.txt\n",
    "except:\n",
    "    IN_COLAB = False\n",
    "    FACIAL_ATTRS_RECOGNIZER_MODEL_PATH = \"./age_gender/models/\""
   ]
  },
  {
   "cell_type": "code",
   "execution_count": 2,
   "metadata": {},
   "outputs": [
    {
     "name": "stdout",
     "output_type": "stream",
     "text": [
      "Retrieving folder contents\n",
      "Processing file 1ZOQZeD7-ojC7uZQ7nzgyco2rqKdNnPeE cs_china_short.mp4\n",
      "Processing file 1AdjLZYhrjencKW1MYCQW3UD_pNEO-1Vx cs_china.mp4\n",
      "Processing file 12w2F4q8BVlqoxnHrKJJu9YQhFSgai8dy mutko.mp4\n",
      "Processing file 16RG6U2sDlgiROJJA75mrNRoY5IOwec6g poor_presentation_example.mp4\n",
      "Processing file 1PKiBHxG25JNj4iNV7m0Qk413SWEFbZzi poor_presentation_short.mp4\n",
      "Processing file 1zxwTESeTwFsg3tVAgPH-bc6cyB-16RCF short_eng.mp4\n",
      "Processing file 1Dy0qA5VBY5wouiguJaOV4zA6oshP9dpS short_rus.mp4\n",
      "Retrieving folder contents completed\n",
      "Building directory structure\n",
      "Building directory structure completed\n",
      "Downloading...\n",
      "From: https://drive.google.com/uc?id=1ZOQZeD7-ojC7uZQ7nzgyco2rqKdNnPeE\n",
      "To: /Users/echuraev/Workspace/HSE/Speaker-Trainer/Experiments/data/cs_china_short.mp4\n",
      "100%|██████████████████████████████████████| 9.04M/9.04M [00:00<00:00, 10.7MB/s]\n",
      "Downloading...\n",
      "From: https://drive.google.com/uc?id=1AdjLZYhrjencKW1MYCQW3UD_pNEO-1Vx\n",
      "To: /Users/echuraev/Workspace/HSE/Speaker-Trainer/Experiments/data/cs_china.mp4\n",
      "100%|██████████████████████████████████████| 16.4M/16.4M [00:02<00:00, 7.99MB/s]\n",
      "Downloading...\n",
      "From: https://drive.google.com/uc?id=12w2F4q8BVlqoxnHrKJJu9YQhFSgai8dy\n",
      "To: /Users/echuraev/Workspace/HSE/Speaker-Trainer/Experiments/data/mutko.mp4\n",
      "100%|██████████████████████████████████████| 2.44M/2.44M [00:00<00:00, 4.10MB/s]\n",
      "Downloading...\n",
      "From: https://drive.google.com/uc?id=16RG6U2sDlgiROJJA75mrNRoY5IOwec6g\n",
      "To: /Users/echuraev/Workspace/HSE/Speaker-Trainer/Experiments/data/poor_presentation_example.mp4\n",
      "100%|██████████████████████████████████████| 32.6M/32.6M [00:11<00:00, 2.96MB/s]\n",
      "Downloading...\n",
      "From: https://drive.google.com/uc?id=1PKiBHxG25JNj4iNV7m0Qk413SWEFbZzi\n",
      "To: /Users/echuraev/Workspace/HSE/Speaker-Trainer/Experiments/data/poor_presentation_short.mp4\n",
      "100%|██████████████████████████████████████| 14.5M/14.5M [00:07<00:00, 2.03MB/s]\n",
      "Downloading...\n",
      "From: https://drive.google.com/uc?id=1zxwTESeTwFsg3tVAgPH-bc6cyB-16RCF\n",
      "To: /Users/echuraev/Workspace/HSE/Speaker-Trainer/Experiments/data/short_eng.mp4\n",
      "100%|██████████████████████████████████████| 4.56M/4.56M [00:00<00:00, 5.45MB/s]\n",
      "Downloading...\n",
      "From: https://drive.google.com/uc?id=1Dy0qA5VBY5wouiguJaOV4zA6oshP9dpS\n",
      "To: /Users/echuraev/Workspace/HSE/Speaker-Trainer/Experiments/data/short_rus.mp4\n",
      "100%|██████████████████████████████████████| 11.8M/11.8M [00:10<00:00, 1.08MB/s]\n",
      "Download completed\n"
     ]
    }
   ],
   "source": [
    "!sh data_downloader.sh"
   ]
  },
  {
   "cell_type": "code",
   "execution_count": 2,
   "metadata": {
    "colab": {
     "base_uri": "https://localhost:8080/"
    },
    "id": "sE0oWeYIBFOp",
    "outputId": "834967c2-9d98-493c-f135-7f63658e151e"
   },
   "outputs": [
    {
     "name": "stderr",
     "output_type": "stream",
     "text": [
      "/opt/anaconda3/envs/speaker_trainer/lib/python3.11/site-packages/tqdm/auto.py:21: TqdmWarning: IProgress not found. Please update jupyter and ipywidgets. See https://ipywidgets.readthedocs.io/en/stable/user_install.html\n",
      "  from .autonotebook import tqdm as notebook_tqdm\n",
      "2025-04-29 23:39:22.295085: I tensorflow/core/platform/cpu_feature_guard.cc:182] This TensorFlow binary is optimized to use available CPU instructions in performance-critical operations.\n",
      "To enable the following instructions: AVX2 FMA, in other operations, rebuild TensorFlow with the appropriate compiler flags.\n"
     ]
    },
    {
     "name": "stdout",
     "output_type": "stream",
     "text": [
      "Importing the dtw module. When using in academic works please cite:\n",
      "  T. Giorgino. Computing and Visualizing Dynamic Time Warping Alignments in R: The dtw Package.\n",
      "  J. Stat. Soft., doi:10.18637/jss.v031.i07.\n",
      "\n"
     ]
    },
    {
     "name": "stderr",
     "output_type": "stream",
     "text": [
      "[nltk_data] Downloading package punkt to /Users/echuraev/nltk_data...\n",
      "[nltk_data]   Package punkt is already up-to-date!\n",
      "[nltk_data] Downloading package punkt_tab to\n",
      "[nltk_data]     /Users/echuraev/nltk_data...\n",
      "[nltk_data]   Package punkt_tab is already up-to-date!\n"
     ]
    },
    {
     "data": {
      "text/plain": [
       "True"
      ]
     },
     "execution_count": 2,
     "metadata": {},
     "output_type": "execute_result"
    }
   ],
   "source": [
    "import torch\n",
    "import torch.nn as nn\n",
    "from torchvision.models import resnet34\n",
    "import pytorch_lightning as pl\n",
    "from sklearn.metrics import fbeta_score\n",
    "import torch.nn.functional as F\n",
    "from fastai.vision.all import *\n",
    "import os\n",
    "import cv2\n",
    "import mediapipe as mp\n",
    "import torchvision.transforms as transforms\n",
    "from PIL import Image\n",
    "from tqdm import tqdm\n",
    "import math\n",
    "from emotiefflib.facial_analysis import EmotiEffLibRecognizer\n",
    "import numpy as np\n",
    "from mediapipe.tasks import python\n",
    "from mediapipe.tasks.python import vision\n",
    "from cvzone.PoseModule import PoseDetector\n",
    "import joblib\n",
    "from joblib import load\n",
    "import string\n",
    "import moviepy.editor as mp_editor\n",
    "import whisper_timestamped\n",
    "from aniemore.models import HuggingFaceModel\n",
    "from aniemore.recognizers.voice import VoiceRecognizer\n",
    "from moviepy.audio.io.AudioFileClip import AudioFileClip\n",
    "from pydub import AudioSegment\n",
    "import wave\n",
    "import nltk\n",
    "from nltk import word_tokenize, FreqDist\n",
    "import noisereduce as nr\n",
    "import librosa\n",
    "import scipy.io.wavfile as wavf\n",
    "from moviepy.audio.io.AudioFileClip import AudioFileClip\n",
    "from pystoi import stoi\n",
    "#from google.colab import drive\n",
    "from moviepy.editor import VideoFileClip\n",
    "from IPython.display import display\n",
    "import onnxruntime as ort\n",
    "import g4f\n",
    "nltk.download('punkt')\n",
    "nltk.download('punkt_tab')"
   ]
  },
  {
   "cell_type": "markdown",
   "metadata": {
    "id": "7pmONhWWAMYr"
   },
   "source": [
    "## Computer Vision"
   ]
  },
  {
   "cell_type": "code",
   "execution_count": 3,
   "metadata": {
    "id": "Xzxw49MgAWAe"
   },
   "outputs": [],
   "source": [
    "class LabelSmoothingBCEWithLogitsLossFlat(BCEWithLogitsLossFlat):\n",
    "    \"\"\"\n",
    "    Modified loss function.\n",
    "    \"\"\"\n",
    "    def init(self, eps:float=0.1, **kwargs):\n",
    "        self.eps = eps\n",
    "        super().init(thresh=0.2, **kwargs)\n",
    "\n",
    "    def call(self, inp, targ, **kwargs):\n",
    "        # https://www.kaggle.com/c/siim-isic-melanoma-classification/discussion/166833#929222\n",
    "        targ_smooth = targ.float() * (1. - self.eps) + 0.5 * self.eps\n",
    "        return super().call(inp, targ_smooth, **kwargs)\n",
    "\n",
    "class CustomResNet(nn.Module):\n",
    "    \"\"\"\n",
    "    Tuned resnet 34 model.\n",
    "    \"\"\"\n",
    "    def __init__(self, num_classes=19):\n",
    "        \"\"\"\n",
    "        Initialize resnet34 model and change last layer.\n",
    "        :param num_classes: int number of outputs.\n",
    "        \"\"\"\n",
    "        super(CustomResNet, self).__init__()\n",
    "        resnet = resnet34(weights=ResNet34_Weights.IMAGENET1K_V1)\n",
    "        for param in resnet.parameters():\n",
    "            param.requires_grad = False\n",
    "        in_features = resnet.fc.in_features\n",
    "        resnet.fc = nn.Linear(in_features, num_classes)\n",
    "        self.resnet = resnet\n",
    "\n",
    "    def forward(self, x):\n",
    "        return self.resnet(x)\n",
    "\n",
    "\n",
    "class CustomModel(pl.LightningModule):\n",
    "    def __init__(self, model, threshold=0.7, k=4):\n",
    "        super(CustomModel, self).__init__()\n",
    "        self.model = model\n",
    "        self.train_loss_mean = []\n",
    "        self.train_acc_mean = []\n",
    "        self.train_k_acc = []\n",
    "        self.val_loss_mean = []\n",
    "        self.val_acc_mean = []\n",
    "        self.val_k_acc = []\n",
    "        self.k = k\n",
    "        self.threshold = threshold\n",
    "\n",
    "    def adversarial_loss(self, y_hat, y):\n",
    "        \"\"\"\n",
    "        Initialize loss function.\n",
    "        :param y_hat: prediction.\n",
    "        :param y: real values.\n",
    "        :return: loss function.\n",
    "        \"\"\"\n",
    "        loss_fn = LabelSmoothingBCEWithLogitsLossFlat()\n",
    "        return loss_fn(y_hat, y)\n",
    "\n",
    "    def forward(self, x):\n",
    "        return self.model(x)\n",
    "\n",
    "    def training_step(self, batch, batch_idx):\n",
    "        \"\"\"\n",
    "        Step of the training loop.\n",
    "        :param batch: batch for training.\n",
    "        :param batch_idx: index of trained batch.\n",
    "        :return: loss calculated on this step.\n",
    "        \"\"\"\n",
    "        images, attributes = batch\n",
    "        outputs = self(images)\n",
    "        loss = self.adversarial_loss(outputs, attributes)\n",
    "        self.train_loss_mean.append(loss)\n",
    "        accuracy = self.calculate_accuracy(outputs, attributes)\n",
    "        k_acc = self.top_k_accuracy(outputs, attributes)\n",
    "        self.train_acc_mean.append(accuracy)\n",
    "        self.train_k_acc.append(k_acc)\n",
    "        return loss\n",
    "\n",
    "    def validation_step(self, batch, batch_idx):\n",
    "        \"\"\"\n",
    "        Step of the validation loop.\n",
    "        :param batch: batch for validation.\n",
    "        :param batch_idx: index of validation batch.\n",
    "        :return: dictionary with validation loss and accuracy.\n",
    "        \"\"\"\n",
    "        images, attributes = batch\n",
    "        outputs = self(images)\n",
    "        loss = self.adversarial_loss(outputs, attributes)\n",
    "        self.val_loss_mean.append(loss)\n",
    "        accuracy = self.calculate_accuracy(outputs, attributes)\n",
    "        k_acc = self.top_k_accuracy(outputs, attributes)\n",
    "        self.val_acc_mean.append(accuracy)\n",
    "        self.val_k_acc.append(k_acc)\n",
    "        return {\"val_loss\": loss, \"val_accuracy\": accuracy, \"val_k_acc\": k_acc}\n",
    "\n",
    "    def configure_optimizers(self):\n",
    "        \"\"\"\n",
    "        Initialize optimizer.\n",
    "        :return: optimizer.\n",
    "        \"\"\"\n",
    "        return torch.optim.Adam(self.model.parameters(), lr=0.001)\n",
    "\n",
    "    def on_validation_epoch_end(self):\n",
    "        \"\"\"\n",
    "        Calculate mean values when validation epoch ends.\n",
    "        \"\"\"\n",
    "        loss = sum(self.val_loss_mean) / len(self.val_loss_mean)\n",
    "        self.val_loss_mean = []\n",
    "        acc = sum(self.val_acc_mean) / len(self.val_acc_mean)\n",
    "        self.val_acc_mean = []\n",
    "        k_acc = sum(self.val_k_acc) / len(self.val_k_acc)\n",
    "        self.val_k_acc = []\n",
    "        self.log(\"val epoch end loss\", loss, prog_bar=True)\n",
    "        self.log(\"val epoch end acc\", acc, prog_bar=True)\n",
    "        self.log(\"val epoch end k acc\", k_acc, prog_bar=True)\n",
    "\n",
    "    def calculate_accuracy(self, outputs, targets):\n",
    "        \"\"\"\n",
    "        Calculate the quality of the model.\n",
    "        :param outputs: model outputs.\n",
    "        :param targets: targets: real values.\n",
    "        :return: float value - accuracy.\n",
    "        \"\"\"\n",
    "        probs = F.softmax(outputs, dim=1)\n",
    "        binary_mask = (probs >= self.threshold).float()\n",
    "        accuracy = fbeta_score(binary_mask, targets, beta=2, average='samples')\n",
    "        return accuracy\n",
    "\n",
    "    def on_train_epoch_end(self):\n",
    "        \"\"\"\n",
    "        Calculate mean values when trining epoch ends.\n",
    "        \"\"\"\n",
    "        loss = sum(self.train_loss_mean) / len(self.train_loss_mean)\n",
    "        self.train_loss_mean = []\n",
    "        acc = sum(self.train_acc_mean) / len(self.train_acc_mean)\n",
    "        self.train_acc_mean = []\n",
    "        k_acc = sum(self.train_k_acc) / len(self.train_k_acc)\n",
    "        self.train_k_acc = []\n",
    "        self.log(\"train epoch end loss\", loss, prog_bar=True)\n",
    "        self.log(\"train epoch end acc\", acc, prog_bar=True)\n",
    "        self.log(\"train epoch end k acc\", k_acc, prog_bar=True)\n",
    "\n",
    "    def top_k_accuracy(self, outputs, targets):\n",
    "        \"\"\"\n",
    "        Calculate accuracy among k most probable classes.\n",
    "        :param outputs: model outputs.\n",
    "        :param targets: real values.\n",
    "        :return: float value - accuracy.\n",
    "        \"\"\"\n",
    "        topk_values, topk_indices = torch.topk(outputs, self.k, dim=1)\n",
    "        correct_count = 0\n",
    "        for i in range(topk_indices.size(0)):\n",
    "            for j in range(topk_indices.size(1)):\n",
    "                if targets[i, topk_indices[i, j]] == 1:\n",
    "                    correct_count += 1\n",
    "        accuracy = correct_count / (outputs.size(0) * self.k)\n",
    "        return accuracy"
   ]
  },
  {
   "cell_type": "code",
   "execution_count": 4,
   "metadata": {
    "id": "Cqe512LWAQP6"
   },
   "outputs": [],
   "source": [
    "class Clothes:\n",
    "    attributes = ['floral', 'graphic', 'striped', 'embroidered', 'solid', 'lattice',\n",
    "                  'long_sleeve', 'short_sleeve', 'sleeveless', 'maxi_length',\n",
    "                  'mini_length', 'crew_neckline', 'v_neckline', 'square_neckline',\n",
    "                  'no_neckline', 'denim', 'tight', 'loose', 'conventional']\n",
    "    not_acceptable_attributes = ['sleeveless', 'mini_length', 'denim', 'tight', 'loose']\n",
    "\n",
    "    def __init__(self):\n",
    "        \"\"\"\n",
    "        Initialize transforms.\n",
    "        \"\"\"\n",
    "        self.transform = transforms.Compose([\n",
    "            transforms.Resize((224, 224)),\n",
    "            transforms.ToTensor(),\n",
    "            transforms.Normalize(mean=[0.485, 0.456, 0.406], std=[0.229, 0.224, 0.225])\n",
    "        ])\n",
    "\n",
    "    def compute_image_sharpness(self, image):\n",
    "        \"\"\"\n",
    "        Calculate sharpness of one image.\n",
    "        :param image: image to process.\n",
    "        :return: float value - sharpness of image.\n",
    "        \"\"\"\n",
    "        gray_image = cv2.cvtColor(image, cv2.COLOR_BGR2GRAY)\n",
    "        return cv2.Laplacian(gray_image, cv2.CV_64F).var()\n",
    "\n",
    "    def choose_sharpest_image(self, images):\n",
    "        \"\"\"\n",
    "        Choose sharpest image for future assessing.\n",
    "        :param images: frames for choosing.\n",
    "        :return: sharpest image.\n",
    "        \"\"\"\n",
    "        sharpest_image = None\n",
    "        max_sharpness = 0\n",
    "\n",
    "        for image in images:\n",
    "            sharpness = self.compute_image_sharpness(image)\n",
    "            if sharpness > max_sharpness:\n",
    "                max_sharpness = sharpness\n",
    "                sharpest_image = image\n",
    "\n",
    "        return sharpest_image\n",
    "\n",
    "    def transform_image(self, image):\n",
    "        \"\"\"\n",
    "        Transform image into model input.\n",
    "        :param image: image for processing.\n",
    "        :return: tensor - transformed image.\n",
    "        \"\"\"\n",
    "        mp_pose = mp.solutions.pose\n",
    "        pose = mp_pose.Pose()\n",
    "\n",
    "        image_h, image_w, _ = image.shape\n",
    "        results = pose.process(image)\n",
    "\n",
    "        if results.pose_landmarks:\n",
    "            # Identify bound box.\n",
    "            x_min, y_min, x_max, y_max = image_w, image_h, 0, 0\n",
    "            for landmark in results.pose_landmarks.landmark:\n",
    "                x, y = int(landmark.x * image_w), int(landmark.y * image_h)\n",
    "                x_min = max(0, min(x_min, x))\n",
    "                y_min = max(0, min(y_min, y))\n",
    "                x_max = min(image_w - 1, max(x_max, x))\n",
    "                y_max = min(image_h - 1, max(y_max, y))\n",
    "            image = image[y_min:y_max, x_min:x_max]\n",
    "\n",
    "        pose.close()\n",
    "        pil_image = Image.fromarray(image)\n",
    "        image = self.transform(pil_image)\n",
    "        return image\n",
    "\n",
    "    def check_arrays(self, arr1, arr2):\n",
    "        \"\"\"\n",
    "        Check presence of first array elements in second array.\n",
    "        :param arr1: array for checking elements.\n",
    "        :param arr2: second array for processing.\n",
    "        :return: bool value if none of elements in first array is in the second.\n",
    "        \"\"\"\n",
    "        for elem in arr1:\n",
    "            if elem in arr2:\n",
    "                return False\n",
    "        return True\n",
    "\n",
    "    def assess_appearance(self, frames):\n",
    "        \"\"\"\n",
    "        Assess clothes attributes.\n",
    "        :param frames: frames for choosing best frame for processing.\n",
    "        :return: bool value if clothes is acceptable.\n",
    "        \"\"\"\n",
    "        model = CustomResNet()\n",
    "        custom_model = CustomModel(model)\n",
    "\n",
    "        path = \"./saved_model_modified.pth\"\n",
    "\n",
    "        custom_model.model.load_state_dict(torch.load(path))\n",
    "        image = self.choose_sharpest_image(frames)\n",
    "        image = self.transform_image(image)\n",
    "        image = image.unsqueeze(0)\n",
    "        custom_model.eval()\n",
    "        output = custom_model(image)\n",
    "        pred = F.softmax(output, dim=1)\n",
    "        topk_values, topk_indices = torch.topk(pred, 3, dim=1)\n",
    "        captions = []\n",
    "        for i in range(topk_indices.size(0)):\n",
    "            for j in range(topk_indices.size(1)):\n",
    "                captions.append(Clothes.attributes[topk_indices[i, j]])\n",
    "        return self.check_arrays(captions, Clothes.not_acceptable_attributes)\n",
    "\n"
   ]
  },
  {
   "cell_type": "code",
   "execution_count": 5,
   "metadata": {
    "id": "iciHQjvCAY7K"
   },
   "outputs": [],
   "source": [
    "class DrawResults:\n",
    "    def __init__(self, path, dist=10, good_color=(0,128,0), bad_color=(60,20,220)):\n",
    "        self.video_path = path\n",
    "        self.dist = dist\n",
    "        self.right_color = good_color\n",
    "        self.not_right_color = bad_color\n",
    "\n",
    "    def draw_frames(self, frame, text, color_flag):\n",
    "        \"\"\"\n",
    "        Draw results on video frames.\n",
    "        :param frames: frames for processing.\n",
    "        :return: processed frames.\n",
    "        \"\"\"\n",
    "        font = cv2.FONT_HERSHEY_COMPLEX\n",
    "        x = 20\n",
    "        y = 30\n",
    "        font_scale = 0.5\n",
    "        thickness = 1\n",
    "        count = 1\n",
    "        for i in range(len(text)):\n",
    "            if color_flag[i]:\n",
    "                color = self.right_color\n",
    "            else:\n",
    "                color = self.not_right_color\n",
    "            if text[i] is not None:\n",
    "                frame = cv2.putText(frame, text[i], (x, y * count), font, font_scale, color, thickness, cv2.LINE_AA)\n",
    "                count += 1\n",
    "        return frame\n",
    "\n",
    "    def draw_angle(self, frame, length, color):\n",
    "        \"\"\"\n",
    "        Draw lines for correct angle.\n",
    "        :param frame: image for drawing.\n",
    "        :param length: length of speaker's bound box.\n",
    "        :param color: red if angle is incorrect, green otherwise.\n",
    "        :return: new frame with angle lines.\n",
    "        \"\"\"\n",
    "        image_orig = frame.copy()\n",
    "        height, width = frame.shape[:2]\n",
    "        center_x = width // 2\n",
    "        line_length = length // 2\n",
    "        line_thickness = 5\n",
    "        line_offset_top = height // 3 + int(0.15 * height)\n",
    "        line_offset_bottom = height // 3 - int(0.15 * height)\n",
    "        font_color = self.right_color\n",
    "        if not color:\n",
    "            font_color = self.not_right_color\n",
    "        cv2.line(frame, (center_x - line_length, height), (center_x - line_length, 0), font_color, line_thickness)\n",
    "        cv2.line(frame, (center_x + line_length, height), (center_x + line_length, 0), font_color, line_thickness)\n",
    "        cv2.line(frame, (center_x - line_length, line_offset_top), (center_x + line_length, line_offset_top),\n",
    "                 font_color, line_thickness)\n",
    "        cv2.line(frame, (center_x - line_length, line_offset_bottom), (center_x + line_length, line_offset_bottom),\n",
    "                 font_color, line_thickness)\n",
    "        font = cv2.FONT_HERSHEY_COMPLEX\n",
    "        bottom_left_corner_text = (center_x - line_length, line_offset_top - 20)\n",
    "        font_scale = 0.5\n",
    "        line_type = 1\n",
    "        cv2.putText(frame, 'Recommended eye level', bottom_left_corner_text, font, font_scale, font_color,\n",
    "                    line_type)\n",
    "        image_out = cv2.addWeighted(frame, 0.3, image_orig, 0.7, 0.0)\n",
    "        return image_out\n",
    "\n",
    "    def draw(self, output_path, text, colors, angle, angle_color):\n",
    "        cap = cv2.VideoCapture(self.video_path)\n",
    "        fps = cap.get(cv2.CAP_PROP_FPS)\n",
    "        frame_width = int(cap.get(cv2.CAP_PROP_FRAME_WIDTH))\n",
    "        frame_height = int(cap.get(cv2.CAP_PROP_FRAME_HEIGHT))\n",
    "        fourcc = cv2.VideoWriter_fourcc(*'mp4v')\n",
    "        out = cv2.VideoWriter(output_path, fourcc, fps, (frame_width, frame_height))\n",
    "        try:\n",
    "            segment_duration = self.dist\n",
    "            segment_frame_count = math.ceil(fps * segment_duration)\n",
    "            frame_count = int(cap.get(cv2.CAP_PROP_FRAME_COUNT))\n",
    "            i = 0\n",
    "            while True:\n",
    "                ret, frame = cap.read()\n",
    "                if not ret:\n",
    "                    break\n",
    "                ind = i // segment_frame_count\n",
    "                text_elements = [row[ind] for row in text]\n",
    "                colors_elements = [row[ind] for row in colors]\n",
    "                frame = self.draw_frames(frame, text_elements, colors_elements)\n",
    "                if len(angle) > 0 and angle[ind] is not None:\n",
    "                    color = True\n",
    "                    if i % segment_frame_count in angle_color[ind]:\n",
    "                        color = False\n",
    "                    frame = self.draw_angle(frame, angle[ind], color)\n",
    "                out.write(frame)\n",
    "                i += 1\n",
    "        except Exception as e:\n",
    "            print(e.args)\n",
    "        finally:\n",
    "            cap.release()\n",
    "            out.release()\n",
    "            cv2.destroyAllWindows()\n"
   ]
  },
  {
   "cell_type": "code",
   "execution_count": 6,
   "metadata": {
    "id": "2dSwx3owAafI"
   },
   "outputs": [
    {
     "name": "stderr",
     "output_type": "stream",
     "text": [
      "WARNING: All log messages before absl::InitializeLog() is called are written to STDERR\n",
      "I0000 00:00:1745959173.654730 9296840 gl_context.cc:369] GL version: 2.1 (2.1 ATI-5.2.4), renderer: AMD Radeon Pro 5500M OpenGL Engine\n",
      "INFO: Created TensorFlow Lite XNNPACK delegate for CPU.\n",
      "W0000 00:00:1745959173.659877 9297461 inference_feedback_manager.cc:114] Feedback manager requires a model with a single signature inference. Disabling support for feedback tensors.\n",
      "I0000 00:00:1745959173.664379 9296840 gl_context.cc:369] GL version: 2.1 (2.1 ATI-5.2.4), renderer: AMD Radeon Pro 5500M OpenGL Engine\n",
      "W0000 00:00:1745959173.668753 9297479 inference_feedback_manager.cc:114] Feedback manager requires a model with a single signature inference. Disabling support for feedback tensors.\n"
     ]
    }
   ],
   "source": [
    "class VideoEmotions:\n",
    "    face_detection = mp.solutions.face_detection.FaceDetection(min_detection_confidence=0.3)\n",
    "    model_name = 'enet_b0_8_best_afew'\n",
    "    face_mesh = mp.solutions.face_mesh.FaceMesh()\n",
    "\n",
    "    def __init__(self, device='cpu', model='EmotiEffLib', engine=\"onnx\"):\n",
    "        \"\"\"\n",
    "        Initialize model and device.\n",
    "        :param device: cpu or gpu.\n",
    "        :param model: HSEmotion or deepFace.\n",
    "        \"\"\"\n",
    "        self.device = device\n",
    "        self.model = model\n",
    "        if model == 'EmotiEffLib':\n",
    "            self.predictor = EmotiEffLibRecognizer(engine=engine, model_name=VideoEmotions.model_name, device=device)\n",
    "\n",
    "    @staticmethod\n",
    "    def get_main_face(frame):\n",
    "        \"\"\"\n",
    "        Crop image to get main face on the frame.\n",
    "        @return: cropped image.\n",
    "        \"\"\"\n",
    "        results = VideoEmotions.face_detection.process(frame)\n",
    "        main_face = None\n",
    "        max_score = 0\n",
    "        if results.detections is not None:\n",
    "            for detection in results.detections:\n",
    "                if detection.score[0] > max_score:\n",
    "                    main_face = detection\n",
    "                    max_score = detection.score[0]\n",
    "            if main_face is not None:\n",
    "                bbox = main_face.location_data.relative_bounding_box\n",
    "                image_height, image_width, _ = frame.shape\n",
    "                x, y, w, h = int(bbox.xmin * image_width), int(bbox.ymin * image_height), \\\n",
    "                    int(bbox.width * image_width), int(bbox.height * image_height)\n",
    "                main_face = frame[y:y + h, x:x + w]\n",
    "        return main_face\n",
    "\n",
    "    @staticmethod\n",
    "    def calculate_emotion_percentage(emotion_list):\n",
    "        \"\"\"\n",
    "        Calculate percentage of each element in the list.\n",
    "        :param emotion_list: list for calculation.\n",
    "        :return: dictionary with percentages of each element.\n",
    "        \"\"\"\n",
    "        total_frames = len(emotion_list)\n",
    "        emotion_percentage = {}\n",
    "        for emotion in emotion_list:\n",
    "            if emotion in emotion_percentage.keys():\n",
    "                emotion_percentage[emotion] += 1\n",
    "            else:\n",
    "                emotion_percentage[emotion] = 1\n",
    "        for emotion in emotion_percentage.keys():\n",
    "            emotion_percentage[emotion] = (emotion_percentage[emotion] / total_frames) * 100\n",
    "        return emotion_percentage\n",
    "\n",
    "    @staticmethod\n",
    "    def calculate_emotion_change_frequency(emotion_list):\n",
    "        \"\"\"\n",
    "        calculate the percentage of changing emotions between two seconds.\n",
    "        :param emotion_list: list to calculate changes in it.\n",
    "        :return: frequency of changing emotions.\n",
    "        \"\"\"\n",
    "        total_frames = len(emotion_list)\n",
    "        emotion_changes = 0\n",
    "        for i in range(1, total_frames):\n",
    "            if emotion_list[i] != emotion_list[i - 1]:\n",
    "                emotion_changes += 1\n",
    "        emotion_change_frequency = emotion_changes / total_frames\n",
    "        return emotion_change_frequency\n",
    "\n",
    "    def process_frames(self, frames):\n",
    "        \"\"\"\n",
    "        Predict emotions on each frame.\n",
    "        :param frames: frames for processing.\n",
    "        :return: main emotions and probabilities for each frame.\n",
    "        \"\"\"\n",
    "        imgs = frames\n",
    "        faces = list(map(VideoEmotions.get_main_face, imgs))\n",
    "        emotions, scores = [], []\n",
    "        for face in faces:\n",
    "            if face is not None:\n",
    "                try:\n",
    "                    emotion, score = self.predictor.predict_emotions(face, logits=False)\n",
    "                    emotions.append(emotion)\n",
    "                    scores.append(score)\n",
    "                except Exception:\n",
    "                    continue\n",
    "        return emotions, scores\n"
   ]
  },
  {
   "cell_type": "code",
   "execution_count": 7,
   "metadata": {
    "id": "P__hf405Ab8R"
   },
   "outputs": [
    {
     "name": "stderr",
     "output_type": "stream",
     "text": [
      "W0000 00:00:1745959173.679997 9297481 inference_feedback_manager.cc:114] Feedback manager requires a model with a single signature inference. Disabling support for feedback tensors.\n"
     ]
    }
   ],
   "source": [
    "class GazeDirection:\n",
    "    LEFT_EYE = [362, 382, 381, 380, 374, 373, 390, 249, 263, 466, 388, 387, 386, 385, 384, 398, 286, 258, 257, 259, 260]\n",
    "    RIGHT_IRIS = [468, 470, 469, 472, 471]\n",
    "    RIGHT_EYE = [33, 7, 163, 144, 145, 153, 154, 155, 133, 173, 157, 158, 159, 160, 161, 246, 30, 29, 28, 27, 56]\n",
    "    LEFT_IRIS = [473, 475, 474, 477, 476]\n",
    "\n",
    "    def __init__(self, threshold=0.1):\n",
    "        \"\"\"\n",
    "        Initialize prediction model and threshold.\n",
    "        :param threshold: float value - acceptable displacement of iris.\n",
    "        \"\"\"\n",
    "\n",
    "        path = \"./face_landmarker_v2_with_blendshapes.task\"\n",
    "\n",
    "        model_file = open(path, \"rb\")\n",
    "        model_data = model_file.read()\n",
    "        model_file.close()\n",
    "        base_options = python.BaseOptions(model_asset_buffer=model_data)\n",
    "        options = vision.FaceLandmarkerOptions(base_options=base_options,\n",
    "                                               output_face_blendshapes=True,\n",
    "                                               output_facial_transformation_matrixes=True,\n",
    "                                               num_faces=1)\n",
    "        self.detector = vision.FaceLandmarker.create_from_options(options)\n",
    "        self.threshold = threshold\n",
    "\n",
    "    def count_displacement(self, eye_coords, iris_coords):\n",
    "        \"\"\"\n",
    "        Calculate the position of iris in percent relatively center.\n",
    "        :param eye_coords: all coordinates of eye.\n",
    "        :param iris_coords: all coordinates of iris.\n",
    "        :return: percent of x and y axis - position of an iris.\n",
    "        \"\"\"\n",
    "        max_x = (max(eye_coords, key=lambda item: item[0]))[0]\n",
    "        min_x = (min(eye_coords, key=lambda item: item[0]))[0]\n",
    "        max_y = (max(eye_coords, key=lambda item: item[1]))[1]\n",
    "        min_y = (min(eye_coords, key=lambda item: item[1]))[1]\n",
    "        width = max_x - min_x\n",
    "        height = max_y - min_y\n",
    "        iris_x = iris_coords[0][0]\n",
    "        iris_y = iris_coords[0][1]\n",
    "        percent_x = (2 * iris_x - width - 2 * min_x) / width\n",
    "        percent_y = (2 * iris_y - height - 2 * min_y) / height\n",
    "        return percent_x, percent_y\n",
    "\n",
    "    def process_gaze(self, right_x, right_y, left_x, left_y):\n",
    "        \"\"\"\n",
    "        Asses gaze.\n",
    "        :param right_x: x position of right iris.\n",
    "        :param right_y: y position of right iris.\n",
    "        :param left_x: x position of left iris.\n",
    "        :param left_y: y position of left iris.\n",
    "        :return: string value - gaze direction.\n",
    "        \"\"\"\n",
    "        x = (right_x + left_x) / 2\n",
    "        y = (right_y + left_y) / 2\n",
    "        if y > 0.45:\n",
    "            result = \"down \"\n",
    "        elif y < 0.2:\n",
    "            result = \"up \"\n",
    "        else:\n",
    "            result = \"\"\n",
    "\n",
    "        if abs(x) > self.threshold and x > 0:\n",
    "            result += \"right\"\n",
    "        elif abs(x) > self.threshold and x < 0:\n",
    "            result += \"left\"\n",
    "        else:\n",
    "            result += \"center\"\n",
    "        return result\n",
    "\n",
    "    def landmarks_detection(self, img_width, img_height, face_landmarks, ind):\n",
    "        \"\"\"\n",
    "        Transform coordinates into pixels of image.\n",
    "        :param img_width: width of an image.\n",
    "        :param img_height: height of an image.\n",
    "        :param face_landmarks: not transformed landmarks.\n",
    "        :param ind: indexes of required points.\n",
    "        :return: transformed coordinates.\n",
    "        \"\"\"\n",
    "        mesh_coord = [(int(face_landmarks[i].x * img_width), int(face_landmarks[i].y * img_height)) for i in ind]\n",
    "        return mesh_coord\n",
    "\n",
    "    def gaze_detection(self, frames):\n",
    "        \"\"\"\n",
    "        Calculate direction of eyes on each frame.\n",
    "        :param frames: frames for processing.\n",
    "        :return: list with string results for all frames.\n",
    "        \"\"\"\n",
    "        result_list = []\n",
    "        for frame in frames:\n",
    "            image = mp.Image(image_format=mp.ImageFormat.SRGB, data=frame)\n",
    "            results = self.detector.detect(image)\n",
    "            frame_width = frame.shape[0]\n",
    "            frame_height = frame.shape[1]\n",
    "            try:\n",
    "                face_landmarks = results.face_landmarks[0]\n",
    "                left_iris_coords = self.landmarks_detection(frame_width, frame_height, face_landmarks, GazeDirection.LEFT_IRIS)\n",
    "                right_iris_coords = self.landmarks_detection(frame_width, frame_height, face_landmarks, GazeDirection.RIGHT_IRIS)\n",
    "                left_eye_coords = self.landmarks_detection(frame_width, frame_height, face_landmarks, GazeDirection.LEFT_EYE)\n",
    "                right_eye_coords = self.landmarks_detection(frame_width, frame_height, face_landmarks, GazeDirection.RIGHT_EYE)\n",
    "                right_x, right_y = self.count_displacement(right_eye_coords, right_iris_coords)\n",
    "                left_x, left_y = self.count_displacement(left_eye_coords, left_iris_coords)\n",
    "                res = self.process_gaze(right_x, right_y, left_x, left_y)\n",
    "                result_list.append(res)\n",
    "            except Exception as ex:\n",
    "                continue\n",
    "        return result_list\n"
   ]
  },
  {
   "cell_type": "code",
   "execution_count": 8,
   "metadata": {
    "id": "nwmfv4dlAdUD"
   },
   "outputs": [],
   "source": [
    "class Gestures:\n",
    "    body_angles = [[16, 14, 12], [14, 12, 11], [15, 13, 11], [12, 11, 13],\n",
    "                   [21, 15, 19], [19, 15, 17], [22, 16, 20], [20, 16, 18],\n",
    "                   [18, 20, 16, 14], [17, 19, 15, 13], [11, 0, 12]]\n",
    "\n",
    "    def __init__(self):\n",
    "        self.body_res = {16: {'name': 'right elbow', 'res': []}, 14: {'name': 'right shoulder', 'res': []},\n",
    "                         15: {'name': 'left elbow', 'res': []},\n",
    "                         12: {'name': 'left shoulder', 'res': []},\n",
    "                         21: {'name': 'left thumb', 'res': []},\n",
    "                         19: {'name': 'left pinky', 'res': []}, 22: {'name': 'right thumb', 'res': []},\n",
    "                         20: {'name': 'right pinky', 'res': []},\n",
    "                         18: {'name': 'right wrist', 'res': []}, 17: {'name': 'left wrist', 'res': []},\n",
    "                         11: {'name': 'head', 'res': []}}\n",
    "\n",
    "    def get_vector_between_points(self, first_point, second_point):\n",
    "        \"\"\"\n",
    "        Calculate vector between two points in 2d.\n",
    "        :param first_point: list or array with 2 elements (x and y) - first point to calculate vector.\n",
    "        :param second_point: list or array with 2 elements (x and y) - second point to calculate vector.\n",
    "        :return: list wit x and y of calculated vector.\n",
    "        \"\"\"\n",
    "        x1, y1 = first_point[0], first_point[1]\n",
    "        x2, y2 = second_point[0], second_point[1]\n",
    "        vector = np.array([x2, y2]) - np.array([x1, y1])\n",
    "        return vector\n",
    "\n",
    "    def angle_between_vectors(self, v1, v2):\n",
    "        \"\"\"\n",
    "        Calculate angle in degrees between given vectors.\n",
    "        :param v1: list or array with 2 elements (x and y) - first vector.\n",
    "        :param v2: list or array with 2 elements (x and y) - second vector.\n",
    "        :return: float value [0:360] - angle between v1 and v2.\n",
    "        \"\"\"\n",
    "        dot_product = np.dot(v1, v2)\n",
    "        norm_v1 = np.linalg.norm(v1)\n",
    "        norm_v2 = np.linalg.norm(v2)\n",
    "        cos_theta = dot_product / (norm_v1 * norm_v2)\n",
    "        angle_rad = np.arccos(np.clip(cos_theta, -1.0, 1.0))\n",
    "        angle_deg = np.degrees(angle_rad)\n",
    "\n",
    "        # Check the angle of the sign and adjust it in the range from 0 to 360 degrees.\n",
    "        if np.cross(v1, v2) < 0:\n",
    "            angle_deg = 360 - angle_deg\n",
    "\n",
    "        return angle_deg\n",
    "\n",
    "    def min_angle_difference(self, angle1, angle2):\n",
    "        \"\"\"\n",
    "        Get min differance between two angles.\n",
    "        :param angle1: float value [0:360] - first value in degrees.\n",
    "        :param angle2: float value [0:360] - second value in degrees.\n",
    "        :return: float value [0:360] - min angle between two angles in closed circle.\n",
    "        \"\"\"\n",
    "        diff1 = abs(angle1 - angle2)\n",
    "        diff2 = 360 - diff1\n",
    "        return min(diff1, diff2)\n",
    "\n",
    "    def point_between(self, point1, point2):\n",
    "        \"\"\"\n",
    "        Calculate point between 2 points in 2d.\n",
    "        :param point1: landmark with x and y attributes - first point.\n",
    "        :param point2: landmark with x and y attributes - second point.\n",
    "        :return: list with x and y of point between 2 given points.\n",
    "        \"\"\"\n",
    "        return [(point1.x + point2.x) / 2, (point1.y + point2.y) / 2]\n",
    "\n",
    "    def calculate_angles(self, landmarks, mean_angle):\n",
    "        \"\"\"\n",
    "        calculate the displacement of the joints between frames.\n",
    "        :param landmarks: coordinates of the main joints.\n",
    "        :param mean_angle: dictionary for calculation results.\n",
    "        :return: dictionary with results.\n",
    "        \"\"\"\n",
    "        for angles in Gestures.body_angles:\n",
    "            if all(landmarks[angle].visibility >= 0.5 for angle in angles):\n",
    "                point_second = [landmarks[angles[-1]].x, landmarks[angles[-1]].y]\n",
    "                point_mid = [landmarks[angles[-2]].x, landmarks[angles[-2]].y]\n",
    "                if len(angles) > 3:\n",
    "                    point_first = self.point_between(landmarks[angles[0]], landmarks[angles[1]])\n",
    "                else:\n",
    "                    point_first = [landmarks[angles[0]].x, landmarks[angles[0]].y]\n",
    "                v1 = self.get_vector_between_points(point_first, point_mid)\n",
    "                v2 = self.get_vector_between_points(point_mid, point_second)\n",
    "                angle = self.angle_between_vectors(v1, v2)\n",
    "                if mean_angle[angles[0]]['prev'] is not None:\n",
    "                    mean_angle[angles[0]]['res'] += self.min_angle_difference(angle, mean_angle[angles[0]]['prev'])\n",
    "                    mean_angle[angles[0]]['count'] += 1\n",
    "                else:\n",
    "                    mean_angle[angles[0]]['prev'] = angle\n",
    "            else:\n",
    "                mean_angle[angles[0]]['prev'] = None\n",
    "        return mean_angle\n",
    "\n",
    "    def process_velocity(self, frames):\n",
    "        \"\"\"\n",
    "        Count angle displacement for all frames.\n",
    "        :param frames: frames to process.\n",
    "        :return: dictionary with results for each joint.\n",
    "        \"\"\"\n",
    "        mp_pose = mp.solutions.pose\n",
    "        with mp_pose.Pose(min_detection_confidence=0.5, min_tracking_confidence=0.5) as pose:\n",
    "            mean_angle = {}\n",
    "            for angle in Gestures.body_angles:\n",
    "                mean_angle[angle[0]] = {}\n",
    "                mean_angle[angle[0]]['prev'] = None\n",
    "                mean_angle[angle[0]]['count'] = 0\n",
    "                mean_angle[angle[0]]['res'] = 0\n",
    "            for image in frames:\n",
    "                results = pose.process(image)\n",
    "                try:\n",
    "                    landmarks = results.pose_landmarks.landmark\n",
    "                    mean_angle = self.calculate_angles(landmarks, mean_angle)\n",
    "                except Exception as ex:\n",
    "                    continue\n",
    "            for angle in Gestures.body_angles:\n",
    "                if mean_angle[angle[0]]['count'] > 0:\n",
    "                    result = mean_angle[angle[0]]['res'] / mean_angle[angle[0]]['count']\n",
    "                    self.body_res[angle[0]]['res'].append(round(result, 2))\n",
    "                else:\n",
    "                    self.body_res[angle[0]]['res'].append(0)\n",
    "\n",
    "    def get_result(self):\n",
    "        \"\"\"\n",
    "        Get result angles for body parts.\n",
    "        :return: dictionary with body parts as keys and angles as values.\n",
    "        \"\"\"\n",
    "        return {value['name']: value['res'] for key, value in self.body_res.items()}\n"
   ]
  },
  {
   "cell_type": "code",
   "execution_count": 9,
   "metadata": {
    "id": "8sNmDDrMAe9Z"
   },
   "outputs": [],
   "source": [
    "class Perspective:\n",
    "    def __init__(self):\n",
    "        \"\"\"\n",
    "        Initialize model for detection.\n",
    "        \"\"\"\n",
    "        self.detector = PoseDetector(staticMode=False,\n",
    "                                modelComplexity=1,\n",
    "                                smoothLandmarks=True,\n",
    "                                enableSegmentation=False,\n",
    "                                smoothSegmentation=True,\n",
    "                                detectionCon=0.5,\n",
    "                                trackCon=0.5)\n",
    "\n",
    "    def point_between(self, point1, point2):\n",
    "        \"\"\"\n",
    "        Calculate point between 2 points in 2d.\n",
    "        :param point1: list with x and y of first point.\n",
    "        :param point2: list with x and y of second point.\n",
    "        :return: list with x and y of mid point.\n",
    "        \"\"\"\n",
    "        return [(point1[0] + point2[0]) / 2, (point1[1] + point2[1]) / 2]\n",
    "\n",
    "    def count_brightness(self, frames):\n",
    "        \"\"\"\n",
    "        Asses lightning on frames.\n",
    "        :param frames: list with frames to process.\n",
    "        :return: string value - lightning.\n",
    "        \"\"\"\n",
    "        dark = 0\n",
    "        optimal = 0\n",
    "        bright = 0\n",
    "        for frame in frames:\n",
    "            gray_image = cv2.cvtColor(frame, cv2.COLOR_RGB2GRAY)\n",
    "            mean_brightness = np.mean(gray_image)\n",
    "            if mean_brightness < 100:\n",
    "                dark += 1\n",
    "            elif mean_brightness > 200:\n",
    "                bright += 1\n",
    "            else:\n",
    "                optimal += 1\n",
    "        dark /= len(frames)\n",
    "        optimal /= len(frames)\n",
    "        bright /= len(frames)\n",
    "        if dark >= optimal and dark >= bright:\n",
    "            return 0\n",
    "        elif bright >= dark and bright >= optimal:\n",
    "            return 2\n",
    "        else:\n",
    "            return 1\n",
    "\n",
    "    def check_correct_pose(self, bounding_box, eye_coords, image_width, image_height):\n",
    "        \"\"\"\n",
    "        Check if speaker in a right position.\n",
    "        :param bounding_box: coordinates of the speakers bound box.\n",
    "        :param eye_coords: eyes coordinates.\n",
    "        :param image_width: width of an image.\n",
    "        :param image_height: height of an image.\n",
    "        :return: 1 or 0 - if position is correct.\n",
    "        \"\"\"\n",
    "        x_center = image_width // 2\n",
    "        y_third_line = image_height // 3\n",
    "        x, y, x_len, y_len = bounding_box[\"bbox\"]\n",
    "        if abs(x + x_len / 2 - x_center) > 0.2 * x_center:\n",
    "            return False\n",
    "\n",
    "        # Check eye position according rule of the third.\n",
    "        eye_x, eye_y = eye_coords\n",
    "        if eye_y < y_third_line - 0.15 * image_height or eye_y > y_third_line + 0.15 * image_height:\n",
    "            return False\n",
    "        return True\n",
    "\n",
    "    def count_angle(self, frames):\n",
    "        \"\"\"\n",
    "        Count percent of incorrect frames.\n",
    "        :param frames: frames to process.\n",
    "        :return: percent of incorrect frames.\n",
    "        \"\"\"\n",
    "        incorrect_pose = 0\n",
    "        bbox_length = 0\n",
    "        inc_index = []\n",
    "        ind = 0\n",
    "        for frame in frames:\n",
    "            img = self.detector.findPose(frame, draw=False)\n",
    "            lm_list, bbox_info = self.detector.findPosition(img, draw=False, bboxWithHands=False)\n",
    "            if len(lm_list) == 0:\n",
    "                incorrect_pose += 1\n",
    "                continue\n",
    "            right_coords = [lm_list[5][0], lm_list[5][1]]\n",
    "            left_coords = [lm_list[2][0], lm_list[2][1]]\n",
    "            height, width = frame.shape[:2]\n",
    "            if not self.check_correct_pose(bbox_info, self.point_between(right_coords, left_coords), width, height):\n",
    "                inc_index.append(ind)\n",
    "                incorrect_pose += 1\n",
    "            ind += 1\n",
    "            length = bbox_info['bbox'][2] - bbox_info['bbox'][0]\n",
    "            if length > bbox_length:\n",
    "                bbox_length = length\n",
    "        return incorrect_pose / len(frames), bbox_length, inc_index\n"
   ]
  },
  {
   "cell_type": "code",
   "execution_count": 10,
   "metadata": {},
   "outputs": [],
   "source": [
    "class FacialAttributeRecognizer:\n",
    "    #supported values of model_name: age_gender_ethnicity_lagenda_mbf_ft, age_gender_ethnicity_lagenda_enet0_ft\n",
    "    def __init__(self, model_name='age_gender_ethnicity_lagenda_mbf_ft'):\n",
    "        if 'mbf' in model_name:\n",
    "            self.mean=[0.5, 0.5, 0.5]\n",
    "            self.std=[0.5, 0.5, 0.5]\n",
    "            self.img_size=112\n",
    "        else:\n",
    "            self.mean=[0.485, 0.456, 0.406]\n",
    "            self.std=[0.229, 0.224, 0.225]\n",
    "            self.img_size=224\n",
    "        self.num_classes=96\n",
    "        self.ort_session = ort.InferenceSession(FACIAL_ATTRS_RECOGNIZER_MODEL_PATH + model_name + '.onnx', providers=['CPUExecutionProvider'])\n",
    "    \n",
    "    def preprocess(self,img):\n",
    "        x=cv2.resize(img,(self.img_size,self.img_size))/255\n",
    "        for i in range(3):\n",
    "            x[..., i] = (x[..., i]-self.mean[i])/self.std[i]\n",
    "        return x.transpose(2, 0, 1).astype(\"float32\")[np.newaxis,...]\n",
    "\n",
    "    @staticmethod\n",
    "    def expected_age(age_probabs):        \n",
    "        indices=age_probabs.argsort()[::-1]#[:2]\n",
    "        norm_preds=age_probabs[indices]/np.sum(age_probabs[indices])\n",
    "\n",
    "        res_age=0\n",
    "        for age,probab in zip(indices,norm_preds):\n",
    "            res_age+=age*probab\n",
    "        return res_age\n",
    "\n",
    "    @staticmethod\n",
    "    def get_ethnicity_descriptions():\n",
    "        return ['', 'White', 'Black', 'Asian', 'Indian', 'Latino or Middle Eastern']\n",
    "    \n",
    "    @staticmethod\n",
    "    def get_ethnicity(ethnicity_preds):\n",
    "        if ethnicity_preds is not None:\n",
    "            ethnicity_ind=np.argmax(ethnicity_preds)+1\n",
    "        else:\n",
    "            ethnicity_ind=0\n",
    "        return FacialAttributeRecognizer.get_ethnicity_descriptions()[ethnicity_ind]\n",
    "    \n",
    "    def get_attribute_probabs(self,face_img):\n",
    "        scores=self.ort_session.run(None,{\"input\": self.preprocess(face_img)})[0][0]\n",
    "        #print(scores)\n",
    "        age_probabs=np.exp(scores[:self.num_classes])\n",
    "        age_probabs=age_probabs/age_probabs.sum()\n",
    "\n",
    "        gender_probabs=np.exp(scores[self.num_classes:self.num_classes+2])\n",
    "        gender_probabs=gender_probabs/gender_probabs.sum()\n",
    "        #isMale=gender_probabs[0]>gender_probabs[1]\n",
    "        \n",
    "        ethnicity_probabs=None\n",
    "        if len(scores)>self.num_classes+2:\n",
    "            ethnicity_probabs=np.exp(scores[self.num_classes+2:])\n",
    "            ethnicity_probabs=ethnicity_probabs/ethnicity_probabs.sum()\n",
    "        return age_probabs,gender_probabs[0],ethnicity_probabs\n",
    "\n",
    "    def predict_attributes(self,face_img, estimage_age=False):\n",
    "        age_probabs,male_probab,ethnicity_probabs=self.get_attribute_probabs(face_img)\n",
    "        if estimage_age:\n",
    "            age_pred=self.expected_age(age_probabs)\n",
    "        else:\n",
    "            age_pred=age_probabs.argmax()\n",
    "        return age_pred,male_probab>0.5,self.get_ethnicity(ethnicity_probabs)\n",
    "\n",
    "    def preprocess_faces(self, frames):\n",
    "        mp_face_mesh = mp.solutions.face_mesh\n",
    "        face_mesh=mp_face_mesh.FaceMesh(max_num_faces=1,refine_landmarks=True,min_detection_confidence=0.5,min_tracking_confidence=0.5)\n",
    "        faces = []\n",
    "        for frame in frames:\n",
    "            image_rgb = cv2.cvtColor(frame, cv2.COLOR_BGR2RGB)\n",
    "            results = face_mesh.process(image_rgb)\n",
    "            if results.multi_face_landmarks:\n",
    "                height, width, _ =frame.shape\n",
    "                for face_landmarks in results.multi_face_landmarks:\n",
    "                    x1 = y1 = 1\n",
    "                    x2 = y2 = 0\n",
    "                    for id, lm in enumerate(face_landmarks.landmark):\n",
    "                        cx, cy = lm.x, lm.y\n",
    "                        if cx<x1:\n",
    "                            x1=cx\n",
    "                        if cy<y1:\n",
    "                            y1=cy\n",
    "                        if cx>x2:\n",
    "                            x2=cx\n",
    "                        if cy>y2:\n",
    "                            y2=cy\n",
    "                    if x1<0:\n",
    "                        x1=0\n",
    "                    if y1<0:\n",
    "                        y1=0\n",
    "                    x1,x2=int(x1*width),int(x2*width)\n",
    "                    y1,y2=int(y1*height),int(y2*height)\n",
    "                    face_img=image_rgb[y1:y2,x1:x2,:]\n",
    "                    if np.prod(face_img.shape)==0:\n",
    "                        #print('Empty face ', x1,x2,y1,y2)\n",
    "                        continue\n",
    "                    faces.append(face_img)\n",
    "        return faces\n",
    "\n",
    "    def process_frames(self, frames):\n",
    "        \"\"\"\n",
    "        Extract facial attributes on each frame.\n",
    "        :param frames: frames for processing.\n",
    "        :return: main age, gender, ethniity and their probabilities for each frame.\n",
    "        \"\"\"\n",
    "        imgs = frames\n",
    "        #faces = list(map(VideoEmotions.get_main_face, imgs))\n",
    "        faces = self.preprocess_faces(imgs)\n",
    "        \n",
    "        age_labels, gender_labels, ethnicity_labels, age_scores, gender_scores, ethnicity_scores = [], [], [], [], [], []\n",
    "        for face in faces:\n",
    "            if face is not None:\n",
    "                try:\n",
    "                    age_score, gender_score, ethnicity_score = self.get_attribute_probabs(face)\n",
    "                    age = self.expected_age(age_score)\n",
    "                    gender = \"male\" if gender_score > 0.5 else \"female\"\n",
    "                    ethnicity = self.get_ethnicity(ethnicity_score)\n",
    "                    age_labels.append(age)\n",
    "                    age_scores.append(age_score)\n",
    "                    gender_labels.append(gender)\n",
    "                    gender_scores.append(gender_score)\n",
    "                    ethnicity_labels.append(ethnicity)\n",
    "                    ethnicity_scores.append(ethnicity_score)\n",
    "                except Exception:\n",
    "                    continue\n",
    "        return age_labels, gender_labels, ethnicity_labels, age_scores, gender_scores, ethnicity_scores"
   ]
  },
  {
   "cell_type": "code",
   "execution_count": 11,
   "metadata": {
    "id": "pwHDIcaMAhFl"
   },
   "outputs": [],
   "source": [
    "class VideoSubsystem:\n",
    "    acceptable_velocity = {'right elbow': [5, 50], 'left elbow': [5, 50], 'left shoulder': [2, 25],\n",
    "                           'right shoulder': [2, 25], 'left thumb': [0, 30], 'left pinky': [3, 40],\n",
    "                           'right thumb': [0, 30], 'right pinky': [3, 40], 'right wrist': [3, 40],\n",
    "                           'left wrist': [3, 40], 'head': [0, 12]}\n",
    "\n",
    "    def __init__(self, path, inappropriate_emotions, emotions=True, gesticulation=True, angle=True, gaze=True, clothes=True, facial_attrs=True,\n",
    "                 device='cpu', dist=5, acceptable_angle=0.6):\n",
    "        self.fps = None\n",
    "        self.inappropriate_emotions = inappropriate_emotions\n",
    "        self.device = device\n",
    "        self.video_path = path\n",
    "        self.emotions = emotions\n",
    "        self.gesticulation = gesticulation\n",
    "        self.angle = angle\n",
    "        self.gaze = gaze\n",
    "        self.clothes = clothes\n",
    "        self.facial_attrs = facial_attrs\n",
    "        self.dist = dist\n",
    "        self.acceptable_angle = acceptable_angle\n",
    "\n",
    "        path = \"./model_first.joblib\"\n",
    "        self.emotion_model = load(path)\n",
    "        self.emotion_list = []\n",
    "        self.emotion_inappropriate_percentage = []\n",
    "        self.gesture_list = []\n",
    "        self.angle_list = []\n",
    "        self.gaze_list = []\n",
    "        self.lightning = []\n",
    "        self.angle_len = []\n",
    "        self.inc_ind = []\n",
    "        self.clothes_estimation = None\n",
    "        self.age_list = []\n",
    "        self.gender_list = []\n",
    "        self.ethnicity_list = []\n",
    "\n",
    "    def get_emotions(self):\n",
    "        return self.emotion_list\n",
    "\n",
    "    def get_ages(self):\n",
    "        return self.age_list\n",
    "\n",
    "    def get_genders(self):\n",
    "        return self.gender_list\n",
    "\n",
    "    def get_ethnicities(self):\n",
    "        return self.ethnicity_list\n",
    "\n",
    "    def get_gestures(self):\n",
    "        return self.gesture_list\n",
    "\n",
    "    def get_angle(self):\n",
    "        return self.angle_list\n",
    "\n",
    "    def get_gaze(self):\n",
    "        return self.gaze_list\n",
    "\n",
    "    def get_lightning(self):\n",
    "        return self.lightning\n",
    "\n",
    "    def get_angle_len(self):\n",
    "        return self.angle_len\n",
    "\n",
    "    def get_clothes_estimation(self):\n",
    "        return self.clothes_estimation\n",
    "\n",
    "    def get_incorrect_angle_ind(self):\n",
    "        return self.inc_ind\n",
    "\n",
    "    def get_inappropriate_emotion_percentage(self):\n",
    "        return self.emotion_inappropriate_percentage\n",
    "    @staticmethod\n",
    "    def get_subarray(array, subset, ind):\n",
    "        \"\"\"\n",
    "        Get subarray.\n",
    "        :param array: array to get subarray from it.\n",
    "        :param subset: number of elements in subarray.\n",
    "        :param ind: index of array from which subarray starts.\n",
    "        :return: subarray.\n",
    "        \"\"\"\n",
    "        last_ind = min(ind + subset, len(array))\n",
    "        return array[ind:last_ind]\n",
    "\n",
    "    @staticmethod\n",
    "    def calculate_percentage(percent_list):\n",
    "        \"\"\"\n",
    "        Calculate percent of each element in the list.\n",
    "        :param percent_list: list for calculating percents.\n",
    "        :return: dictionary with elements of list as keys and percents as values.\n",
    "        \"\"\"\n",
    "        total_frames = len(percent_list)\n",
    "        percentage = {}\n",
    "        for element in percent_list:\n",
    "            if element in percentage.keys():\n",
    "                percentage[element] += 1\n",
    "            else:\n",
    "                percentage[element] = 1\n",
    "        for element in percentage.keys():\n",
    "            percentage[element] = (percentage[element] / total_frames) * 100\n",
    "\n",
    "        return percentage\n",
    "\n",
    "    def process_emotions(self, frames):\n",
    "        \"\"\"\n",
    "        Evaluate emotionality of video fragment.\n",
    "        :param frames: list of frames for evaluation.\n",
    "        :return: string value - emotionality.\n",
    "        \"\"\"\n",
    "        total_frames = len(frames)\n",
    "        emotion_class = VideoEmotions()\n",
    "        emotion_results = []\n",
    "        fps = int(self.fps)\n",
    "        for i in range(0, total_frames, int(fps)):\n",
    "            sec_frames = self.get_subarray(frames, fps, i)[::self.dist]\n",
    "            emotions, scores = emotion_class.process_frames(sec_frames)\n",
    "            emotions = [emo[0] for emo in emotions]\n",
    "            percentages = VideoSubsystem.calculate_percentage(emotions)\n",
    "            try:\n",
    "                max_emotion = max(percentages, key=percentages.get)\n",
    "                emotion_results.append(max_emotion)\n",
    "            except Exception as ex:\n",
    "                print(ex.args[0])\n",
    "                emotion_results.append('emotion not determined')\n",
    "        frequency = emotion_class.calculate_emotion_change_frequency(emotion_results)\n",
    "        percentages = VideoSubsystem.calculate_percentage(emotion_results)\n",
    "        features = [frequency]\n",
    "        for element in ['Sadness', 'Disgust', 'Fear', 'Neutral', 'Happiness', 'Anger',\n",
    "        'Contempt']:\n",
    "            if element in percentages.keys():\n",
    "                features.append(percentages[element])\n",
    "            else:\n",
    "                features.append(0.0)\n",
    "        res = self.emotion_model.predict([features])[0]\n",
    "        percent_res = 0.0\n",
    "        for element in self.inappropriate_emotions:\n",
    "            if element in percentages.keys():\n",
    "                percent_res += percentages[element]\n",
    "        return res, percent_res * 0.01\n",
    "\n",
    "    def process_facial_attributes(self, frames):\n",
    "        \"\"\"\n",
    "        Extract facial attributes on a video fragment.\n",
    "        :param frames: list of frames for evaluation.\n",
    "        :return: age, gender and ethnicity presented on the video fragment.\n",
    "        \"\"\"\n",
    "        total_frames = len(frames)\n",
    "        model_name='age_gender_ethnicity_lagenda_enet0_ft'\n",
    "        far = FacialAttributeRecognizer(model_name=model_name)\n",
    "        age_results, gender_result, ethnicity_result = [], [], []\n",
    "        fps = int(self.fps)\n",
    "        for i in range(0, total_frames, int(fps)):\n",
    "            sec_frames = self.get_subarray(frames, fps, i)[::self.dist]\n",
    "            \n",
    "            age_labels, gender_labels, ethnicity_labels, _, _, _ = far.process_frames(sec_frames)\n",
    "            gender_percentages = VideoSubsystem.calculate_percentage(gender_labels)\n",
    "            ethnicity_percentages = VideoSubsystem.calculate_percentage(ethnicity_labels)\n",
    "            if len(age_labels) > 0: \n",
    "                avg_age = np.mean(age_labels, axis=0)\n",
    "                age_results.append(avg_age)\n",
    "            if len(gender_percentages) > 0:\n",
    "                max_gender = max(gender_percentages, key=gender_percentages.get)\n",
    "                gender_result.append(max_gender)\n",
    "            if len(ethnicity_percentages) > 0:\n",
    "                max_ethnicity = max(ethnicity_percentages, key=ethnicity_percentages.get)\n",
    "                ethnicity_result.append(max_ethnicity)\n",
    "\n",
    "        gender_percentages = VideoSubsystem.calculate_percentage(gender_result)\n",
    "        ethnicity_percentages = VideoSubsystem.calculate_percentage(ethnicity_result)\n",
    "        if len(age_results) > 0:\n",
    "            avg_age = np.mean(age_results, axis=0)\n",
    "        else:\n",
    "            avg_age = None\n",
    "        if len(gender_percentages) > 0:\n",
    "            max_gender = max(gender_percentages, key=gender_percentages.get)\n",
    "        else:\n",
    "            max_gender = None\n",
    "        if len(ethnicity_percentages) > 0:\n",
    "            max_ethnicity = max(ethnicity_percentages, key=ethnicity_percentages.get)\n",
    "        else:\n",
    "            max_ethnicity = None\n",
    "        return avg_age, max_gender, max_ethnicity\n",
    "\n",
    "    def replace_values_with_condition(self, dictionary):\n",
    "        \"\"\"\n",
    "        Change values for values in rating scale.\n",
    "        :param dictionary: dictionary with unprocessed values.\n",
    "        :return: dictionary with processed values.\n",
    "        \"\"\"\n",
    "        for key, value in dictionary.items():\n",
    "            min_val = VideoSubsystem.acceptable_velocity[key][0]\n",
    "            max_val = VideoSubsystem.acceptable_velocity[key][1]\n",
    "            for i in range(len(value)):\n",
    "                if value[i] < min_val:\n",
    "                    value[i] = '0'\n",
    "                elif value[i] > max_val:\n",
    "                    value[i] = '2'\n",
    "                else:\n",
    "                    value[i] = '1'\n",
    "            dictionary[key] = value\n",
    "        return dictionary\n",
    "\n",
    "    def process_gesticulation(self, frames, duration=10):\n",
    "        \"\"\"\n",
    "        Estimate velocity of the speaker.\n",
    "        :param frames: list of frames for estimation.\n",
    "        :param duration: number of seconds for estimation.\n",
    "        :return: estimated velocity.\n",
    "        \"\"\"\n",
    "        gesture = Gestures()\n",
    "        total_frames = len(frames)\n",
    "        fps = int(self.fps)\n",
    "        for i in range(0, total_frames, fps):\n",
    "            sec_frames = self.get_subarray(frames, fps, i)[::self.dist]\n",
    "            gesture.process_velocity(sec_frames)\n",
    "        res = gesture.get_result()\n",
    "        res = self.replace_values_with_condition(res)\n",
    "        result = []\n",
    "        key = list(res.keys())[0]\n",
    "        cycle = len(res[key])\n",
    "        for ind in range(cycle):\n",
    "            percent = []\n",
    "            for key in res.keys():\n",
    "                percent.append(res[key][ind])\n",
    "            percentage = VideoSubsystem.calculate_percentage(percent)\n",
    "            if '2' in percentage.keys():\n",
    "                result.append(2)\n",
    "            elif '0' in percentage.keys() and percentage['0'] > 70:\n",
    "                result.append(0)\n",
    "            else:\n",
    "                result.append(1)\n",
    "        all_percent = VideoSubsystem.calculate_percentage(result)\n",
    "        if 2 in all_percent.keys():\n",
    "            return 2\n",
    "        elif 0 in all_percent.keys() and all_percent[0] > 70:\n",
    "            return 0\n",
    "        else:\n",
    "            return 1\n",
    "\n",
    "    def process_gaze(self, frames):\n",
    "        \"\"\"\n",
    "        Calculate percent of incorrect gaze.\n",
    "        :param frames: list of frames for processing.\n",
    "        :return: float value - percent of incorrect frames.\n",
    "        \"\"\"\n",
    "        model = GazeDirection()\n",
    "        percent = model.gaze_detection(frames)\n",
    "        percentages = VideoSubsystem.calculate_percentage(percent)\n",
    "        # max_key = max(percentages, key=percentages.get)\n",
    "        return (100 - percentages.get(\"center\", 0)) * 0.01\n",
    "\n",
    "    def process_angle(self, frames):\n",
    "        \"\"\"\n",
    "        Calculate incorrect angles.\n",
    "        :param frames: list of frames for processing.\n",
    "        :return: float value - percent of incorrect frames.\n",
    "        \"\"\"\n",
    "        perspective = Perspective()\n",
    "        brightness = perspective.count_brightness(frames[::self.dist])\n",
    "        percent, length, inc_ind = perspective.count_angle(frames)\n",
    "        return percent, length, brightness, inc_ind\n",
    "\n",
    "    def process_clothes(self, frames):\n",
    "        \"\"\"\n",
    "        Defines if clothes is appropriate.\n",
    "        :param frames: list of frames for processing.\n",
    "        :return: bool value if clothes is appropriate.\n",
    "        \"\"\"\n",
    "        clothes = Clothes()\n",
    "        return clothes.assess_appearance(frames)\n",
    "\n",
    "\n",
    "    def process_video(self, duration=10):\n",
    "        \"\"\"\n",
    "        Read for duration seconds and process frames.\n",
    "        :param output_path: new path of processed video.\n",
    "        :param duration: number of seconds to process in one cycle.\n",
    "        :return: dictionary with results.\n",
    "        \"\"\"\n",
    "        cap = cv2.VideoCapture(self.video_path)\n",
    "        try:\n",
    "            self.fps = math.ceil(cap.get(cv2.CAP_PROP_FPS))\n",
    "            segment_duration = duration\n",
    "            segment_frame_count = math.ceil(cap.get(cv2.CAP_PROP_FPS) * segment_duration)\n",
    "            frame_count = int(cap.get(cv2.CAP_PROP_FRAME_COUNT))\n",
    "            for i in tqdm(range(0, frame_count, segment_frame_count)):\n",
    "                frames = []\n",
    "                cap.set(cv2.CAP_PROP_POS_FRAMES, i)\n",
    "                for j in range(segment_frame_count):\n",
    "                    ret, frame = cap.read()\n",
    "                    if not ret:\n",
    "                        break\n",
    "                    frames.append(frame)\n",
    "                if self.emotions:\n",
    "                    res, percent_res = self.process_emotions(frames)\n",
    "                    self.emotion_list.append(res)\n",
    "                    self.emotion_inappropriate_percentage.append(percent_res)\n",
    "                if self.facial_attrs:\n",
    "                    age, gender, ethnicity = self.process_facial_attributes(frames)\n",
    "                    if age is not None:\n",
    "                        self.age_list.append(age)\n",
    "                    if gender is not None:\n",
    "                        self.gender_list.append(gender)\n",
    "                    if ethnicity is not None:\n",
    "                        self.ethnicity_list.append(ethnicity)\n",
    "                if self.gesticulation:\n",
    "                    res = self.process_gesticulation(frames)\n",
    "                    self.gesture_list.append(res)\n",
    "                if self.angle:\n",
    "                    res, length, brightness, inc_ind = self.process_angle(frames)\n",
    "                    self.angle_list.append(res)\n",
    "                    self.angle_len.append(length)\n",
    "                    self.lightning.append(brightness)\n",
    "                    self.inc_ind.append(inc_ind)\n",
    "                if self.gaze:\n",
    "                    res = self.process_gaze(frames)\n",
    "                    self.gaze_list.append(res)\n",
    "                if self.clothes and self.clothes_estimation is None:\n",
    "                    self.clothes_estimation = self.process_clothes(frames)\n",
    "        finally:\n",
    "            cap.release()\n",
    "            cv2.destroyAllWindows()\n"
   ]
  },
  {
   "cell_type": "markdown",
   "metadata": {
    "id": "QXceJ2hYAh7R"
   },
   "source": [
    "## Speech Processing"
   ]
  },
  {
   "cell_type": "code",
   "execution_count": 12,
   "metadata": {
    "id": "3ZdTcjNXAj3e"
   },
   "outputs": [],
   "source": [
    "class AutomaticSpeechRecognition:\n",
    "    \"\"\"\n",
    "    Class for transcribing audio into text.\n",
    "    Creates speech text, words time intervals, unidentified noise time intervals.\n",
    "    \"\"\"\n",
    "    def __init__(self, path, lang):\n",
    "        \"\"\"\n",
    "        Initialization of speech processing class\n",
    "        @param path: path to audio file\n",
    "        \"\"\"\n",
    "        clip = mp_editor.AudioFileClip(path)\n",
    "        self.path = path\n",
    "        self.duration = clip.duration\n",
    "        self.transcription = None\n",
    "        self.lang = lang\n",
    "\n",
    "    def get_speech_recognition(self):\n",
    "        \"\"\"\n",
    "        Translates audio to text, creates words lists with timestamps (with and without background noise)\n",
    "        \"\"\"\n",
    "        model = whisper_timestamped.load_model(\"large\")\n",
    "        # whisper timestamped allows to receive timestamps for each word and sentence, as well as\n",
    "        # noise timestamps\n",
    "        audio = whisper_timestamped.load_audio(self.path)\n",
    "        self.transcription = whisper_timestamped.transcribe(\n",
    "            model,\n",
    "            audio,\n",
    "            language=self.lang,\n",
    "            detect_disfluencies=True,\n",
    "            remove_punctuation_from_words=False)\n",
    "        correct_transcription = self.check_transcription()\n",
    "        # creation of transcription without punctuation marks\n",
    "        transcription = self.transcription[\"text\"].lower()\n",
    "        transcription = transcription.translate(str.maketrans('', '', string.punctuation))\n",
    "        transcription = \"\".join([ch for ch in transcription if ch not in string.digits])\n",
    "        cleaned_transcription = \" \".join(transcription.split())\n",
    "        word_arrays = self.get_words()\n",
    "        return cleaned_transcription, word_arrays, correct_transcription\n",
    "\n",
    "    def check_transcription(self):\n",
    "        \"\"\"\n",
    "        Checks if transcription is correct (if there are word doubles at the end of transcription)\n",
    "        @return: True if transcription is correct, False otherwise\n",
    "        \"\"\"\n",
    "        words = self.transcription[\"text\"].split()\n",
    "        segments = self.transcription[\"segments\"]\n",
    "        end_idx = len(segments)\n",
    "        # find first segment out of time range\n",
    "        for i in range(len(segments)):\n",
    "            if segments[i][\"end\"] > self.duration:\n",
    "                end_idx = i\n",
    "                break\n",
    "        # checks if there is no segments out of time range\n",
    "        if end_idx == len(segments):\n",
    "            return True\n",
    "        else:\n",
    "            # count words out of time range\n",
    "            extra_words = 0\n",
    "            for i in range(end_idx, len(segments)):\n",
    "                extra_words += len(segments[i][\"text\"].split())\n",
    "            # transcription correction\n",
    "            self.transcription[\"text\"] = \" \".join((self.transcription[\"text\"].split())[:len(words) - extra_words])\n",
    "            self.transcription[\"segments\"] = self.transcription[\"segments\"][:end_idx]\n",
    "            return False\n",
    "\n",
    "    def get_words(self):\n",
    "        \"\"\"\n",
    "        Creates lists with all words (with background noise), words without noise and only noise\n",
    "        @return: three lists with dicts of words and their timestamps\n",
    "        \"\"\"\n",
    "        all_words, all_words_without_noise, noise = [], [], []\n",
    "        for sentence in self.transcription[\"segments\"]:\n",
    "            for word in sentence[\"words\"]:\n",
    "                all_words.append(word)\n",
    "                if word[\"text\"] != \"[*]\":\n",
    "                    all_words_without_noise.append(word)\n",
    "                else:\n",
    "                    noise.append((word[\"start\"], word[\"end\"]))\n",
    "        return all_words_without_noise, noise\n"
   ]
  },
  {
   "cell_type": "code",
   "execution_count": 13,
   "metadata": {
    "id": "Y9BuXWo6ApcF"
   },
   "outputs": [],
   "source": [
    "class BackgroundNoise:\n",
    "    \"\"\"\n",
    "    Class for background noise detecting.\n",
    "    \"\"\"\n",
    "    # boundary values for size of time window and maximal acceptable noise percentage\n",
    "    params = {\n",
    "        \"noise_time_window\": 30,  # size of time window to view noise percentage\n",
    "        \"noise_percentage\": 0.45,  # maximal noise percentage\n",
    "    }\n",
    "\n",
    "    def __init__(self, noise):\n",
    "        \"\"\"\n",
    "        Initialization of background noise analysis class\n",
    "        @param noise: timestamps with background noise, list of two-element lists\n",
    "        \"\"\"\n",
    "        self.noise = noise\n",
    "\n",
    "    def get_high_noise_timestamps(self):\n",
    "        \"\"\"\n",
    "        Searches most noisy periods with the help of floating window\n",
    "        @return: Most noisy periods, list of two-element lists\n",
    "        \"\"\"\n",
    "        high_noise_timestamps = []\n",
    "        if len(self.noise) == 0:\n",
    "            return high_noise_timestamps\n",
    "        start_idx, end_idx = 0, 1\n",
    "        noise_sum = self.noise[0][1] - self.noise[0][0]\n",
    "        while end_idx < len(self.noise):\n",
    "            # searches for minimal time window larger than boundary value\n",
    "            if self.noise[end_idx][1] - self.noise[start_idx][0] < \\\n",
    "                    self.params[\"noise_time_window\"]:\n",
    "                noise_sum += self.noise[end_idx][1] - self.noise[end_idx][0]\n",
    "                end_idx += 1\n",
    "                continue\n",
    "            # check if the percentage of noise is larger than parameter\n",
    "            if noise_sum / (self.noise[end_idx][1] - self.noise[start_idx][0]) > \\\n",
    "                    self.params[\"noise_percentage\"]:\n",
    "                # if period intersects with previous one - they are united\n",
    "                if len(high_noise_timestamps) > 0 and high_noise_timestamps[-1][1] > \\\n",
    "                        self.noise[start_idx][0]:\n",
    "                    high_noise_timestamps[-1][1] = self.noise[end_idx][1]\n",
    "                # otherwise, new time period is appended\n",
    "                else:\n",
    "                    high_noise_timestamps.append(\n",
    "                        [self.noise[start_idx][0], self.noise[end_idx][1]])\n",
    "            noise_sum -= (self.noise[start_idx][1] - self.noise[start_idx][0])\n",
    "            start_idx += 1\n",
    "        return high_noise_timestamps\n"
   ]
  },
  {
   "cell_type": "code",
   "execution_count": 14,
   "metadata": {
    "id": "KcfYui14Aq2M"
   },
   "outputs": [],
   "source": [
    "class AudioEmotions:\n",
    "    \"\"\"\n",
    "    Class for emotions detecting.\n",
    "    Counts percentage of preferred emotions and percentage of neutral emotion.\n",
    "    \"\"\"\n",
    "    def __init__(self, path, analyzed_segment_len, negative_emotions):\n",
    "        \"\"\"\n",
    "        Initialization of emotion classification class\n",
    "        @param path: path to audio file\n",
    "        @param analyzed_segment_len: length of file segment to analyze separately\n",
    "        @param negative_emotions: list of preferred emotions\n",
    "        \"\"\"\n",
    "        self.path = path\n",
    "        self.analyzed_segment_len = analyzed_segment_len\n",
    "        self.negative_emotions = negative_emotions\n",
    "        # paths for N-second sub clips\n",
    "        path = os.path.abspath(os.path.dirname(__file__))\n",
    "        self.subclip_path = os.path.abspath(os.path.join(path, \"file_processing/processing.wav\"))\n",
    "        self.subclip_modified_path = os.path.abspath(os.path.join(path, \"file_processing/processing2.wav\"))\n",
    "        # order of emotions in model\n",
    "        self.order = [\"happiness\", \"anger\", \"disgust\", \"neutral\", \"sadness\", \"enthusiasm\"]\n",
    "\n",
    "    def emotions_analysis(self):\n",
    "        \"\"\"\n",
    "        Analyzes speech per N seconds (see init params) and provides emotions probabilities\n",
    "        @return: lists with emotions probabilities\n",
    "        \"\"\"\n",
    "        model = VoiceRecognizer(model=HuggingFaceModel.Voice.Wav2Vec2)\n",
    "        clip = AudioFileClip(self.path)\n",
    "        duration = clip.duration\n",
    "        # number of file fragments to analyze\n",
    "        number_of_segments = math.ceil(duration / self.analyzed_segment_len)\n",
    "        negative_emotions_percentage = np.zeros(number_of_segments)\n",
    "        neutral_emotion_percentage = np.zeros(number_of_segments)\n",
    "        time = self.analyzed_segment_len\n",
    "        for i in tqdm(range(number_of_segments)):\n",
    "            # path to analyzed file fragment\n",
    "            subclip = clip.subclip(i * time, min(i * time + time, duration))\n",
    "            subclip.write_audiofile(self.subclip_path, logger=None)\n",
    "\n",
    "            # sub clip preprocessing to convert stereo to mono\n",
    "            self.audio_channels_processing()\n",
    "            emotions_percentages = model.recognize(self.subclip_modified_path, return_single_label=False)\n",
    "            # counting of preferred emotions percentage\n",
    "            for idx, emotion in enumerate(self.order):\n",
    "                if self.negative_emotions[idx]:\n",
    "                    negative_emotions_percentage[i] += emotions_percentages[emotion]\n",
    "                neutral_emotion_percentage[i] = emotions_percentages[\"neutral\"]\n",
    "\n",
    "        # deleting of intermediate files\n",
    "        file_paths = [self.subclip_path, self.subclip_modified_path]\n",
    "        for file_path in file_paths:\n",
    "            if os.path.isfile(file_path):\n",
    "                os.remove(file_path)\n",
    "        return negative_emotions_percentage, neutral_emotion_percentage\n",
    "\n",
    "    def audio_channels_processing(self):\n",
    "        \"\"\"\n",
    "        Rewriting file to one channel if necessary\n",
    "        \"\"\"\n",
    "        audio_file = wave.open(self.subclip_path)\n",
    "        channels = audio_file.getnchannels()\n",
    "        sound = AudioSegment.from_wav(self.subclip_path)\n",
    "        if channels > 1:\n",
    "            sound = sound.set_channels(1)\n",
    "        # rewriting one channel file\n",
    "        sound.export(self.subclip_modified_path, format=\"wav\")\n"
   ]
  },
  {
   "cell_type": "code",
   "execution_count": 15,
   "metadata": {
    "id": "xhzIdkd7AsFw"
   },
   "outputs": [],
   "source": [
    "class FillerWordsAndPhrases:\n",
    "    \"\"\"\n",
    "    Class for filler words and phrases detecting.\n",
    "    Detects words and phrases from lists and as most common in speech.\n",
    "    \"\"\"\n",
    "    # maximal acceptable percentages and lists of filler words\n",
    "    params_ru = {\n",
    "        # multiplier for most common word or phrase occurrence to be compared with others\n",
    "        \"word_count_multiplier\": 0.1,\n",
    "        # minimal percentage for word or phrase to be considered common\n",
    "        \"occurrence_percentage\": 0.0001,\n",
    "        \"parasites\": [\"просто\", \"вот\", \"ну\", \"короче\", \"типа\", \"пожалуй\", \"кстати\", \"вообще\", \"буквально\", \"скажем\",\n",
    "                      \"блин\", \"допустим\", \"черт\", \"вроде\", \"круто\", \"прикинь\", \"прикиньте\", \"реально\", \"отпад\",\n",
    "                      \"отпадно\", \"клево\", \"капец\", \"норм\", \"слушай\", \"конечно\", \"наверное\", \"вероятно\", \"кажется\"],\n",
    "        \"parasite_phrases\": [\"так сказать\", \"как бы\", \"в натуре\", \"в общем\", \"в общемто\", \"в целом\", \"в принципе\",\n",
    "                             \"как говорится\", \"как сказать\", \"на фиг\", \"то есть\", \"это самое\", \"как его\", \"типа того\"]\n",
    "    }\n",
    "    params_en = {\n",
    "        # multiplier for most common word or phrase occurrence to be compared with others\n",
    "        \"word_count_multiplier\": 0.1,\n",
    "        # minimal percentage for word or phrase to be considered common\n",
    "        \"occurrence_percentage\": 0.0001,\n",
    "        \"parasites\": [\"like\", \"um\", \"uh\", \"well\", \"so\", \"just\", \"actually\", \"literally\", \"basically\", \"really\",\n",
    "                      \"seriously\", \"okay\", \"right\", \"honestly\", \"sure\", \"maybe\", \"perhaps\", \"kinda\", \"sorta\", \"totally\"],\n",
    "        \"parasite_phrases\": [\"you know\", \"i mean\", \"you see\", \"i guess\", \"i suppose\", \"the thing is\",\n",
    "                             \"let's say\", \"it's like\", \"at the end of the day\", \"and stuff\", \"or something\",\n",
    "                             \"you know what i mean\", \"to be honest\", \"in a way\", \"if you will\"]\n",
    "    }\n",
    "\n",
    "    def __init__(self, cleaned_transcription, lang):\n",
    "        \"\"\"\n",
    "        Initialization of filler words detection class\n",
    "        @param cleaned_transcription: text transcription without punctuation marks\n",
    "        \"\"\"\n",
    "        self.cleaned_transcription = cleaned_transcription\n",
    "        if lang == \"ru\":\n",
    "            self.params = self.params_ru\n",
    "        else:\n",
    "            self.params = self.params_en\n",
    "\n",
    "    def count_occurrences(self, min_len=5):\n",
    "        \"\"\"\n",
    "        Counts two-words phrases occurrences\n",
    "        @param min_len: minimal length in letters for phrase to be considered\n",
    "        @return: list of two-element lists, each with phrase and its occurrence\n",
    "        \"\"\"\n",
    "        pairs = dict()\n",
    "        words = self.cleaned_transcription.split()\n",
    "        for i in range(len(words) - 1):\n",
    "            # create two-word phrases\n",
    "            phrase = words[i] + ' ' + words[i + 1]\n",
    "            if len(phrase) > min_len:\n",
    "                # save phrases with acceptable length\n",
    "                if phrase not in pairs:\n",
    "                    pairs[phrase] = 0\n",
    "                pairs[phrase] += 1\n",
    "        phrases_from_list = {}\n",
    "\n",
    "        # rewrite phrases from list into separate dictionary\n",
    "        for phrase in self.params[\"parasite_phrases\"]:\n",
    "            if phrase in pairs:\n",
    "                phrases_from_list[phrase] = pairs[phrase]\n",
    "        phrase_dic = list(pairs.items())\n",
    "        phrases = sorted(phrase_dic, key=lambda x: -x[1])\n",
    "        return phrases, phrases_from_list\n",
    "\n",
    "    def find_worst_phrases(self, phrases):\n",
    "        \"\"\"\n",
    "        Takes most common phrases from all\n",
    "        @param phrases: all two-word phrases\n",
    "        @return: dictionary with key - phrases and value - their occurrences\n",
    "        \"\"\"\n",
    "        num_words = len(self.cleaned_transcription)\n",
    "        max_repeats = phrases[0][1]\n",
    "        # if all collocations appear one time - there are no most common phrases\n",
    "        if max_repeats == 1 or max_repeats / num_words < self.params[\"occurrence_percentage\"]:\n",
    "            return dict()\n",
    "        # maximal deviation from most common word or phrase occurrence\n",
    "        diff = round(max_repeats * self.params[\"word_count_multiplier\"])\n",
    "        worst_word_pairs = dict()\n",
    "        # find phrases with small deviation from most common one\n",
    "        for word_pair, cnt in phrases:\n",
    "            if cnt >= max_repeats - diff and cnt / num_words >= self.params[\"occurrence_percentage\"]:\n",
    "                worst_word_pairs[word_pair] = cnt\n",
    "        return worst_word_pairs\n",
    "\n",
    "    def get_one_words(self):\n",
    "        \"\"\"\n",
    "        Counts all filler words from params parasites\n",
    "        @return: frequency dictionary with key - words and value - their occurrences\n",
    "        \"\"\"\n",
    "        text_tokens = word_tokenize(self.cleaned_transcription)\n",
    "        text_tokens = [token.strip() for token in text_tokens if token in set(self.params[\"parasites\"])]\n",
    "        text = nltk.Text(text_tokens)\n",
    "        fdist = FreqDist(text)\n",
    "        return fdist\n",
    "\n",
    "    def find_worst_words(self, fdist):\n",
    "        \"\"\"\n",
    "        Takes most common filler words from all\n",
    "        @param fdist: frequency dictionary with key - words and value - their occurrences\n",
    "        @return: dictionary with key - words and value - their occurrences\n",
    "        \"\"\"\n",
    "        num_words = len(self.cleaned_transcription)\n",
    "        if len(fdist) == 0:\n",
    "            return dict()\n",
    "        # most common word appearance\n",
    "        max_repeats = fdist.most_common(1)[0][1]\n",
    "        if max_repeats == 1 or max_repeats / num_words < self.params[\"occurrence_percentage\"]:\n",
    "            return dict()\n",
    "        # maximal deviation from most common word or phrase occurrence\n",
    "        diff = round(max_repeats * self.params[\"word_count_multiplier\"])\n",
    "        idx = 1\n",
    "        # add words with high occurrence percentage\n",
    "        while idx <= len(fdist) and fdist.most_common(idx)[-1][1] >= max_repeats - diff and \\\n",
    "                fdist.most_common(idx)[-1][1] / num_words >= self.params[\"occurrence_percentage\"]:\n",
    "            idx += 1\n",
    "        worst_words = dict(fdist.most_common(idx - 1))\n",
    "        return worst_words\n",
    "\n",
    "    def get_filler_words_final(self):\n",
    "        \"\"\"\n",
    "        Concatenates all words and phrases into two dictionaries - all and most common filler words\n",
    "        @return: two dictionaries with words / phrases and their occurrences\n",
    "        \"\"\"\n",
    "        # find all and most common / listed phrases\n",
    "        phrases, phrases_from_list = self.count_occurrences()\n",
    "        worst_phrases = self.find_worst_phrases(phrases)\n",
    "\n",
    "        # find all and most common / listed words\n",
    "        fdist = self.get_one_words()\n",
    "        worst_words = self.find_worst_words(fdist)\n",
    "\n",
    "        # dicts with all and most common / list words and phrases\n",
    "        total_dict = dict(worst_phrases) | dict(fdist) | phrases_from_list\n",
    "        worst_dict = dict(worst_phrases) | dict(worst_words)\n",
    "        return total_dict, worst_dict\n"
   ]
  },
  {
   "cell_type": "code",
   "execution_count": 16,
   "metadata": {
    "id": "9kgD4plzAtYJ"
   },
   "outputs": [],
   "source": [
    "class Intelligibility:\n",
    "    \"\"\"\n",
    "    Class for intelligibility detecting.\n",
    "    Uses info from background noise analysis and high speech rate timestamps.\n",
    "    \"\"\"\n",
    "    def __init__(self, path, all_words_without_noise, noise, analyzed_segment_len):\n",
    "        \"\"\"\n",
    "        Initialization of background noise analysis class\n",
    "        @param path: path to audio file\n",
    "        @param all_words_without_noise: list of all words and their timestamps\n",
    "        @param noise: timestamps with background noise, list of two-element lists\n",
    "        @param analyzed_segment_len: length of file segment to analyze separately\n",
    "        \"\"\"\n",
    "        self.noise = noise\n",
    "        self.path = path\n",
    "        self.all_words_without_noise = all_words_without_noise\n",
    "        self.analyzed_segment_len = analyzed_segment_len\n",
    "\n",
    "    def stoi_index(self):\n",
    "        \"\"\"\n",
    "        Counting short time objective intelligibility index per file fragment\n",
    "        @return: list with STOI indexes for each fragment\n",
    "        \"\"\"\n",
    "        # paths for file fragments\n",
    "        subclip_path = \"processing.wav\"\n",
    "        subclip_modified_path = \"processing2.wav\"\n",
    "\n",
    "        clip = AudioFileClip(self.path)\n",
    "        duration = clip.duration\n",
    "        # number of file segments to analyze\n",
    "        number_of_segments = math.ceil(duration / self.analyzed_segment_len)\n",
    "        indexes = np.zeros(number_of_segments)\n",
    "        for i in range(number_of_segments):\n",
    "            # file fragment (checks for len not out of file length)\n",
    "            subclip = clip.subclip(i * self.analyzed_segment_len,\n",
    "                                   min((i + 1) * self.analyzed_segment_len, clip.duration))\n",
    "            # it is ineffective to analyze too short fragments\n",
    "            if subclip.duration < 3:\n",
    "                indexes[i] = 0.5\n",
    "                continue\n",
    "            subclip.write_audiofile(subclip_path, logger=None)\n",
    "            data, rate = librosa.load(subclip_path)\n",
    "            # cleaning degraded speech signal\n",
    "            reduced_noise = nr.reduce_noise(y=data, sr=rate, thresh_n_mult_nonstationary=2, stationary=False)\n",
    "            wavf.write(subclip_modified_path, rate, reduced_noise)\n",
    "            # loading signal info\n",
    "            clean, fs = librosa.load(subclip_modified_path)\n",
    "            base, fs = librosa.load(subclip_path)\n",
    "            # counting and saving STOI indexes\n",
    "            index = stoi(clean, base, fs, extended=False)\n",
    "            indexes[i] = round(index, 3)\n",
    "\n",
    "        # deleting intermediate files\n",
    "        file_paths = [subclip_path, subclip_modified_path]\n",
    "        for file_path in file_paths:\n",
    "            if os.path.isfile(file_path):\n",
    "                os.remove(file_path)\n",
    "        return indexes\n",
    "\n",
    "    def indirect_features(self):\n",
    "        \"\"\"\n",
    "        Analyses intelligibility of speech\n",
    "        @return: intervals with high speech and high levels of background noise\n",
    "        \"\"\"\n",
    "        # timestamps with fast speech rate\n",
    "        speech_rate = SpeechRate(self.all_words_without_noise)\n",
    "        _, fast_intervals = speech_rate.find_incorrect_speech_rate_intervals()\n",
    "        # timestapms with high background noise\n",
    "        noisy_intervals = BackgroundNoise(self.noise).get_high_noise_timestamps()\n",
    "\n",
    "        return fast_intervals, noisy_intervals\n",
    "\n",
    "    def get_intelligibility_features(self):\n",
    "        \"\"\"\n",
    "        Final method for aggregating file info\n",
    "        @return: lists with STOI indexes, intervals with high speech and high levels of background noise\n",
    "        \"\"\"\n",
    "        indexes = self.stoi_index()\n",
    "        fast_intervals, noisy_intervals = self.indirect_features()\n",
    "        return indexes, fast_intervals, noisy_intervals\n"
   ]
  },
  {
   "cell_type": "code",
   "execution_count": 17,
   "metadata": {
    "id": "xvN4lmS6Axqg"
   },
   "outputs": [],
   "source": [
    "class SpeechRate:\n",
    "    \"\"\"\n",
    "    Analyses speech rate, searches for fast and slow speech rate intervals.\n",
    "    \"\"\"\n",
    "    # border parameters for analysis\n",
    "    params = {\n",
    "        # size of time window to view pauses\n",
    "        \"pause_time_window\": 30,\n",
    "        # minimal noise percentage\n",
    "        \"pause_percentage\": 0.35,\n",
    "        # size of time window to speech rate\n",
    "        \"speech_rate_time_window\": 60,\n",
    "        # minimal number of words in time window for normal speech rate\n",
    "        \"speech_rate_min_word_count\": 60,\n",
    "        # maximal number of words in time window for normal speech rate\n",
    "        \"speech_rate_max_word_count\": 140,\n",
    "        # allowed pauses between words\n",
    "        \"rules\": {\n",
    "            \"word\": 0.5,\n",
    "            \"punct_mark\": 0.75,\n",
    "            \".\": 1,\n",
    "            \"?\": 5,\n",
    "            \"!\": 3\n",
    "        },\n",
    "    }\n",
    "\n",
    "    def __init__(self, all_words_without_noise):\n",
    "        \"\"\"\n",
    "        Initialization of speech rate analysis class\n",
    "        @param all_words_without_noise: list of dicts with words and their start and end timestamps\n",
    "        \"\"\"\n",
    "        self.all_words_without_noise = all_words_without_noise\n",
    "\n",
    "    def find_pauses(self):\n",
    "        \"\"\"\n",
    "        Finds all pauses longer than allowed\n",
    "        @return: list of two-element lists with pauses timestamps\n",
    "        \"\"\"\n",
    "        rules = self.params[\"rules\"]\n",
    "        pauses = []\n",
    "        start_idx = 0\n",
    "        end_idx = 1\n",
    "        while end_idx < len(self.all_words_without_noise) - 1:\n",
    "            silence_start = self.all_words_without_noise[start_idx][\"end\"]\n",
    "            silence_end = self.all_words_without_noise[end_idx][\"start\"]\n",
    "            # detecting pause type\n",
    "            if self.all_words_without_noise[start_idx][\"text\"][-1].isalpha():\n",
    "                pause_type = rules[\"word\"]\n",
    "            elif self.all_words_without_noise[start_idx][\"text\"][-1] in rules:\n",
    "                pause_type = rules[self.all_words_without_noise[start_idx][\"text\"][-1]]\n",
    "            else:\n",
    "                pause_type = rules[\"punct_mark\"]\n",
    "            # checking with border value (depends on pause type)\n",
    "            if silence_end - silence_start > pause_type:\n",
    "                pauses.append([silence_start, silence_end])\n",
    "            start_idx = end_idx\n",
    "            end_idx += 1\n",
    "        return pauses\n",
    "\n",
    "    def find_pause_intervals(self, pauses):\n",
    "        \"\"\"\n",
    "        Searches periods with high pauses percentage with the help of floating window\n",
    "        @param pauses: pauses intervals, list of two-element lists\n",
    "        @return: list of two-element lists with pause intervals timestamps\n",
    "        \"\"\"\n",
    "        intervals = []\n",
    "        if len(pauses) == 0:\n",
    "            return intervals\n",
    "        start_idx, end_idx = 0, 0\n",
    "        # current pause length\n",
    "        summary = pauses[0][1] - pauses[0][0]\n",
    "        while end_idx < len(pauses):\n",
    "            while end_idx < len(pauses) - 1 and pauses[end_idx][1] - pauses[start_idx][0] < \\\n",
    "                    self.params[\"pause_time_window\"]:\n",
    "                end_idx += 1\n",
    "                summary += pauses[end_idx][1] - pauses[end_idx][0]\n",
    "            # break if file end is reached\n",
    "            if pauses[end_idx][1] - pauses[start_idx][0] < self.params[\"pause_time_window\"]:\n",
    "                break\n",
    "            # check if the percentage of pauses is larger than parameter\n",
    "            if summary / (pauses[end_idx][1] - pauses[start_idx][0]) > self.params[\"pause_percentage\"]:\n",
    "                # if period intersects with previous one - they are united\n",
    "                if len(intervals) > 0 and intervals[-1][-1] > pauses[start_idx][0]:\n",
    "                    intervals[-1][-1] = pauses[end_idx][1]\n",
    "                else:\n",
    "                    intervals.append([pauses[start_idx][0], pauses[end_idx][1]])\n",
    "            # delete first pause, move interval start to next word\n",
    "            summary -= pauses[start_idx][1] - pauses[start_idx][0]\n",
    "            start_idx += 1\n",
    "        return intervals\n",
    "\n",
    "    def find_incorrect_speech_rate_intervals(self):\n",
    "        \"\"\"\n",
    "        Searches intervals with too fast or slow speech rate\n",
    "        @return: two lists with two-element list each - periods with too fast or slow speech rate\n",
    "        \"\"\"\n",
    "        fast_intervals = []\n",
    "        slow_intervals = []\n",
    "        word_count = 1\n",
    "        start = self.all_words_without_noise[0][\"start\"]\n",
    "        end = self.all_words_without_noise[0][\"end\"]\n",
    "        start_idx = 0\n",
    "        end_idx = 1\n",
    "        while end_idx < len(self.all_words_without_noise):\n",
    "            # add word if time window is smaller than border value\n",
    "            if end - start < self.params[\"speech_rate_time_window\"]:\n",
    "                end = self.all_words_without_noise[end_idx][\"end\"]\n",
    "                end_idx += 1\n",
    "                word_count += 1\n",
    "            else:\n",
    "                # if word count is too small or too large - append time interval to corresponding list\n",
    "                if word_count < self.params[\"speech_rate_min_word_count\"]:\n",
    "                    # unite intervals if necessary\n",
    "                    if len(slow_intervals) > 0 and slow_intervals[-1][1] >= start:\n",
    "                        slow_intervals[-1][1] = end\n",
    "                    else:\n",
    "                        slow_intervals.append([start, end])\n",
    "                elif word_count > self.params[\"speech_rate_max_word_count\"]:\n",
    "                    # unite intervals if necessary\n",
    "                    if len(fast_intervals) > 0 and fast_intervals[-1][1] >= start:\n",
    "                        fast_intervals[-1][1] = end\n",
    "                    else:\n",
    "                        fast_intervals.append([start, end])\n",
    "                # remove first word from interval\n",
    "                start_idx += 1\n",
    "                start = self.all_words_without_noise[start_idx][\"start\"]\n",
    "                word_count -= 1\n",
    "        return slow_intervals, fast_intervals\n",
    "\n",
    "    def get_intervals(self):\n",
    "        \"\"\"\n",
    "        get slow intervals in two formats - high pauses percentage and low speech rate\n",
    "        @return:\n",
    "        \"\"\"\n",
    "        speech_rate_results, _ = self.find_incorrect_speech_rate_intervals()\n",
    "        pauses = self.find_pauses()\n",
    "        pause_intervals = self.find_pause_intervals(pauses)\n",
    "        return speech_rate_results, pause_intervals\n",
    "\n",
    "    def unite_slow_speech_rate_intervals(self):\n",
    "        \"\"\"\n",
    "        Unites two lists of intervals: with pauses and with slow speech rate\n",
    "        @return: list of two-element lists with slow speech rate intervals timestamps\n",
    "        \"\"\"\n",
    "        speech_rate_results, _ = self.find_incorrect_speech_rate_intervals()\n",
    "        pauses = self.find_pauses()\n",
    "        pause_intervals = self.find_pause_intervals(pauses)\n",
    "        final_intervals = []\n",
    "        speech_rate_idx, pause_idx = 0, 0\n",
    "        while speech_rate_idx < len(speech_rate_results) and pause_idx < len(pause_intervals):\n",
    "            sr_start, sr_end = speech_rate_results[speech_rate_idx]\n",
    "            pause_start, pause_end = pause_intervals[pause_idx][0], pause_intervals[pause_idx][1]\n",
    "            if sr_start <= pause_start:\n",
    "                if sr_end <= pause_start:\n",
    "                    speech_rate_idx += 1\n",
    "                elif pause_start < sr_end <= pause_end:\n",
    "                    final_intervals.append([pause_start, sr_end])\n",
    "                    speech_rate_idx += 1\n",
    "                else:\n",
    "                    final_intervals.append([pause_start, pause_end])\n",
    "                    pause_idx += 1\n",
    "            elif pause_start <= sr_start <= pause_end:\n",
    "                if sr_end <= pause_end:\n",
    "                    final_intervals.append([sr_start, sr_end])\n",
    "                    speech_rate_idx += 1\n",
    "                else:\n",
    "                    final_intervals.append([sr_start, pause_end])\n",
    "                    pause_idx += 1\n",
    "            else:\n",
    "                pause_idx += 1\n",
    "        return final_intervals\n"
   ]
  },
  {
   "cell_type": "code",
   "execution_count": 18,
   "metadata": {
    "id": "9iQuuW8RAu60"
   },
   "outputs": [],
   "source": [
    "class SpeechProcessingSubsystem:\n",
    "    def __init__(self, path, negative_emotions_bool, analyzed_segment_len, lang):\n",
    "        \"\"\"\n",
    "        Initialization of speech processing class\n",
    "        @param path: path to video file\n",
    "        @param negative_emotions_bool: list of unwanted emotions (set by user)\n",
    "        @param analyzed_segment_len: length of file segment to analyze separately\n",
    "        \"\"\"\n",
    "        # rewrite video to audio file\n",
    "        clip = mp_editor.VideoFileClip(path)\n",
    "        audio_path = path[:path.rfind('.')] + '.wav'\n",
    "        clip.audio.write_audiofile(audio_path, logger=None)\n",
    "        self.path = audio_path\n",
    "        # fields for words and noise timestamps\n",
    "        self.cleaned_transcription = None\n",
    "        self.all_words_without_noise = None\n",
    "        self.noise = None\n",
    "        self.duration = clip.duration\n",
    "        self.analyzed_segment_len = analyzed_segment_len\n",
    "        self.negative_emotions_bool = negative_emotions_bool\n",
    "        self.lang = lang\n",
    "\n",
    "    def speech_recognition(self):\n",
    "        \"\"\"\n",
    "        Performs ASR process\n",
    "        \"\"\"\n",
    "        speech_recogniser = AutomaticSpeechRecognition(self.path, self.lang)\n",
    "        cleaned_transcription, word_arrays, correct_transcription = \\\n",
    "            speech_recogniser.get_speech_recognition()\n",
    "        # fill class params with ASR results\n",
    "        self.cleaned_transcription = cleaned_transcription\n",
    "        self.all_words_without_noise = word_arrays[0]\n",
    "        self.noise = word_arrays[1]\n",
    "\n",
    "    @staticmethod\n",
    "    def unite_intervals(intervals_1, intervals_2):\n",
    "        \"\"\"\n",
    "        Unite two time frames intervals\n",
    "        @param intervals_1: first list of intervals\n",
    "        @param intervals_2: second list of intervals\n",
    "        @return: united list of intervals\n",
    "        \"\"\"\n",
    "        final_intervals = []\n",
    "        # indexes to indexing through lists\n",
    "        first_idx, second_idx = 0, 0\n",
    "        while first_idx < len(intervals_1) and second_idx < len(intervals_2):\n",
    "            interval_1_start, interval_1_end = intervals_1[first_idx]\n",
    "            interval_2_start, interval_2_end = intervals_2[second_idx][0], intervals_2[second_idx][1]\n",
    "            # if first interval's time period is earlier\n",
    "            if interval_1_start <= interval_2_start:\n",
    "                # first interval's time period is inside second's\n",
    "                if interval_1_end <= interval_2_start:\n",
    "                    first_idx += 1\n",
    "                elif interval_2_start < interval_1_end <= interval_2_end:\n",
    "                    final_intervals.append([interval_2_start, interval_1_end])\n",
    "                    first_idx += 1\n",
    "                else:\n",
    "                    final_intervals.append([interval_2_start, interval_2_end])\n",
    "                    second_idx += 1\n",
    "            # if second interval's time period is earlier\n",
    "            elif interval_2_start <= interval_1_start <= interval_2_end:\n",
    "                if interval_1_end <= interval_2_end:\n",
    "                    final_intervals.append([interval_1_start, interval_1_end])\n",
    "                    first_idx += 1\n",
    "                else:\n",
    "                    final_intervals.append([interval_1_start, interval_2_end])\n",
    "                    second_idx += 1\n",
    "            else:\n",
    "                second_idx += 1\n",
    "        return final_intervals\n",
    "\n",
    "    def periods_to_fractions(self, intervals, length):\n",
    "        \"\"\"\n",
    "        Saves percentages of intervals per analyzed file fragment length\n",
    "        @param intervals: time intervals of any kind\n",
    "        @param length: result's list length\n",
    "        @return: list with fractions (percentages) of occurrence\n",
    "        \"\"\"\n",
    "        res = np.zeros(length)\n",
    "        for i in intervals:\n",
    "            fraction = (i[1] - i[0]) / self.analyzed_segment_len\n",
    "            idx = int(i[0] // self.analyzed_segment_len)\n",
    "            res[idx] = round(res[idx] + fraction, 3)\n",
    "        return res\n",
    "\n",
    "    def get_fraction(self, timestamps):\n",
    "        \"\"\"\n",
    "        Counts timestamps proportion of some event\n",
    "        @param timestamps: time periods of some event\n",
    "        @return: timestamps proportion of some event\n",
    "        \"\"\"\n",
    "        duration = 0\n",
    "        for time_period in timestamps:\n",
    "            duration += time_period[1] - time_period[0]\n",
    "        return duration / self.duration\n",
    "\n",
    "    def get_fractions_from_intervals(self, intervals):\n",
    "        \"\"\"\n",
    "        Transform random length intervals to N-second fractions\n",
    "        @param intervals: intervals of some event\n",
    "        @return: list of fraction per file fragment\n",
    "        \"\"\"\n",
    "        length = math.ceil(self.duration / self.analyzed_segment_len)\n",
    "        fixed_intervals = [[i * self.analyzed_segment_len, (i + 1) * self.analyzed_segment_len] for i in range(length)]\n",
    "        united_intervals = self.unite_intervals(intervals, fixed_intervals)\n",
    "        fractions = self.periods_to_fractions(united_intervals, len(fixed_intervals))\n",
    "        return fractions\n",
    "\n",
    "    def get_emotionality(self):\n",
    "        \"\"\"\n",
    "        Analyses emotionality of file\n",
    "        @return: list of lists of emotions probabilities and time period per which emotions are defined\n",
    "        \"\"\"\n",
    "        audio_emotions = AudioEmotions(self.path, self.analyzed_segment_len, self.negative_emotions_bool)\n",
    "        negative_emotions_fractions, neutral_emotion_fractions = audio_emotions.emotions_analysis()\n",
    "        return negative_emotions_fractions, neutral_emotion_fractions\n",
    "\n",
    "    def get_filler_words(self):\n",
    "        \"\"\"\n",
    "        Analyses presence of filler words\n",
    "        @return: dicts with all filler words and phrases and with most common ones\n",
    "        \"\"\"\n",
    "        filler_words = FillerWordsAndPhrases(self.cleaned_transcription, self.lang)\n",
    "        all_filler_words_dict, worst_words = filler_words.get_filler_words_final()\n",
    "        return all_filler_words_dict, worst_words\n",
    "\n",
    "    def get_speech_rate(self):\n",
    "        \"\"\"\n",
    "        Analyses speech rate of speech\n",
    "        @return: intervals with slow speech rate and their percentage of file duration\n",
    "        \"\"\"\n",
    "        speech_rate = SpeechRate(self.all_words_without_noise)\n",
    "        speech_rate_results, pause_intervals = speech_rate.get_intervals()\n",
    "        intervals = self.unite_intervals(speech_rate_results, pause_intervals)\n",
    "        fractions = self.get_fractions_from_intervals(intervals)\n",
    "        return intervals, fractions, self.get_fraction(intervals)\n",
    "\n",
    "    def get_background_noise(self):\n",
    "        \"\"\"\n",
    "        Analyses background noise presence\n",
    "        @return: intervals with high background noise and their percentage of file duration\n",
    "        \"\"\"\n",
    "        # collect high background noise intervals\n",
    "        background_noise = BackgroundNoise(self.noise)\n",
    "        high_noise_intervals = background_noise.get_high_noise_timestamps()\n",
    "        # transform to fractions for each file fragment\n",
    "        high_noise_fractions = self.get_fractions_from_intervals(high_noise_intervals)\n",
    "        high_noise_fractions = np.array(high_noise_fractions)\n",
    "\n",
    "        # collect STOI indexes\n",
    "        intelligibility = Intelligibility(self.path, self.all_words_without_noise, self.noise,\n",
    "                                          self.analyzed_segment_len)\n",
    "        indexes = intelligibility.stoi_index()\n",
    "        # transform to fractions for each file fragment\n",
    "        fractions = (high_noise_fractions + 1 - indexes) / 2\n",
    "        return high_noise_intervals, fractions, self.get_fraction(high_noise_intervals)\n",
    "\n",
    "    def get_intelligibility(self):\n",
    "        \"\"\"\n",
    "        Analyses intelligibility of speech\n",
    "        @return: approximate intelligibility per file fragment and summary intelligibility\n",
    "        \"\"\"\n",
    "        # collect basic intelligibility measures\n",
    "        intelligibility = Intelligibility(self.path, self.all_words_without_noise, self.noise,\n",
    "                                          self.analyzed_segment_len)\n",
    "        indexes, fast_intervals, noisy_intervals = intelligibility.get_intelligibility_features()\n",
    "        # transform to fractions on whole file\n",
    "        fast_fraction = self.get_fraction(fast_intervals)\n",
    "        noisy_fraction = self.get_fraction(noisy_intervals)\n",
    "        index_fraction = np.average(indexes)\n",
    "        # transform to fractions per file fragment\n",
    "        noisy_fractions = np.array(self.get_fractions_from_intervals(noisy_intervals))\n",
    "        fast_fractions = np.array(self.get_fractions_from_intervals(fast_intervals))\n",
    "\n",
    "        # count average\n",
    "        negative_fractions = (2 * noisy_fractions + fast_fractions + 2 * (1 - indexes)) / 5\n",
    "        negative_fraction = (fast_fraction + 2 * noisy_fraction + 2 * (1 - index_fraction)) / 5\n",
    "        return negative_fractions, negative_fraction\n"
   ]
  },
  {
   "cell_type": "markdown",
   "metadata": {
    "id": "QPd9BdumEpRe"
   },
   "source": [
    "## Final"
   ]
  },
  {
   "cell_type": "code",
   "execution_count": 19,
   "metadata": {
    "id": "biH6QlukMPXz"
   },
   "outputs": [],
   "source": [
    "CONSTANTS = {\n",
    "    \"clean_speech\": (0.3, 0.8),\n",
    "    \"speech_rate\": (0.3, 0.6),\n",
    "    \"background_noise\": (0.3, 0.6),\n",
    "    \"intelligibility\": (0.3, 0.6),\n",
    "    \"clothes\": (0.5, 1),\n",
    "    \"gestures\": (0, 1),\n",
    "    \"angle\": (0.3, 0.6),\n",
    "    \"glances\": (0.6, 1),\n",
    "    \"emotionality\": (0.3, 0.6),\n",
    "    \"neutral_emotionality_official\": (0.2, 0.6),\n",
    "    \"neutral_emotionality_nonofficial\": (0.2, 0.6),\n",
    "}\n",
    "\n",
    "ORDER = [\n",
    "    \"background_noise\",\n",
    "    \"speech_rate\",\n",
    "    \"emotionality\",\n",
    "    \"intelligibility\",\n",
    "    \"gestures\",\n",
    "    \"glances\"\n",
    "]\n",
    "\n",
    "DRAW_VALUES = {\n",
    "    \"speech_rate\": {\n",
    "        0: \"Optimal speech rate\",\n",
    "        1: \"Slightly slow speech rate\",\n",
    "        2: \"Too slow speech rate\"\n",
    "    },\n",
    "    \"background_noise\": {\n",
    "        0: \"No background noise\",\n",
    "        1: \"Slight background noise\",\n",
    "        2: \"Strong background noise\"\n",
    "    },\n",
    "    \"intelligibility\": {\n",
    "        0: \"Speech is completely unintelligible\",\n",
    "        1: \"Speech is somewhat unintelligible\",\n",
    "        2: \"Speech is fully intelligible\",\n",
    "    },\n",
    "    \"gestures\": {\n",
    "        0: 'Inactive gesturing',\n",
    "        1: 'Optimal gesturing',\n",
    "        2: 'Active gesturing',\n",
    "    },\n",
    "    \"glances\": {\n",
    "        0: None,\n",
    "        1: 'You often look away'\n",
    "    },\n",
    "    \"emotionality\": {\n",
    "        0: \"Mostly desired emotions\",\n",
    "        1: \"Not fully desired emotions\",\n",
    "        2: \"Undesired emotions\",\n",
    "    },\n",
    "    \"lightning\": {\n",
    "        0: 'Too dark lighting',\n",
    "        1: 'Optimal lighting',\n",
    "        2: 'Too bright lighting',\n",
    "    }\n",
    "}"
   ]
  },
  {
   "cell_type": "code",
   "execution_count": 20,
   "metadata": {
    "id": "KpYKU1LHEq3F"
   },
   "outputs": [],
   "source": [
    "class FileProcessingSystem:\n",
    "    \"\"\"\n",
    "    Class for file analysis\n",
    "    \"\"\"\n",
    "    def __init__(self, file, flags, negative_emotions_bool, preferred_gestures_bool, analyzed_segment_len, lang):\n",
    "        \"\"\"\n",
    "        Initializing of file and its params\n",
    "        @param file: FileInfo instance to analyze\n",
    "        @param analyzed_segment_len: length of one file fragment to analyze\n",
    "        @param language_flag: text language flag (for recommendations and statistics)\n",
    "        \"\"\"\n",
    "        self.file_path = file\n",
    "        self.analyzed_segment_len = analyzed_segment_len\n",
    "        self.flags = flags\n",
    "        self.lang = lang\n",
    "        emotions = [\"Happiness\", \"Anger\", \"Disgust\", \"Neutral\", \"Sadness\", \"Surprise\"]\n",
    "        negative_emotions = []\n",
    "        for i, flag in enumerate(negative_emotions_bool):\n",
    "            if flag:\n",
    "                negative_emotions.append(emotions[i])\n",
    "        self.negative_emotions_bool = negative_emotions_bool\n",
    "        self.preferred_gestures_bool = preferred_gestures_bool\n",
    "        self.timestamps = {}\n",
    "        self.computer_vision = VideoSubsystem(self.file_path, negative_emotions, emotions=flags[\"emotionality\"],\n",
    "                                              gesticulation=flags[\"gestures\"], angle=flags[\"angle\"],\n",
    "                                              gaze=flags[\"glances\"], clothes=flags[\"clothes\"], facial_attrs=flags[\"facial_attrs\"])\n",
    "        self.computer_vision.process_video(duration=analyzed_segment_len)\n",
    "        self.speech_processing = SpeechProcessingSubsystem(self.file_path, negative_emotions_bool,\n",
    "                                                           analyzed_segment_len=analyzed_segment_len, lang=lang)\n",
    "\n",
    "\n",
    "    def save_timestamps_to_db(self, timestamps, type_choice):\n",
    "        \"\"\"\n",
    "        Saves timestamps of low speech rate or high background noise to database\n",
    "        @param timestamps: periods to be saved\n",
    "        @param type_choice: 0 for background noise, 1 for speech rate\n",
    "        \"\"\"\n",
    "        periods = []\n",
    "        for time_period in timestamps:\n",
    "            start_seconds, end_seconds = round(time_period[0]), round(time_period[1])\n",
    "            # transform seconds to time type\n",
    "            start = time(hour=start_seconds // 3600, minute=start_seconds // 60, second=start_seconds % 60)\n",
    "            end = time(hour=end_seconds // 3600, minute=end_seconds // 60, second=end_seconds % 60)\n",
    "            periods.append((start, end))\n",
    "        return periods\n",
    "\n",
    "    def get_transcription(self):\n",
    "        \"\"\"\n",
    "        Translates and saves file transcription\n",
    "        \"\"\"\n",
    "        self.speech_processing.speech_recognition()\n",
    "        return self.speech_processing.cleaned_transcription\n",
    "\n",
    "    def get_emotionality(self):\n",
    "        \"\"\"\n",
    "        Gets emotionality from audio and video subsystems, unites them and saves neutral emotion fraction\n",
    "        \"\"\"\n",
    "        video_emotions = self.computer_vision.get_inappropriate_emotion_percentage()\n",
    "        video_neutral_emotions = self.computer_vision.get_emotions()\n",
    "\n",
    "        try:\n",
    "            audio_emotions, audio_neutral_emotions = self.speech_processing.get_emotionality()\n",
    "        except Exception as e:\n",
    "            audio_emotions = self.computer_vision.get_inappropriate_emotion_percentage()\n",
    "            audio_neutral_emotions = self.computer_vision.get_emotions()\n",
    "        audio_emotions = np.array(audio_emotions)\n",
    "        video_emotions = np.array(video_emotions)\n",
    "        incorrect_emotions_percentage = (2 * video_emotions + audio_emotions) / 3\n",
    "        incorrect_emotions_percentage = np.round(np.array(incorrect_emotions_percentage), 3)\n",
    "        emotions_fraction = round(np.sum(incorrect_emotions_percentage) / len(incorrect_emotions_percentage), 3)\n",
    "\n",
    "        neutral_emotions = (np.array(video_neutral_emotions) + np.array(audio_neutral_emotions)) / 2\n",
    "        neutral_emotions_fraction = round(np.sum(neutral_emotions) / len(neutral_emotions), 3)\n",
    "        self.timestamps[\"emotionality\"] = incorrect_emotions_percentage\n",
    "        # доля нейтральных эмоций во всем видео, доля нежелательных эмоций во всем видео, доли нежелательных эмоций в каждом отрезке\n",
    "        return neutral_emotions_fraction, emotions_fraction, incorrect_emotions_percentage\n",
    "\n",
    "    def get_age(self):\n",
    "        ages = self.computer_vision.get_ages()\n",
    "        if len(ages) == 0:\n",
    "            return None\n",
    "        return np.mean(ages, axis=0)\n",
    "\n",
    "    def get_gender(self):\n",
    "        genders = self.computer_vision.get_genders()\n",
    "        if len(genders) == 0:\n",
    "            return None\n",
    "        return max(set(genders), key=genders.count)\n",
    "\n",
    "    def get_ethnicity(self):\n",
    "        ethnicities = self.computer_vision.get_ethnicities()\n",
    "        if len(ethnicities) == 0:\n",
    "            return None\n",
    "        return max(set(ethnicities), key=ethnicities.count)\n",
    "\n",
    "    def get_filler_words(self):\n",
    "        \"\"\"\n",
    "        Gets filler words and phrases, saves them and their count per minute\n",
    "        \"\"\"\n",
    "        all_filler_words, worst_filler_words = self.speech_processing.get_filler_words()\n",
    "\n",
    "        overall_count = sum(list(all_filler_words.values()))\n",
    "        words_per_minute_percentage = round((overall_count / (self.speech_processing.duration / 60)) / 10, 5)\n",
    "        # доля слов-паразитов во всем видео, все слова-паразиты и их встречаемость, самые частые слова-паразиты и их встречаемость\n",
    "        return words_per_minute_percentage, all_filler_words, worst_filler_words\n",
    "\n",
    "    def get_speech_rate(self):\n",
    "        \"\"\"\n",
    "        Gets and saves intervals with slow speech rate and their percentage\n",
    "        \"\"\"\n",
    "        intervals, fractions, final_fraction = self.speech_processing.get_speech_rate()\n",
    "        self.timestamps[\"speech_rate\"] = fractions\n",
    "        # доля с низким темпом речи во всем видео, доли с низким темпом речи в каждом отрезке, интервалы с низким темпом речи\n",
    "        return final_fraction, fractions, intervals\n",
    "\n",
    "    def get_background_noise(self):\n",
    "        \"\"\"\n",
    "        Gets and saves intervals with high background noise and their percentage\n",
    "        \"\"\"\n",
    "        intervals, fractions, final_fraction = self.speech_processing.get_background_noise()\n",
    "        self.timestamps[\"background_noise\"] = fractions\n",
    "        # доля с высоким фоновым шумом во всем видео, доли с высоким фоновым шумом в каждом отрезке, интервалы с высоким фоновым шумом\n",
    "        return final_fraction, fractions, intervals\n",
    "\n",
    "    def get_intelligibility(self):\n",
    "        \"\"\"\n",
    "        Gets and saves intelligibility estimation\n",
    "        \"\"\"\n",
    "        negative_fractions, negative_index = self.speech_processing.get_intelligibility()\n",
    "        fractions = np.round(1 - negative_fractions, 3)\n",
    "        self.timestamps[\"intelligibility\"] = fractions\n",
    "        # разборчивость речи во всем видео, разборчивость речи в каждом отрезке\n",
    "        return 1 - negative_index, fractions\n",
    "\n",
    "    def get_incorrect_angle(self):\n",
    "        \"\"\"\n",
    "        Gets and saves incorrect angle percentage\n",
    "        \"\"\"\n",
    "        incorrect_angle_fractions = self.computer_vision.get_angle()\n",
    "        incorrect_angle_fractions = np.round(np.array(incorrect_angle_fractions), 3)\n",
    "        incorrect_angle = round(np.sum(incorrect_angle_fractions) / len(incorrect_angle_fractions), 3)\n",
    "        # доля некорректного ракурса во всем видео, доля некорректного ракурса в каждом отрезке\n",
    "        return incorrect_angle, incorrect_angle_fractions\n",
    "\n",
    "    def get_incorrect_glances(self):\n",
    "        \"\"\"\n",
    "        Gets and saves incorrect glances percentage\n",
    "        \"\"\"\n",
    "        incorrect_glance_fractions = self.computer_vision.get_gaze()\n",
    "        incorrect_glance_fractions = np.round(np.array(incorrect_glance_fractions), 3)\n",
    "        incorrect_glance = round(np.sum(incorrect_glance_fractions) / len(incorrect_glance_fractions), 3)\n",
    "        self.timestamps[\"glances\"] = incorrect_glance_fractions\n",
    "        # доля некорректного направления взгляда во всем видео, доля некорректного направления взгляда в каждом отрезке\n",
    "        return incorrect_glance, incorrect_glance_fractions\n",
    "\n",
    "    def get_gestures(self):\n",
    "        \"\"\"\n",
    "        Gets and saves gesticulation level\n",
    "        \"\"\"\n",
    "        gestures = self.computer_vision.get_gestures()\n",
    "        gestures = np.round(np.array(gestures), 3)\n",
    "        final_gesture_fraction = round(np.sum(gestures) / len(gestures), 3)\n",
    "        self.timestamps[\"gestures\"] = gestures\n",
    "        # активность жестикуляции во всем видео, активность жестикуляции в каждом отрезке\n",
    "        return final_gesture_fraction, gestures\n",
    "\n",
    "    def get_clothes(self):\n",
    "        \"\"\"\n",
    "        Gets and saves clothes suitability\n",
    "        \"\"\"\n",
    "        clothes = self.computer_vision.get_clothes_estimation()\n",
    "        # корректность одежды (True - одежда подходит)\n",
    "        return clothes\n",
    "\n",
    "    def draw(self):\n",
    "        \"\"\"\n",
    "        Draw analysis result signatures on video file\n",
    "        \"\"\"\n",
    "        print(self.timestamps)\n",
    "        # indexes of best values for each parameter\n",
    "        optimal_indexes = {\n",
    "            \"background_noise\": 0,\n",
    "            \"speech_rate\": 0,\n",
    "            \"emotionality\": 0,\n",
    "            \"intelligibility\": 2,\n",
    "            \"gestures\": self.preferred_gestures_bool,\n",
    "            \"glances\": 0,\n",
    "            \"lightning\": 0,\n",
    "        }\n",
    "        lst = ORDER\n",
    "        # texts to put into file\n",
    "        text_values = []\n",
    "        # boolean values (True - optimal) for text color\n",
    "        boolean_flags = []\n",
    "        for period_index, name in enumerate(lst):\n",
    "            if name in self.timestamps:\n",
    "                text_values.append([])\n",
    "                boolean_flags.append([])\n",
    "                # get grades for parameter for each file fragment\n",
    "                res = self.timestamps[name]\n",
    "                print(name, res)\n",
    "                # transform grade into text\n",
    "                for value in res:\n",
    "                    text_idx = 0\n",
    "                    if value > CONSTANTS[name][1]:\n",
    "                        text_idx = 2\n",
    "                    elif value > CONSTANTS[name][0]:\n",
    "                        text_idx = 1\n",
    "                    text = DRAW_VALUES[name][text_idx]\n",
    "                    text_values[-1].append(text)\n",
    "                    # append text color\n",
    "                    if name == \"gestures\":\n",
    "                        boolean_flags[-1].append(text_idx in optimal_indexes[name])\n",
    "                    else:\n",
    "                        boolean_flags[-1].append(text_idx == optimal_indexes[name])\n",
    "\n",
    "        # append values on lightning if possible\n",
    "        lightning_numbers = self.computer_vision.get_lightning()\n",
    "        if len(lightning_numbers) > 0:\n",
    "            text_values.append([])\n",
    "            boolean_flags.append([])\n",
    "            for val in lightning_numbers:\n",
    "                text_values[-1].append(DRAW_VALUES[\"lightning\"][val])\n",
    "                boolean_flags[-1].append(val == 1)\n",
    "\n",
    "        draw_res = DrawResults(self.file_path, dist=self.analyzed_segment_len)\n",
    "        # path for temporary file\n",
    "        temp_path = self.file_path[:self.file_path.rfind('.')] + '_temp.' + \\\n",
    "                       self.file_path[self.file_path.rfind('.')+1:]\n",
    "        # file is saved without noise\n",
    "        print(text_values)\n",
    "        print(boolean_flags)\n",
    "        draw_res.draw(temp_path, text_values, boolean_flags,\n",
    "                      self.computer_vision.get_angle_len(), self.computer_vision.get_incorrect_angle_ind())\n",
    "\n",
    "        # unite video and audio\n",
    "        output = mp_editor.VideoFileClip(temp_path)\n",
    "        painted_path = self.file_path[:self.file_path.rfind('.')] + '_painted.' + self.file_path[self.file_path.rfind('.')+1:]\n",
    "        final_duration = output.duration\n",
    "        output_audio = mp_editor.VideoFileClip(self.file_path).audio.subclip(0, final_duration)\n",
    "        output.audio = output_audio\n",
    "        output.write_videofile(painted_path)\n",
    "        return painted_path\n",
    "\n",
    "    def get_recomendation_prompt(self, presentation_style, country=None):\n",
    "        def _get_gender_pronomen(self):\n",
    "            return \"her\" if self.get_gender() == \"female\" else \"his\"\n",
    "\n",
    "        def _get_language(self):\n",
    "            if self.lang == \"ru\":\n",
    "                return \"Russian\"\n",
    "            else:\n",
    "                return \"English\"\n",
    " \n",
    "        def _get_filler_words_stat(self):\n",
    "            words_per_minute_percentage, all_filler_words, worst_filler_words = self.get_filler_words()\n",
    "            if words_per_minute_percentage < 1:\n",
    "                speech_classification = \"clean\"\n",
    "                filler_quantity = \"few\"\n",
    "            elif words_per_minute_percentage < 3:\n",
    "                speech_classification = \"smooth\"\n",
    "                filler_quantity = \"few\"\n",
    "            elif words_per_minute_percentage < 6:\n",
    "                speech_classification = \"natural\"\n",
    "                filler_quantity = \"several\"\n",
    "            elif words_per_minute_percentage < 10:\n",
    "                speech_classification = \"slightly uneven\"\n",
    "                filler_quantity = \"noticeable number of\"\n",
    "            elif words_per_minute_percentage < 15:\n",
    "                speech_classification = \"uneven\"\n",
    "                filler_quantity = \"many\"\n",
    "            elif words_per_minute_percentage < 25:\n",
    "                speech_classification = \"broken\"\n",
    "                filler_quantity = \"a large number of\"\n",
    "            else:\n",
    "                speech_classification = \"fragmented\"\n",
    "                filler_quantity = \"overwhelming number of\"\n",
    "            filler_words = \"\"\n",
    "            for word in worst_filler_words.keys():\n",
    "                filler_words += \"\\\"{}\\\", \".format(word)\n",
    "            filler_words = filler_words[:-2]\n",
    "            return speech_classification, filler_quantity, filler_words\n",
    "\n",
    "        def _get_speech_rate_classification(self):\n",
    "            speech_rate_percentage, _, _ = self.get_speech_rate()\n",
    "            speech_rate_percentage *= 100\n",
    "            if speech_rate_percentage < 5:\n",
    "                return \"Optimal speech rate.\"\n",
    "            elif speech_rate_percentage < 15:\n",
    "                return \"Mostly optimal speech rate with occasional slowdowns.\"\n",
    "            elif speech_rate_percentage < 30:\n",
    "                return \"Noticeable variability in speech rate.\"\n",
    "            elif speech_rate_percentage < 45:\n",
    "                return \"Speech rate may significantly differ from one fragment to another.\"\n",
    "            elif speech_rate_percentage < 60:\n",
    "                return \"Generally slow speech rate with occasional faster fragments.\"\n",
    "            else:\n",
    "                return \"Consistently slow speech rate.\"\n",
    "\n",
    "        def _get_emotionality_classification(self):\n",
    "            neutral_emotions_percentage, incorrect_emotions_percentage, _ = self.get_emotionality()\n",
    "            incorrect_emotions_percentage *= 100\n",
    "            if incorrect_emotions_percentage < 5:\n",
    "                return \"Mostly desired emotions presented on the video.\"\n",
    "            elif incorrect_emotions_percentage < 15:\n",
    "                return \"Minor presence of undesired emotions, such as anger or disgust.\"\n",
    "            elif incorrect_emotions_percentage < 25:\n",
    "                return \"Not fully desired emotions, emotions such as anger or disgust are presented.\"\n",
    "            elif incorrect_emotions_percentage < 40:\n",
    "                return \"Noticeable presence of undesired emotions, such as anger or disgust.\"\n",
    "            return \"Undesired emotions dominate.\"\n",
    "\n",
    "        def _get_background_noise_classification(self):\n",
    "            percentage, _, _ = self.get_background_noise()\n",
    "            percentage *= 100\n",
    "            if percentage < 5:\n",
    "                return \"Video doesn't have noticeable background noise.\"\n",
    "            elif percentage < 15:\n",
    "                return \"Video has minor background noise, barely affecting speech clarity.\"\n",
    "            elif percentage < 30:\n",
    "                return \"Video has moderate background noise, slightly affecting speech clarity.\"\n",
    "            elif percentage < 50:\n",
    "                return \"Video has noticeable background noise, affecting listener's comfort.\"\n",
    "            elif percentage < 70:\n",
    "                return \"Video has strong background noise, significantly impacting speech understanding.\"\n",
    "            else:\n",
    "                return \"Video has severe background noise, making speech difficult to comprehend.\"\n",
    "\n",
    "        def _get_intelligibility_classification(self):\n",
    "            percentage, _ = self.get_intelligibility()\n",
    "            percentage *= 100\n",
    "            if percentage >= 90:\n",
    "                return \"Intelligibility of speech is excellent; every word is clearly recognizable.\"\n",
    "            elif percentage >= 75:\n",
    "                return \"Intelligibility of speech is good; most words are easy to recognize with minimal effort.\"\n",
    "            elif percentage >= 50:\n",
    "                return \"Intelligibility of speech is moderate; some words are difficult to recognize.\"\n",
    "            elif percentage >= 30:\n",
    "                return \"Intelligibility of speech is low; understanding the speech requires significant effort.\"\n",
    "            else:\n",
    "                return \"Intelligibility of speech is poor; most words are hard or impossible to recognize.\"\n",
    "\n",
    "        def _get_ligting_classification(self):\n",
    "            lightning_numbers = self.computer_vision.get_lightning()\n",
    "            if len(lightning_numbers) == 0:\n",
    "                return \"\"\n",
    "            avg_lighting = np.mean(lightning_numbers, axis=0)\n",
    "            if avg_lighting == 0:\n",
    "                return \"In average video recorded with too dark lighting.\"\n",
    "            elif avg_lighting == 2:\n",
    "                return \"In average video recorded with too light lighting.\"\n",
    "            return \"Video recorded with optimal lighting.\"\n",
    "\n",
    "        def _get_clothing_characteristic(self):\n",
    "            if self.get_clothes():\n",
    "                return \"suitable\"\n",
    "            return \"not suitable\"\n",
    "\n",
    "        def _get_angle_classification(self):\n",
    "            percentage, _ = self.get_incorrect_angle()\n",
    "            percentage *= 100\n",
    "            if percentage < 15:\n",
    "                return \"Video recorded with consistently proper recording angle.\"\n",
    "            elif percentage < 40:\n",
    "                return \"Video recorded with mostly proper recording angle with minor deviations.\"\n",
    "            elif percentage < 70:\n",
    "                return \"Video recorded with noticeable deviations from proper recording angle.\"\n",
    "            else:\n",
    "                return \"Video recorded with significant issues with recording angle throughout the video.\"\n",
    "\n",
    "        def _get_glances_classification(self):\n",
    "            percentage, _ = self.get_incorrect_glances()\n",
    "            percentage *= 100\n",
    "            if percentage < 15:\n",
    "                return \"Speaker stable gaze toward the camera.\"\n",
    "            elif percentage < 65:\n",
    "                return \"Speaker occasional glances away from the camera.\"\n",
    "            else:\n",
    "                return \"Speaker often look away from the camera.\"\n",
    "\n",
    "        def _get_gestures_classification(self):\n",
    "            gesture = self.computer_vision.get_gestures()\n",
    "            if gesture == 0:\n",
    "                return \"Gestures are practically absent.\"\n",
    "            elif gesture == 2:\n",
    "                return \"Gestures are very active and expressive.\"\n",
    "            return \"Gesturing is appropriate and natural.\"\n",
    "\n",
    "        if self.speech_processing.cleaned_transcription is not None:\n",
    "            transcription = self.speech_processing.cleaned_transcription\n",
    "        else:\n",
    "            transcription = self.get_transcription()\n",
    "        ethnicity = self.get_ethnicity()\n",
    "        gender = self.get_gender()\n",
    "        speaker_descr = \"\"\n",
    "        if ethnicity is not None:\n",
    "            speaker_descr += f\"{ethnicity} \"\n",
    "        if gender is not None:\n",
    "            speaker_descr += f\"{gender} \"\n",
    "        desc = \"On the video a {}speaker \".format(speaker_descr)\n",
    "        age = self.get_age()\n",
    "        if age is not None:\n",
    "            desc += \"about {} years old \".format(int(self.get_age()))\n",
    "        desc += \"give a presentation in {}. The following characteristics of {} video were highlighted by our models: \\\"\".format(\n",
    "            _get_language(self),\n",
    "            _get_gender_pronomen(self),\n",
    "        )\n",
    "        #desc += \"to improve the presentation structure and presentations skills in {} \".format(_get_language(self))\n",
    "        #desc += \"using the following characteristics of {} video: \\\"\".format(_get_gender_pronomen(self))\n",
    "        speech_classification, filler_quantity, filler_words = _get_filler_words_stat(self)\n",
    "        desc += \"rather {} speech with {} filler words, such as {}. \".format(speech_classification, filler_quantity, filler_words)\n",
    "        desc += \"{} {} {} {} {} {} {} {} \".format(\n",
    "            _get_speech_rate_classification(self), \n",
    "            _get_emotionality_classification(self), \n",
    "            _get_background_noise_classification(self),\n",
    "            _get_intelligibility_classification(self),\n",
    "            _get_angle_classification(self),\n",
    "            _get_glances_classification(self),\n",
    "            _get_gestures_classification(self),\n",
    "            _get_ligting_classification(self),\n",
    "        )\n",
    "        desc += \"Looks like clothes are {} for the presentation.\\\"\".format(_get_clothing_characteristic(self))\n",
    "        country_msg = \"\"\n",
    "        if country is not None:\n",
    "            country_msg = f\" and recorded for demonstrating in {country}\"\n",
    "        desc += \"\\nHere is the transcription of the presentation: \\\"{}\\\".\".format(transcription)\n",
    "        desc += \"\\nNote that the presentation has a {} style{}.\".format(presentation_style, country_msg)\n",
    "        #desc += '\\nBe as consise as possible, try to use less than 150 words.'\n",
    "        desc += \"\\nPlease, analyze the speach and characteristics and provide a brief recomendation \"\n",
    "        desc += \"how the presentor can improve the quality of the presentation and his presentation skills. \"\n",
    "        desc += \"The recomendation should be less than 150 words.\"\n",
    "\n",
    "        return desc\n",
    "\n",
    "    def get_recommendation(self, prompt, model_name=\"gpt-4o\"):\n",
    "        response = g4f.ChatCompletion.create(\n",
    "            model=model_name,\n",
    "            messages=[{\"role\": \"user\", \"content\": prompt}],\n",
    "            temperature=0,\n",
    "            #provider=g4f.Provider.Aura\n",
    "        )\n",
    "        \n",
    "        return response"
   ]
  },
  {
   "cell_type": "code",
   "execution_count": 21,
   "metadata": {
    "id": "1kADWpP-GxmL"
   },
   "outputs": [],
   "source": [
    "flags = {\"emotionality\": True, \"gestures\": True, \"angle\": True, \"glances\": True, \"clothes\": True, \"facial_attrs\": True}\n",
    "negative_emotions = [False, True, True, False, False, False] # Happiness, Anger, Disgust, Neutral, Sadness, Surprise\n",
    "preferred_gestures = [True, True, False] # inactive, medium, active"
   ]
  },
  {
   "cell_type": "markdown",
   "metadata": {
    "jp-MarkdownHeadingCollapsed": true
   },
   "source": [
    "## Presentation in Russian"
   ]
  },
  {
   "cell_type": "code",
   "execution_count": 22,
   "metadata": {
    "colab": {
     "base_uri": "https://localhost:8080/"
    },
    "id": "JdUiHA6nStg4",
    "outputId": "31ec89e8-441e-4e72-ae76-bdc0c2cc74b5"
   },
   "outputs": [
    {
     "name": "stderr",
     "output_type": "stream",
     "text": [
      "  0%|                                                                                                                                                                                                                                     | 0/6 [00:00<?, ?it/s]I0000 00:00:1745955879.422331 9204014 gl_context.cc:369] GL version: 2.1 (2.1 ATI-5.2.4), renderer: AMD Radeon Pro 5500M OpenGL Engine\n",
      "W0000 00:00:1745955879.424816 9204809 inference_feedback_manager.cc:114] Feedback manager requires a model with a single signature inference. Disabling support for feedback tensors.\n",
      "W0000 00:00:1745955879.448675 9204812 inference_feedback_manager.cc:114] Feedback manager requires a model with a single signature inference. Disabling support for feedback tensors.\n",
      "W0000 00:00:1745955879.461697 9204818 landmark_projection_calculator.cc:186] Using NORM_RECT without IMAGE_DIMENSIONS is only supported for the square ROI. Provide IMAGE_DIMENSIONS or use PROJECTION_MATRIX.\n",
      "I0000 00:00:1745955880.426194 9204014 gl_context.cc:369] GL version: 2.1 (2.1 ATI-5.2.4), renderer: AMD Radeon Pro 5500M OpenGL Engine\n",
      "W0000 00:00:1745955880.436605 9204867 inference_feedback_manager.cc:114] Feedback manager requires a model with a single signature inference. Disabling support for feedback tensors.\n",
      "W0000 00:00:1745955880.460367 9204868 inference_feedback_manager.cc:114] Feedback manager requires a model with a single signature inference. Disabling support for feedback tensors.\n",
      "I0000 00:00:1745955880.710200 9204014 gl_context.cc:369] GL version: 2.1 (2.1 ATI-5.2.4), renderer: AMD Radeon Pro 5500M OpenGL Engine\n",
      "W0000 00:00:1745955880.714988 9204898 inference_feedback_manager.cc:114] Feedback manager requires a model with a single signature inference. Disabling support for feedback tensors.\n",
      "W0000 00:00:1745955880.744048 9204895 inference_feedback_manager.cc:114] Feedback manager requires a model with a single signature inference. Disabling support for feedback tensors.\n",
      "I0000 00:00:1745955881.076869 9204014 gl_context.cc:369] GL version: 2.1 (2.1 ATI-5.2.4), renderer: AMD Radeon Pro 5500M OpenGL Engine\n",
      "W0000 00:00:1745955881.083242 9204920 inference_feedback_manager.cc:114] Feedback manager requires a model with a single signature inference. Disabling support for feedback tensors.\n",
      "W0000 00:00:1745955881.158078 9204916 inference_feedback_manager.cc:114] Feedback manager requires a model with a single signature inference. Disabling support for feedback tensors.\n",
      "I0000 00:00:1745955881.391253 9204014 gl_context.cc:369] GL version: 2.1 (2.1 ATI-5.2.4), renderer: AMD Radeon Pro 5500M OpenGL Engine\n",
      "W0000 00:00:1745955881.398297 9204951 inference_feedback_manager.cc:114] Feedback manager requires a model with a single signature inference. Disabling support for feedback tensors.\n",
      "W0000 00:00:1745955881.439585 9204950 inference_feedback_manager.cc:114] Feedback manager requires a model with a single signature inference. Disabling support for feedback tensors.\n",
      "I0000 00:00:1745955881.644992 9204014 gl_context.cc:369] GL version: 2.1 (2.1 ATI-5.2.4), renderer: AMD Radeon Pro 5500M OpenGL Engine\n",
      "W0000 00:00:1745955881.650151 9204966 inference_feedback_manager.cc:114] Feedback manager requires a model with a single signature inference. Disabling support for feedback tensors.\n",
      "W0000 00:00:1745955881.669286 9204965 inference_feedback_manager.cc:114] Feedback manager requires a model with a single signature inference. Disabling support for feedback tensors.\n",
      "I0000 00:00:1745955881.867284 9204014 gl_context.cc:369] GL version: 2.1 (2.1 ATI-5.2.4), renderer: AMD Radeon Pro 5500M OpenGL Engine\n",
      "W0000 00:00:1745955881.871393 9204979 inference_feedback_manager.cc:114] Feedback manager requires a model with a single signature inference. Disabling support for feedback tensors.\n",
      "W0000 00:00:1745955881.889385 9204987 inference_feedback_manager.cc:114] Feedback manager requires a model with a single signature inference. Disabling support for feedback tensors.\n",
      "I0000 00:00:1745955882.075536 9204014 gl_context.cc:369] GL version: 2.1 (2.1 ATI-5.2.4), renderer: AMD Radeon Pro 5500M OpenGL Engine\n",
      "W0000 00:00:1745955882.080451 9205000 inference_feedback_manager.cc:114] Feedback manager requires a model with a single signature inference. Disabling support for feedback tensors.\n",
      "W0000 00:00:1745955882.096271 9204998 inference_feedback_manager.cc:114] Feedback manager requires a model with a single signature inference. Disabling support for feedback tensors.\n",
      "I0000 00:00:1745955882.286087 9204014 gl_context.cc:369] GL version: 2.1 (2.1 ATI-5.2.4), renderer: AMD Radeon Pro 5500M OpenGL Engine\n",
      "W0000 00:00:1745955882.290706 9205022 inference_feedback_manager.cc:114] Feedback manager requires a model with a single signature inference. Disabling support for feedback tensors.\n",
      "W0000 00:00:1745955882.307559 9205023 inference_feedback_manager.cc:114] Feedback manager requires a model with a single signature inference. Disabling support for feedback tensors.\n",
      "I0000 00:00:1745955882.489076 9204014 gl_context.cc:369] GL version: 2.1 (2.1 ATI-5.2.4), renderer: AMD Radeon Pro 5500M OpenGL Engine\n",
      "W0000 00:00:1745955882.494022 9205037 inference_feedback_manager.cc:114] Feedback manager requires a model with a single signature inference. Disabling support for feedback tensors.\n",
      "W0000 00:00:1745955882.509144 9205040 inference_feedback_manager.cc:114] Feedback manager requires a model with a single signature inference. Disabling support for feedback tensors.\n",
      "I0000 00:00:1745955882.719574 9204014 gl_context.cc:369] GL version: 2.1 (2.1 ATI-5.2.4), renderer: AMD Radeon Pro 5500M OpenGL Engine\n",
      "W0000 00:00:1745955882.838299 9205058 inference_feedback_manager.cc:114] Feedback manager requires a model with a single signature inference. Disabling support for feedback tensors.\n",
      "W0000 00:00:1745955882.901511 9205058 inference_feedback_manager.cc:114] Feedback manager requires a model with a single signature inference. Disabling support for feedback tensors.\n",
      "I0000 00:00:1745955883.185977 9204014 gl_context.cc:369] GL version: 2.1 (2.1 ATI-5.2.4), renderer: AMD Radeon Pro 5500M OpenGL Engine\n",
      "W0000 00:00:1745955883.297021 9205077 inference_feedback_manager.cc:114] Feedback manager requires a model with a single signature inference. Disabling support for feedback tensors.\n",
      "W0000 00:00:1745955883.330827 9205077 inference_feedback_manager.cc:114] Feedback manager requires a model with a single signature inference. Disabling support for feedback tensors.\n",
      "I0000 00:00:1745955883.595634 9204014 gl_context.cc:369] GL version: 2.1 (2.1 ATI-5.2.4), renderer: AMD Radeon Pro 5500M OpenGL Engine\n",
      "W0000 00:00:1745955883.713644 9205108 inference_feedback_manager.cc:114] Feedback manager requires a model with a single signature inference. Disabling support for feedback tensors.\n",
      "W0000 00:00:1745955883.747870 9205108 inference_feedback_manager.cc:114] Feedback manager requires a model with a single signature inference. Disabling support for feedback tensors.\n",
      "I0000 00:00:1745955884.032638 9204014 gl_context.cc:369] GL version: 2.1 (2.1 ATI-5.2.4), renderer: AMD Radeon Pro 5500M OpenGL Engine\n",
      "W0000 00:00:1745955884.140878 9205123 inference_feedback_manager.cc:114] Feedback manager requires a model with a single signature inference. Disabling support for feedback tensors.\n",
      "W0000 00:00:1745955884.173260 9205123 inference_feedback_manager.cc:114] Feedback manager requires a model with a single signature inference. Disabling support for feedback tensors.\n",
      "I0000 00:00:1745955884.456951 9204014 gl_context.cc:369] GL version: 2.1 (2.1 ATI-5.2.4), renderer: AMD Radeon Pro 5500M OpenGL Engine\n",
      "W0000 00:00:1745955884.608563 9205157 inference_feedback_manager.cc:114] Feedback manager requires a model with a single signature inference. Disabling support for feedback tensors.\n",
      "W0000 00:00:1745955884.646053 9205157 inference_feedback_manager.cc:114] Feedback manager requires a model with a single signature inference. Disabling support for feedback tensors.\n",
      "I0000 00:00:1745955884.960698 9204014 gl_context.cc:369] GL version: 2.1 (2.1 ATI-5.2.4), renderer: AMD Radeon Pro 5500M OpenGL Engine\n",
      "W0000 00:00:1745955885.078165 9205192 inference_feedback_manager.cc:114] Feedback manager requires a model with a single signature inference. Disabling support for feedback tensors.\n",
      "W0000 00:00:1745955885.114030 9205192 inference_feedback_manager.cc:114] Feedback manager requires a model with a single signature inference. Disabling support for feedback tensors.\n",
      "I0000 00:00:1745955885.389699 9204014 gl_context.cc:369] GL version: 2.1 (2.1 ATI-5.2.4), renderer: AMD Radeon Pro 5500M OpenGL Engine\n",
      "W0000 00:00:1745955885.496971 9205220 inference_feedback_manager.cc:114] Feedback manager requires a model with a single signature inference. Disabling support for feedback tensors.\n",
      "W0000 00:00:1745955885.527899 9205220 inference_feedback_manager.cc:114] Feedback manager requires a model with a single signature inference. Disabling support for feedback tensors.\n",
      "I0000 00:00:1745955885.810759 9204014 gl_context.cc:369] GL version: 2.1 (2.1 ATI-5.2.4), renderer: AMD Radeon Pro 5500M OpenGL Engine\n",
      "W0000 00:00:1745955885.924868 9205237 inference_feedback_manager.cc:114] Feedback manager requires a model with a single signature inference. Disabling support for feedback tensors.\n",
      "W0000 00:00:1745955885.962270 9205237 inference_feedback_manager.cc:114] Feedback manager requires a model with a single signature inference. Disabling support for feedback tensors.\n",
      "I0000 00:00:1745955886.248984 9204014 gl_context.cc:369] GL version: 2.1 (2.1 ATI-5.2.4), renderer: AMD Radeon Pro 5500M OpenGL Engine\n",
      "W0000 00:00:1745955886.366259 9205258 inference_feedback_manager.cc:114] Feedback manager requires a model with a single signature inference. Disabling support for feedback tensors.\n",
      "W0000 00:00:1745955886.398276 9205258 inference_feedback_manager.cc:114] Feedback manager requires a model with a single signature inference. Disabling support for feedback tensors.\n",
      "I0000 00:00:1745955886.680840 9204014 gl_context.cc:369] GL version: 2.1 (2.1 ATI-5.2.4), renderer: AMD Radeon Pro 5500M OpenGL Engine\n",
      "W0000 00:00:1745955886.795216 9205280 inference_feedback_manager.cc:114] Feedback manager requires a model with a single signature inference. Disabling support for feedback tensors.\n",
      "W0000 00:00:1745955886.827850 9205280 inference_feedback_manager.cc:114] Feedback manager requires a model with a single signature inference. Disabling support for feedback tensors.\n",
      "I0000 00:00:1745955887.098425 9204014 gl_context.cc:369] GL version: 2.1 (2.1 ATI-5.2.4), renderer: AMD Radeon Pro 5500M OpenGL Engine\n",
      "W0000 00:00:1745955887.224906 9205297 inference_feedback_manager.cc:114] Feedback manager requires a model with a single signature inference. Disabling support for feedback tensors.\n",
      "W0000 00:00:1745955887.260221 9205297 inference_feedback_manager.cc:114] Feedback manager requires a model with a single signature inference. Disabling support for feedback tensors.\n",
      "I0000 00:00:1745955902.206306 9204014 gl_context.cc:369] GL version: 2.1 (2.1 ATI-5.2.4), renderer: AMD Radeon Pro 5500M OpenGL Engine\n",
      "W0000 00:00:1745955902.210837 9204014 face_landmarker_graph.cc:174] Sets FaceBlendshapesGraph acceleration to xnnpack by default.\n",
      "W0000 00:00:1745955902.225521 9205628 inference_feedback_manager.cc:114] Feedback manager requires a model with a single signature inference. Disabling support for feedback tensors.\n",
      "W0000 00:00:1745955902.241482 9205639 inference_feedback_manager.cc:114] Feedback manager requires a model with a single signature inference. Disabling support for feedback tensors.\n",
      "I0000 00:00:1745955915.238724 9204014 gl_context.cc:369] GL version: 2.1 (2.1 ATI-5.2.4), renderer: AMD Radeon Pro 5500M OpenGL Engine\n",
      "W0000 00:00:1745955915.421516 9205940 inference_feedback_manager.cc:114] Feedback manager requires a model with a single signature inference. Disabling support for feedback tensors.\n",
      "W0000 00:00:1745955915.476339 9205940 inference_feedback_manager.cc:114] Feedback manager requires a model with a single signature inference. Disabling support for feedback tensors.\n",
      " 17%|████████████████████████████████████▊                                                                                                                                                                                        | 1/6 [00:40<03:20, 40.05s/it]I0000 00:00:1745955918.957567 9204014 gl_context.cc:369] GL version: 2.1 (2.1 ATI-5.2.4), renderer: AMD Radeon Pro 5500M OpenGL Engine\n",
      "W0000 00:00:1745955918.962541 9206045 inference_feedback_manager.cc:114] Feedback manager requires a model with a single signature inference. Disabling support for feedback tensors.\n",
      "W0000 00:00:1745955918.979058 9206041 inference_feedback_manager.cc:114] Feedback manager requires a model with a single signature inference. Disabling support for feedback tensors.\n",
      "I0000 00:00:1745955919.190769 9204014 gl_context.cc:369] GL version: 2.1 (2.1 ATI-5.2.4), renderer: AMD Radeon Pro 5500M OpenGL Engine\n",
      "W0000 00:00:1745955919.195338 9206062 inference_feedback_manager.cc:114] Feedback manager requires a model with a single signature inference. Disabling support for feedback tensors.\n",
      "W0000 00:00:1745955919.212664 9206067 inference_feedback_manager.cc:114] Feedback manager requires a model with a single signature inference. Disabling support for feedback tensors.\n",
      "I0000 00:00:1745955919.442038 9204014 gl_context.cc:369] GL version: 2.1 (2.1 ATI-5.2.4), renderer: AMD Radeon Pro 5500M OpenGL Engine\n",
      "W0000 00:00:1745955919.447743 9206086 inference_feedback_manager.cc:114] Feedback manager requires a model with a single signature inference. Disabling support for feedback tensors.\n",
      "W0000 00:00:1745955919.467103 9206090 inference_feedback_manager.cc:114] Feedback manager requires a model with a single signature inference. Disabling support for feedback tensors.\n",
      "I0000 00:00:1745955919.670873 9204014 gl_context.cc:369] GL version: 2.1 (2.1 ATI-5.2.4), renderer: AMD Radeon Pro 5500M OpenGL Engine\n",
      "W0000 00:00:1745955919.675589 9206108 inference_feedback_manager.cc:114] Feedback manager requires a model with a single signature inference. Disabling support for feedback tensors.\n",
      "W0000 00:00:1745955919.691841 9206114 inference_feedback_manager.cc:114] Feedback manager requires a model with a single signature inference. Disabling support for feedback tensors.\n",
      "I0000 00:00:1745955919.896565 9204014 gl_context.cc:369] GL version: 2.1 (2.1 ATI-5.2.4), renderer: AMD Radeon Pro 5500M OpenGL Engine\n",
      "W0000 00:00:1745955919.901571 9206128 inference_feedback_manager.cc:114] Feedback manager requires a model with a single signature inference. Disabling support for feedback tensors.\n",
      "W0000 00:00:1745955919.919371 9206132 inference_feedback_manager.cc:114] Feedback manager requires a model with a single signature inference. Disabling support for feedback tensors.\n",
      "I0000 00:00:1745955920.123718 9204014 gl_context.cc:369] GL version: 2.1 (2.1 ATI-5.2.4), renderer: AMD Radeon Pro 5500M OpenGL Engine\n",
      "W0000 00:00:1745955920.128578 9206150 inference_feedback_manager.cc:114] Feedback manager requires a model with a single signature inference. Disabling support for feedback tensors.\n",
      "W0000 00:00:1745955920.144650 9206149 inference_feedback_manager.cc:114] Feedback manager requires a model with a single signature inference. Disabling support for feedback tensors.\n",
      "I0000 00:00:1745955920.325436 9204014 gl_context.cc:369] GL version: 2.1 (2.1 ATI-5.2.4), renderer: AMD Radeon Pro 5500M OpenGL Engine\n",
      "W0000 00:00:1745955920.330061 9206173 inference_feedback_manager.cc:114] Feedback manager requires a model with a single signature inference. Disabling support for feedback tensors.\n",
      "W0000 00:00:1745955920.348863 9206177 inference_feedback_manager.cc:114] Feedback manager requires a model with a single signature inference. Disabling support for feedback tensors.\n",
      "I0000 00:00:1745955920.556670 9204014 gl_context.cc:369] GL version: 2.1 (2.1 ATI-5.2.4), renderer: AMD Radeon Pro 5500M OpenGL Engine\n",
      "W0000 00:00:1745955920.561573 9206190 inference_feedback_manager.cc:114] Feedback manager requires a model with a single signature inference. Disabling support for feedback tensors.\n",
      "W0000 00:00:1745955920.581019 9206189 inference_feedback_manager.cc:114] Feedback manager requires a model with a single signature inference. Disabling support for feedback tensors.\n",
      "I0000 00:00:1745955920.799335 9204014 gl_context.cc:369] GL version: 2.1 (2.1 ATI-5.2.4), renderer: AMD Radeon Pro 5500M OpenGL Engine\n",
      "W0000 00:00:1745955920.803828 9206208 inference_feedback_manager.cc:114] Feedback manager requires a model with a single signature inference. Disabling support for feedback tensors.\n",
      "W0000 00:00:1745955920.819702 9206209 inference_feedback_manager.cc:114] Feedback manager requires a model with a single signature inference. Disabling support for feedback tensors.\n",
      "I0000 00:00:1745955921.050261 9204014 gl_context.cc:369] GL version: 2.1 (2.1 ATI-5.2.4), renderer: AMD Radeon Pro 5500M OpenGL Engine\n",
      "W0000 00:00:1745955921.055767 9206225 inference_feedback_manager.cc:114] Feedback manager requires a model with a single signature inference. Disabling support for feedback tensors.\n",
      "W0000 00:00:1745955921.074413 9206224 inference_feedback_manager.cc:114] Feedback manager requires a model with a single signature inference. Disabling support for feedback tensors.\n",
      "I0000 00:00:1745955921.280811 9204014 gl_context.cc:369] GL version: 2.1 (2.1 ATI-5.2.4), renderer: AMD Radeon Pro 5500M OpenGL Engine\n",
      "W0000 00:00:1745955921.393112 9206247 inference_feedback_manager.cc:114] Feedback manager requires a model with a single signature inference. Disabling support for feedback tensors.\n",
      "W0000 00:00:1745955921.433490 9206247 inference_feedback_manager.cc:114] Feedback manager requires a model with a single signature inference. Disabling support for feedback tensors.\n",
      "I0000 00:00:1745955921.803628 9204014 gl_context.cc:369] GL version: 2.1 (2.1 ATI-5.2.4), renderer: AMD Radeon Pro 5500M OpenGL Engine\n",
      "W0000 00:00:1745955921.963736 9206262 inference_feedback_manager.cc:114] Feedback manager requires a model with a single signature inference. Disabling support for feedback tensors.\n",
      "W0000 00:00:1745955922.005278 9206262 inference_feedback_manager.cc:114] Feedback manager requires a model with a single signature inference. Disabling support for feedback tensors.\n",
      "I0000 00:00:1745955922.312356 9204014 gl_context.cc:369] GL version: 2.1 (2.1 ATI-5.2.4), renderer: AMD Radeon Pro 5500M OpenGL Engine\n",
      "W0000 00:00:1745955922.437555 9206291 inference_feedback_manager.cc:114] Feedback manager requires a model with a single signature inference. Disabling support for feedback tensors.\n",
      "W0000 00:00:1745955922.474172 9206291 inference_feedback_manager.cc:114] Feedback manager requires a model with a single signature inference. Disabling support for feedback tensors.\n",
      "I0000 00:00:1745955922.775206 9204014 gl_context.cc:369] GL version: 2.1 (2.1 ATI-5.2.4), renderer: AMD Radeon Pro 5500M OpenGL Engine\n",
      "W0000 00:00:1745955922.914032 9206307 inference_feedback_manager.cc:114] Feedback manager requires a model with a single signature inference. Disabling support for feedback tensors.\n",
      "W0000 00:00:1745955922.961731 9206316 inference_feedback_manager.cc:114] Feedback manager requires a model with a single signature inference. Disabling support for feedback tensors.\n",
      "I0000 00:00:1745955923.261290 9204014 gl_context.cc:369] GL version: 2.1 (2.1 ATI-5.2.4), renderer: AMD Radeon Pro 5500M OpenGL Engine\n",
      "W0000 00:00:1745955923.390839 9206325 inference_feedback_manager.cc:114] Feedback manager requires a model with a single signature inference. Disabling support for feedback tensors.\n",
      "W0000 00:00:1745955923.429005 9206325 inference_feedback_manager.cc:114] Feedback manager requires a model with a single signature inference. Disabling support for feedback tensors.\n",
      "I0000 00:00:1745955923.718599 9204014 gl_context.cc:369] GL version: 2.1 (2.1 ATI-5.2.4), renderer: AMD Radeon Pro 5500M OpenGL Engine\n",
      "W0000 00:00:1745955923.842165 9206350 inference_feedback_manager.cc:114] Feedback manager requires a model with a single signature inference. Disabling support for feedback tensors.\n",
      "W0000 00:00:1745955923.879704 9206350 inference_feedback_manager.cc:114] Feedback manager requires a model with a single signature inference. Disabling support for feedback tensors.\n",
      "I0000 00:00:1745955924.178975 9204014 gl_context.cc:369] GL version: 2.1 (2.1 ATI-5.2.4), renderer: AMD Radeon Pro 5500M OpenGL Engine\n",
      "W0000 00:00:1745955924.301219 9206371 inference_feedback_manager.cc:114] Feedback manager requires a model with a single signature inference. Disabling support for feedback tensors.\n",
      "W0000 00:00:1745955924.333665 9206371 inference_feedback_manager.cc:114] Feedback manager requires a model with a single signature inference. Disabling support for feedback tensors.\n",
      "I0000 00:00:1745955924.609934 9204014 gl_context.cc:369] GL version: 2.1 (2.1 ATI-5.2.4), renderer: AMD Radeon Pro 5500M OpenGL Engine\n",
      "W0000 00:00:1745955924.720896 9206414 inference_feedback_manager.cc:114] Feedback manager requires a model with a single signature inference. Disabling support for feedback tensors.\n",
      "W0000 00:00:1745955924.755818 9206418 inference_feedback_manager.cc:114] Feedback manager requires a model with a single signature inference. Disabling support for feedback tensors.\n",
      "I0000 00:00:1745955925.039793 9204014 gl_context.cc:369] GL version: 2.1 (2.1 ATI-5.2.4), renderer: AMD Radeon Pro 5500M OpenGL Engine\n",
      "W0000 00:00:1745955925.162043 9206429 inference_feedback_manager.cc:114] Feedback manager requires a model with a single signature inference. Disabling support for feedback tensors.\n",
      "W0000 00:00:1745955925.196074 9206438 inference_feedback_manager.cc:114] Feedback manager requires a model with a single signature inference. Disabling support for feedback tensors.\n",
      "I0000 00:00:1745955925.499842 9204014 gl_context.cc:369] GL version: 2.1 (2.1 ATI-5.2.4), renderer: AMD Radeon Pro 5500M OpenGL Engine\n",
      "W0000 00:00:1745955925.624369 9206458 inference_feedback_manager.cc:114] Feedback manager requires a model with a single signature inference. Disabling support for feedback tensors.\n",
      "W0000 00:00:1745955925.661678 9206458 inference_feedback_manager.cc:114] Feedback manager requires a model with a single signature inference. Disabling support for feedback tensors.\n",
      "I0000 00:00:1745955925.946834 9204014 gl_context.cc:369] GL version: 2.1 (2.1 ATI-5.2.4), renderer: AMD Radeon Pro 5500M OpenGL Engine\n",
      "W0000 00:00:1745955926.095990 9206483 inference_feedback_manager.cc:114] Feedback manager requires a model with a single signature inference. Disabling support for feedback tensors.\n",
      "W0000 00:00:1745955926.138121 9206492 inference_feedback_manager.cc:114] Feedback manager requires a model with a single signature inference. Disabling support for feedback tensors.\n",
      "I0000 00:00:1745955939.736745 9204014 gl_context.cc:369] GL version: 2.1 (2.1 ATI-5.2.4), renderer: AMD Radeon Pro 5500M OpenGL Engine\n",
      "W0000 00:00:1745955939.737652 9204014 face_landmarker_graph.cc:174] Sets FaceBlendshapesGraph acceleration to xnnpack by default.\n",
      "W0000 00:00:1745955939.745726 9206847 inference_feedback_manager.cc:114] Feedback manager requires a model with a single signature inference. Disabling support for feedback tensors.\n",
      "W0000 00:00:1745955939.761780 9206847 inference_feedback_manager.cc:114] Feedback manager requires a model with a single signature inference. Disabling support for feedback tensors.\n",
      " 33%|█████████████████████████████████████████████████████████████████████████▋                                                                                                                                                   | 2/6 [01:11<02:20, 35.18s/it]I0000 00:00:1745955951.175204 9204014 gl_context.cc:369] GL version: 2.1 (2.1 ATI-5.2.4), renderer: AMD Radeon Pro 5500M OpenGL Engine\n",
      "W0000 00:00:1745955951.179682 9207036 inference_feedback_manager.cc:114] Feedback manager requires a model with a single signature inference. Disabling support for feedback tensors.\n",
      "W0000 00:00:1745955951.197831 9207031 inference_feedback_manager.cc:114] Feedback manager requires a model with a single signature inference. Disabling support for feedback tensors.\n",
      "I0000 00:00:1745955951.464308 9204014 gl_context.cc:369] GL version: 2.1 (2.1 ATI-5.2.4), renderer: AMD Radeon Pro 5500M OpenGL Engine\n",
      "W0000 00:00:1745955951.469346 9207070 inference_feedback_manager.cc:114] Feedback manager requires a model with a single signature inference. Disabling support for feedback tensors.\n",
      "W0000 00:00:1745955951.488708 9207069 inference_feedback_manager.cc:114] Feedback manager requires a model with a single signature inference. Disabling support for feedback tensors.\n",
      "I0000 00:00:1745955951.696366 9204014 gl_context.cc:369] GL version: 2.1 (2.1 ATI-5.2.4), renderer: AMD Radeon Pro 5500M OpenGL Engine\n",
      "W0000 00:00:1745955951.701111 9207083 inference_feedback_manager.cc:114] Feedback manager requires a model with a single signature inference. Disabling support for feedback tensors.\n",
      "W0000 00:00:1745955951.718059 9207082 inference_feedback_manager.cc:114] Feedback manager requires a model with a single signature inference. Disabling support for feedback tensors.\n",
      "I0000 00:00:1745955951.886017 9204014 gl_context.cc:369] GL version: 2.1 (2.1 ATI-5.2.4), renderer: AMD Radeon Pro 5500M OpenGL Engine\n",
      "W0000 00:00:1745955951.890339 9207098 inference_feedback_manager.cc:114] Feedback manager requires a model with a single signature inference. Disabling support for feedback tensors.\n",
      "W0000 00:00:1745955951.908231 9207102 inference_feedback_manager.cc:114] Feedback manager requires a model with a single signature inference. Disabling support for feedback tensors.\n",
      "I0000 00:00:1745955952.076640 9204014 gl_context.cc:369] GL version: 2.1 (2.1 ATI-5.2.4), renderer: AMD Radeon Pro 5500M OpenGL Engine\n",
      "W0000 00:00:1745955952.080568 9207116 inference_feedback_manager.cc:114] Feedback manager requires a model with a single signature inference. Disabling support for feedback tensors.\n",
      "W0000 00:00:1745955952.096887 9207118 inference_feedback_manager.cc:114] Feedback manager requires a model with a single signature inference. Disabling support for feedback tensors.\n",
      "I0000 00:00:1745955952.278399 9204014 gl_context.cc:369] GL version: 2.1 (2.1 ATI-5.2.4), renderer: AMD Radeon Pro 5500M OpenGL Engine\n",
      "W0000 00:00:1745955952.285153 9207135 inference_feedback_manager.cc:114] Feedback manager requires a model with a single signature inference. Disabling support for feedback tensors.\n",
      "W0000 00:00:1745955952.302418 9207135 inference_feedback_manager.cc:114] Feedback manager requires a model with a single signature inference. Disabling support for feedback tensors.\n",
      "I0000 00:00:1745955952.465924 9204014 gl_context.cc:369] GL version: 2.1 (2.1 ATI-5.2.4), renderer: AMD Radeon Pro 5500M OpenGL Engine\n",
      "W0000 00:00:1745955952.470004 9207154 inference_feedback_manager.cc:114] Feedback manager requires a model with a single signature inference. Disabling support for feedback tensors.\n",
      "W0000 00:00:1745955952.487515 9207157 inference_feedback_manager.cc:114] Feedback manager requires a model with a single signature inference. Disabling support for feedback tensors.\n",
      "I0000 00:00:1745955952.653126 9204014 gl_context.cc:369] GL version: 2.1 (2.1 ATI-5.2.4), renderer: AMD Radeon Pro 5500M OpenGL Engine\n",
      "W0000 00:00:1745955952.658392 9207174 inference_feedback_manager.cc:114] Feedback manager requires a model with a single signature inference. Disabling support for feedback tensors.\n",
      "W0000 00:00:1745955952.679192 9207174 inference_feedback_manager.cc:114] Feedback manager requires a model with a single signature inference. Disabling support for feedback tensors.\n",
      "I0000 00:00:1745955952.844392 9204014 gl_context.cc:369] GL version: 2.1 (2.1 ATI-5.2.4), renderer: AMD Radeon Pro 5500M OpenGL Engine\n",
      "W0000 00:00:1745955952.848438 9207186 inference_feedback_manager.cc:114] Feedback manager requires a model with a single signature inference. Disabling support for feedback tensors.\n",
      "W0000 00:00:1745955952.868215 9207189 inference_feedback_manager.cc:114] Feedback manager requires a model with a single signature inference. Disabling support for feedback tensors.\n",
      "I0000 00:00:1745955953.047098 9204014 gl_context.cc:369] GL version: 2.1 (2.1 ATI-5.2.4), renderer: AMD Radeon Pro 5500M OpenGL Engine\n",
      "W0000 00:00:1745955953.051271 9207207 inference_feedback_manager.cc:114] Feedback manager requires a model with a single signature inference. Disabling support for feedback tensors.\n",
      "W0000 00:00:1745955953.065959 9207208 inference_feedback_manager.cc:114] Feedback manager requires a model with a single signature inference. Disabling support for feedback tensors.\n",
      "I0000 00:00:1745955953.233892 9204014 gl_context.cc:369] GL version: 2.1 (2.1 ATI-5.2.4), renderer: AMD Radeon Pro 5500M OpenGL Engine\n",
      "W0000 00:00:1745955953.339572 9207222 inference_feedback_manager.cc:114] Feedback manager requires a model with a single signature inference. Disabling support for feedback tensors.\n",
      "W0000 00:00:1745955953.375536 9207224 inference_feedback_manager.cc:114] Feedback manager requires a model with a single signature inference. Disabling support for feedback tensors.\n",
      "I0000 00:00:1745955953.626603 9204014 gl_context.cc:369] GL version: 2.1 (2.1 ATI-5.2.4), renderer: AMD Radeon Pro 5500M OpenGL Engine\n",
      "W0000 00:00:1745955953.729688 9207244 inference_feedback_manager.cc:114] Feedback manager requires a model with a single signature inference. Disabling support for feedback tensors.\n",
      "W0000 00:00:1745955953.761671 9207252 inference_feedback_manager.cc:114] Feedback manager requires a model with a single signature inference. Disabling support for feedback tensors.\n",
      "I0000 00:00:1745955954.014429 9204014 gl_context.cc:369] GL version: 2.1 (2.1 ATI-5.2.4), renderer: AMD Radeon Pro 5500M OpenGL Engine\n",
      "W0000 00:00:1745955954.118893 9207263 inference_feedback_manager.cc:114] Feedback manager requires a model with a single signature inference. Disabling support for feedback tensors.\n",
      "W0000 00:00:1745955954.153478 9207263 inference_feedback_manager.cc:114] Feedback manager requires a model with a single signature inference. Disabling support for feedback tensors.\n",
      "I0000 00:00:1745955954.425933 9204014 gl_context.cc:369] GL version: 2.1 (2.1 ATI-5.2.4), renderer: AMD Radeon Pro 5500M OpenGL Engine\n",
      "W0000 00:00:1745955954.527672 9207290 inference_feedback_manager.cc:114] Feedback manager requires a model with a single signature inference. Disabling support for feedback tensors.\n",
      "W0000 00:00:1745955954.555685 9207290 inference_feedback_manager.cc:114] Feedback manager requires a model with a single signature inference. Disabling support for feedback tensors.\n",
      "I0000 00:00:1745955954.799883 9204014 gl_context.cc:369] GL version: 2.1 (2.1 ATI-5.2.4), renderer: AMD Radeon Pro 5500M OpenGL Engine\n",
      "W0000 00:00:1745955954.905090 9207307 inference_feedback_manager.cc:114] Feedback manager requires a model with a single signature inference. Disabling support for feedback tensors.\n",
      "W0000 00:00:1745955954.937982 9207307 inference_feedback_manager.cc:114] Feedback manager requires a model with a single signature inference. Disabling support for feedback tensors.\n",
      "I0000 00:00:1745955955.203510 9204014 gl_context.cc:369] GL version: 2.1 (2.1 ATI-5.2.4), renderer: AMD Radeon Pro 5500M OpenGL Engine\n",
      "W0000 00:00:1745955955.309367 9207324 inference_feedback_manager.cc:114] Feedback manager requires a model with a single signature inference. Disabling support for feedback tensors.\n",
      "W0000 00:00:1745955955.341793 9207324 inference_feedback_manager.cc:114] Feedback manager requires a model with a single signature inference. Disabling support for feedback tensors.\n",
      "I0000 00:00:1745955955.618125 9204014 gl_context.cc:369] GL version: 2.1 (2.1 ATI-5.2.4), renderer: AMD Radeon Pro 5500M OpenGL Engine\n",
      "W0000 00:00:1745955955.731251 9207350 inference_feedback_manager.cc:114] Feedback manager requires a model with a single signature inference. Disabling support for feedback tensors.\n",
      "W0000 00:00:1745955955.761789 9207357 inference_feedback_manager.cc:114] Feedback manager requires a model with a single signature inference. Disabling support for feedback tensors.\n",
      "I0000 00:00:1745955956.017971 9204014 gl_context.cc:369] GL version: 2.1 (2.1 ATI-5.2.4), renderer: AMD Radeon Pro 5500M OpenGL Engine\n",
      "W0000 00:00:1745955956.131239 9207370 inference_feedback_manager.cc:114] Feedback manager requires a model with a single signature inference. Disabling support for feedback tensors.\n",
      "W0000 00:00:1745955956.160585 9207370 inference_feedback_manager.cc:114] Feedback manager requires a model with a single signature inference. Disabling support for feedback tensors.\n",
      "I0000 00:00:1745955956.427117 9204014 gl_context.cc:369] GL version: 2.1 (2.1 ATI-5.2.4), renderer: AMD Radeon Pro 5500M OpenGL Engine\n",
      "W0000 00:00:1745955956.530799 9207401 inference_feedback_manager.cc:114] Feedback manager requires a model with a single signature inference. Disabling support for feedback tensors.\n",
      "W0000 00:00:1745955956.561832 9207412 inference_feedback_manager.cc:114] Feedback manager requires a model with a single signature inference. Disabling support for feedback tensors.\n",
      "I0000 00:00:1745955956.821411 9204014 gl_context.cc:369] GL version: 2.1 (2.1 ATI-5.2.4), renderer: AMD Radeon Pro 5500M OpenGL Engine\n",
      "W0000 00:00:1745955956.933625 9207418 inference_feedback_manager.cc:114] Feedback manager requires a model with a single signature inference. Disabling support for feedback tensors.\n",
      "W0000 00:00:1745955956.967886 9207427 inference_feedback_manager.cc:114] Feedback manager requires a model with a single signature inference. Disabling support for feedback tensors.\n",
      "I0000 00:00:1745955957.253129 9204014 gl_context.cc:369] GL version: 2.1 (2.1 ATI-5.2.4), renderer: AMD Radeon Pro 5500M OpenGL Engine\n",
      "W0000 00:00:1745955957.396476 9207446 inference_feedback_manager.cc:114] Feedback manager requires a model with a single signature inference. Disabling support for feedback tensors.\n",
      "W0000 00:00:1745955957.430122 9207451 inference_feedback_manager.cc:114] Feedback manager requires a model with a single signature inference. Disabling support for feedback tensors.\n",
      "I0000 00:00:1745955969.949620 9204014 gl_context.cc:369] GL version: 2.1 (2.1 ATI-5.2.4), renderer: AMD Radeon Pro 5500M OpenGL Engine\n",
      "W0000 00:00:1745955969.950311 9204014 face_landmarker_graph.cc:174] Sets FaceBlendshapesGraph acceleration to xnnpack by default.\n",
      "W0000 00:00:1745955969.959640 9207671 inference_feedback_manager.cc:114] Feedback manager requires a model with a single signature inference. Disabling support for feedback tensors.\n",
      "W0000 00:00:1745955969.976910 9207671 inference_feedback_manager.cc:114] Feedback manager requires a model with a single signature inference. Disabling support for feedback tensors.\n",
      " 50%|██████████████████████████████████████████████████████████████████████████████████████████████████████████████▌                                                                                                              | 3/6 [01:42<01:38, 32.98s/it]"
     ]
    },
    {
     "name": "stdout",
     "output_type": "stream",
     "text": [
      "max() arg is an empty sequence\n",
      "max() arg is an empty sequence\n",
      "max() arg is an empty sequence\n",
      "max() arg is an empty sequence\n",
      "max() arg is an empty sequence\n",
      "max() arg is an empty sequence\n"
     ]
    },
    {
     "name": "stderr",
     "output_type": "stream",
     "text": [
      "I0000 00:00:1745955980.159486 9204014 gl_context.cc:369] GL version: 2.1 (2.1 ATI-5.2.4), renderer: AMD Radeon Pro 5500M OpenGL Engine\n",
      "W0000 00:00:1745955980.164842 9207869 inference_feedback_manager.cc:114] Feedback manager requires a model with a single signature inference. Disabling support for feedback tensors.\n",
      "W0000 00:00:1745955980.182492 9207872 inference_feedback_manager.cc:114] Feedback manager requires a model with a single signature inference. Disabling support for feedback tensors.\n",
      "I0000 00:00:1745955980.391545 9204014 gl_context.cc:369] GL version: 2.1 (2.1 ATI-5.2.4), renderer: AMD Radeon Pro 5500M OpenGL Engine\n",
      "W0000 00:00:1745955980.400435 9207908 inference_feedback_manager.cc:114] Feedback manager requires a model with a single signature inference. Disabling support for feedback tensors.\n",
      "W0000 00:00:1745955980.416907 9207907 inference_feedback_manager.cc:114] Feedback manager requires a model with a single signature inference. Disabling support for feedback tensors.\n",
      "I0000 00:00:1745955980.611104 9204014 gl_context.cc:369] GL version: 2.1 (2.1 ATI-5.2.4), renderer: AMD Radeon Pro 5500M OpenGL Engine\n",
      "W0000 00:00:1745955980.615231 9207923 inference_feedback_manager.cc:114] Feedback manager requires a model with a single signature inference. Disabling support for feedback tensors.\n",
      "W0000 00:00:1745955980.634389 9207924 inference_feedback_manager.cc:114] Feedback manager requires a model with a single signature inference. Disabling support for feedback tensors.\n",
      "I0000 00:00:1745955980.827286 9204014 gl_context.cc:369] GL version: 2.1 (2.1 ATI-5.2.4), renderer: AMD Radeon Pro 5500M OpenGL Engine\n",
      "W0000 00:00:1745955980.832260 9207940 inference_feedback_manager.cc:114] Feedback manager requires a model with a single signature inference. Disabling support for feedback tensors.\n",
      "W0000 00:00:1745955980.848785 9207941 inference_feedback_manager.cc:114] Feedback manager requires a model with a single signature inference. Disabling support for feedback tensors.\n",
      "I0000 00:00:1745955981.033693 9204014 gl_context.cc:369] GL version: 2.1 (2.1 ATI-5.2.4), renderer: AMD Radeon Pro 5500M OpenGL Engine\n",
      "W0000 00:00:1745955981.038590 9207955 inference_feedback_manager.cc:114] Feedback manager requires a model with a single signature inference. Disabling support for feedback tensors.\n",
      "W0000 00:00:1745955981.054640 9207959 inference_feedback_manager.cc:114] Feedback manager requires a model with a single signature inference. Disabling support for feedback tensors.\n",
      "I0000 00:00:1745955981.251782 9204014 gl_context.cc:369] GL version: 2.1 (2.1 ATI-5.2.4), renderer: AMD Radeon Pro 5500M OpenGL Engine\n",
      "W0000 00:00:1745955981.256121 9207974 inference_feedback_manager.cc:114] Feedback manager requires a model with a single signature inference. Disabling support for feedback tensors.\n",
      "W0000 00:00:1745955981.276442 9207978 inference_feedback_manager.cc:114] Feedback manager requires a model with a single signature inference. Disabling support for feedback tensors.\n",
      "I0000 00:00:1745955981.456326 9204014 gl_context.cc:369] GL version: 2.1 (2.1 ATI-5.2.4), renderer: AMD Radeon Pro 5500M OpenGL Engine\n",
      "W0000 00:00:1745955981.463725 9208002 inference_feedback_manager.cc:114] Feedback manager requires a model with a single signature inference. Disabling support for feedback tensors.\n",
      "W0000 00:00:1745955981.483039 9208010 inference_feedback_manager.cc:114] Feedback manager requires a model with a single signature inference. Disabling support for feedback tensors.\n",
      "I0000 00:00:1745955981.688036 9204014 gl_context.cc:369] GL version: 2.1 (2.1 ATI-5.2.4), renderer: AMD Radeon Pro 5500M OpenGL Engine\n",
      "W0000 00:00:1745955981.694357 9208018 inference_feedback_manager.cc:114] Feedback manager requires a model with a single signature inference. Disabling support for feedback tensors.\n",
      "W0000 00:00:1745955981.713354 9208017 inference_feedback_manager.cc:114] Feedback manager requires a model with a single signature inference. Disabling support for feedback tensors.\n",
      "I0000 00:00:1745955982.004808 9204014 gl_context.cc:369] GL version: 2.1 (2.1 ATI-5.2.4), renderer: AMD Radeon Pro 5500M OpenGL Engine\n",
      "W0000 00:00:1745955982.010744 9208032 inference_feedback_manager.cc:114] Feedback manager requires a model with a single signature inference. Disabling support for feedback tensors.\n",
      "W0000 00:00:1745955982.034487 9208037 inference_feedback_manager.cc:114] Feedback manager requires a model with a single signature inference. Disabling support for feedback tensors.\n",
      "I0000 00:00:1745955982.117669 9204014 gl_context.cc:369] GL version: 2.1 (2.1 ATI-5.2.4), renderer: AMD Radeon Pro 5500M OpenGL Engine\n",
      "W0000 00:00:1745955982.122258 9208048 inference_feedback_manager.cc:114] Feedback manager requires a model with a single signature inference. Disabling support for feedback tensors.\n",
      "W0000 00:00:1745955982.147624 9208049 inference_feedback_manager.cc:114] Feedback manager requires a model with a single signature inference. Disabling support for feedback tensors.\n",
      "I0000 00:00:1745955982.387355 9204014 gl_context.cc:369] GL version: 2.1 (2.1 ATI-5.2.4), renderer: AMD Radeon Pro 5500M OpenGL Engine\n",
      "W0000 00:00:1745955982.491702 9208075 inference_feedback_manager.cc:114] Feedback manager requires a model with a single signature inference. Disabling support for feedback tensors.\n",
      "W0000 00:00:1745955982.554063 9208075 inference_feedback_manager.cc:114] Feedback manager requires a model with a single signature inference. Disabling support for feedback tensors.\n",
      "I0000 00:00:1745955982.850516 9204014 gl_context.cc:369] GL version: 2.1 (2.1 ATI-5.2.4), renderer: AMD Radeon Pro 5500M OpenGL Engine\n",
      "W0000 00:00:1745955982.952558 9208092 inference_feedback_manager.cc:114] Feedback manager requires a model with a single signature inference. Disabling support for feedback tensors.\n",
      "W0000 00:00:1745955982.991232 9208092 inference_feedback_manager.cc:114] Feedback manager requires a model with a single signature inference. Disabling support for feedback tensors.\n",
      "I0000 00:00:1745955983.271183 9204014 gl_context.cc:369] GL version: 2.1 (2.1 ATI-5.2.4), renderer: AMD Radeon Pro 5500M OpenGL Engine\n",
      "W0000 00:00:1745955983.390317 9208114 inference_feedback_manager.cc:114] Feedback manager requires a model with a single signature inference. Disabling support for feedback tensors.\n",
      "W0000 00:00:1745955983.425516 9208114 inference_feedback_manager.cc:114] Feedback manager requires a model with a single signature inference. Disabling support for feedback tensors.\n",
      "I0000 00:00:1745955983.736979 9204014 gl_context.cc:369] GL version: 2.1 (2.1 ATI-5.2.4), renderer: AMD Radeon Pro 5500M OpenGL Engine\n",
      "W0000 00:00:1745955983.851726 9208137 inference_feedback_manager.cc:114] Feedback manager requires a model with a single signature inference. Disabling support for feedback tensors.\n",
      "W0000 00:00:1745955983.884941 9208137 inference_feedback_manager.cc:114] Feedback manager requires a model with a single signature inference. Disabling support for feedback tensors.\n",
      "I0000 00:00:1745955984.151216 9204014 gl_context.cc:369] GL version: 2.1 (2.1 ATI-5.2.4), renderer: AMD Radeon Pro 5500M OpenGL Engine\n",
      "W0000 00:00:1745955984.260849 9208161 inference_feedback_manager.cc:114] Feedback manager requires a model with a single signature inference. Disabling support for feedback tensors.\n",
      "W0000 00:00:1745955984.294470 9208161 inference_feedback_manager.cc:114] Feedback manager requires a model with a single signature inference. Disabling support for feedback tensors.\n",
      "I0000 00:00:1745955984.568838 9204014 gl_context.cc:369] GL version: 2.1 (2.1 ATI-5.2.4), renderer: AMD Radeon Pro 5500M OpenGL Engine\n",
      "W0000 00:00:1745955984.676025 9208183 inference_feedback_manager.cc:114] Feedback manager requires a model with a single signature inference. Disabling support for feedback tensors.\n",
      "W0000 00:00:1745955984.710011 9208183 inference_feedback_manager.cc:114] Feedback manager requires a model with a single signature inference. Disabling support for feedback tensors.\n",
      "I0000 00:00:1745955984.985096 9204014 gl_context.cc:369] GL version: 2.1 (2.1 ATI-5.2.4), renderer: AMD Radeon Pro 5500M OpenGL Engine\n",
      "W0000 00:00:1745955985.091768 9208203 inference_feedback_manager.cc:114] Feedback manager requires a model with a single signature inference. Disabling support for feedback tensors.\n",
      "W0000 00:00:1745955985.126103 9208203 inference_feedback_manager.cc:114] Feedback manager requires a model with a single signature inference. Disabling support for feedback tensors.\n",
      "I0000 00:00:1745955985.397964 9204014 gl_context.cc:369] GL version: 2.1 (2.1 ATI-5.2.4), renderer: AMD Radeon Pro 5500M OpenGL Engine\n",
      "W0000 00:00:1745955985.504344 9208235 inference_feedback_manager.cc:114] Feedback manager requires a model with a single signature inference. Disabling support for feedback tensors.\n",
      "W0000 00:00:1745955985.535343 9208235 inference_feedback_manager.cc:114] Feedback manager requires a model with a single signature inference. Disabling support for feedback tensors.\n",
      "I0000 00:00:1745955985.801658 9204014 gl_context.cc:369] GL version: 2.1 (2.1 ATI-5.2.4), renderer: AMD Radeon Pro 5500M OpenGL Engine\n",
      "W0000 00:00:1745955985.910777 9208253 inference_feedback_manager.cc:114] Feedback manager requires a model with a single signature inference. Disabling support for feedback tensors.\n",
      "W0000 00:00:1745955985.942905 9208253 inference_feedback_manager.cc:114] Feedback manager requires a model with a single signature inference. Disabling support for feedback tensors.\n",
      "I0000 00:00:1745955986.198421 9204014 gl_context.cc:369] GL version: 2.1 (2.1 ATI-5.2.4), renderer: AMD Radeon Pro 5500M OpenGL Engine\n",
      "W0000 00:00:1745955986.304022 9208278 inference_feedback_manager.cc:114] Feedback manager requires a model with a single signature inference. Disabling support for feedback tensors.\n",
      "W0000 00:00:1745955986.336447 9208278 inference_feedback_manager.cc:114] Feedback manager requires a model with a single signature inference. Disabling support for feedback tensors.\n",
      "I0000 00:00:1745955986.597848 9204014 gl_context.cc:369] GL version: 2.1 (2.1 ATI-5.2.4), renderer: AMD Radeon Pro 5500M OpenGL Engine\n",
      "W0000 00:00:1745955986.720661 9208301 inference_feedback_manager.cc:114] Feedback manager requires a model with a single signature inference. Disabling support for feedback tensors.\n",
      "W0000 00:00:1745955986.754644 9208301 inference_feedback_manager.cc:114] Feedback manager requires a model with a single signature inference. Disabling support for feedback tensors.\n",
      "I0000 00:00:1745955999.307196 9204014 gl_context.cc:369] GL version: 2.1 (2.1 ATI-5.2.4), renderer: AMD Radeon Pro 5500M OpenGL Engine\n",
      "W0000 00:00:1745955999.307919 9204014 face_landmarker_graph.cc:174] Sets FaceBlendshapesGraph acceleration to xnnpack by default.\n",
      "W0000 00:00:1745955999.317614 9208496 inference_feedback_manager.cc:114] Feedback manager requires a model with a single signature inference. Disabling support for feedback tensors.\n",
      "W0000 00:00:1745955999.334642 9208496 inference_feedback_manager.cc:114] Feedback manager requires a model with a single signature inference. Disabling support for feedback tensors.\n",
      " 67%|███████████████████████████████████████████████████████████████████████████████████████████████████████████████████████████████████████████████████▎                                                                         | 4/6 [02:07<00:59, 29.97s/it]"
     ]
    },
    {
     "name": "stdout",
     "output_type": "stream",
     "text": [
      "max() arg is an empty sequence\n",
      "max() arg is an empty sequence\n",
      "max() arg is an empty sequence\n",
      "max() arg is an empty sequence\n",
      "max() arg is an empty sequence\n",
      "max() arg is an empty sequence\n",
      "max() arg is an empty sequence\n",
      "max() arg is an empty sequence\n",
      "max() arg is an empty sequence\n",
      "max() arg is an empty sequence\n"
     ]
    },
    {
     "name": "stderr",
     "output_type": "stream",
     "text": [
      "I0000 00:00:1745956005.369642 9204014 gl_context.cc:369] GL version: 2.1 (2.1 ATI-5.2.4), renderer: AMD Radeon Pro 5500M OpenGL Engine\n",
      "W0000 00:00:1745956005.375053 9208627 inference_feedback_manager.cc:114] Feedback manager requires a model with a single signature inference. Disabling support for feedback tensors.\n",
      "W0000 00:00:1745956005.396623 9208626 inference_feedback_manager.cc:114] Feedback manager requires a model with a single signature inference. Disabling support for feedback tensors.\n",
      "I0000 00:00:1745956005.538583 9204014 gl_context.cc:369] GL version: 2.1 (2.1 ATI-5.2.4), renderer: AMD Radeon Pro 5500M OpenGL Engine\n",
      "W0000 00:00:1745956005.542366 9208657 inference_feedback_manager.cc:114] Feedback manager requires a model with a single signature inference. Disabling support for feedback tensors.\n",
      "W0000 00:00:1745956005.559059 9208657 inference_feedback_manager.cc:114] Feedback manager requires a model with a single signature inference. Disabling support for feedback tensors.\n",
      "I0000 00:00:1745956005.739511 9204014 gl_context.cc:369] GL version: 2.1 (2.1 ATI-5.2.4), renderer: AMD Radeon Pro 5500M OpenGL Engine\n",
      "W0000 00:00:1745956005.744165 9208669 inference_feedback_manager.cc:114] Feedback manager requires a model with a single signature inference. Disabling support for feedback tensors.\n",
      "W0000 00:00:1745956005.786378 9208672 inference_feedback_manager.cc:114] Feedback manager requires a model with a single signature inference. Disabling support for feedback tensors.\n",
      "I0000 00:00:1745956006.001313 9204014 gl_context.cc:369] GL version: 2.1 (2.1 ATI-5.2.4), renderer: AMD Radeon Pro 5500M OpenGL Engine\n",
      "W0000 00:00:1745956006.005959 9208689 inference_feedback_manager.cc:114] Feedback manager requires a model with a single signature inference. Disabling support for feedback tensors.\n",
      "W0000 00:00:1745956006.023581 9208685 inference_feedback_manager.cc:114] Feedback manager requires a model with a single signature inference. Disabling support for feedback tensors.\n",
      "I0000 00:00:1745956006.118825 9204014 gl_context.cc:369] GL version: 2.1 (2.1 ATI-5.2.4), renderer: AMD Radeon Pro 5500M OpenGL Engine\n",
      "W0000 00:00:1745956006.122407 9208705 inference_feedback_manager.cc:114] Feedback manager requires a model with a single signature inference. Disabling support for feedback tensors.\n",
      "W0000 00:00:1745956006.154989 9208704 inference_feedback_manager.cc:114] Feedback manager requires a model with a single signature inference. Disabling support for feedback tensors.\n",
      "I0000 00:00:1745956006.335766 9204014 gl_context.cc:369] GL version: 2.1 (2.1 ATI-5.2.4), renderer: AMD Radeon Pro 5500M OpenGL Engine\n",
      "W0000 00:00:1745956006.342211 9208725 inference_feedback_manager.cc:114] Feedback manager requires a model with a single signature inference. Disabling support for feedback tensors.\n",
      "W0000 00:00:1745956006.368391 9208725 inference_feedback_manager.cc:114] Feedback manager requires a model with a single signature inference. Disabling support for feedback tensors.\n",
      "I0000 00:00:1745956006.441892 9204014 gl_context.cc:369] GL version: 2.1 (2.1 ATI-5.2.4), renderer: AMD Radeon Pro 5500M OpenGL Engine\n",
      "W0000 00:00:1745956006.447732 9208752 inference_feedback_manager.cc:114] Feedback manager requires a model with a single signature inference. Disabling support for feedback tensors.\n",
      "W0000 00:00:1745956006.478112 9208752 inference_feedback_manager.cc:114] Feedback manager requires a model with a single signature inference. Disabling support for feedback tensors.\n",
      "I0000 00:00:1745956006.658972 9204014 gl_context.cc:369] GL version: 2.1 (2.1 ATI-5.2.4), renderer: AMD Radeon Pro 5500M OpenGL Engine\n",
      "W0000 00:00:1745956006.663209 9208762 inference_feedback_manager.cc:114] Feedback manager requires a model with a single signature inference. Disabling support for feedback tensors.\n",
      "W0000 00:00:1745956006.681122 9208764 inference_feedback_manager.cc:114] Feedback manager requires a model with a single signature inference. Disabling support for feedback tensors.\n",
      "I0000 00:00:1745956006.849112 9204014 gl_context.cc:369] GL version: 2.1 (2.1 ATI-5.2.4), renderer: AMD Radeon Pro 5500M OpenGL Engine\n",
      "W0000 00:00:1745956006.853166 9208778 inference_feedback_manager.cc:114] Feedback manager requires a model with a single signature inference. Disabling support for feedback tensors.\n",
      "W0000 00:00:1745956006.872816 9208777 inference_feedback_manager.cc:114] Feedback manager requires a model with a single signature inference. Disabling support for feedback tensors.\n",
      "I0000 00:00:1745956006.950036 9204014 gl_context.cc:369] GL version: 2.1 (2.1 ATI-5.2.4), renderer: AMD Radeon Pro 5500M OpenGL Engine\n",
      "W0000 00:00:1745956006.955344 9208798 inference_feedback_manager.cc:114] Feedback manager requires a model with a single signature inference. Disabling support for feedback tensors.\n",
      "W0000 00:00:1745956006.974128 9208798 inference_feedback_manager.cc:114] Feedback manager requires a model with a single signature inference. Disabling support for feedback tensors.\n",
      "I0000 00:00:1745956007.056622 9204014 gl_context.cc:369] GL version: 2.1 (2.1 ATI-5.2.4), renderer: AMD Radeon Pro 5500M OpenGL Engine\n",
      "W0000 00:00:1745956007.173748 9208806 inference_feedback_manager.cc:114] Feedback manager requires a model with a single signature inference. Disabling support for feedback tensors.\n",
      "W0000 00:00:1745956007.218265 9208806 inference_feedback_manager.cc:114] Feedback manager requires a model with a single signature inference. Disabling support for feedback tensors.\n",
      "I0000 00:00:1745956007.490627 9204014 gl_context.cc:369] GL version: 2.1 (2.1 ATI-5.2.4), renderer: AMD Radeon Pro 5500M OpenGL Engine\n",
      "W0000 00:00:1745956007.600474 9208834 inference_feedback_manager.cc:114] Feedback manager requires a model with a single signature inference. Disabling support for feedback tensors.\n",
      "W0000 00:00:1745956007.640693 9208834 inference_feedback_manager.cc:114] Feedback manager requires a model with a single signature inference. Disabling support for feedback tensors.\n",
      "I0000 00:00:1745956007.910069 9204014 gl_context.cc:369] GL version: 2.1 (2.1 ATI-5.2.4), renderer: AMD Radeon Pro 5500M OpenGL Engine\n",
      "W0000 00:00:1745956008.018901 9208869 inference_feedback_manager.cc:114] Feedback manager requires a model with a single signature inference. Disabling support for feedback tensors.\n",
      "W0000 00:00:1745956008.050421 9208869 inference_feedback_manager.cc:114] Feedback manager requires a model with a single signature inference. Disabling support for feedback tensors.\n",
      "I0000 00:00:1745956008.310671 9204014 gl_context.cc:369] GL version: 2.1 (2.1 ATI-5.2.4), renderer: AMD Radeon Pro 5500M OpenGL Engine\n",
      "W0000 00:00:1745956008.418049 9208883 inference_feedback_manager.cc:114] Feedback manager requires a model with a single signature inference. Disabling support for feedback tensors.\n",
      "W0000 00:00:1745956008.449306 9208883 inference_feedback_manager.cc:114] Feedback manager requires a model with a single signature inference. Disabling support for feedback tensors.\n",
      "I0000 00:00:1745956008.707322 9204014 gl_context.cc:369] GL version: 2.1 (2.1 ATI-5.2.4), renderer: AMD Radeon Pro 5500M OpenGL Engine\n",
      "W0000 00:00:1745956008.813638 9208905 inference_feedback_manager.cc:114] Feedback manager requires a model with a single signature inference. Disabling support for feedback tensors.\n",
      "W0000 00:00:1745956008.845048 9208905 inference_feedback_manager.cc:114] Feedback manager requires a model with a single signature inference. Disabling support for feedback tensors.\n",
      "I0000 00:00:1745956009.112610 9204014 gl_context.cc:369] GL version: 2.1 (2.1 ATI-5.2.4), renderer: AMD Radeon Pro 5500M OpenGL Engine\n",
      "W0000 00:00:1745956009.221838 9208924 inference_feedback_manager.cc:114] Feedback manager requires a model with a single signature inference. Disabling support for feedback tensors.\n",
      "W0000 00:00:1745956009.255443 9208924 inference_feedback_manager.cc:114] Feedback manager requires a model with a single signature inference. Disabling support for feedback tensors.\n",
      "I0000 00:00:1745956009.529327 9204014 gl_context.cc:369] GL version: 2.1 (2.1 ATI-5.2.4), renderer: AMD Radeon Pro 5500M OpenGL Engine\n",
      "W0000 00:00:1745956009.639456 9208969 inference_feedback_manager.cc:114] Feedback manager requires a model with a single signature inference. Disabling support for feedback tensors.\n",
      "W0000 00:00:1745956009.671781 9208969 inference_feedback_manager.cc:114] Feedback manager requires a model with a single signature inference. Disabling support for feedback tensors.\n",
      "I0000 00:00:1745956009.932861 9204014 gl_context.cc:369] GL version: 2.1 (2.1 ATI-5.2.4), renderer: AMD Radeon Pro 5500M OpenGL Engine\n",
      "W0000 00:00:1745956010.042652 9208989 inference_feedback_manager.cc:114] Feedback manager requires a model with a single signature inference. Disabling support for feedback tensors.\n",
      "W0000 00:00:1745956010.073107 9208989 inference_feedback_manager.cc:114] Feedback manager requires a model with a single signature inference. Disabling support for feedback tensors.\n",
      "I0000 00:00:1745956010.337388 9204014 gl_context.cc:369] GL version: 2.1 (2.1 ATI-5.2.4), renderer: AMD Radeon Pro 5500M OpenGL Engine\n",
      "W0000 00:00:1745956010.450412 9209011 inference_feedback_manager.cc:114] Feedback manager requires a model with a single signature inference. Disabling support for feedback tensors.\n",
      "W0000 00:00:1745956010.489865 9209011 inference_feedback_manager.cc:114] Feedback manager requires a model with a single signature inference. Disabling support for feedback tensors.\n",
      "I0000 00:00:1745956010.774824 9204014 gl_context.cc:369] GL version: 2.1 (2.1 ATI-5.2.4), renderer: AMD Radeon Pro 5500M OpenGL Engine\n",
      "W0000 00:00:1745956010.912012 9209028 inference_feedback_manager.cc:114] Feedback manager requires a model with a single signature inference. Disabling support for feedback tensors.\n",
      "W0000 00:00:1745956010.958742 9209028 inference_feedback_manager.cc:114] Feedback manager requires a model with a single signature inference. Disabling support for feedback tensors.\n",
      "I0000 00:00:1745956011.240554 9204014 gl_context.cc:369] GL version: 2.1 (2.1 ATI-5.2.4), renderer: AMD Radeon Pro 5500M OpenGL Engine\n",
      "W0000 00:00:1745956011.362312 9209059 inference_feedback_manager.cc:114] Feedback manager requires a model with a single signature inference. Disabling support for feedback tensors.\n",
      "W0000 00:00:1745956011.396049 9209059 inference_feedback_manager.cc:114] Feedback manager requires a model with a single signature inference. Disabling support for feedback tensors.\n",
      "I0000 00:00:1745956023.899907 9204014 gl_context.cc:369] GL version: 2.1 (2.1 ATI-5.2.4), renderer: AMD Radeon Pro 5500M OpenGL Engine\n",
      "W0000 00:00:1745956023.900659 9204014 face_landmarker_graph.cc:174] Sets FaceBlendshapesGraph acceleration to xnnpack by default.\n",
      "W0000 00:00:1745956023.909543 9209244 inference_feedback_manager.cc:114] Feedback manager requires a model with a single signature inference. Disabling support for feedback tensors.\n",
      "W0000 00:00:1745956023.925434 9209244 inference_feedback_manager.cc:114] Feedback manager requires a model with a single signature inference. Disabling support for feedback tensors.\n",
      " 83%|████████████████████████████████████████████████████████████████████████████████████████████████████████████████████████████████████████████████████████████████████████████████████████▏                                    | 5/6 [02:30<00:27, 27.38s/it]"
     ]
    },
    {
     "name": "stdout",
     "output_type": "stream",
     "text": [
      "max() arg is an empty sequence\n",
      "max() arg is an empty sequence\n",
      "max() arg is an empty sequence\n",
      "max() arg is an empty sequence\n",
      "max() arg is an empty sequence\n",
      "max() arg is an empty sequence\n"
     ]
    },
    {
     "name": "stderr",
     "output_type": "stream",
     "text": [
      "I0000 00:00:1745956027.379912 9204014 gl_context.cc:369] GL version: 2.1 (2.1 ATI-5.2.4), renderer: AMD Radeon Pro 5500M OpenGL Engine\n",
      "W0000 00:00:1745956027.383326 9209330 inference_feedback_manager.cc:114] Feedback manager requires a model with a single signature inference. Disabling support for feedback tensors.\n",
      "W0000 00:00:1745956027.404330 9209333 inference_feedback_manager.cc:114] Feedback manager requires a model with a single signature inference. Disabling support for feedback tensors.\n",
      "I0000 00:00:1745956027.552940 9204014 gl_context.cc:369] GL version: 2.1 (2.1 ATI-5.2.4), renderer: AMD Radeon Pro 5500M OpenGL Engine\n",
      "W0000 00:00:1745956027.556496 9209344 inference_feedback_manager.cc:114] Feedback manager requires a model with a single signature inference. Disabling support for feedback tensors.\n",
      "W0000 00:00:1745956027.574188 9209347 inference_feedback_manager.cc:114] Feedback manager requires a model with a single signature inference. Disabling support for feedback tensors.\n",
      "I0000 00:00:1745956027.724138 9204014 gl_context.cc:369] GL version: 2.1 (2.1 ATI-5.2.4), renderer: AMD Radeon Pro 5500M OpenGL Engine\n",
      "W0000 00:00:1745956027.728495 9209365 inference_feedback_manager.cc:114] Feedback manager requires a model with a single signature inference. Disabling support for feedback tensors.\n",
      "W0000 00:00:1745956027.745065 9209373 inference_feedback_manager.cc:114] Feedback manager requires a model with a single signature inference. Disabling support for feedback tensors.\n",
      "I0000 00:00:1745956027.909742 9204014 gl_context.cc:369] GL version: 2.1 (2.1 ATI-5.2.4), renderer: AMD Radeon Pro 5500M OpenGL Engine\n",
      "W0000 00:00:1745956027.914632 9209378 inference_feedback_manager.cc:114] Feedback manager requires a model with a single signature inference. Disabling support for feedback tensors.\n",
      "W0000 00:00:1745956027.930538 9209379 inference_feedback_manager.cc:114] Feedback manager requires a model with a single signature inference. Disabling support for feedback tensors.\n",
      "I0000 00:00:1745956028.094435 9204014 gl_context.cc:369] GL version: 2.1 (2.1 ATI-5.2.4), renderer: AMD Radeon Pro 5500M OpenGL Engine\n",
      "W0000 00:00:1745956028.098649 9209394 inference_feedback_manager.cc:114] Feedback manager requires a model with a single signature inference. Disabling support for feedback tensors.\n",
      "W0000 00:00:1745956028.117714 9209398 inference_feedback_manager.cc:114] Feedback manager requires a model with a single signature inference. Disabling support for feedback tensors.\n",
      "I0000 00:00:1745956028.245914 9204014 gl_context.cc:369] GL version: 2.1 (2.1 ATI-5.2.4), renderer: AMD Radeon Pro 5500M OpenGL Engine\n",
      "W0000 00:00:1745956028.252396 9209410 inference_feedback_manager.cc:114] Feedback manager requires a model with a single signature inference. Disabling support for feedback tensors.\n",
      "W0000 00:00:1745956028.266913 9209414 inference_feedback_manager.cc:114] Feedback manager requires a model with a single signature inference. Disabling support for feedback tensors.\n",
      "I0000 00:00:1745956028.437708 9204014 gl_context.cc:369] GL version: 2.1 (2.1 ATI-5.2.4), renderer: AMD Radeon Pro 5500M OpenGL Engine\n",
      "W0000 00:00:1745956028.441978 9209436 inference_feedback_manager.cc:114] Feedback manager requires a model with a single signature inference. Disabling support for feedback tensors.\n",
      "W0000 00:00:1745956028.460205 9209438 inference_feedback_manager.cc:114] Feedback manager requires a model with a single signature inference. Disabling support for feedback tensors.\n",
      "I0000 00:00:1745956028.477014 9204014 gl_context.cc:369] GL version: 2.1 (2.1 ATI-5.2.4), renderer: AMD Radeon Pro 5500M OpenGL Engine\n",
      "W0000 00:00:1745956028.579816 9209450 inference_feedback_manager.cc:114] Feedback manager requires a model with a single signature inference. Disabling support for feedback tensors.\n",
      "W0000 00:00:1745956028.611577 9209450 inference_feedback_manager.cc:114] Feedback manager requires a model with a single signature inference. Disabling support for feedback tensors.\n",
      "I0000 00:00:1745956028.935620 9204014 gl_context.cc:369] GL version: 2.1 (2.1 ATI-5.2.4), renderer: AMD Radeon Pro 5500M OpenGL Engine\n",
      "W0000 00:00:1745956029.039695 9209483 inference_feedback_manager.cc:114] Feedback manager requires a model with a single signature inference. Disabling support for feedback tensors.\n",
      "W0000 00:00:1745956029.076522 9209492 inference_feedback_manager.cc:114] Feedback manager requires a model with a single signature inference. Disabling support for feedback tensors.\n",
      "I0000 00:00:1745956029.374384 9204014 gl_context.cc:369] GL version: 2.1 (2.1 ATI-5.2.4), renderer: AMD Radeon Pro 5500M OpenGL Engine\n",
      "W0000 00:00:1745956029.487937 9209516 inference_feedback_manager.cc:114] Feedback manager requires a model with a single signature inference. Disabling support for feedback tensors.\n",
      "W0000 00:00:1745956029.519426 9209516 inference_feedback_manager.cc:114] Feedback manager requires a model with a single signature inference. Disabling support for feedback tensors.\n",
      "I0000 00:00:1745956029.807334 9204014 gl_context.cc:369] GL version: 2.1 (2.1 ATI-5.2.4), renderer: AMD Radeon Pro 5500M OpenGL Engine\n",
      "W0000 00:00:1745956029.928671 9209531 inference_feedback_manager.cc:114] Feedback manager requires a model with a single signature inference. Disabling support for feedback tensors.\n",
      "W0000 00:00:1745956029.972510 9209531 inference_feedback_manager.cc:114] Feedback manager requires a model with a single signature inference. Disabling support for feedback tensors.\n",
      "I0000 00:00:1745956030.256461 9204014 gl_context.cc:369] GL version: 2.1 (2.1 ATI-5.2.4), renderer: AMD Radeon Pro 5500M OpenGL Engine\n",
      "W0000 00:00:1745956030.371436 9209548 inference_feedback_manager.cc:114] Feedback manager requires a model with a single signature inference. Disabling support for feedback tensors.\n",
      "W0000 00:00:1745956030.405178 9209548 inference_feedback_manager.cc:114] Feedback manager requires a model with a single signature inference. Disabling support for feedback tensors.\n",
      "I0000 00:00:1745956030.702117 9204014 gl_context.cc:369] GL version: 2.1 (2.1 ATI-5.2.4), renderer: AMD Radeon Pro 5500M OpenGL Engine\n",
      "W0000 00:00:1745956030.834083 9209571 inference_feedback_manager.cc:114] Feedback manager requires a model with a single signature inference. Disabling support for feedback tensors.\n",
      "W0000 00:00:1745956030.868819 9209574 inference_feedback_manager.cc:114] Feedback manager requires a model with a single signature inference. Disabling support for feedback tensors.\n",
      "I0000 00:00:1745956031.161992 9204014 gl_context.cc:369] GL version: 2.1 (2.1 ATI-5.2.4), renderer: AMD Radeon Pro 5500M OpenGL Engine\n",
      "W0000 00:00:1745956031.282328 9209599 inference_feedback_manager.cc:114] Feedback manager requires a model with a single signature inference. Disabling support for feedback tensors.\n",
      "W0000 00:00:1745956031.316053 9209599 inference_feedback_manager.cc:114] Feedback manager requires a model with a single signature inference. Disabling support for feedback tensors.\n",
      "I0000 00:00:1745956031.387720 9204014 gl_context.cc:369] GL version: 2.1 (2.1 ATI-5.2.4), renderer: AMD Radeon Pro 5500M OpenGL Engine\n",
      "W0000 00:00:1745956031.509141 9209620 inference_feedback_manager.cc:114] Feedback manager requires a model with a single signature inference. Disabling support for feedback tensors.\n",
      "W0000 00:00:1745956031.543147 9209628 inference_feedback_manager.cc:114] Feedback manager requires a model with a single signature inference. Disabling support for feedback tensors.\n",
      "I0000 00:00:1745956039.311459 9204014 gl_context.cc:369] GL version: 2.1 (2.1 ATI-5.2.4), renderer: AMD Radeon Pro 5500M OpenGL Engine\n",
      "W0000 00:00:1745956039.312287 9204014 face_landmarker_graph.cc:174] Sets FaceBlendshapesGraph acceleration to xnnpack by default.\n",
      "W0000 00:00:1745956039.320810 9209746 inference_feedback_manager.cc:114] Feedback manager requires a model with a single signature inference. Disabling support for feedback tensors.\n",
      "W0000 00:00:1745956039.338715 9209757 inference_feedback_manager.cc:114] Feedback manager requires a model with a single signature inference. Disabling support for feedback tensors.\n",
      "100%|█████████████████████████████████████████████████████████████████████████████████████████████████████████████████████████████████████████████████████████████████████████████████████████████████████████████████████████████| 6/6 [02:45<00:00, 27.51s/it]\n"
     ]
    }
   ],
   "source": [
    "processing = FileProcessingSystem(\"data/short_rus.mp4\", flags, negative_emotions, preferred_gestures, 10, \"ru\")"
   ]
  },
  {
   "cell_type": "code",
   "execution_count": 23,
   "metadata": {
    "colab": {
     "base_uri": "https://localhost:8080/",
     "height": 175
    },
    "id": "vi1QA2enK_XU",
    "outputId": "7a2c07bd-36f2-4241-98e7-3b0a1467430c"
   },
   "outputs": [
    {
     "name": "stderr",
     "output_type": "stream",
     "text": [
      "100%|███████████████████████████████████████████████████████████████████████████████████████████████████████████████████████████████████████████████████████████████████████████████████████████████████████████████████| 5623/5623 [01:59<00:00, 46.87frames/s]\n"
     ]
    },
    {
     "data": {
      "text/plain": [
       "'привет друзья это успеть за секунд и сергей коростелев сегодня я расскажу что такое пич или техника в лифте представьте себе что вы едете в лифте с биллом гейтсом и вам нужно быстро рассказать о своем бизнесе итак пич первое это название продукта или проекта второе категория продукта то есть что это вообще такое третье целевая аудитория для кого этот проект четвертое основная задача какие цели он преследует и конечно же пятое это его уникальность в чем ваш проект уникален ну к примеру расскажу вот про наш быстро сервис мы сейчас делаем сервис услуги мечты услуги мечты это онлайн сервис по предоставлению бытовых услуг для мам и пап которые позволили заказать множество услуг в одном месте применяя высочайшие стандарты обслуживания и технологии освобождая людям время для реализации мечты и желаний надеюсь я успел'"
      ]
     },
     "execution_count": 23,
     "metadata": {},
     "output_type": "execute_result"
    }
   ],
   "source": [
    "processing.get_transcription()"
   ]
  },
  {
   "cell_type": "code",
   "execution_count": 24,
   "metadata": {},
   "outputs": [
    {
     "name": "stdout",
     "output_type": "stream",
     "text": [
      "On the video a White male speaker about 36 years old give a presentation in Russian. The following characteristics of his video were highlighted by our models: \"rather clean speech with few filler words, such as \"в лифте\", \"услуги мечты\". Optimal speech rate. Noticeable presence of undesired emotions, such as anger or disgust. Video doesn't have noticeable background noise. Intelligibility of speech is excellent; every word is clearly recognizable. Video recorded with consistently proper recording angle. Speaker occasional glances away from the camera. Gesturing is appropriate and natural. Video recorded with optimal lighting. Looks like clothes are suitable for the presentation.\"\n",
      "Here is the transcription of the presentation: привет друзья это успеть за секунд и сергей коростелев сегодня я расскажу что такое пич или техника в лифте представьте себе что вы едете в лифте с биллом гейтсом и вам нужно быстро рассказать о своем бизнесе итак пич первое это название продукта или проекта второе категория продукта то есть что это вообще такое третье целевая аудитория для кого этот проект четвертое основная задача какие цели он преследует и конечно же пятое это его уникальность в чем ваш проект уникален ну к примеру расскажу вот про наш быстро сервис мы сейчас делаем сервис услуги мечты услуги мечты это онлайн сервис по предоставлению бытовых услуг для мам и пап которые позволили заказать множество услуг в одном месте применяя высочайшие стандарты обслуживания и технологии освобождая людям время для реализации мечты и желаний надеюсь я успел\n",
      "Note that the presentation has a training style and recorded for demonstrating in Russia.\n",
      "Please, analyze the speach and characteristics and provide a brief recomendation how the presentor can improve the quality of the presentation and his presentation skills. The recomendation should be less than 150 words.\n"
     ]
    }
   ],
   "source": [
    "prompt = processing.get_recomendation_prompt(\"training\", \"Russia\")\n",
    "print(prompt)"
   ]
  },
  {
   "cell_type": "code",
   "execution_count": 25,
   "metadata": {},
   "outputs": [
    {
     "name": "stdout",
     "output_type": "stream",
     "text": [
      "The speaker delivers clear, well-paced speech with strong structure and appropriate gestures, making the information easy to follow. However, the presence of negative emotions like anger or disgust can distract or unsettle viewers, so focusing on adopting a friendlier, more enthusiastic tone would strengthen the connection with the audience. Occasional glances away from the camera might reduce engagement, so maintaining steady eye contact would enhance credibility and rapport. It's also worth refining the use of filler phrases (e.g., \"в лифте\") to keep the speech crisp and professional. Overall, maintaining positive and energetic delivery, while consistently addressing the camera, can add impact and make the training both more appealing and memorable.\n"
     ]
    }
   ],
   "source": [
    "print(processing.get_recommendation(prompt))"
   ]
  },
  {
   "cell_type": "code",
   "execution_count": 26,
   "metadata": {},
   "outputs": [
    {
     "name": "stdout",
     "output_type": "stream",
     "text": [
      "36.81145353120072\n",
      "male\n",
      "White\n"
     ]
    }
   ],
   "source": [
    "print(processing.get_age())\n",
    "print(processing.get_gender())\n",
    "print(processing.get_ethnicity())"
   ]
  },
  {
   "cell_type": "code",
   "execution_count": 27,
   "metadata": {
    "colab": {
     "base_uri": "https://localhost:8080/"
    },
    "id": "LG2OBVj5LDjL",
    "outputId": "aa604af6-5628-44e7-968a-d8d59c6a8417"
   },
   "outputs": [
    {
     "data": {
      "text/plain": [
       "(0.649, 0.283, array([0.7, 0.5, 0.3, 0.2, 0. , 0. ]))"
      ]
     },
     "execution_count": 27,
     "metadata": {},
     "output_type": "execute_result"
    }
   ],
   "source": [
    "processing.get_emotionality()"
   ]
  },
  {
   "cell_type": "code",
   "execution_count": 28,
   "metadata": {
    "colab": {
     "base_uri": "https://localhost:8080/"
    },
    "id": "n-ndjKVzLJ8Z",
    "outputId": "4e53884d-b8d2-4839-883e-0c666b82d0dd"
   },
   "outputs": [
    {
     "data": {
      "text/plain": [
       "(0.96034,\n",
       " {'в лифте': 2,\n",
       "  'услуги мечты': 2,\n",
       "  'вообще': 1,\n",
       "  'конечно': 1,\n",
       "  'ну': 1,\n",
       "  'вот': 1,\n",
       "  'то есть': 1},\n",
       " {'в лифте': 2, 'услуги мечты': 2})"
      ]
     },
     "execution_count": 28,
     "metadata": {},
     "output_type": "execute_result"
    }
   ],
   "source": [
    "processing.get_filler_words()"
   ]
  },
  {
   "cell_type": "code",
   "execution_count": 29,
   "metadata": {
    "colab": {
     "base_uri": "https://localhost:8080/"
    },
    "id": "KvNf1uw1LMFm",
    "outputId": "4361a483-3442-494e-c438-4c089d17411c"
   },
   "outputs": [
    {
     "data": {
      "text/plain": [
       "(0.0, array([0., 0., 0., 0., 0., 0.]), [])"
      ]
     },
     "execution_count": 29,
     "metadata": {},
     "output_type": "execute_result"
    }
   ],
   "source": [
    "processing.get_speech_rate()"
   ]
  },
  {
   "cell_type": "code",
   "execution_count": 30,
   "metadata": {
    "colab": {
     "base_uri": "https://localhost:8080/"
    },
    "id": "GwaDnGwTLT9R",
    "outputId": "0429f3e8-37bc-4e66-a629-b3904f3f84b6"
   },
   "outputs": [
    {
     "data": {
      "text/plain": [
       "(0.0, array([0.045 , 0.0375, 0.0405, 0.043 , 0.053 , 0.042 ]), [])"
      ]
     },
     "execution_count": 30,
     "metadata": {},
     "output_type": "execute_result"
    }
   ],
   "source": [
    "processing.get_background_noise()"
   ]
  },
  {
   "cell_type": "code",
   "execution_count": 31,
   "metadata": {
    "colab": {
     "base_uri": "https://localhost:8080/"
    },
    "id": "oJGLKRZcLVsu",
    "outputId": "98f4a34e-de4e-4577-f37c-c6725fab385e"
   },
   "outputs": [
    {
     "data": {
      "text/plain": [
       "(0.9652000000000001, array([0.964, 0.97 , 0.968, 0.966, 0.958, 0.966]))"
      ]
     },
     "execution_count": 31,
     "metadata": {},
     "output_type": "execute_result"
    }
   ],
   "source": [
    "processing.get_intelligibility()"
   ]
  },
  {
   "cell_type": "code",
   "execution_count": 32,
   "metadata": {
    "colab": {
     "base_uri": "https://localhost:8080/"
    },
    "id": "kVlShanfLV6j",
    "outputId": "e73d7a9f-1479-49d4-b85b-9cb9bbb3b36f"
   },
   "outputs": [
    {
     "data": {
      "text/plain": [
       "(0.128, array([0.347, 0.223, 0.197, 0.   , 0.   , 0.   ]))"
      ]
     },
     "execution_count": 32,
     "metadata": {},
     "output_type": "execute_result"
    }
   ],
   "source": [
    "processing.get_incorrect_angle()"
   ]
  },
  {
   "cell_type": "code",
   "execution_count": 33,
   "metadata": {
    "colab": {
     "base_uri": "https://localhost:8080/"
    },
    "id": "hPq4LHc4LWGR",
    "outputId": "b33dc072-77ea-49d7-f7c9-f58415c4bb78"
   },
   "outputs": [
    {
     "data": {
      "text/plain": [
       "(0.633, array([0.378, 0.477, 0.557, 0.384, 1.   , 1.   ]))"
      ]
     },
     "execution_count": 33,
     "metadata": {},
     "output_type": "execute_result"
    }
   ],
   "source": [
    "processing.get_incorrect_glances()"
   ]
  },
  {
   "cell_type": "code",
   "execution_count": 34,
   "metadata": {
    "colab": {
     "base_uri": "https://localhost:8080/"
    },
    "id": "69_yaU1zLWgz",
    "outputId": "79b42430-bb5d-4029-ead7-dade5e13d27f"
   },
   "outputs": [
    {
     "data": {
      "text/plain": [
       "(2.0, array([2, 2, 2, 2, 2, 2]))"
      ]
     },
     "execution_count": 34,
     "metadata": {},
     "output_type": "execute_result"
    }
   ],
   "source": [
    "processing.get_gestures()"
   ]
  },
  {
   "cell_type": "code",
   "execution_count": 35,
   "metadata": {
    "colab": {
     "base_uri": "https://localhost:8080/"
    },
    "id": "4jDLDPH1LWsL",
    "outputId": "3cf39a69-e325-4d70-a5a4-4cd36003a9c6"
   },
   "outputs": [
    {
     "data": {
      "text/plain": [
       "True"
      ]
     },
     "execution_count": 35,
     "metadata": {},
     "output_type": "execute_result"
    }
   ],
   "source": [
    "processing.get_clothes()"
   ]
  },
  {
   "cell_type": "code",
   "execution_count": 36,
   "metadata": {
    "colab": {
     "base_uri": "https://localhost:8080/"
    },
    "id": "HdwxJIdwXXv1",
    "outputId": "bb7134a1-e0b6-4a9a-d3bf-83d46fbecbaf"
   },
   "outputs": [
    {
     "name": "stdout",
     "output_type": "stream",
     "text": [
      "{'speech_rate': array([0., 0., 0., 0., 0., 0.]), 'emotionality': array([0.7, 0.5, 0.3, 0.2, 0. , 0. ]), 'background_noise': array([0.045 , 0.0375, 0.0405, 0.043 , 0.053 , 0.042 ]), 'intelligibility': array([0.964, 0.97 , 0.968, 0.966, 0.958, 0.966]), 'glances': array([0.378, 0.477, 0.557, 0.384, 1.   , 1.   ]), 'gestures': array([2, 2, 2, 2, 2, 2])}\n",
      "background_noise [0.045  0.0375 0.0405 0.043  0.053  0.042 ]\n",
      "speech_rate [0. 0. 0. 0. 0. 0.]\n",
      "emotionality [0.7 0.5 0.3 0.2 0.  0. ]\n",
      "intelligibility [0.964 0.97  0.968 0.966 0.958 0.966]\n",
      "gestures [2 2 2 2 2 2]\n",
      "glances [0.378 0.477 0.557 0.384 1.    1.   ]\n",
      "[['No background noise', 'No background noise', 'No background noise', 'No background noise', 'No background noise', 'No background noise'], ['Optimal speech rate', 'Optimal speech rate', 'Optimal speech rate', 'Optimal speech rate', 'Optimal speech rate', 'Optimal speech rate'], ['Undesired emotions', 'Not fully desired emotions', 'Mostly desired emotions', 'Mostly desired emotions', 'Mostly desired emotions', 'Mostly desired emotions'], ['Speech is fully intelligible', 'Speech is fully intelligible', 'Speech is fully intelligible', 'Speech is fully intelligible', 'Speech is fully intelligible', 'Speech is fully intelligible'], ['Active gesturing', 'Active gesturing', 'Active gesturing', 'Active gesturing', 'Active gesturing', 'Active gesturing'], [None, None, None, None, 'You often look away', 'You often look away'], ['Optimal lighting', 'Optimal lighting', 'Optimal lighting', 'Optimal lighting', 'Optimal lighting', 'Optimal lighting']]\n",
      "[[True, True, True, True, True, True], [True, True, True, True, True, True], [False, False, True, True, True, True], [True, True, True, True, True, True], [False, False, False, False, False, False], [True, True, True, True, False, False], [True, True, True, True, True, True]]\n",
      "Moviepy - Building video data/short_rus_painted.mp4.\n",
      "MoviePy - Writing audio in short_rus_paintedTEMP_MPY_wvf_snd.mp3\n"
     ]
    },
    {
     "name": "stderr",
     "output_type": "stream",
     "text": [
      "                                                                                                                                                                                                                                                                "
     ]
    },
    {
     "name": "stdout",
     "output_type": "stream",
     "text": [
      "MoviePy - Done.\n",
      "Moviepy - Writing video data/short_rus_painted.mp4\n",
      "\n"
     ]
    },
    {
     "name": "stderr",
     "output_type": "stream",
     "text": [
      "                                                                                                                                                                                                                                                                "
     ]
    },
    {
     "name": "stdout",
     "output_type": "stream",
     "text": [
      "Moviepy - Done !\n",
      "Moviepy - video ready data/short_rus_painted.mp4\n"
     ]
    }
   ],
   "source": [
    "painted_path = processing.draw()"
   ]
  },
  {
   "cell_type": "code",
   "execution_count": 37,
   "metadata": {
    "colab": {
     "base_uri": "https://localhost:8080/",
     "height": 503
    },
    "id": "Y2TggR_cuXa8",
    "outputId": "3d40f481-d230-4f0f-fbc5-330166d6e875"
   },
   "outputs": [],
   "source": [
    "video_path = painted_path\n",
    "video_clip = VideoFileClip(video_path)\n",
    "#video_clip.ipython_display(width=640)"
   ]
  },
  {
   "cell_type": "markdown",
   "metadata": {
    "jp-MarkdownHeadingCollapsed": true
   },
   "source": [
    "## Presentation in English"
   ]
  },
  {
   "cell_type": "code",
   "execution_count": 38,
   "metadata": {
    "colab": {
     "base_uri": "https://localhost:8080/"
    },
    "id": "JdUiHA6nStg4",
    "outputId": "31ec89e8-441e-4e72-ae76-bdc0c2cc74b5",
    "scrolled": true
   },
   "outputs": [
    {
     "name": "stderr",
     "output_type": "stream",
     "text": [
      "  0%|                                                                                                                                                                                                                                     | 0/9 [00:00<?, ?it/s]"
     ]
    },
    {
     "name": "stdout",
     "output_type": "stream",
     "text": [
      "max() arg is an empty sequence\n",
      "max() arg is an empty sequence\n"
     ]
    },
    {
     "name": "stderr",
     "output_type": "stream",
     "text": [
      "I0000 00:00:1745956255.373531 9204014 gl_context.cc:369] GL version: 2.1 (2.1 ATI-5.2.4), renderer: AMD Radeon Pro 5500M OpenGL Engine\n",
      "W0000 00:00:1745956255.378837 9214844 inference_feedback_manager.cc:114] Feedback manager requires a model with a single signature inference. Disabling support for feedback tensors.\n",
      "W0000 00:00:1745956255.395248 9214838 inference_feedback_manager.cc:114] Feedback manager requires a model with a single signature inference. Disabling support for feedback tensors.\n",
      "I0000 00:00:1745956255.474747 9204014 gl_context.cc:369] GL version: 2.1 (2.1 ATI-5.2.4), renderer: AMD Radeon Pro 5500M OpenGL Engine\n",
      "W0000 00:00:1745956255.478448 9214878 inference_feedback_manager.cc:114] Feedback manager requires a model with a single signature inference. Disabling support for feedback tensors.\n",
      "W0000 00:00:1745956255.495300 9214875 inference_feedback_manager.cc:114] Feedback manager requires a model with a single signature inference. Disabling support for feedback tensors.\n",
      "I0000 00:00:1745956255.576448 9204014 gl_context.cc:369] GL version: 2.1 (2.1 ATI-5.2.4), renderer: AMD Radeon Pro 5500M OpenGL Engine\n",
      "W0000 00:00:1745956255.580330 9214888 inference_feedback_manager.cc:114] Feedback manager requires a model with a single signature inference. Disabling support for feedback tensors.\n",
      "W0000 00:00:1745956255.594980 9214892 inference_feedback_manager.cc:114] Feedback manager requires a model with a single signature inference. Disabling support for feedback tensors.\n",
      "I0000 00:00:1745956255.687917 9204014 gl_context.cc:369] GL version: 2.1 (2.1 ATI-5.2.4), renderer: AMD Radeon Pro 5500M OpenGL Engine\n",
      "W0000 00:00:1745956255.691747 9214908 inference_feedback_manager.cc:114] Feedback manager requires a model with a single signature inference. Disabling support for feedback tensors.\n",
      "W0000 00:00:1745956255.706628 9214909 inference_feedback_manager.cc:114] Feedback manager requires a model with a single signature inference. Disabling support for feedback tensors.\n",
      "I0000 00:00:1745956255.789672 9204014 gl_context.cc:369] GL version: 2.1 (2.1 ATI-5.2.4), renderer: AMD Radeon Pro 5500M OpenGL Engine\n",
      "W0000 00:00:1745956255.793489 9214924 inference_feedback_manager.cc:114] Feedback manager requires a model with a single signature inference. Disabling support for feedback tensors.\n",
      "W0000 00:00:1745956255.810335 9214925 inference_feedback_manager.cc:114] Feedback manager requires a model with a single signature inference. Disabling support for feedback tensors.\n",
      "I0000 00:00:1745956255.849048 9204014 gl_context.cc:369] GL version: 2.1 (2.1 ATI-5.2.4), renderer: AMD Radeon Pro 5500M OpenGL Engine\n",
      "W0000 00:00:1745956255.853241 9214941 inference_feedback_manager.cc:114] Feedback manager requires a model with a single signature inference. Disabling support for feedback tensors.\n",
      "W0000 00:00:1745956255.868342 9214940 inference_feedback_manager.cc:114] Feedback manager requires a model with a single signature inference. Disabling support for feedback tensors.\n",
      "I0000 00:00:1745956255.907722 9204014 gl_context.cc:369] GL version: 2.1 (2.1 ATI-5.2.4), renderer: AMD Radeon Pro 5500M OpenGL Engine\n",
      "W0000 00:00:1745956255.911976 9214956 inference_feedback_manager.cc:114] Feedback manager requires a model with a single signature inference. Disabling support for feedback tensors.\n",
      "W0000 00:00:1745956255.928490 9214953 inference_feedback_manager.cc:114] Feedback manager requires a model with a single signature inference. Disabling support for feedback tensors.\n",
      "I0000 00:00:1745956255.967084 9204014 gl_context.cc:369] GL version: 2.1 (2.1 ATI-5.2.4), renderer: AMD Radeon Pro 5500M OpenGL Engine\n",
      "W0000 00:00:1745956255.970793 9214971 inference_feedback_manager.cc:114] Feedback manager requires a model with a single signature inference. Disabling support for feedback tensors.\n",
      "W0000 00:00:1745956255.986935 9214973 inference_feedback_manager.cc:114] Feedback manager requires a model with a single signature inference. Disabling support for feedback tensors.\n",
      "I0000 00:00:1745956256.058480 9204014 gl_context.cc:369] GL version: 2.1 (2.1 ATI-5.2.4), renderer: AMD Radeon Pro 5500M OpenGL Engine\n",
      "W0000 00:00:1745956256.063039 9214989 inference_feedback_manager.cc:114] Feedback manager requires a model with a single signature inference. Disabling support for feedback tensors.\n",
      "W0000 00:00:1745956256.077324 9214989 inference_feedback_manager.cc:114] Feedback manager requires a model with a single signature inference. Disabling support for feedback tensors.\n",
      "I0000 00:00:1745956256.176034 9204014 gl_context.cc:369] GL version: 2.1 (2.1 ATI-5.2.4), renderer: AMD Radeon Pro 5500M OpenGL Engine\n",
      "W0000 00:00:1745956256.179586 9215006 inference_feedback_manager.cc:114] Feedback manager requires a model with a single signature inference. Disabling support for feedback tensors.\n",
      "W0000 00:00:1745956256.195260 9215005 inference_feedback_manager.cc:114] Feedback manager requires a model with a single signature inference. Disabling support for feedback tensors.\n",
      "I0000 00:00:1745956256.298821 9204014 gl_context.cc:369] GL version: 2.1 (2.1 ATI-5.2.4), renderer: AMD Radeon Pro 5500M OpenGL Engine\n",
      "W0000 00:00:1745956256.412141 9215019 inference_feedback_manager.cc:114] Feedback manager requires a model with a single signature inference. Disabling support for feedback tensors.\n",
      "W0000 00:00:1745956256.444852 9215028 inference_feedback_manager.cc:114] Feedback manager requires a model with a single signature inference. Disabling support for feedback tensors.\n",
      "I0000 00:00:1745956256.564408 9204014 gl_context.cc:369] GL version: 2.1 (2.1 ATI-5.2.4), renderer: AMD Radeon Pro 5500M OpenGL Engine\n",
      "W0000 00:00:1745956256.670570 9215044 inference_feedback_manager.cc:114] Feedback manager requires a model with a single signature inference. Disabling support for feedback tensors.\n",
      "W0000 00:00:1745956256.700592 9215044 inference_feedback_manager.cc:114] Feedback manager requires a model with a single signature inference. Disabling support for feedback tensors.\n",
      "I0000 00:00:1745956256.827946 9204014 gl_context.cc:369] GL version: 2.1 (2.1 ATI-5.2.4), renderer: AMD Radeon Pro 5500M OpenGL Engine\n",
      "W0000 00:00:1745956256.939823 9215062 inference_feedback_manager.cc:114] Feedback manager requires a model with a single signature inference. Disabling support for feedback tensors.\n",
      "W0000 00:00:1745956256.970010 9215062 inference_feedback_manager.cc:114] Feedback manager requires a model with a single signature inference. Disabling support for feedback tensors.\n",
      "I0000 00:00:1745956257.135057 9204014 gl_context.cc:369] GL version: 2.1 (2.1 ATI-5.2.4), renderer: AMD Radeon Pro 5500M OpenGL Engine\n",
      "W0000 00:00:1745956257.249820 9215079 inference_feedback_manager.cc:114] Feedback manager requires a model with a single signature inference. Disabling support for feedback tensors.\n",
      "W0000 00:00:1745956257.284581 9215079 inference_feedback_manager.cc:114] Feedback manager requires a model with a single signature inference. Disabling support for feedback tensors.\n",
      "I0000 00:00:1745956257.438230 9204014 gl_context.cc:369] GL version: 2.1 (2.1 ATI-5.2.4), renderer: AMD Radeon Pro 5500M OpenGL Engine\n",
      "W0000 00:00:1745956257.566665 9215105 inference_feedback_manager.cc:114] Feedback manager requires a model with a single signature inference. Disabling support for feedback tensors.\n",
      "W0000 00:00:1745956257.604373 9215105 inference_feedback_manager.cc:114] Feedback manager requires a model with a single signature inference. Disabling support for feedback tensors.\n",
      "I0000 00:00:1745956257.755475 9204014 gl_context.cc:369] GL version: 2.1 (2.1 ATI-5.2.4), renderer: AMD Radeon Pro 5500M OpenGL Engine\n",
      "W0000 00:00:1745956257.876519 9215132 inference_feedback_manager.cc:114] Feedback manager requires a model with a single signature inference. Disabling support for feedback tensors.\n",
      "W0000 00:00:1745956257.911359 9215137 inference_feedback_manager.cc:114] Feedback manager requires a model with a single signature inference. Disabling support for feedback tensors.\n",
      "I0000 00:00:1745956257.999332 9204014 gl_context.cc:369] GL version: 2.1 (2.1 ATI-5.2.4), renderer: AMD Radeon Pro 5500M OpenGL Engine\n",
      "W0000 00:00:1745956258.117013 9215147 inference_feedback_manager.cc:114] Feedback manager requires a model with a single signature inference. Disabling support for feedback tensors.\n",
      "W0000 00:00:1745956258.153866 9215147 inference_feedback_manager.cc:114] Feedback manager requires a model with a single signature inference. Disabling support for feedback tensors.\n",
      "I0000 00:00:1745956258.270378 9204014 gl_context.cc:369] GL version: 2.1 (2.1 ATI-5.2.4), renderer: AMD Radeon Pro 5500M OpenGL Engine\n",
      "W0000 00:00:1745956258.393141 9215168 inference_feedback_manager.cc:114] Feedback manager requires a model with a single signature inference. Disabling support for feedback tensors.\n",
      "W0000 00:00:1745956258.427869 9215168 inference_feedback_manager.cc:114] Feedback manager requires a model with a single signature inference. Disabling support for feedback tensors.\n",
      "I0000 00:00:1745956258.571153 9204014 gl_context.cc:369] GL version: 2.1 (2.1 ATI-5.2.4), renderer: AMD Radeon Pro 5500M OpenGL Engine\n",
      "W0000 00:00:1745956258.697578 9215191 inference_feedback_manager.cc:114] Feedback manager requires a model with a single signature inference. Disabling support for feedback tensors.\n",
      "W0000 00:00:1745956258.730584 9215191 inference_feedback_manager.cc:114] Feedback manager requires a model with a single signature inference. Disabling support for feedback tensors.\n",
      "I0000 00:00:1745956258.859755 9204014 gl_context.cc:369] GL version: 2.1 (2.1 ATI-5.2.4), renderer: AMD Radeon Pro 5500M OpenGL Engine\n",
      "W0000 00:00:1745956258.980311 9215209 inference_feedback_manager.cc:114] Feedback manager requires a model with a single signature inference. Disabling support for feedback tensors.\n",
      "W0000 00:00:1745956259.013326 9215209 inference_feedback_manager.cc:114] Feedback manager requires a model with a single signature inference. Disabling support for feedback tensors.\n",
      "I0000 00:00:1745956259.136782 9204014 gl_context.cc:369] GL version: 2.1 (2.1 ATI-5.2.4), renderer: AMD Radeon Pro 5500M OpenGL Engine\n",
      "W0000 00:00:1745956259.260725 9215225 inference_feedback_manager.cc:114] Feedback manager requires a model with a single signature inference. Disabling support for feedback tensors.\n",
      "W0000 00:00:1745956259.301419 9215225 inference_feedback_manager.cc:114] Feedback manager requires a model with a single signature inference. Disabling support for feedback tensors.\n",
      "I0000 00:00:1745956264.607866 9204014 gl_context.cc:369] GL version: 2.1 (2.1 ATI-5.2.4), renderer: AMD Radeon Pro 5500M OpenGL Engine\n",
      "W0000 00:00:1745956264.608742 9204014 face_landmarker_graph.cc:174] Sets FaceBlendshapesGraph acceleration to xnnpack by default.\n",
      "W0000 00:00:1745956264.618366 9215360 inference_feedback_manager.cc:114] Feedback manager requires a model with a single signature inference. Disabling support for feedback tensors.\n",
      "W0000 00:00:1745956264.636577 9215360 inference_feedback_manager.cc:114] Feedback manager requires a model with a single signature inference. Disabling support for feedback tensors.\n",
      "I0000 00:00:1745956268.290165 9204014 gl_context.cc:369] GL version: 2.1 (2.1 ATI-5.2.4), renderer: AMD Radeon Pro 5500M OpenGL Engine\n",
      "W0000 00:00:1745956268.406827 9215426 inference_feedback_manager.cc:114] Feedback manager requires a model with a single signature inference. Disabling support for feedback tensors.\n",
      "W0000 00:00:1745956268.440404 9215426 inference_feedback_manager.cc:114] Feedback manager requires a model with a single signature inference. Disabling support for feedback tensors.\n",
      " 11%|████████████████████████▌                                                                                                                                                                                                    | 1/9 [00:14<01:55, 14.42s/it]"
     ]
    },
    {
     "name": "stdout",
     "output_type": "stream",
     "text": [
      "max() arg is an empty sequence\n",
      "max() arg is an empty sequence\n",
      "max() arg is an empty sequence\n",
      "max() arg is an empty sequence\n",
      "max() arg is an empty sequence\n",
      "max() arg is an empty sequence\n",
      "max() arg is an empty sequence\n",
      "max() arg is an empty sequence\n"
     ]
    },
    {
     "name": "stderr",
     "output_type": "stream",
     "text": [
      "I0000 00:00:1745956269.833808 9204014 gl_context.cc:369] GL version: 2.1 (2.1 ATI-5.2.4), renderer: AMD Radeon Pro 5500M OpenGL Engine\n",
      "W0000 00:00:1745956269.836987 9215496 inference_feedback_manager.cc:114] Feedback manager requires a model with a single signature inference. Disabling support for feedback tensors.\n",
      "W0000 00:00:1745956269.856997 9215493 inference_feedback_manager.cc:114] Feedback manager requires a model with a single signature inference. Disabling support for feedback tensors.\n",
      "I0000 00:00:1745956269.965667 9204014 gl_context.cc:369] GL version: 2.1 (2.1 ATI-5.2.4), renderer: AMD Radeon Pro 5500M OpenGL Engine\n",
      "W0000 00:00:1745956269.976245 9215513 inference_feedback_manager.cc:114] Feedback manager requires a model with a single signature inference. Disabling support for feedback tensors.\n",
      "W0000 00:00:1745956269.996023 9215514 inference_feedback_manager.cc:114] Feedback manager requires a model with a single signature inference. Disabling support for feedback tensors.\n",
      "I0000 00:00:1745956270.048264 9204014 gl_context.cc:369] GL version: 2.1 (2.1 ATI-5.2.4), renderer: AMD Radeon Pro 5500M OpenGL Engine\n",
      "W0000 00:00:1745956270.051864 9215530 inference_feedback_manager.cc:114] Feedback manager requires a model with a single signature inference. Disabling support for feedback tensors.\n",
      "W0000 00:00:1745956270.067505 9215526 inference_feedback_manager.cc:114] Feedback manager requires a model with a single signature inference. Disabling support for feedback tensors.\n",
      "I0000 00:00:1745956270.116333 9204014 gl_context.cc:369] GL version: 2.1 (2.1 ATI-5.2.4), renderer: AMD Radeon Pro 5500M OpenGL Engine\n",
      "W0000 00:00:1745956270.120237 9215544 inference_feedback_manager.cc:114] Feedback manager requires a model with a single signature inference. Disabling support for feedback tensors.\n",
      "W0000 00:00:1745956270.137555 9215543 inference_feedback_manager.cc:114] Feedback manager requires a model with a single signature inference. Disabling support for feedback tensors.\n",
      "I0000 00:00:1745956270.183683 9204014 gl_context.cc:369] GL version: 2.1 (2.1 ATI-5.2.4), renderer: AMD Radeon Pro 5500M OpenGL Engine\n",
      "W0000 00:00:1745956270.189099 9215559 inference_feedback_manager.cc:114] Feedback manager requires a model with a single signature inference. Disabling support for feedback tensors.\n",
      "W0000 00:00:1745956270.208118 9215560 inference_feedback_manager.cc:114] Feedback manager requires a model with a single signature inference. Disabling support for feedback tensors.\n",
      "I0000 00:00:1745956270.249087 9204014 gl_context.cc:369] GL version: 2.1 (2.1 ATI-5.2.4), renderer: AMD Radeon Pro 5500M OpenGL Engine\n",
      "W0000 00:00:1745956270.253799 9215579 inference_feedback_manager.cc:114] Feedback manager requires a model with a single signature inference. Disabling support for feedback tensors.\n",
      "W0000 00:00:1745956270.271137 9215576 inference_feedback_manager.cc:114] Feedback manager requires a model with a single signature inference. Disabling support for feedback tensors.\n",
      "I0000 00:00:1745956270.344988 9204014 gl_context.cc:369] GL version: 2.1 (2.1 ATI-5.2.4), renderer: AMD Radeon Pro 5500M OpenGL Engine\n",
      "W0000 00:00:1745956270.350305 9215598 inference_feedback_manager.cc:114] Feedback manager requires a model with a single signature inference. Disabling support for feedback tensors.\n",
      "W0000 00:00:1745956270.367811 9215598 inference_feedback_manager.cc:114] Feedback manager requires a model with a single signature inference. Disabling support for feedback tensors.\n",
      "I0000 00:00:1745956270.462297 9204014 gl_context.cc:369] GL version: 2.1 (2.1 ATI-5.2.4), renderer: AMD Radeon Pro 5500M OpenGL Engine\n",
      "W0000 00:00:1745956270.466149 9215616 inference_feedback_manager.cc:114] Feedback manager requires a model with a single signature inference. Disabling support for feedback tensors.\n",
      "W0000 00:00:1745956270.482496 9215617 inference_feedback_manager.cc:114] Feedback manager requires a model with a single signature inference. Disabling support for feedback tensors.\n",
      "I0000 00:00:1745956270.578522 9204014 gl_context.cc:369] GL version: 2.1 (2.1 ATI-5.2.4), renderer: AMD Radeon Pro 5500M OpenGL Engine\n",
      "W0000 00:00:1745956270.582485 9215642 inference_feedback_manager.cc:114] Feedback manager requires a model with a single signature inference. Disabling support for feedback tensors.\n",
      "W0000 00:00:1745956270.599438 9215641 inference_feedback_manager.cc:114] Feedback manager requires a model with a single signature inference. Disabling support for feedback tensors.\n",
      "I0000 00:00:1745956270.704402 9204014 gl_context.cc:369] GL version: 2.1 (2.1 ATI-5.2.4), renderer: AMD Radeon Pro 5500M OpenGL Engine\n",
      "W0000 00:00:1745956270.708694 9215657 inference_feedback_manager.cc:114] Feedback manager requires a model with a single signature inference. Disabling support for feedback tensors.\n",
      "W0000 00:00:1745956270.730517 9215670 inference_feedback_manager.cc:114] Feedback manager requires a model with a single signature inference. Disabling support for feedback tensors.\n",
      "I0000 00:00:1745956270.829057 9204014 gl_context.cc:369] GL version: 2.1 (2.1 ATI-5.2.4), renderer: AMD Radeon Pro 5500M OpenGL Engine\n",
      "W0000 00:00:1745956270.950380 9215674 inference_feedback_manager.cc:114] Feedback manager requires a model with a single signature inference. Disabling support for feedback tensors.\n",
      "W0000 00:00:1745956270.984400 9215674 inference_feedback_manager.cc:114] Feedback manager requires a model with a single signature inference. Disabling support for feedback tensors.\n",
      "I0000 00:00:1745956271.158214 9204014 gl_context.cc:369] GL version: 2.1 (2.1 ATI-5.2.4), renderer: AMD Radeon Pro 5500M OpenGL Engine\n",
      "W0000 00:00:1745956271.287332 9215692 inference_feedback_manager.cc:114] Feedback manager requires a model with a single signature inference. Disabling support for feedback tensors.\n",
      "W0000 00:00:1745956271.322242 9215698 inference_feedback_manager.cc:114] Feedback manager requires a model with a single signature inference. Disabling support for feedback tensors.\n",
      "I0000 00:00:1745956271.416589 9204014 gl_context.cc:369] GL version: 2.1 (2.1 ATI-5.2.4), renderer: AMD Radeon Pro 5500M OpenGL Engine\n",
      "W0000 00:00:1745956271.539320 9215707 inference_feedback_manager.cc:114] Feedback manager requires a model with a single signature inference. Disabling support for feedback tensors.\n",
      "W0000 00:00:1745956271.578370 9215707 inference_feedback_manager.cc:114] Feedback manager requires a model with a single signature inference. Disabling support for feedback tensors.\n",
      "I0000 00:00:1745956271.689510 9204014 gl_context.cc:369] GL version: 2.1 (2.1 ATI-5.2.4), renderer: AMD Radeon Pro 5500M OpenGL Engine\n",
      "W0000 00:00:1745956271.820022 9215732 inference_feedback_manager.cc:114] Feedback manager requires a model with a single signature inference. Disabling support for feedback tensors.\n",
      "W0000 00:00:1745956271.855647 9215739 inference_feedback_manager.cc:114] Feedback manager requires a model with a single signature inference. Disabling support for feedback tensors.\n",
      "I0000 00:00:1745956271.944182 9204014 gl_context.cc:369] GL version: 2.1 (2.1 ATI-5.2.4), renderer: AMD Radeon Pro 5500M OpenGL Engine\n",
      "W0000 00:00:1745956272.074274 9215751 inference_feedback_manager.cc:114] Feedback manager requires a model with a single signature inference. Disabling support for feedback tensors.\n",
      "W0000 00:00:1745956272.118408 9215751 inference_feedback_manager.cc:114] Feedback manager requires a model with a single signature inference. Disabling support for feedback tensors.\n",
      "I0000 00:00:1745956272.247724 9204014 gl_context.cc:369] GL version: 2.1 (2.1 ATI-5.2.4), renderer: AMD Radeon Pro 5500M OpenGL Engine\n",
      "W0000 00:00:1745956272.376520 9215771 inference_feedback_manager.cc:114] Feedback manager requires a model with a single signature inference. Disabling support for feedback tensors.\n",
      "W0000 00:00:1745956272.413434 9215771 inference_feedback_manager.cc:114] Feedback manager requires a model with a single signature inference. Disabling support for feedback tensors.\n",
      "I0000 00:00:1745956272.541068 9204014 gl_context.cc:369] GL version: 2.1 (2.1 ATI-5.2.4), renderer: AMD Radeon Pro 5500M OpenGL Engine\n",
      "W0000 00:00:1745956272.656526 9215797 inference_feedback_manager.cc:114] Feedback manager requires a model with a single signature inference. Disabling support for feedback tensors.\n",
      "W0000 00:00:1745956272.690019 9215804 inference_feedback_manager.cc:114] Feedback manager requires a model with a single signature inference. Disabling support for feedback tensors.\n",
      "I0000 00:00:1745956272.852832 9204014 gl_context.cc:369] GL version: 2.1 (2.1 ATI-5.2.4), renderer: AMD Radeon Pro 5500M OpenGL Engine\n",
      "W0000 00:00:1745956272.970245 9215813 inference_feedback_manager.cc:114] Feedback manager requires a model with a single signature inference. Disabling support for feedback tensors.\n",
      "W0000 00:00:1745956273.005377 9215813 inference_feedback_manager.cc:114] Feedback manager requires a model with a single signature inference. Disabling support for feedback tensors.\n",
      "I0000 00:00:1745956273.209005 9204014 gl_context.cc:369] GL version: 2.1 (2.1 ATI-5.2.4), renderer: AMD Radeon Pro 5500M OpenGL Engine\n",
      "W0000 00:00:1745956273.324574 9215830 inference_feedback_manager.cc:114] Feedback manager requires a model with a single signature inference. Disabling support for feedback tensors.\n",
      "W0000 00:00:1745956273.356038 9215837 inference_feedback_manager.cc:114] Feedback manager requires a model with a single signature inference. Disabling support for feedback tensors.\n",
      "I0000 00:00:1745956273.477709 9204014 gl_context.cc:369] GL version: 2.1 (2.1 ATI-5.2.4), renderer: AMD Radeon Pro 5500M OpenGL Engine\n",
      "W0000 00:00:1745956273.586570 9215848 inference_feedback_manager.cc:114] Feedback manager requires a model with a single signature inference. Disabling support for feedback tensors.\n",
      "W0000 00:00:1745956273.617780 9215848 inference_feedback_manager.cc:114] Feedback manager requires a model with a single signature inference. Disabling support for feedback tensors.\n",
      "I0000 00:00:1745956273.724538 9204014 gl_context.cc:369] GL version: 2.1 (2.1 ATI-5.2.4), renderer: AMD Radeon Pro 5500M OpenGL Engine\n",
      "W0000 00:00:1745956273.837317 9215871 inference_feedback_manager.cc:114] Feedback manager requires a model with a single signature inference. Disabling support for feedback tensors.\n",
      "W0000 00:00:1745956273.869545 9215871 inference_feedback_manager.cc:114] Feedback manager requires a model with a single signature inference. Disabling support for feedback tensors.\n",
      "I0000 00:00:1745956278.843463 9204014 gl_context.cc:369] GL version: 2.1 (2.1 ATI-5.2.4), renderer: AMD Radeon Pro 5500M OpenGL Engine\n",
      "W0000 00:00:1745956278.844352 9204014 face_landmarker_graph.cc:174] Sets FaceBlendshapesGraph acceleration to xnnpack by default.\n",
      "W0000 00:00:1745956278.852802 9215966 inference_feedback_manager.cc:114] Feedback manager requires a model with a single signature inference. Disabling support for feedback tensors.\n",
      "W0000 00:00:1745956278.868398 9215966 inference_feedback_manager.cc:114] Feedback manager requires a model with a single signature inference. Disabling support for feedback tensors.\n",
      " 22%|█████████████████████████████████████████████████                                                                                                                                                                            | 2/9 [00:25<01:28, 12.60s/it]"
     ]
    },
    {
     "name": "stdout",
     "output_type": "stream",
     "text": [
      "max() arg is an empty sequence\n",
      "max() arg is an empty sequence\n",
      "max() arg is an empty sequence\n",
      "max() arg is an empty sequence\n",
      "max() arg is an empty sequence\n",
      "max() arg is an empty sequence\n",
      "max() arg is an empty sequence\n"
     ]
    },
    {
     "name": "stderr",
     "output_type": "stream",
     "text": [
      "I0000 00:00:1745956280.930474 9204014 gl_context.cc:369] GL version: 2.1 (2.1 ATI-5.2.4), renderer: AMD Radeon Pro 5500M OpenGL Engine\n",
      "W0000 00:00:1745956280.933494 9216030 inference_feedback_manager.cc:114] Feedback manager requires a model with a single signature inference. Disabling support for feedback tensors.\n",
      "W0000 00:00:1745956280.949796 9216031 inference_feedback_manager.cc:114] Feedback manager requires a model with a single signature inference. Disabling support for feedback tensors.\n",
      "I0000 00:00:1745956281.047239 9204014 gl_context.cc:369] GL version: 2.1 (2.1 ATI-5.2.4), renderer: AMD Radeon Pro 5500M OpenGL Engine\n",
      "W0000 00:00:1745956281.050919 9216051 inference_feedback_manager.cc:114] Feedback manager requires a model with a single signature inference. Disabling support for feedback tensors.\n",
      "W0000 00:00:1745956281.067023 9216052 inference_feedback_manager.cc:114] Feedback manager requires a model with a single signature inference. Disabling support for feedback tensors.\n",
      "I0000 00:00:1745956281.151810 9204014 gl_context.cc:369] GL version: 2.1 (2.1 ATI-5.2.4), renderer: AMD Radeon Pro 5500M OpenGL Engine\n",
      "W0000 00:00:1745956281.155094 9216069 inference_feedback_manager.cc:114] Feedback manager requires a model with a single signature inference. Disabling support for feedback tensors.\n",
      "W0000 00:00:1745956281.171849 9216070 inference_feedback_manager.cc:114] Feedback manager requires a model with a single signature inference. Disabling support for feedback tensors.\n",
      "I0000 00:00:1745956281.260205 9204014 gl_context.cc:369] GL version: 2.1 (2.1 ATI-5.2.4), renderer: AMD Radeon Pro 5500M OpenGL Engine\n",
      "W0000 00:00:1745956281.264409 9216080 inference_feedback_manager.cc:114] Feedback manager requires a model with a single signature inference. Disabling support for feedback tensors.\n",
      "W0000 00:00:1745956281.279577 9216084 inference_feedback_manager.cc:114] Feedback manager requires a model with a single signature inference. Disabling support for feedback tensors.\n",
      "I0000 00:00:1745956281.347568 9204014 gl_context.cc:369] GL version: 2.1 (2.1 ATI-5.2.4), renderer: AMD Radeon Pro 5500M OpenGL Engine\n",
      "W0000 00:00:1745956281.351230 9216100 inference_feedback_manager.cc:114] Feedback manager requires a model with a single signature inference. Disabling support for feedback tensors.\n",
      "W0000 00:00:1745956281.366915 9216099 inference_feedback_manager.cc:114] Feedback manager requires a model with a single signature inference. Disabling support for feedback tensors.\n",
      "I0000 00:00:1745956281.410115 9204014 gl_context.cc:369] GL version: 2.1 (2.1 ATI-5.2.4), renderer: AMD Radeon Pro 5500M OpenGL Engine\n",
      "W0000 00:00:1745956281.414991 9216115 inference_feedback_manager.cc:114] Feedback manager requires a model with a single signature inference. Disabling support for feedback tensors.\n",
      "W0000 00:00:1745956281.429861 9216119 inference_feedback_manager.cc:114] Feedback manager requires a model with a single signature inference. Disabling support for feedback tensors.\n",
      "I0000 00:00:1745956281.466638 9204014 gl_context.cc:369] GL version: 2.1 (2.1 ATI-5.2.4), renderer: AMD Radeon Pro 5500M OpenGL Engine\n",
      "W0000 00:00:1745956281.470575 9216130 inference_feedback_manager.cc:114] Feedback manager requires a model with a single signature inference. Disabling support for feedback tensors.\n",
      "W0000 00:00:1745956281.487212 9216129 inference_feedback_manager.cc:114] Feedback manager requires a model with a single signature inference. Disabling support for feedback tensors.\n",
      "I0000 00:00:1745956281.522927 9204014 gl_context.cc:369] GL version: 2.1 (2.1 ATI-5.2.4), renderer: AMD Radeon Pro 5500M OpenGL Engine\n",
      "W0000 00:00:1745956281.526568 9216152 inference_feedback_manager.cc:114] Feedback manager requires a model with a single signature inference. Disabling support for feedback tensors.\n",
      "W0000 00:00:1745956281.542062 9216153 inference_feedback_manager.cc:114] Feedback manager requires a model with a single signature inference. Disabling support for feedback tensors.\n",
      "I0000 00:00:1745956281.575662 9204014 gl_context.cc:369] GL version: 2.1 (2.1 ATI-5.2.4), renderer: AMD Radeon Pro 5500M OpenGL Engine\n",
      "W0000 00:00:1745956281.580008 9216172 inference_feedback_manager.cc:114] Feedback manager requires a model with a single signature inference. Disabling support for feedback tensors.\n",
      "W0000 00:00:1745956281.596946 9216182 inference_feedback_manager.cc:114] Feedback manager requires a model with a single signature inference. Disabling support for feedback tensors.\n",
      "I0000 00:00:1745956281.648614 9204014 gl_context.cc:369] GL version: 2.1 (2.1 ATI-5.2.4), renderer: AMD Radeon Pro 5500M OpenGL Engine\n",
      "W0000 00:00:1745956281.652757 9216187 inference_feedback_manager.cc:114] Feedback manager requires a model with a single signature inference. Disabling support for feedback tensors.\n",
      "W0000 00:00:1745956281.669674 9216188 inference_feedback_manager.cc:114] Feedback manager requires a model with a single signature inference. Disabling support for feedback tensors.\n",
      "I0000 00:00:1745956281.764365 9204014 gl_context.cc:369] GL version: 2.1 (2.1 ATI-5.2.4), renderer: AMD Radeon Pro 5500M OpenGL Engine\n",
      "W0000 00:00:1745956281.879594 9216199 inference_feedback_manager.cc:114] Feedback manager requires a model with a single signature inference. Disabling support for feedback tensors.\n",
      "W0000 00:00:1745956281.912376 9216199 inference_feedback_manager.cc:114] Feedback manager requires a model with a single signature inference. Disabling support for feedback tensors.\n",
      "I0000 00:00:1745956282.028304 9204014 gl_context.cc:369] GL version: 2.1 (2.1 ATI-5.2.4), renderer: AMD Radeon Pro 5500M OpenGL Engine\n",
      "W0000 00:00:1745956282.134376 9216223 inference_feedback_manager.cc:114] Feedback manager requires a model with a single signature inference. Disabling support for feedback tensors.\n",
      "W0000 00:00:1745956282.166472 9216227 inference_feedback_manager.cc:114] Feedback manager requires a model with a single signature inference. Disabling support for feedback tensors.\n",
      "I0000 00:00:1745956282.330939 9204014 gl_context.cc:369] GL version: 2.1 (2.1 ATI-5.2.4), renderer: AMD Radeon Pro 5500M OpenGL Engine\n",
      "W0000 00:00:1745956282.451160 9216239 inference_feedback_manager.cc:114] Feedback manager requires a model with a single signature inference. Disabling support for feedback tensors.\n",
      "W0000 00:00:1745956282.484702 9216239 inference_feedback_manager.cc:114] Feedback manager requires a model with a single signature inference. Disabling support for feedback tensors.\n",
      "I0000 00:00:1745956282.624090 9204014 gl_context.cc:369] GL version: 2.1 (2.1 ATI-5.2.4), renderer: AMD Radeon Pro 5500M OpenGL Engine\n",
      "W0000 00:00:1745956282.740252 9216265 inference_feedback_manager.cc:114] Feedback manager requires a model with a single signature inference. Disabling support for feedback tensors.\n",
      "W0000 00:00:1745956282.773355 9216272 inference_feedback_manager.cc:114] Feedback manager requires a model with a single signature inference. Disabling support for feedback tensors.\n",
      "I0000 00:00:1745956282.865290 9204014 gl_context.cc:369] GL version: 2.1 (2.1 ATI-5.2.4), renderer: AMD Radeon Pro 5500M OpenGL Engine\n",
      "W0000 00:00:1745956282.986137 9216284 inference_feedback_manager.cc:114] Feedback manager requires a model with a single signature inference. Disabling support for feedback tensors.\n",
      "W0000 00:00:1745956283.018988 9216284 inference_feedback_manager.cc:114] Feedback manager requires a model with a single signature inference. Disabling support for feedback tensors.\n",
      "I0000 00:00:1745956283.140788 9204014 gl_context.cc:369] GL version: 2.1 (2.1 ATI-5.2.4), renderer: AMD Radeon Pro 5500M OpenGL Engine\n",
      "W0000 00:00:1745956283.260252 9216301 inference_feedback_manager.cc:114] Feedback manager requires a model with a single signature inference. Disabling support for feedback tensors.\n",
      "W0000 00:00:1745956283.292700 9216301 inference_feedback_manager.cc:114] Feedback manager requires a model with a single signature inference. Disabling support for feedback tensors.\n",
      "I0000 00:00:1745956283.380583 9204014 gl_context.cc:369] GL version: 2.1 (2.1 ATI-5.2.4), renderer: AMD Radeon Pro 5500M OpenGL Engine\n",
      "W0000 00:00:1745956283.497076 9216323 inference_feedback_manager.cc:114] Feedback manager requires a model with a single signature inference. Disabling support for feedback tensors.\n",
      "W0000 00:00:1745956283.530534 9216323 inference_feedback_manager.cc:114] Feedback manager requires a model with a single signature inference. Disabling support for feedback tensors.\n",
      "I0000 00:00:1745956283.651823 9204014 gl_context.cc:369] GL version: 2.1 (2.1 ATI-5.2.4), renderer: AMD Radeon Pro 5500M OpenGL Engine\n",
      "W0000 00:00:1745956283.759543 9216343 inference_feedback_manager.cc:114] Feedback manager requires a model with a single signature inference. Disabling support for feedback tensors.\n",
      "W0000 00:00:1745956283.792735 9216349 inference_feedback_manager.cc:114] Feedback manager requires a model with a single signature inference. Disabling support for feedback tensors.\n",
      "I0000 00:00:1745956283.922488 9204014 gl_context.cc:369] GL version: 2.1 (2.1 ATI-5.2.4), renderer: AMD Radeon Pro 5500M OpenGL Engine\n",
      "W0000 00:00:1745956284.029516 9216359 inference_feedback_manager.cc:114] Feedback manager requires a model with a single signature inference. Disabling support for feedback tensors.\n",
      "W0000 00:00:1745956284.060337 9216359 inference_feedback_manager.cc:114] Feedback manager requires a model with a single signature inference. Disabling support for feedback tensors.\n",
      "I0000 00:00:1745956284.141894 9204014 gl_context.cc:369] GL version: 2.1 (2.1 ATI-5.2.4), renderer: AMD Radeon Pro 5500M OpenGL Engine\n",
      "W0000 00:00:1745956284.248768 9216377 inference_feedback_manager.cc:114] Feedback manager requires a model with a single signature inference. Disabling support for feedback tensors.\n",
      "W0000 00:00:1745956284.280025 9216377 inference_feedback_manager.cc:114] Feedback manager requires a model with a single signature inference. Disabling support for feedback tensors.\n",
      "I0000 00:00:1745956284.377220 9204014 gl_context.cc:369] GL version: 2.1 (2.1 ATI-5.2.4), renderer: AMD Radeon Pro 5500M OpenGL Engine\n",
      "W0000 00:00:1745956284.492757 9216391 inference_feedback_manager.cc:114] Feedback manager requires a model with a single signature inference. Disabling support for feedback tensors.\n",
      "W0000 00:00:1745956284.527001 9216391 inference_feedback_manager.cc:114] Feedback manager requires a model with a single signature inference. Disabling support for feedback tensors.\n",
      "I0000 00:00:1745956289.555941 9204014 gl_context.cc:369] GL version: 2.1 (2.1 ATI-5.2.4), renderer: AMD Radeon Pro 5500M OpenGL Engine\n",
      "W0000 00:00:1745956289.556705 9204014 face_landmarker_graph.cc:174] Sets FaceBlendshapesGraph acceleration to xnnpack by default.\n",
      "W0000 00:00:1745956289.565643 9216508 inference_feedback_manager.cc:114] Feedback manager requires a model with a single signature inference. Disabling support for feedback tensors.\n",
      "W0000 00:00:1745956289.580579 9216508 inference_feedback_manager.cc:114] Feedback manager requires a model with a single signature inference. Disabling support for feedback tensors.\n",
      " 33%|█████████████████████████████████████████████████████████████████████████▋                                                                                                                                                   | 3/9 [00:36<01:10, 11.82s/it]"
     ]
    },
    {
     "name": "stdout",
     "output_type": "stream",
     "text": [
      "max() arg is an empty sequence\n",
      "max() arg is an empty sequence\n"
     ]
    },
    {
     "name": "stderr",
     "output_type": "stream",
     "text": [
      "I0000 00:00:1745956291.998551 9204014 gl_context.cc:369] GL version: 2.1 (2.1 ATI-5.2.4), renderer: AMD Radeon Pro 5500M OpenGL Engine\n",
      "W0000 00:00:1745956292.002635 9216562 inference_feedback_manager.cc:114] Feedback manager requires a model with a single signature inference. Disabling support for feedback tensors.\n",
      "W0000 00:00:1745956292.019469 9216563 inference_feedback_manager.cc:114] Feedback manager requires a model with a single signature inference. Disabling support for feedback tensors.\n",
      "I0000 00:00:1745956292.113649 9204014 gl_context.cc:369] GL version: 2.1 (2.1 ATI-5.2.4), renderer: AMD Radeon Pro 5500M OpenGL Engine\n",
      "W0000 00:00:1745956292.117672 9216579 inference_feedback_manager.cc:114] Feedback manager requires a model with a single signature inference. Disabling support for feedback tensors.\n",
      "W0000 00:00:1745956292.133652 9216584 inference_feedback_manager.cc:114] Feedback manager requires a model with a single signature inference. Disabling support for feedback tensors.\n",
      "I0000 00:00:1745956292.222428 9204014 gl_context.cc:369] GL version: 2.1 (2.1 ATI-5.2.4), renderer: AMD Radeon Pro 5500M OpenGL Engine\n",
      "W0000 00:00:1745956292.226509 9216599 inference_feedback_manager.cc:114] Feedback manager requires a model with a single signature inference. Disabling support for feedback tensors.\n",
      "W0000 00:00:1745956292.241201 9216600 inference_feedback_manager.cc:114] Feedback manager requires a model with a single signature inference. Disabling support for feedback tensors.\n",
      "I0000 00:00:1745956292.330934 9204014 gl_context.cc:369] GL version: 2.1 (2.1 ATI-5.2.4), renderer: AMD Radeon Pro 5500M OpenGL Engine\n",
      "W0000 00:00:1745956292.334479 9216616 inference_feedback_manager.cc:114] Feedback manager requires a model with a single signature inference. Disabling support for feedback tensors.\n",
      "W0000 00:00:1745956292.351193 9216614 inference_feedback_manager.cc:114] Feedback manager requires a model with a single signature inference. Disabling support for feedback tensors.\n",
      "I0000 00:00:1745956292.443453 9204014 gl_context.cc:369] GL version: 2.1 (2.1 ATI-5.2.4), renderer: AMD Radeon Pro 5500M OpenGL Engine\n",
      "W0000 00:00:1745956292.448180 9216633 inference_feedback_manager.cc:114] Feedback manager requires a model with a single signature inference. Disabling support for feedback tensors.\n",
      "W0000 00:00:1745956292.463597 9216633 inference_feedback_manager.cc:114] Feedback manager requires a model with a single signature inference. Disabling support for feedback tensors.\n",
      "I0000 00:00:1745956292.559197 9204014 gl_context.cc:369] GL version: 2.1 (2.1 ATI-5.2.4), renderer: AMD Radeon Pro 5500M OpenGL Engine\n",
      "W0000 00:00:1745956292.564173 9216659 inference_feedback_manager.cc:114] Feedback manager requires a model with a single signature inference. Disabling support for feedback tensors.\n",
      "W0000 00:00:1745956292.580547 9216659 inference_feedback_manager.cc:114] Feedback manager requires a model with a single signature inference. Disabling support for feedback tensors.\n",
      "I0000 00:00:1745956292.643824 9204014 gl_context.cc:369] GL version: 2.1 (2.1 ATI-5.2.4), renderer: AMD Radeon Pro 5500M OpenGL Engine\n",
      "W0000 00:00:1745956292.647562 9216675 inference_feedback_manager.cc:114] Feedback manager requires a model with a single signature inference. Disabling support for feedback tensors.\n",
      "W0000 00:00:1745956292.664816 9216674 inference_feedback_manager.cc:114] Feedback manager requires a model with a single signature inference. Disabling support for feedback tensors.\n",
      "I0000 00:00:1745956292.706055 9204014 gl_context.cc:369] GL version: 2.1 (2.1 ATI-5.2.4), renderer: AMD Radeon Pro 5500M OpenGL Engine\n",
      "W0000 00:00:1745956292.711149 9216687 inference_feedback_manager.cc:114] Feedback manager requires a model with a single signature inference. Disabling support for feedback tensors.\n",
      "W0000 00:00:1745956292.728271 9216696 inference_feedback_manager.cc:114] Feedback manager requires a model with a single signature inference. Disabling support for feedback tensors.\n",
      "I0000 00:00:1745956292.766863 9204014 gl_context.cc:369] GL version: 2.1 (2.1 ATI-5.2.4), renderer: AMD Radeon Pro 5500M OpenGL Engine\n",
      "W0000 00:00:1745956292.770426 9216704 inference_feedback_manager.cc:114] Feedback manager requires a model with a single signature inference. Disabling support for feedback tensors.\n",
      "W0000 00:00:1745956292.787469 9216707 inference_feedback_manager.cc:114] Feedback manager requires a model with a single signature inference. Disabling support for feedback tensors.\n",
      "I0000 00:00:1745956292.853976 9204014 gl_context.cc:369] GL version: 2.1 (2.1 ATI-5.2.4), renderer: AMD Radeon Pro 5500M OpenGL Engine\n",
      "W0000 00:00:1745956292.858209 9216723 inference_feedback_manager.cc:114] Feedback manager requires a model with a single signature inference. Disabling support for feedback tensors.\n",
      "W0000 00:00:1745956292.875167 9216721 inference_feedback_manager.cc:114] Feedback manager requires a model with a single signature inference. Disabling support for feedback tensors.\n",
      "I0000 00:00:1745956292.976737 9204014 gl_context.cc:369] GL version: 2.1 (2.1 ATI-5.2.4), renderer: AMD Radeon Pro 5500M OpenGL Engine\n",
      "W0000 00:00:1745956293.086306 9216738 inference_feedback_manager.cc:114] Feedback manager requires a model with a single signature inference. Disabling support for feedback tensors.\n",
      "W0000 00:00:1745956293.121466 9216745 inference_feedback_manager.cc:114] Feedback manager requires a model with a single signature inference. Disabling support for feedback tensors.\n",
      "I0000 00:00:1745956293.232382 9204014 gl_context.cc:369] GL version: 2.1 (2.1 ATI-5.2.4), renderer: AMD Radeon Pro 5500M OpenGL Engine\n",
      "W0000 00:00:1745956293.342599 9216752 inference_feedback_manager.cc:114] Feedback manager requires a model with a single signature inference. Disabling support for feedback tensors.\n",
      "W0000 00:00:1745956293.374851 9216752 inference_feedback_manager.cc:114] Feedback manager requires a model with a single signature inference. Disabling support for feedback tensors.\n",
      "I0000 00:00:1745956293.466977 9204014 gl_context.cc:369] GL version: 2.1 (2.1 ATI-5.2.4), renderer: AMD Radeon Pro 5500M OpenGL Engine\n",
      "W0000 00:00:1745956293.579756 9216767 inference_feedback_manager.cc:114] Feedback manager requires a model with a single signature inference. Disabling support for feedback tensors.\n",
      "W0000 00:00:1745956293.613727 9216767 inference_feedback_manager.cc:114] Feedback manager requires a model with a single signature inference. Disabling support for feedback tensors.\n",
      "I0000 00:00:1745956293.727681 9204014 gl_context.cc:369] GL version: 2.1 (2.1 ATI-5.2.4), renderer: AMD Radeon Pro 5500M OpenGL Engine\n",
      "W0000 00:00:1745956293.841701 9216795 inference_feedback_manager.cc:114] Feedback manager requires a model with a single signature inference. Disabling support for feedback tensors.\n",
      "W0000 00:00:1745956293.873929 9216795 inference_feedback_manager.cc:114] Feedback manager requires a model with a single signature inference. Disabling support for feedback tensors.\n",
      "I0000 00:00:1745956294.003094 9204014 gl_context.cc:369] GL version: 2.1 (2.1 ATI-5.2.4), renderer: AMD Radeon Pro 5500M OpenGL Engine\n",
      "W0000 00:00:1745956294.116839 9216810 inference_feedback_manager.cc:114] Feedback manager requires a model with a single signature inference. Disabling support for feedback tensors.\n",
      "W0000 00:00:1745956294.151702 9216810 inference_feedback_manager.cc:114] Feedback manager requires a model with a single signature inference. Disabling support for feedback tensors.\n",
      "I0000 00:00:1745956294.307171 9204014 gl_context.cc:369] GL version: 2.1 (2.1 ATI-5.2.4), renderer: AMD Radeon Pro 5500M OpenGL Engine\n",
      "W0000 00:00:1745956294.420769 9216828 inference_feedback_manager.cc:114] Feedback manager requires a model with a single signature inference. Disabling support for feedback tensors.\n",
      "W0000 00:00:1745956294.452796 9216836 inference_feedback_manager.cc:114] Feedback manager requires a model with a single signature inference. Disabling support for feedback tensors.\n",
      "I0000 00:00:1745956294.545059 9204014 gl_context.cc:369] GL version: 2.1 (2.1 ATI-5.2.4), renderer: AMD Radeon Pro 5500M OpenGL Engine\n",
      "W0000 00:00:1745956294.663906 9216853 inference_feedback_manager.cc:114] Feedback manager requires a model with a single signature inference. Disabling support for feedback tensors.\n",
      "W0000 00:00:1745956294.697237 9216853 inference_feedback_manager.cc:114] Feedback manager requires a model with a single signature inference. Disabling support for feedback tensors.\n",
      "I0000 00:00:1745956294.821968 9204014 gl_context.cc:369] GL version: 2.1 (2.1 ATI-5.2.4), renderer: AMD Radeon Pro 5500M OpenGL Engine\n",
      "W0000 00:00:1745956294.939659 9216873 inference_feedback_manager.cc:114] Feedback manager requires a model with a single signature inference. Disabling support for feedback tensors.\n",
      "W0000 00:00:1745956294.972642 9216873 inference_feedback_manager.cc:114] Feedback manager requires a model with a single signature inference. Disabling support for feedback tensors.\n",
      "I0000 00:00:1745956295.087384 9204014 gl_context.cc:369] GL version: 2.1 (2.1 ATI-5.2.4), renderer: AMD Radeon Pro 5500M OpenGL Engine\n",
      "W0000 00:00:1745956295.196682 9216890 inference_feedback_manager.cc:114] Feedback manager requires a model with a single signature inference. Disabling support for feedback tensors.\n",
      "W0000 00:00:1745956295.228102 9216890 inference_feedback_manager.cc:114] Feedback manager requires a model with a single signature inference. Disabling support for feedback tensors.\n",
      "I0000 00:00:1745956295.341739 9204014 gl_context.cc:369] GL version: 2.1 (2.1 ATI-5.2.4), renderer: AMD Radeon Pro 5500M OpenGL Engine\n",
      "W0000 00:00:1745956295.448980 9216907 inference_feedback_manager.cc:114] Feedback manager requires a model with a single signature inference. Disabling support for feedback tensors.\n",
      "W0000 00:00:1745956295.480234 9216907 inference_feedback_manager.cc:114] Feedback manager requires a model with a single signature inference. Disabling support for feedback tensors.\n",
      "I0000 00:00:1745956295.607258 9204014 gl_context.cc:369] GL version: 2.1 (2.1 ATI-5.2.4), renderer: AMD Radeon Pro 5500M OpenGL Engine\n",
      "W0000 00:00:1745956295.720044 9216931 inference_feedback_manager.cc:114] Feedback manager requires a model with a single signature inference. Disabling support for feedback tensors.\n",
      "W0000 00:00:1745956295.752495 9216931 inference_feedback_manager.cc:114] Feedback manager requires a model with a single signature inference. Disabling support for feedback tensors.\n",
      "I0000 00:00:1745956300.642957 9204014 gl_context.cc:369] GL version: 2.1 (2.1 ATI-5.2.4), renderer: AMD Radeon Pro 5500M OpenGL Engine\n",
      "W0000 00:00:1745956300.643736 9204014 face_landmarker_graph.cc:174] Sets FaceBlendshapesGraph acceleration to xnnpack by default.\n",
      "W0000 00:00:1745956300.652696 9217012 inference_feedback_manager.cc:114] Feedback manager requires a model with a single signature inference. Disabling support for feedback tensors.\n",
      "W0000 00:00:1745956300.669313 9217012 inference_feedback_manager.cc:114] Feedback manager requires a model with a single signature inference. Disabling support for feedback tensors.\n",
      " 44%|██████████████████████████████████████████████████████████████████████████████████████████████████▏                                                                                                                          | 4/9 [00:48<00:59, 11.92s/it]"
     ]
    },
    {
     "name": "stdout",
     "output_type": "stream",
     "text": [
      "max() arg is an empty sequence\n",
      "max() arg is an empty sequence\n",
      "max() arg is an empty sequence\n",
      "max() arg is an empty sequence\n",
      "max() arg is an empty sequence\n",
      "max() arg is an empty sequence\n"
     ]
    },
    {
     "name": "stderr",
     "output_type": "stream",
     "text": [
      "I0000 00:00:1745956304.194853 9204014 gl_context.cc:369] GL version: 2.1 (2.1 ATI-5.2.4), renderer: AMD Radeon Pro 5500M OpenGL Engine\n",
      "W0000 00:00:1745956304.197551 9217113 inference_feedback_manager.cc:114] Feedback manager requires a model with a single signature inference. Disabling support for feedback tensors.\n",
      "W0000 00:00:1745956304.215360 9217118 inference_feedback_manager.cc:114] Feedback manager requires a model with a single signature inference. Disabling support for feedback tensors.\n",
      "I0000 00:00:1745956304.315242 9204014 gl_context.cc:369] GL version: 2.1 (2.1 ATI-5.2.4), renderer: AMD Radeon Pro 5500M OpenGL Engine\n",
      "W0000 00:00:1745956304.318410 9217136 inference_feedback_manager.cc:114] Feedback manager requires a model with a single signature inference. Disabling support for feedback tensors.\n",
      "W0000 00:00:1745956304.342368 9217135 inference_feedback_manager.cc:114] Feedback manager requires a model with a single signature inference. Disabling support for feedback tensors.\n",
      "I0000 00:00:1745956304.439593 9204014 gl_context.cc:369] GL version: 2.1 (2.1 ATI-5.2.4), renderer: AMD Radeon Pro 5500M OpenGL Engine\n",
      "W0000 00:00:1745956304.443932 9217153 inference_feedback_manager.cc:114] Feedback manager requires a model with a single signature inference. Disabling support for feedback tensors.\n",
      "W0000 00:00:1745956304.459861 9217153 inference_feedback_manager.cc:114] Feedback manager requires a model with a single signature inference. Disabling support for feedback tensors.\n",
      "I0000 00:00:1745956304.569299 9204014 gl_context.cc:369] GL version: 2.1 (2.1 ATI-5.2.4), renderer: AMD Radeon Pro 5500M OpenGL Engine\n",
      "W0000 00:00:1745956304.573950 9217180 inference_feedback_manager.cc:114] Feedback manager requires a model with a single signature inference. Disabling support for feedback tensors.\n",
      "W0000 00:00:1745956304.592144 9217183 inference_feedback_manager.cc:114] Feedback manager requires a model with a single signature inference. Disabling support for feedback tensors.\n",
      "I0000 00:00:1745956304.674720 9204014 gl_context.cc:369] GL version: 2.1 (2.1 ATI-5.2.4), renderer: AMD Radeon Pro 5500M OpenGL Engine\n",
      "W0000 00:00:1745956304.680493 9217198 inference_feedback_manager.cc:114] Feedback manager requires a model with a single signature inference. Disabling support for feedback tensors.\n",
      "W0000 00:00:1745956304.697582 9217200 inference_feedback_manager.cc:114] Feedback manager requires a model with a single signature inference. Disabling support for feedback tensors.\n",
      "I0000 00:00:1745956304.744330 9204014 gl_context.cc:369] GL version: 2.1 (2.1 ATI-5.2.4), renderer: AMD Radeon Pro 5500M OpenGL Engine\n",
      "W0000 00:00:1745956304.748656 9217213 inference_feedback_manager.cc:114] Feedback manager requires a model with a single signature inference. Disabling support for feedback tensors.\n",
      "W0000 00:00:1745956304.764557 9217214 inference_feedback_manager.cc:114] Feedback manager requires a model with a single signature inference. Disabling support for feedback tensors.\n",
      "I0000 00:00:1745956304.838896 9204014 gl_context.cc:369] GL version: 2.1 (2.1 ATI-5.2.4), renderer: AMD Radeon Pro 5500M OpenGL Engine\n",
      "W0000 00:00:1745956304.842909 9217232 inference_feedback_manager.cc:114] Feedback manager requires a model with a single signature inference. Disabling support for feedback tensors.\n",
      "W0000 00:00:1745956304.861088 9217234 inference_feedback_manager.cc:114] Feedback manager requires a model with a single signature inference. Disabling support for feedback tensors.\n",
      "I0000 00:00:1745956304.966378 9204014 gl_context.cc:369] GL version: 2.1 (2.1 ATI-5.2.4), renderer: AMD Radeon Pro 5500M OpenGL Engine\n",
      "W0000 00:00:1745956304.970169 9217251 inference_feedback_manager.cc:114] Feedback manager requires a model with a single signature inference. Disabling support for feedback tensors.\n",
      "W0000 00:00:1745956304.991132 9217250 inference_feedback_manager.cc:114] Feedback manager requires a model with a single signature inference. Disabling support for feedback tensors.\n",
      "I0000 00:00:1745956305.084420 9204014 gl_context.cc:369] GL version: 2.1 (2.1 ATI-5.2.4), renderer: AMD Radeon Pro 5500M OpenGL Engine\n",
      "W0000 00:00:1745956305.088583 9217269 inference_feedback_manager.cc:114] Feedback manager requires a model with a single signature inference. Disabling support for feedback tensors.\n",
      "W0000 00:00:1745956305.105902 9217268 inference_feedback_manager.cc:114] Feedback manager requires a model with a single signature inference. Disabling support for feedback tensors.\n",
      "I0000 00:00:1745956305.211979 9204014 gl_context.cc:369] GL version: 2.1 (2.1 ATI-5.2.4), renderer: AMD Radeon Pro 5500M OpenGL Engine\n",
      "W0000 00:00:1745956305.216433 9217284 inference_feedback_manager.cc:114] Feedback manager requires a model with a single signature inference. Disabling support for feedback tensors.\n",
      "W0000 00:00:1745956305.236153 9217284 inference_feedback_manager.cc:114] Feedback manager requires a model with a single signature inference. Disabling support for feedback tensors.\n",
      "I0000 00:00:1745956305.345075 9204014 gl_context.cc:369] GL version: 2.1 (2.1 ATI-5.2.4), renderer: AMD Radeon Pro 5500M OpenGL Engine\n",
      "W0000 00:00:1745956305.464424 9217300 inference_feedback_manager.cc:114] Feedback manager requires a model with a single signature inference. Disabling support for feedback tensors.\n",
      "W0000 00:00:1745956305.505849 9217300 inference_feedback_manager.cc:114] Feedback manager requires a model with a single signature inference. Disabling support for feedback tensors.\n",
      "I0000 00:00:1745956305.657952 9204014 gl_context.cc:369] GL version: 2.1 (2.1 ATI-5.2.4), renderer: AMD Radeon Pro 5500M OpenGL Engine\n",
      "W0000 00:00:1745956305.771479 9217324 inference_feedback_manager.cc:114] Feedback manager requires a model with a single signature inference. Disabling support for feedback tensors.\n",
      "W0000 00:00:1745956305.805820 9217329 inference_feedback_manager.cc:114] Feedback manager requires a model with a single signature inference. Disabling support for feedback tensors.\n",
      "I0000 00:00:1745956305.947876 9204014 gl_context.cc:369] GL version: 2.1 (2.1 ATI-5.2.4), renderer: AMD Radeon Pro 5500M OpenGL Engine\n",
      "W0000 00:00:1745956306.069426 9217341 inference_feedback_manager.cc:114] Feedback manager requires a model with a single signature inference. Disabling support for feedback tensors.\n",
      "W0000 00:00:1745956306.102866 9217341 inference_feedback_manager.cc:114] Feedback manager requires a model with a single signature inference. Disabling support for feedback tensors.\n",
      "I0000 00:00:1745956306.215158 9204014 gl_context.cc:369] GL version: 2.1 (2.1 ATI-5.2.4), renderer: AMD Radeon Pro 5500M OpenGL Engine\n",
      "W0000 00:00:1745956306.330474 9217361 inference_feedback_manager.cc:114] Feedback manager requires a model with a single signature inference. Disabling support for feedback tensors.\n",
      "W0000 00:00:1745956306.366173 9217361 inference_feedback_manager.cc:114] Feedback manager requires a model with a single signature inference. Disabling support for feedback tensors.\n",
      "I0000 00:00:1745956306.504745 9204014 gl_context.cc:369] GL version: 2.1 (2.1 ATI-5.2.4), renderer: AMD Radeon Pro 5500M OpenGL Engine\n",
      "W0000 00:00:1745956306.623454 9217375 inference_feedback_manager.cc:114] Feedback manager requires a model with a single signature inference. Disabling support for feedback tensors.\n",
      "W0000 00:00:1745956306.657653 9217379 inference_feedback_manager.cc:114] Feedback manager requires a model with a single signature inference. Disabling support for feedback tensors.\n",
      "I0000 00:00:1745956306.800165 9204014 gl_context.cc:369] GL version: 2.1 (2.1 ATI-5.2.4), renderer: AMD Radeon Pro 5500M OpenGL Engine\n",
      "W0000 00:00:1745956306.921918 9217401 inference_feedback_manager.cc:114] Feedback manager requires a model with a single signature inference. Disabling support for feedback tensors.\n",
      "W0000 00:00:1745956306.955268 9217408 inference_feedback_manager.cc:114] Feedback manager requires a model with a single signature inference. Disabling support for feedback tensors.\n",
      "I0000 00:00:1745956307.046577 9204014 gl_context.cc:369] GL version: 2.1 (2.1 ATI-5.2.4), renderer: AMD Radeon Pro 5500M OpenGL Engine\n",
      "W0000 00:00:1745956307.163386 9217418 inference_feedback_manager.cc:114] Feedback manager requires a model with a single signature inference. Disabling support for feedback tensors.\n",
      "W0000 00:00:1745956307.197542 9217418 inference_feedback_manager.cc:114] Feedback manager requires a model with a single signature inference. Disabling support for feedback tensors.\n",
      "I0000 00:00:1745956307.324278 9204014 gl_context.cc:369] GL version: 2.1 (2.1 ATI-5.2.4), renderer: AMD Radeon Pro 5500M OpenGL Engine\n",
      "W0000 00:00:1745956307.440262 9217433 inference_feedback_manager.cc:114] Feedback manager requires a model with a single signature inference. Disabling support for feedback tensors.\n",
      "W0000 00:00:1745956307.475485 9217441 inference_feedback_manager.cc:114] Feedback manager requires a model with a single signature inference. Disabling support for feedback tensors.\n",
      "I0000 00:00:1745956307.609948 9204014 gl_context.cc:369] GL version: 2.1 (2.1 ATI-5.2.4), renderer: AMD Radeon Pro 5500M OpenGL Engine\n",
      "W0000 00:00:1745956307.731839 9217472 inference_feedback_manager.cc:114] Feedback manager requires a model with a single signature inference. Disabling support for feedback tensors.\n",
      "W0000 00:00:1745956307.765766 9217472 inference_feedback_manager.cc:114] Feedback manager requires a model with a single signature inference. Disabling support for feedback tensors.\n",
      "I0000 00:00:1745956307.900221 9204014 gl_context.cc:369] GL version: 2.1 (2.1 ATI-5.2.4), renderer: AMD Radeon Pro 5500M OpenGL Engine\n",
      "W0000 00:00:1745956308.015549 9217492 inference_feedback_manager.cc:114] Feedback manager requires a model with a single signature inference. Disabling support for feedback tensors.\n",
      "W0000 00:00:1745956308.048781 9217492 inference_feedback_manager.cc:114] Feedback manager requires a model with a single signature inference. Disabling support for feedback tensors.\n",
      "I0000 00:00:1745956308.185771 9204014 gl_context.cc:369] GL version: 2.1 (2.1 ATI-5.2.4), renderer: AMD Radeon Pro 5500M OpenGL Engine\n",
      "W0000 00:00:1745956308.308416 9217506 inference_feedback_manager.cc:114] Feedback manager requires a model with a single signature inference. Disabling support for feedback tensors.\n",
      "W0000 00:00:1745956308.343730 9217506 inference_feedback_manager.cc:114] Feedback manager requires a model with a single signature inference. Disabling support for feedback tensors.\n",
      "I0000 00:00:1745956313.899718 9204014 gl_context.cc:369] GL version: 2.1 (2.1 ATI-5.2.4), renderer: AMD Radeon Pro 5500M OpenGL Engine\n",
      "W0000 00:00:1745956313.900459 9204014 face_landmarker_graph.cc:174] Sets FaceBlendshapesGraph acceleration to xnnpack by default.\n",
      "W0000 00:00:1745956313.909460 9217616 inference_feedback_manager.cc:114] Feedback manager requires a model with a single signature inference. Disabling support for feedback tensors.\n",
      "W0000 00:00:1745956313.925414 9217616 inference_feedback_manager.cc:114] Feedback manager requires a model with a single signature inference. Disabling support for feedback tensors.\n",
      " 56%|██████████████████████████████████████████████████████████████████████████████████████████████████████████████████████████▊                                                                                                  | 5/9 [01:01<00:48, 12.22s/it]"
     ]
    },
    {
     "name": "stdout",
     "output_type": "stream",
     "text": [
      "max() arg is an empty sequence\n",
      "max() arg is an empty sequence\n",
      "max() arg is an empty sequence\n",
      "max() arg is an empty sequence\n",
      "max() arg is an empty sequence\n"
     ]
    },
    {
     "name": "stderr",
     "output_type": "stream",
     "text": [
      "I0000 00:00:1745956316.799348 9204014 gl_context.cc:369] GL version: 2.1 (2.1 ATI-5.2.4), renderer: AMD Radeon Pro 5500M OpenGL Engine\n",
      "W0000 00:00:1745956316.802820 9217696 inference_feedback_manager.cc:114] Feedback manager requires a model with a single signature inference. Disabling support for feedback tensors.\n",
      "W0000 00:00:1745956316.821933 9217697 inference_feedback_manager.cc:114] Feedback manager requires a model with a single signature inference. Disabling support for feedback tensors.\n",
      "I0000 00:00:1745956316.878331 9204014 gl_context.cc:369] GL version: 2.1 (2.1 ATI-5.2.4), renderer: AMD Radeon Pro 5500M OpenGL Engine\n",
      "W0000 00:00:1745956316.882065 9217713 inference_feedback_manager.cc:114] Feedback manager requires a model with a single signature inference. Disabling support for feedback tensors.\n",
      "W0000 00:00:1745956316.898071 9217709 inference_feedback_manager.cc:114] Feedback manager requires a model with a single signature inference. Disabling support for feedback tensors.\n",
      "I0000 00:00:1745956316.951980 9204014 gl_context.cc:369] GL version: 2.1 (2.1 ATI-5.2.4), renderer: AMD Radeon Pro 5500M OpenGL Engine\n",
      "W0000 00:00:1745956316.956177 9217728 inference_feedback_manager.cc:114] Feedback manager requires a model with a single signature inference. Disabling support for feedback tensors.\n",
      "W0000 00:00:1745956316.971433 9217730 inference_feedback_manager.cc:114] Feedback manager requires a model with a single signature inference. Disabling support for feedback tensors.\n",
      "I0000 00:00:1745956317.056074 9204014 gl_context.cc:369] GL version: 2.1 (2.1 ATI-5.2.4), renderer: AMD Radeon Pro 5500M OpenGL Engine\n",
      "W0000 00:00:1745956317.059866 9217741 inference_feedback_manager.cc:114] Feedback manager requires a model with a single signature inference. Disabling support for feedback tensors.\n",
      "W0000 00:00:1745956317.074705 9217745 inference_feedback_manager.cc:114] Feedback manager requires a model with a single signature inference. Disabling support for feedback tensors.\n",
      "I0000 00:00:1745956317.157211 9204014 gl_context.cc:369] GL version: 2.1 (2.1 ATI-5.2.4), renderer: AMD Radeon Pro 5500M OpenGL Engine\n",
      "W0000 00:00:1745956317.160893 9217761 inference_feedback_manager.cc:114] Feedback manager requires a model with a single signature inference. Disabling support for feedback tensors.\n",
      "W0000 00:00:1745956317.176992 9217758 inference_feedback_manager.cc:114] Feedback manager requires a model with a single signature inference. Disabling support for feedback tensors.\n",
      "I0000 00:00:1745956317.258375 9204014 gl_context.cc:369] GL version: 2.1 (2.1 ATI-5.2.4), renderer: AMD Radeon Pro 5500M OpenGL Engine\n",
      "W0000 00:00:1745956317.262202 9217774 inference_feedback_manager.cc:114] Feedback manager requires a model with a single signature inference. Disabling support for feedback tensors.\n",
      "W0000 00:00:1745956317.277340 9217778 inference_feedback_manager.cc:114] Feedback manager requires a model with a single signature inference. Disabling support for feedback tensors.\n",
      "I0000 00:00:1745956317.349839 9204014 gl_context.cc:369] GL version: 2.1 (2.1 ATI-5.2.4), renderer: AMD Radeon Pro 5500M OpenGL Engine\n",
      "W0000 00:00:1745956317.353757 9217793 inference_feedback_manager.cc:114] Feedback manager requires a model with a single signature inference. Disabling support for feedback tensors.\n",
      "W0000 00:00:1745956317.369554 9217802 inference_feedback_manager.cc:114] Feedback manager requires a model with a single signature inference. Disabling support for feedback tensors.\n",
      "I0000 00:00:1745956317.403656 9204014 gl_context.cc:369] GL version: 2.1 (2.1 ATI-5.2.4), renderer: AMD Radeon Pro 5500M OpenGL Engine\n",
      "W0000 00:00:1745956317.407605 9217810 inference_feedback_manager.cc:114] Feedback manager requires a model with a single signature inference. Disabling support for feedback tensors.\n",
      "W0000 00:00:1745956317.422530 9217808 inference_feedback_manager.cc:114] Feedback manager requires a model with a single signature inference. Disabling support for feedback tensors.\n",
      "I0000 00:00:1745956317.462355 9204014 gl_context.cc:369] GL version: 2.1 (2.1 ATI-5.2.4), renderer: AMD Radeon Pro 5500M OpenGL Engine\n",
      "W0000 00:00:1745956317.466703 9217826 inference_feedback_manager.cc:114] Feedback manager requires a model with a single signature inference. Disabling support for feedback tensors.\n",
      "W0000 00:00:1745956317.483275 9217824 inference_feedback_manager.cc:114] Feedback manager requires a model with a single signature inference. Disabling support for feedback tensors.\n",
      "I0000 00:00:1745956317.522766 9204014 gl_context.cc:369] GL version: 2.1 (2.1 ATI-5.2.4), renderer: AMD Radeon Pro 5500M OpenGL Engine\n",
      "W0000 00:00:1745956317.526660 9217840 inference_feedback_manager.cc:114] Feedback manager requires a model with a single signature inference. Disabling support for feedback tensors.\n",
      "W0000 00:00:1745956317.543385 9217841 inference_feedback_manager.cc:114] Feedback manager requires a model with a single signature inference. Disabling support for feedback tensors.\n",
      "I0000 00:00:1745956317.588334 9204014 gl_context.cc:369] GL version: 2.1 (2.1 ATI-5.2.4), renderer: AMD Radeon Pro 5500M OpenGL Engine\n",
      "W0000 00:00:1745956317.702515 9217866 inference_feedback_manager.cc:114] Feedback manager requires a model with a single signature inference. Disabling support for feedback tensors.\n",
      "W0000 00:00:1745956317.737277 9217871 inference_feedback_manager.cc:114] Feedback manager requires a model with a single signature inference. Disabling support for feedback tensors.\n",
      "I0000 00:00:1745956317.828824 9204014 gl_context.cc:369] GL version: 2.1 (2.1 ATI-5.2.4), renderer: AMD Radeon Pro 5500M OpenGL Engine\n",
      "W0000 00:00:1745956317.936629 9217879 inference_feedback_manager.cc:114] Feedback manager requires a model with a single signature inference. Disabling support for feedback tensors.\n",
      "W0000 00:00:1745956317.970928 9217879 inference_feedback_manager.cc:114] Feedback manager requires a model with a single signature inference. Disabling support for feedback tensors.\n",
      "I0000 00:00:1745956318.062529 9204014 gl_context.cc:369] GL version: 2.1 (2.1 ATI-5.2.4), renderer: AMD Radeon Pro 5500M OpenGL Engine\n",
      "W0000 00:00:1745956318.174317 9217895 inference_feedback_manager.cc:114] Feedback manager requires a model with a single signature inference. Disabling support for feedback tensors.\n",
      "W0000 00:00:1745956318.208029 9217895 inference_feedback_manager.cc:114] Feedback manager requires a model with a single signature inference. Disabling support for feedback tensors.\n",
      "I0000 00:00:1745956318.298753 9204014 gl_context.cc:369] GL version: 2.1 (2.1 ATI-5.2.4), renderer: AMD Radeon Pro 5500M OpenGL Engine\n",
      "W0000 00:00:1745956318.413534 9217911 inference_feedback_manager.cc:114] Feedback manager requires a model with a single signature inference. Disabling support for feedback tensors.\n",
      "W0000 00:00:1745956318.446970 9217911 inference_feedback_manager.cc:114] Feedback manager requires a model with a single signature inference. Disabling support for feedback tensors.\n",
      "I0000 00:00:1745956318.578693 9204014 gl_context.cc:369] GL version: 2.1 (2.1 ATI-5.2.4), renderer: AMD Radeon Pro 5500M OpenGL Engine\n",
      "W0000 00:00:1745956318.698076 9217937 inference_feedback_manager.cc:114] Feedback manager requires a model with a single signature inference. Disabling support for feedback tensors.\n",
      "W0000 00:00:1745956318.730953 9217937 inference_feedback_manager.cc:114] Feedback manager requires a model with a single signature inference. Disabling support for feedback tensors.\n",
      "I0000 00:00:1745956318.862420 9204014 gl_context.cc:369] GL version: 2.1 (2.1 ATI-5.2.4), renderer: AMD Radeon Pro 5500M OpenGL Engine\n",
      "W0000 00:00:1745956318.978179 9217959 inference_feedback_manager.cc:114] Feedback manager requires a model with a single signature inference. Disabling support for feedback tensors.\n",
      "W0000 00:00:1745956319.012660 9217959 inference_feedback_manager.cc:114] Feedback manager requires a model with a single signature inference. Disabling support for feedback tensors.\n",
      "I0000 00:00:1745956319.164812 9204014 gl_context.cc:369] GL version: 2.1 (2.1 ATI-5.2.4), renderer: AMD Radeon Pro 5500M OpenGL Engine\n",
      "W0000 00:00:1745956319.283835 9217976 inference_feedback_manager.cc:114] Feedback manager requires a model with a single signature inference. Disabling support for feedback tensors.\n",
      "W0000 00:00:1745956319.317913 9217976 inference_feedback_manager.cc:114] Feedback manager requires a model with a single signature inference. Disabling support for feedback tensors.\n",
      "I0000 00:00:1745956319.405758 9204014 gl_context.cc:369] GL version: 2.1 (2.1 ATI-5.2.4), renderer: AMD Radeon Pro 5500M OpenGL Engine\n",
      "W0000 00:00:1745956319.524335 9217991 inference_feedback_manager.cc:114] Feedback manager requires a model with a single signature inference. Disabling support for feedback tensors.\n",
      "W0000 00:00:1745956319.557807 9217991 inference_feedback_manager.cc:114] Feedback manager requires a model with a single signature inference. Disabling support for feedback tensors.\n",
      "I0000 00:00:1745956319.688339 9204014 gl_context.cc:369] GL version: 2.1 (2.1 ATI-5.2.4), renderer: AMD Radeon Pro 5500M OpenGL Engine\n",
      "W0000 00:00:1745956319.811010 9218014 inference_feedback_manager.cc:114] Feedback manager requires a model with a single signature inference. Disabling support for feedback tensors.\n",
      "W0000 00:00:1745956319.845332 9218014 inference_feedback_manager.cc:114] Feedback manager requires a model with a single signature inference. Disabling support for feedback tensors.\n",
      "I0000 00:00:1745956319.980457 9204014 gl_context.cc:369] GL version: 2.1 (2.1 ATI-5.2.4), renderer: AMD Radeon Pro 5500M OpenGL Engine\n",
      "W0000 00:00:1745956320.106485 9218038 inference_feedback_manager.cc:114] Feedback manager requires a model with a single signature inference. Disabling support for feedback tensors.\n",
      "W0000 00:00:1745956320.142139 9218038 inference_feedback_manager.cc:114] Feedback manager requires a model with a single signature inference. Disabling support for feedback tensors.\n",
      "I0000 00:00:1745956320.236858 9204014 gl_context.cc:369] GL version: 2.1 (2.1 ATI-5.2.4), renderer: AMD Radeon Pro 5500M OpenGL Engine\n",
      "W0000 00:00:1745956320.359692 9218059 inference_feedback_manager.cc:114] Feedback manager requires a model with a single signature inference. Disabling support for feedback tensors.\n",
      "W0000 00:00:1745956320.393840 9218059 inference_feedback_manager.cc:114] Feedback manager requires a model with a single signature inference. Disabling support for feedback tensors.\n",
      "I0000 00:00:1745956325.877167 9204014 gl_context.cc:369] GL version: 2.1 (2.1 ATI-5.2.4), renderer: AMD Radeon Pro 5500M OpenGL Engine\n",
      "W0000 00:00:1745956325.877913 9204014 face_landmarker_graph.cc:174] Sets FaceBlendshapesGraph acceleration to xnnpack by default.\n",
      "W0000 00:00:1745956325.886668 9218147 inference_feedback_manager.cc:114] Feedback manager requires a model with a single signature inference. Disabling support for feedback tensors.\n",
      "W0000 00:00:1745956325.902987 9218147 inference_feedback_manager.cc:114] Feedback manager requires a model with a single signature inference. Disabling support for feedback tensors.\n",
      " 67%|███████████████████████████████████████████████████████████████████████████████████████████████████████████████████████████████████████████████████▎                                                                         | 6/9 [01:13<00:36, 12.20s/it]"
     ]
    },
    {
     "name": "stdout",
     "output_type": "stream",
     "text": [
      "max() arg is an empty sequence\n",
      "max() arg is an empty sequence\n",
      "max() arg is an empty sequence\n"
     ]
    },
    {
     "name": "stderr",
     "output_type": "stream",
     "text": [
      "I0000 00:00:1745956329.082302 9204014 gl_context.cc:369] GL version: 2.1 (2.1 ATI-5.2.4), renderer: AMD Radeon Pro 5500M OpenGL Engine\n",
      "W0000 00:00:1745956329.085779 9218227 inference_feedback_manager.cc:114] Feedback manager requires a model with a single signature inference. Disabling support for feedback tensors.\n",
      "W0000 00:00:1745956329.104114 9218230 inference_feedback_manager.cc:114] Feedback manager requires a model with a single signature inference. Disabling support for feedback tensors.\n",
      "I0000 00:00:1745956329.156212 9204014 gl_context.cc:369] GL version: 2.1 (2.1 ATI-5.2.4), renderer: AMD Radeon Pro 5500M OpenGL Engine\n",
      "W0000 00:00:1745956329.160326 9218248 inference_feedback_manager.cc:114] Feedback manager requires a model with a single signature inference. Disabling support for feedback tensors.\n",
      "W0000 00:00:1745956329.176924 9218247 inference_feedback_manager.cc:114] Feedback manager requires a model with a single signature inference. Disabling support for feedback tensors.\n",
      "I0000 00:00:1745956329.262167 9204014 gl_context.cc:369] GL version: 2.1 (2.1 ATI-5.2.4), renderer: AMD Radeon Pro 5500M OpenGL Engine\n",
      "W0000 00:00:1745956329.266434 9218265 inference_feedback_manager.cc:114] Feedback manager requires a model with a single signature inference. Disabling support for feedback tensors.\n",
      "W0000 00:00:1745956329.283385 9218264 inference_feedback_manager.cc:114] Feedback manager requires a model with a single signature inference. Disabling support for feedback tensors.\n",
      "I0000 00:00:1745956329.378252 9204014 gl_context.cc:369] GL version: 2.1 (2.1 ATI-5.2.4), renderer: AMD Radeon Pro 5500M OpenGL Engine\n",
      "W0000 00:00:1745956329.382936 9218280 inference_feedback_manager.cc:114] Feedback manager requires a model with a single signature inference. Disabling support for feedback tensors.\n",
      "W0000 00:00:1745956329.401169 9218276 inference_feedback_manager.cc:114] Feedback manager requires a model with a single signature inference. Disabling support for feedback tensors.\n",
      "I0000 00:00:1745956329.486535 9204014 gl_context.cc:369] GL version: 2.1 (2.1 ATI-5.2.4), renderer: AMD Radeon Pro 5500M OpenGL Engine\n",
      "W0000 00:00:1745956329.490332 9218297 inference_feedback_manager.cc:114] Feedback manager requires a model with a single signature inference. Disabling support for feedback tensors.\n",
      "W0000 00:00:1745956329.504781 9218296 inference_feedback_manager.cc:114] Feedback manager requires a model with a single signature inference. Disabling support for feedback tensors.\n",
      "I0000 00:00:1745956329.573553 9204014 gl_context.cc:369] GL version: 2.1 (2.1 ATI-5.2.4), renderer: AMD Radeon Pro 5500M OpenGL Engine\n",
      "W0000 00:00:1745956329.577366 9218319 inference_feedback_manager.cc:114] Feedback manager requires a model with a single signature inference. Disabling support for feedback tensors.\n",
      "W0000 00:00:1745956329.594246 9218320 inference_feedback_manager.cc:114] Feedback manager requires a model with a single signature inference. Disabling support for feedback tensors.\n",
      "I0000 00:00:1745956329.635165 9204014 gl_context.cc:369] GL version: 2.1 (2.1 ATI-5.2.4), renderer: AMD Radeon Pro 5500M OpenGL Engine\n",
      "W0000 00:00:1745956329.639413 9218334 inference_feedback_manager.cc:114] Feedback manager requires a model with a single signature inference. Disabling support for feedback tensors.\n",
      "W0000 00:00:1745956329.656315 9218332 inference_feedback_manager.cc:114] Feedback manager requires a model with a single signature inference. Disabling support for feedback tensors.\n",
      "I0000 00:00:1745956329.715000 9204014 gl_context.cc:369] GL version: 2.1 (2.1 ATI-5.2.4), renderer: AMD Radeon Pro 5500M OpenGL Engine\n",
      "W0000 00:00:1745956329.718670 9218352 inference_feedback_manager.cc:114] Feedback manager requires a model with a single signature inference. Disabling support for feedback tensors.\n",
      "W0000 00:00:1745956329.734528 9218349 inference_feedback_manager.cc:114] Feedback manager requires a model with a single signature inference. Disabling support for feedback tensors.\n",
      "I0000 00:00:1745956329.822562 9204014 gl_context.cc:369] GL version: 2.1 (2.1 ATI-5.2.4), renderer: AMD Radeon Pro 5500M OpenGL Engine\n",
      "W0000 00:00:1745956329.827370 9218365 inference_feedback_manager.cc:114] Feedback manager requires a model with a single signature inference. Disabling support for feedback tensors.\n",
      "W0000 00:00:1745956329.845749 9218369 inference_feedback_manager.cc:114] Feedback manager requires a model with a single signature inference. Disabling support for feedback tensors.\n",
      "I0000 00:00:1745956329.937648 9204014 gl_context.cc:369] GL version: 2.1 (2.1 ATI-5.2.4), renderer: AMD Radeon Pro 5500M OpenGL Engine\n",
      "W0000 00:00:1745956329.942894 9218386 inference_feedback_manager.cc:114] Feedback manager requires a model with a single signature inference. Disabling support for feedback tensors.\n",
      "W0000 00:00:1745956329.961637 9218385 inference_feedback_manager.cc:114] Feedback manager requires a model with a single signature inference. Disabling support for feedback tensors.\n",
      "I0000 00:00:1745956330.064309 9204014 gl_context.cc:369] GL version: 2.1 (2.1 ATI-5.2.4), renderer: AMD Radeon Pro 5500M OpenGL Engine\n",
      "W0000 00:00:1745956330.184315 9218399 inference_feedback_manager.cc:114] Feedback manager requires a model with a single signature inference. Disabling support for feedback tensors.\n",
      "W0000 00:00:1745956330.223180 9218399 inference_feedback_manager.cc:114] Feedback manager requires a model with a single signature inference. Disabling support for feedback tensors.\n",
      "I0000 00:00:1745956330.343848 9204014 gl_context.cc:369] GL version: 2.1 (2.1 ATI-5.2.4), renderer: AMD Radeon Pro 5500M OpenGL Engine\n",
      "W0000 00:00:1745956330.504514 9218417 inference_feedback_manager.cc:114] Feedback manager requires a model with a single signature inference. Disabling support for feedback tensors.\n",
      "W0000 00:00:1745956330.543881 9218417 inference_feedback_manager.cc:114] Feedback manager requires a model with a single signature inference. Disabling support for feedback tensors.\n",
      "I0000 00:00:1745956330.693271 9204014 gl_context.cc:369] GL version: 2.1 (2.1 ATI-5.2.4), renderer: AMD Radeon Pro 5500M OpenGL Engine\n",
      "W0000 00:00:1745956330.835411 9218441 inference_feedback_manager.cc:114] Feedback manager requires a model with a single signature inference. Disabling support for feedback tensors.\n",
      "W0000 00:00:1745956330.877691 9218441 inference_feedback_manager.cc:114] Feedback manager requires a model with a single signature inference. Disabling support for feedback tensors.\n",
      "I0000 00:00:1745956331.052056 9204014 gl_context.cc:369] GL version: 2.1 (2.1 ATI-5.2.4), renderer: AMD Radeon Pro 5500M OpenGL Engine\n",
      "W0000 00:00:1745956331.182146 9218465 inference_feedback_manager.cc:114] Feedback manager requires a model with a single signature inference. Disabling support for feedback tensors.\n",
      "W0000 00:00:1745956331.216325 9218472 inference_feedback_manager.cc:114] Feedback manager requires a model with a single signature inference. Disabling support for feedback tensors.\n",
      "I0000 00:00:1745956331.357809 9204014 gl_context.cc:369] GL version: 2.1 (2.1 ATI-5.2.4), renderer: AMD Radeon Pro 5500M OpenGL Engine\n",
      "W0000 00:00:1745956331.493610 9218482 inference_feedback_manager.cc:114] Feedback manager requires a model with a single signature inference. Disabling support for feedback tensors.\n",
      "W0000 00:00:1745956331.528899 9218482 inference_feedback_manager.cc:114] Feedback manager requires a model with a single signature inference. Disabling support for feedback tensors.\n",
      "I0000 00:00:1745956331.627398 9204014 gl_context.cc:369] GL version: 2.1 (2.1 ATI-5.2.4), renderer: AMD Radeon Pro 5500M OpenGL Engine\n",
      "W0000 00:00:1745956331.750695 9218507 inference_feedback_manager.cc:114] Feedback manager requires a model with a single signature inference. Disabling support for feedback tensors.\n",
      "W0000 00:00:1745956331.787794 9218516 inference_feedback_manager.cc:114] Feedback manager requires a model with a single signature inference. Disabling support for feedback tensors.\n",
      "I0000 00:00:1745956331.935486 9204014 gl_context.cc:369] GL version: 2.1 (2.1 ATI-5.2.4), renderer: AMD Radeon Pro 5500M OpenGL Engine\n",
      "W0000 00:00:1745956332.101690 9218526 inference_feedback_manager.cc:114] Feedback manager requires a model with a single signature inference. Disabling support for feedback tensors.\n",
      "W0000 00:00:1745956332.140426 9218526 inference_feedback_manager.cc:114] Feedback manager requires a model with a single signature inference. Disabling support for feedback tensors.\n",
      "I0000 00:00:1745956332.244693 9204014 gl_context.cc:369] GL version: 2.1 (2.1 ATI-5.2.4), renderer: AMD Radeon Pro 5500M OpenGL Engine\n",
      "W0000 00:00:1745956332.375355 9218542 inference_feedback_manager.cc:114] Feedback manager requires a model with a single signature inference. Disabling support for feedback tensors.\n",
      "W0000 00:00:1745956332.411631 9218542 inference_feedback_manager.cc:114] Feedback manager requires a model with a single signature inference. Disabling support for feedback tensors.\n",
      "I0000 00:00:1745956332.531678 9204014 gl_context.cc:369] GL version: 2.1 (2.1 ATI-5.2.4), renderer: AMD Radeon Pro 5500M OpenGL Engine\n",
      "W0000 00:00:1745956332.666996 9218560 inference_feedback_manager.cc:114] Feedback manager requires a model with a single signature inference. Disabling support for feedback tensors.\n",
      "W0000 00:00:1745956332.701054 9218560 inference_feedback_manager.cc:114] Feedback manager requires a model with a single signature inference. Disabling support for feedback tensors.\n",
      "I0000 00:00:1745956332.876697 9204014 gl_context.cc:369] GL version: 2.1 (2.1 ATI-5.2.4), renderer: AMD Radeon Pro 5500M OpenGL Engine\n",
      "W0000 00:00:1745956332.999999 9218586 inference_feedback_manager.cc:114] Feedback manager requires a model with a single signature inference. Disabling support for feedback tensors.\n",
      "W0000 00:00:1745956333.032813 9218586 inference_feedback_manager.cc:114] Feedback manager requires a model with a single signature inference. Disabling support for feedback tensors.\n",
      "I0000 00:00:1745956333.147620 9204014 gl_context.cc:369] GL version: 2.1 (2.1 ATI-5.2.4), renderer: AMD Radeon Pro 5500M OpenGL Engine\n",
      "W0000 00:00:1745956333.272208 9218602 inference_feedback_manager.cc:114] Feedback manager requires a model with a single signature inference. Disabling support for feedback tensors.\n",
      "W0000 00:00:1745956333.307519 9218602 inference_feedback_manager.cc:114] Feedback manager requires a model with a single signature inference. Disabling support for feedback tensors.\n",
      "I0000 00:00:1745956338.861256 9204014 gl_context.cc:369] GL version: 2.1 (2.1 ATI-5.2.4), renderer: AMD Radeon Pro 5500M OpenGL Engine\n",
      "W0000 00:00:1745956338.862031 9204014 face_landmarker_graph.cc:174] Sets FaceBlendshapesGraph acceleration to xnnpack by default.\n",
      "W0000 00:00:1745956338.872043 9218713 inference_feedback_manager.cc:114] Feedback manager requires a model with a single signature inference. Disabling support for feedback tensors.\n",
      "W0000 00:00:1745956338.891262 9218713 inference_feedback_manager.cc:114] Feedback manager requires a model with a single signature inference. Disabling support for feedback tensors.\n",
      " 78%|███████████████████████████████████████████████████████████████████████████████████████████████████████████████████████████████████████████████████████████████████████████▉                                                 | 7/9 [01:26<00:25, 12.56s/it]"
     ]
    },
    {
     "name": "stdout",
     "output_type": "stream",
     "text": [
      "max() arg is an empty sequence\n",
      "max() arg is an empty sequence\n",
      "max() arg is an empty sequence\n",
      "max() arg is an empty sequence\n",
      "max() arg is an empty sequence\n"
     ]
    },
    {
     "name": "stderr",
     "output_type": "stream",
     "text": [
      "I0000 00:00:1745956342.424177 9204014 gl_context.cc:369] GL version: 2.1 (2.1 ATI-5.2.4), renderer: AMD Radeon Pro 5500M OpenGL Engine\n",
      "W0000 00:00:1745956342.427067 9218776 inference_feedback_manager.cc:114] Feedback manager requires a model with a single signature inference. Disabling support for feedback tensors.\n",
      "W0000 00:00:1745956342.447618 9218774 inference_feedback_manager.cc:114] Feedback manager requires a model with a single signature inference. Disabling support for feedback tensors.\n",
      "I0000 00:00:1745956342.539175 9204014 gl_context.cc:369] GL version: 2.1 (2.1 ATI-5.2.4), renderer: AMD Radeon Pro 5500M OpenGL Engine\n",
      "W0000 00:00:1745956342.542823 9218793 inference_feedback_manager.cc:114] Feedback manager requires a model with a single signature inference. Disabling support for feedback tensors.\n",
      "W0000 00:00:1745956342.562284 9218793 inference_feedback_manager.cc:114] Feedback manager requires a model with a single signature inference. Disabling support for feedback tensors.\n",
      "I0000 00:00:1745956342.645547 9204014 gl_context.cc:369] GL version: 2.1 (2.1 ATI-5.2.4), renderer: AMD Radeon Pro 5500M OpenGL Engine\n",
      "W0000 00:00:1745956342.650568 9218815 inference_feedback_manager.cc:114] Feedback manager requires a model with a single signature inference. Disabling support for feedback tensors.\n",
      "W0000 00:00:1745956342.674255 9218814 inference_feedback_manager.cc:114] Feedback manager requires a model with a single signature inference. Disabling support for feedback tensors.\n",
      "I0000 00:00:1745956342.756379 9204014 gl_context.cc:369] GL version: 2.1 (2.1 ATI-5.2.4), renderer: AMD Radeon Pro 5500M OpenGL Engine\n",
      "W0000 00:00:1745956342.760857 9218834 inference_feedback_manager.cc:114] Feedback manager requires a model with a single signature inference. Disabling support for feedback tensors.\n",
      "W0000 00:00:1745956342.780872 9218832 inference_feedback_manager.cc:114] Feedback manager requires a model with a single signature inference. Disabling support for feedback tensors.\n",
      "I0000 00:00:1745956342.866016 9204014 gl_context.cc:369] GL version: 2.1 (2.1 ATI-5.2.4), renderer: AMD Radeon Pro 5500M OpenGL Engine\n",
      "W0000 00:00:1745956342.870634 9218853 inference_feedback_manager.cc:114] Feedback manager requires a model with a single signature inference. Disabling support for feedback tensors.\n",
      "W0000 00:00:1745956342.887757 9218847 inference_feedback_manager.cc:114] Feedback manager requires a model with a single signature inference. Disabling support for feedback tensors.\n",
      "I0000 00:00:1745956342.959531 9204014 gl_context.cc:369] GL version: 2.1 (2.1 ATI-5.2.4), renderer: AMD Radeon Pro 5500M OpenGL Engine\n",
      "W0000 00:00:1745956342.963334 9218866 inference_feedback_manager.cc:114] Feedback manager requires a model with a single signature inference. Disabling support for feedback tensors.\n",
      "W0000 00:00:1745956342.981764 9218873 inference_feedback_manager.cc:114] Feedback manager requires a model with a single signature inference. Disabling support for feedback tensors.\n",
      "I0000 00:00:1745956343.025445 9204014 gl_context.cc:369] GL version: 2.1 (2.1 ATI-5.2.4), renderer: AMD Radeon Pro 5500M OpenGL Engine\n",
      "W0000 00:00:1745956343.029074 9218887 inference_feedback_manager.cc:114] Feedback manager requires a model with a single signature inference. Disabling support for feedback tensors.\n",
      "W0000 00:00:1745956343.045199 9218881 inference_feedback_manager.cc:114] Feedback manager requires a model with a single signature inference. Disabling support for feedback tensors.\n",
      "I0000 00:00:1745956343.105086 9204014 gl_context.cc:369] GL version: 2.1 (2.1 ATI-5.2.4), renderer: AMD Radeon Pro 5500M OpenGL Engine\n",
      "W0000 00:00:1745956343.109155 9218895 inference_feedback_manager.cc:114] Feedback manager requires a model with a single signature inference. Disabling support for feedback tensors.\n",
      "W0000 00:00:1745956343.126222 9218899 inference_feedback_manager.cc:114] Feedback manager requires a model with a single signature inference. Disabling support for feedback tensors.\n",
      "I0000 00:00:1745956343.167306 9204014 gl_context.cc:369] GL version: 2.1 (2.1 ATI-5.2.4), renderer: AMD Radeon Pro 5500M OpenGL Engine\n",
      "W0000 00:00:1745956343.171208 9218915 inference_feedback_manager.cc:114] Feedback manager requires a model with a single signature inference. Disabling support for feedback tensors.\n",
      "W0000 00:00:1745956343.192770 9218911 inference_feedback_manager.cc:114] Feedback manager requires a model with a single signature inference. Disabling support for feedback tensors.\n",
      "I0000 00:00:1745956343.241993 9204014 gl_context.cc:369] GL version: 2.1 (2.1 ATI-5.2.4), renderer: AMD Radeon Pro 5500M OpenGL Engine\n",
      "W0000 00:00:1745956343.246243 9218930 inference_feedback_manager.cc:114] Feedback manager requires a model with a single signature inference. Disabling support for feedback tensors.\n",
      "W0000 00:00:1745956343.266981 9218934 inference_feedback_manager.cc:114] Feedback manager requires a model with a single signature inference. Disabling support for feedback tensors.\n",
      "I0000 00:00:1745956343.372832 9204014 gl_context.cc:369] GL version: 2.1 (2.1 ATI-5.2.4), renderer: AMD Radeon Pro 5500M OpenGL Engine\n",
      "W0000 00:00:1745956343.487113 9218946 inference_feedback_manager.cc:114] Feedback manager requires a model with a single signature inference. Disabling support for feedback tensors.\n",
      "W0000 00:00:1745956343.520868 9218946 inference_feedback_manager.cc:114] Feedback manager requires a model with a single signature inference. Disabling support for feedback tensors.\n",
      "I0000 00:00:1745956343.616122 9204014 gl_context.cc:369] GL version: 2.1 (2.1 ATI-5.2.4), renderer: AMD Radeon Pro 5500M OpenGL Engine\n",
      "W0000 00:00:1745956343.731013 9218966 inference_feedback_manager.cc:114] Feedback manager requires a model with a single signature inference. Disabling support for feedback tensors.\n",
      "W0000 00:00:1745956343.763736 9218975 inference_feedback_manager.cc:114] Feedback manager requires a model with a single signature inference. Disabling support for feedback tensors.\n",
      "I0000 00:00:1745956343.857492 9204014 gl_context.cc:369] GL version: 2.1 (2.1 ATI-5.2.4), renderer: AMD Radeon Pro 5500M OpenGL Engine\n",
      "W0000 00:00:1745956343.979724 9218983 inference_feedback_manager.cc:114] Feedback manager requires a model with a single signature inference. Disabling support for feedback tensors.\n",
      "W0000 00:00:1745956344.019256 9218983 inference_feedback_manager.cc:114] Feedback manager requires a model with a single signature inference. Disabling support for feedback tensors.\n",
      "I0000 00:00:1745956344.112996 9204014 gl_context.cc:369] GL version: 2.1 (2.1 ATI-5.2.4), renderer: AMD Radeon Pro 5500M OpenGL Engine\n",
      "W0000 00:00:1745956344.228439 9219001 inference_feedback_manager.cc:114] Feedback manager requires a model with a single signature inference. Disabling support for feedback tensors.\n",
      "W0000 00:00:1745956344.261040 9219001 inference_feedback_manager.cc:114] Feedback manager requires a model with a single signature inference. Disabling support for feedback tensors.\n",
      "I0000 00:00:1745956344.415200 9204014 gl_context.cc:369] GL version: 2.1 (2.1 ATI-5.2.4), renderer: AMD Radeon Pro 5500M OpenGL Engine\n",
      "W0000 00:00:1745956344.542478 9219019 inference_feedback_manager.cc:114] Feedback manager requires a model with a single signature inference. Disabling support for feedback tensors.\n",
      "W0000 00:00:1745956344.576192 9219019 inference_feedback_manager.cc:114] Feedback manager requires a model with a single signature inference. Disabling support for feedback tensors.\n",
      "I0000 00:00:1745956344.669301 9204014 gl_context.cc:369] GL version: 2.1 (2.1 ATI-5.2.4), renderer: AMD Radeon Pro 5500M OpenGL Engine\n",
      "W0000 00:00:1745956344.794073 9219042 inference_feedback_manager.cc:114] Feedback manager requires a model with a single signature inference. Disabling support for feedback tensors.\n",
      "W0000 00:00:1745956344.829001 9219051 inference_feedback_manager.cc:114] Feedback manager requires a model with a single signature inference. Disabling support for feedback tensors.\n",
      "I0000 00:00:1745956344.968386 9204014 gl_context.cc:369] GL version: 2.1 (2.1 ATI-5.2.4), renderer: AMD Radeon Pro 5500M OpenGL Engine\n",
      "W0000 00:00:1745956345.087176 9219068 inference_feedback_manager.cc:114] Feedback manager requires a model with a single signature inference. Disabling support for feedback tensors.\n",
      "W0000 00:00:1745956345.120880 9219068 inference_feedback_manager.cc:114] Feedback manager requires a model with a single signature inference. Disabling support for feedback tensors.\n",
      "I0000 00:00:1745956345.217213 9204014 gl_context.cc:369] GL version: 2.1 (2.1 ATI-5.2.4), renderer: AMD Radeon Pro 5500M OpenGL Engine\n",
      "W0000 00:00:1745956345.337149 9219081 inference_feedback_manager.cc:114] Feedback manager requires a model with a single signature inference. Disabling support for feedback tensors.\n",
      "W0000 00:00:1745956345.372078 9219081 inference_feedback_manager.cc:114] Feedback manager requires a model with a single signature inference. Disabling support for feedback tensors.\n",
      "I0000 00:00:1745956345.498762 9204014 gl_context.cc:369] GL version: 2.1 (2.1 ATI-5.2.4), renderer: AMD Radeon Pro 5500M OpenGL Engine\n",
      "W0000 00:00:1745956345.622655 9219101 inference_feedback_manager.cc:114] Feedback manager requires a model with a single signature inference. Disabling support for feedback tensors.\n",
      "W0000 00:00:1745956345.658774 9219101 inference_feedback_manager.cc:114] Feedback manager requires a model with a single signature inference. Disabling support for feedback tensors.\n",
      "I0000 00:00:1745956345.754719 9204014 gl_context.cc:369] GL version: 2.1 (2.1 ATI-5.2.4), renderer: AMD Radeon Pro 5500M OpenGL Engine\n",
      "W0000 00:00:1745956345.874487 9219125 inference_feedback_manager.cc:114] Feedback manager requires a model with a single signature inference. Disabling support for feedback tensors.\n",
      "W0000 00:00:1745956345.907308 9219125 inference_feedback_manager.cc:114] Feedback manager requires a model with a single signature inference. Disabling support for feedback tensors.\n",
      "I0000 00:00:1745956346.004740 9204014 gl_context.cc:369] GL version: 2.1 (2.1 ATI-5.2.4), renderer: AMD Radeon Pro 5500M OpenGL Engine\n",
      "W0000 00:00:1745956346.133896 9219142 inference_feedback_manager.cc:114] Feedback manager requires a model with a single signature inference. Disabling support for feedback tensors.\n",
      "W0000 00:00:1745956346.168541 9219142 inference_feedback_manager.cc:114] Feedback manager requires a model with a single signature inference. Disabling support for feedback tensors.\n",
      "I0000 00:00:1745956351.673420 9204014 gl_context.cc:369] GL version: 2.1 (2.1 ATI-5.2.4), renderer: AMD Radeon Pro 5500M OpenGL Engine\n",
      "W0000 00:00:1745956351.674107 9204014 face_landmarker_graph.cc:174] Sets FaceBlendshapesGraph acceleration to xnnpack by default.\n",
      "W0000 00:00:1745956351.683344 9219252 inference_feedback_manager.cc:114] Feedback manager requires a model with a single signature inference. Disabling support for feedback tensors.\n",
      "W0000 00:00:1745956351.699593 9219252 inference_feedback_manager.cc:114] Feedback manager requires a model with a single signature inference. Disabling support for feedback tensors.\n",
      " 89%|████████████████████████████████████████████████████████████████████████████████████████████████████████████████████████████████████████████████████████████████████████████████████████████████████▍                        | 8/9 [01:39<00:12, 12.59s/it]"
     ]
    },
    {
     "name": "stdout",
     "output_type": "stream",
     "text": [
      "max() arg is an empty sequence\n"
     ]
    },
    {
     "name": "stderr",
     "output_type": "stream",
     "text": [
      "I0000 00:00:1745956354.992755 9204014 gl_context.cc:369] GL version: 2.1 (2.1 ATI-5.2.4), renderer: AMD Radeon Pro 5500M OpenGL Engine\n",
      "W0000 00:00:1745956354.995647 9219324 inference_feedback_manager.cc:114] Feedback manager requires a model with a single signature inference. Disabling support for feedback tensors.\n",
      "W0000 00:00:1745956355.011765 9219328 inference_feedback_manager.cc:114] Feedback manager requires a model with a single signature inference. Disabling support for feedback tensors.\n",
      "I0000 00:00:1745956355.111450 9204014 gl_context.cc:369] GL version: 2.1 (2.1 ATI-5.2.4), renderer: AMD Radeon Pro 5500M OpenGL Engine\n",
      "W0000 00:00:1745956355.115293 9219343 inference_feedback_manager.cc:114] Feedback manager requires a model with a single signature inference. Disabling support for feedback tensors.\n",
      "W0000 00:00:1745956355.137757 9219349 inference_feedback_manager.cc:114] Feedback manager requires a model with a single signature inference. Disabling support for feedback tensors.\n",
      "I0000 00:00:1745956355.233281 9204014 gl_context.cc:369] GL version: 2.1 (2.1 ATI-5.2.4), renderer: AMD Radeon Pro 5500M OpenGL Engine\n",
      "W0000 00:00:1745956355.239209 9219360 inference_feedback_manager.cc:114] Feedback manager requires a model with a single signature inference. Disabling support for feedback tensors.\n",
      "W0000 00:00:1745956355.259322 9219367 inference_feedback_manager.cc:114] Feedback manager requires a model with a single signature inference. Disabling support for feedback tensors.\n",
      "I0000 00:00:1745956355.357052 9204014 gl_context.cc:369] GL version: 2.1 (2.1 ATI-5.2.4), renderer: AMD Radeon Pro 5500M OpenGL Engine\n",
      "W0000 00:00:1745956355.361007 9219377 inference_feedback_manager.cc:114] Feedback manager requires a model with a single signature inference. Disabling support for feedback tensors.\n",
      "W0000 00:00:1745956355.379158 9219376 inference_feedback_manager.cc:114] Feedback manager requires a model with a single signature inference. Disabling support for feedback tensors.\n",
      "I0000 00:00:1745956355.425079 9204014 gl_context.cc:369] GL version: 2.1 (2.1 ATI-5.2.4), renderer: AMD Radeon Pro 5500M OpenGL Engine\n",
      "W0000 00:00:1745956355.428662 9219393 inference_feedback_manager.cc:114] Feedback manager requires a model with a single signature inference. Disabling support for feedback tensors.\n",
      "W0000 00:00:1745956355.453629 9219392 inference_feedback_manager.cc:114] Feedback manager requires a model with a single signature inference. Disabling support for feedback tensors.\n",
      "I0000 00:00:1745956355.529440 9204014 gl_context.cc:369] GL version: 2.1 (2.1 ATI-5.2.4), renderer: AMD Radeon Pro 5500M OpenGL Engine\n",
      "W0000 00:00:1745956355.533095 9219411 inference_feedback_manager.cc:114] Feedback manager requires a model with a single signature inference. Disabling support for feedback tensors.\n",
      "W0000 00:00:1745956355.550464 9219414 inference_feedback_manager.cc:114] Feedback manager requires a model with a single signature inference. Disabling support for feedback tensors.\n",
      "I0000 00:00:1745956355.651310 9204014 gl_context.cc:369] GL version: 2.1 (2.1 ATI-5.2.4), renderer: AMD Radeon Pro 5500M OpenGL Engine\n",
      "W0000 00:00:1745956355.655265 9219435 inference_feedback_manager.cc:114] Feedback manager requires a model with a single signature inference. Disabling support for feedback tensors.\n",
      "W0000 00:00:1745956355.670504 9219432 inference_feedback_manager.cc:114] Feedback manager requires a model with a single signature inference. Disabling support for feedback tensors.\n",
      "I0000 00:00:1745956355.766826 9204014 gl_context.cc:369] GL version: 2.1 (2.1 ATI-5.2.4), renderer: AMD Radeon Pro 5500M OpenGL Engine\n",
      "W0000 00:00:1745956355.770834 9219447 inference_feedback_manager.cc:114] Feedback manager requires a model with a single signature inference. Disabling support for feedback tensors.\n",
      "W0000 00:00:1745956355.788908 9219454 inference_feedback_manager.cc:114] Feedback manager requires a model with a single signature inference. Disabling support for feedback tensors.\n",
      "I0000 00:00:1745956355.885164 9204014 gl_context.cc:369] GL version: 2.1 (2.1 ATI-5.2.4), renderer: AMD Radeon Pro 5500M OpenGL Engine\n",
      "W0000 00:00:1745956355.891781 9219466 inference_feedback_manager.cc:114] Feedback manager requires a model with a single signature inference. Disabling support for feedback tensors.\n",
      "W0000 00:00:1745956355.911762 9219466 inference_feedback_manager.cc:114] Feedback manager requires a model with a single signature inference. Disabling support for feedback tensors.\n",
      "I0000 00:00:1745956355.978377 9204014 gl_context.cc:369] GL version: 2.1 (2.1 ATI-5.2.4), renderer: AMD Radeon Pro 5500M OpenGL Engine\n",
      "W0000 00:00:1745956355.982158 9219483 inference_feedback_manager.cc:114] Feedback manager requires a model with a single signature inference. Disabling support for feedback tensors.\n",
      "W0000 00:00:1745956356.006091 9219479 inference_feedback_manager.cc:114] Feedback manager requires a model with a single signature inference. Disabling support for feedback tensors.\n",
      "I0000 00:00:1745956356.032850 9204014 gl_context.cc:369] GL version: 2.1 (2.1 ATI-5.2.4), renderer: AMD Radeon Pro 5500M OpenGL Engine\n",
      "W0000 00:00:1745956356.144840 9219495 inference_feedback_manager.cc:114] Feedback manager requires a model with a single signature inference. Disabling support for feedback tensors.\n",
      "W0000 00:00:1745956356.180096 9219497 inference_feedback_manager.cc:114] Feedback manager requires a model with a single signature inference. Disabling support for feedback tensors.\n",
      "I0000 00:00:1745956356.276645 9204014 gl_context.cc:369] GL version: 2.1 (2.1 ATI-5.2.4), renderer: AMD Radeon Pro 5500M OpenGL Engine\n",
      "W0000 00:00:1745956356.391155 9219514 inference_feedback_manager.cc:114] Feedback manager requires a model with a single signature inference. Disabling support for feedback tensors.\n",
      "W0000 00:00:1745956356.425075 9219519 inference_feedback_manager.cc:114] Feedback manager requires a model with a single signature inference. Disabling support for feedback tensors.\n",
      "I0000 00:00:1745956356.521918 9204014 gl_context.cc:369] GL version: 2.1 (2.1 ATI-5.2.4), renderer: AMD Radeon Pro 5500M OpenGL Engine\n",
      "W0000 00:00:1745956356.641763 9219530 inference_feedback_manager.cc:114] Feedback manager requires a model with a single signature inference. Disabling support for feedback tensors.\n",
      "W0000 00:00:1745956356.678828 9219530 inference_feedback_manager.cc:114] Feedback manager requires a model with a single signature inference. Disabling support for feedback tensors.\n",
      "I0000 00:00:1745956356.805999 9204014 gl_context.cc:369] GL version: 2.1 (2.1 ATI-5.2.4), renderer: AMD Radeon Pro 5500M OpenGL Engine\n",
      "W0000 00:00:1745956356.931677 9219574 inference_feedback_manager.cc:114] Feedback manager requires a model with a single signature inference. Disabling support for feedback tensors.\n",
      "W0000 00:00:1745956356.966669 9219574 inference_feedback_manager.cc:114] Feedback manager requires a model with a single signature inference. Disabling support for feedback tensors.\n",
      "I0000 00:00:1745956357.074121 9204014 gl_context.cc:369] GL version: 2.1 (2.1 ATI-5.2.4), renderer: AMD Radeon Pro 5500M OpenGL Engine\n",
      "W0000 00:00:1745956357.194239 9219605 inference_feedback_manager.cc:114] Feedback manager requires a model with a single signature inference. Disabling support for feedback tensors.\n",
      "W0000 00:00:1745956357.227370 9219605 inference_feedback_manager.cc:114] Feedback manager requires a model with a single signature inference. Disabling support for feedback tensors.\n",
      "I0000 00:00:1745956357.358943 9204014 gl_context.cc:369] GL version: 2.1 (2.1 ATI-5.2.4), renderer: AMD Radeon Pro 5500M OpenGL Engine\n",
      "W0000 00:00:1745956357.469929 9219633 inference_feedback_manager.cc:114] Feedback manager requires a model with a single signature inference. Disabling support for feedback tensors.\n",
      "W0000 00:00:1745956357.503138 9219633 inference_feedback_manager.cc:114] Feedback manager requires a model with a single signature inference. Disabling support for feedback tensors.\n",
      "I0000 00:00:1745956357.641920 9204014 gl_context.cc:369] GL version: 2.1 (2.1 ATI-5.2.4), renderer: AMD Radeon Pro 5500M OpenGL Engine\n",
      "W0000 00:00:1745956357.752139 9219657 inference_feedback_manager.cc:114] Feedback manager requires a model with a single signature inference. Disabling support for feedback tensors.\n",
      "W0000 00:00:1745956357.789998 9219657 inference_feedback_manager.cc:114] Feedback manager requires a model with a single signature inference. Disabling support for feedback tensors.\n",
      "I0000 00:00:1745956357.925292 9204014 gl_context.cc:369] GL version: 2.1 (2.1 ATI-5.2.4), renderer: AMD Radeon Pro 5500M OpenGL Engine\n",
      "W0000 00:00:1745956358.039119 9219674 inference_feedback_manager.cc:114] Feedback manager requires a model with a single signature inference. Disabling support for feedback tensors.\n",
      "W0000 00:00:1745956358.073172 9219675 inference_feedback_manager.cc:114] Feedback manager requires a model with a single signature inference. Disabling support for feedback tensors.\n",
      "I0000 00:00:1745956358.199117 9204014 gl_context.cc:369] GL version: 2.1 (2.1 ATI-5.2.4), renderer: AMD Radeon Pro 5500M OpenGL Engine\n",
      "W0000 00:00:1745956358.319252 9219691 inference_feedback_manager.cc:114] Feedback manager requires a model with a single signature inference. Disabling support for feedback tensors.\n",
      "W0000 00:00:1745956358.352910 9219698 inference_feedback_manager.cc:114] Feedback manager requires a model with a single signature inference. Disabling support for feedback tensors.\n",
      "I0000 00:00:1745956358.478229 9204014 gl_context.cc:369] GL version: 2.1 (2.1 ATI-5.2.4), renderer: AMD Radeon Pro 5500M OpenGL Engine\n",
      "W0000 00:00:1745956358.606450 9219714 inference_feedback_manager.cc:114] Feedback manager requires a model with a single signature inference. Disabling support for feedback tensors.\n",
      "W0000 00:00:1745956358.641438 9219722 inference_feedback_manager.cc:114] Feedback manager requires a model with a single signature inference. Disabling support for feedback tensors.\n",
      "I0000 00:00:1745956358.696207 9204014 gl_context.cc:369] GL version: 2.1 (2.1 ATI-5.2.4), renderer: AMD Radeon Pro 5500M OpenGL Engine\n",
      "W0000 00:00:1745956358.821685 9219742 inference_feedback_manager.cc:114] Feedback manager requires a model with a single signature inference. Disabling support for feedback tensors.\n",
      "W0000 00:00:1745956358.856045 9219742 inference_feedback_manager.cc:114] Feedback manager requires a model with a single signature inference. Disabling support for feedback tensors.\n",
      "I0000 00:00:1745956364.201543 9204014 gl_context.cc:369] GL version: 2.1 (2.1 ATI-5.2.4), renderer: AMD Radeon Pro 5500M OpenGL Engine\n",
      "W0000 00:00:1745956364.202336 9204014 face_landmarker_graph.cc:174] Sets FaceBlendshapesGraph acceleration to xnnpack by default.\n",
      "W0000 00:00:1745956364.212138 9219831 inference_feedback_manager.cc:114] Feedback manager requires a model with a single signature inference. Disabling support for feedback tensors.\n",
      "W0000 00:00:1745956364.229470 9219831 inference_feedback_manager.cc:114] Feedback manager requires a model with a single signature inference. Disabling support for feedback tensors.\n",
      "100%|█████████████████████████████████████████████████████████████████████████████████████████████████████████████████████████████████████████████████████████████████████████████████████████████████████████████████████████████| 9/9 [01:52<00:00, 12.52s/it]\n"
     ]
    }
   ],
   "source": [
    "processing = FileProcessingSystem(\"data/short_eng.mp4\", flags, negative_emotions, preferred_gestures, 10, \"en\")"
   ]
  },
  {
   "cell_type": "code",
   "execution_count": 39,
   "metadata": {
    "colab": {
     "base_uri": "https://localhost:8080/",
     "height": 175
    },
    "id": "vi1QA2enK_XU",
    "outputId": "7a2c07bd-36f2-4241-98e7-3b0a1467430c"
   },
   "outputs": [
    {
     "name": "stderr",
     "output_type": "stream",
     "text": [
      "100%|███████████████████████████████████████████████████████████████████████████████████████████████████████████████████████████████████████████████████████████████████████████████████████████████████████████████████| 8944/8944 [03:08<00:00, 47.51frames/s]\n"
     ]
    },
    {
     "data": {
      "text/plain": [
       "'my fellow americans it has been the honor of my life to serve you i wont stop in fact i will be right there with you as a citizen for all my remaining days but for now whether you are young or whether youre young at heart i do have one final ask of you as your president the same thing i asked when you took a chance on me eight years ago i am asking you to believe not in my ability to bring about change but in yours i am asking you to hold fast to that faith written into our founding documents that idea whispered by slaves and abolitionists that spirit sung by immigrants and homesteaders and those who marched for justice that creed reaffirmed by those who planted flags from foreign battlefields to the surface of the moon a creed at the core of every american whose story is not yet written yes we can yes we did yes we can thank you god bless you may god continue to bless the united states of america thank you thank you thank you thank you thank you thank you thank you thank you thank you thank you thank you'"
      ]
     },
     "execution_count": 39,
     "metadata": {},
     "output_type": "execute_result"
    }
   ],
   "source": [
    "processing.get_transcription()"
   ]
  },
  {
   "cell_type": "code",
   "execution_count": 40,
   "metadata": {},
   "outputs": [
    {
     "name": "stdout",
     "output_type": "stream",
     "text": [
      "On the video a Black male speaker about 54 years old give a presentation in English. The following characteristics of his video were highlighted by our models: \"rather clean speech with few filler words, such as \"thank you\". Optimal speech rate. Mostly desired emotions presented on the video. Video doesn't have noticeable background noise. Intelligibility of speech is good; most words are easy to recognize with minimal effort. Video recorded with noticeable deviations from proper recording angle. Speaker occasional glances away from the camera. Gesturing is appropriate and natural. In average video recorded with too dark lighting. Looks like clothes are suitable for the presentation.\"\n",
      "Here is the transcription of the presentation: my fellow americans it has been the honor of my life to serve you i wont stop in fact i will be right there with you as a citizen for all my remaining days but for now whether you are young or whether youre young at heart i do have one final ask of you as your president the same thing i asked when you took a chance on me eight years ago i am asking you to believe not in my ability to bring about change but in yours i am asking you to hold fast to that faith written into our founding documents that idea whispered by slaves and abolitionists that spirit sung by immigrants and homesteaders and those who marched for justice that creed reaffirmed by those who planted flags from foreign battlefields to the surface of the moon a creed at the core of every american whose story is not yet written yes we can yes we did yes we can thank you god bless you may god continue to bless the united states of america thank you thank you thank you thank you thank you thank you thank you thank you thank you thank you thank you\n",
      "Note that the presentation has a politic style and recorded for demonstrating in USA.\n",
      "Please, analyze the speach and characteristics and provide a brief recomendation how the presentor can improve the quality of the presentation and his presentation skills. The recomendation should be less than 150 words.\n"
     ]
    }
   ],
   "source": [
    "prompt = processing.get_recomendation_prompt(\"politic\", \"USA\")\n",
    "print(prompt)"
   ]
  },
  {
   "cell_type": "code",
   "execution_count": 41,
   "metadata": {},
   "outputs": [
    {
     "name": "stdout",
     "output_type": "stream",
     "text": [
      "The speaker demonstrates strong delivery with clear speech, optimal pacing, and natural gestures. However, a few adjustments could enhance impact: improve the recording setup by ensuring better lighting and a stable, eye-level camera angle—this will make the video more visually engaging and professional. The repeated “thank you” at the close could be condensed for a crisper ending. While occasional off-camera glances are minor, maintaining eye contact with the lens will strengthen the connection with viewers. Given the political, motivational tone, a touch more vocal variety and energy—especially on key phrases—would further inspire the audience. Overall, the content and demeanor are well-suited to the purpose; technical tweaks will elevate the presentation.\n"
     ]
    }
   ],
   "source": [
    "print(processing.get_recommendation(prompt))"
   ]
  },
  {
   "cell_type": "code",
   "execution_count": 42,
   "metadata": {},
   "outputs": [
    {
     "name": "stdout",
     "output_type": "stream",
     "text": [
      "54.63045794113584\n",
      "male\n",
      "Black\n"
     ]
    }
   ],
   "source": [
    "print(processing.get_age())\n",
    "print(processing.get_gender())\n",
    "print(processing.get_ethnicity())"
   ]
  },
  {
   "cell_type": "code",
   "execution_count": 43,
   "metadata": {
    "colab": {
     "base_uri": "https://localhost:8080/"
    },
    "id": "LG2OBVj5LDjL",
    "outputId": "aa604af6-5628-44e7-968a-d8d59c6a8417"
   },
   "outputs": [
    {
     "data": {
      "text/plain": [
       "(0.395, 0.033, array([0.1, 0. , 0. , 0. , 0. , 0. , 0.1, 0. , 0.1]))"
      ]
     },
     "execution_count": 43,
     "metadata": {},
     "output_type": "execute_result"
    }
   ],
   "source": [
    "processing.get_emotionality()"
   ]
  },
  {
   "cell_type": "code",
   "execution_count": 44,
   "metadata": {
    "colab": {
     "base_uri": "https://localhost:8080/"
    },
    "id": "n-ndjKVzLJ8Z",
    "outputId": "4e53884d-b8d2-4839-883e-0c666b82d0dd"
   },
   "outputs": [
    {
     "data": {
      "text/plain": [
       "(0.87209, {'thank you': 12, 'right': 1}, {'thank you': 12})"
      ]
     },
     "execution_count": 44,
     "metadata": {},
     "output_type": "execute_result"
    }
   ],
   "source": [
    "processing.get_filler_words()"
   ]
  },
  {
   "cell_type": "code",
   "execution_count": 45,
   "metadata": {
    "colab": {
     "base_uri": "https://localhost:8080/"
    },
    "id": "KvNf1uw1LMFm",
    "outputId": "4361a483-3442-494e-c438-4c089d17411c"
   },
   "outputs": [
    {
     "data": {
      "text/plain": [
       "(0.0, array([0., 0., 0., 0., 0., 0., 0., 0., 0.]), [])"
      ]
     },
     "execution_count": 45,
     "metadata": {},
     "output_type": "execute_result"
    }
   ],
   "source": [
    "processing.get_speech_rate()"
   ]
  },
  {
   "cell_type": "code",
   "execution_count": 46,
   "metadata": {
    "colab": {
     "base_uri": "https://localhost:8080/"
    },
    "id": "GwaDnGwTLT9R",
    "outputId": "0429f3e8-37bc-4e66-a629-b3904f3f84b6"
   },
   "outputs": [
    {
     "data": {
      "text/plain": [
       "(0.0,\n",
       " array([0.058 , 0.0475, 0.059 , 0.0415, 0.039 , 0.0245, 0.046 , 0.0825,\n",
       "        0.109 ]),\n",
       " [])"
      ]
     },
     "execution_count": 46,
     "metadata": {},
     "output_type": "execute_result"
    }
   ],
   "source": [
    "processing.get_background_noise()"
   ]
  },
  {
   "cell_type": "code",
   "execution_count": 47,
   "metadata": {
    "colab": {
     "base_uri": "https://localhost:8080/"
    },
    "id": "oJGLKRZcLVsu",
    "outputId": "98f4a34e-de4e-4577-f37c-c6725fab385e"
   },
   "outputs": [
    {
     "data": {
      "text/plain": [
       "(0.7701390578413834,\n",
       " array([0.866, 0.762, 0.753, 0.767, 0.769, 0.78 , 0.763, 0.734, 0.748]))"
      ]
     },
     "execution_count": 47,
     "metadata": {},
     "output_type": "execute_result"
    }
   ],
   "source": [
    "processing.get_intelligibility()"
   ]
  },
  {
   "cell_type": "code",
   "execution_count": 48,
   "metadata": {
    "colab": {
     "base_uri": "https://localhost:8080/"
    },
    "id": "kVlShanfLV6j",
    "outputId": "e73d7a9f-1479-49d4-b85b-9cb9bbb3b36f"
   },
   "outputs": [
    {
     "data": {
      "text/plain": [
       "(0.698, array([0.846, 0.475, 0.454, 0.367, 0.562, 0.962, 0.958, 0.929, 0.732]))"
      ]
     },
     "execution_count": 48,
     "metadata": {},
     "output_type": "execute_result"
    }
   ],
   "source": [
    "processing.get_incorrect_angle()"
   ]
  },
  {
   "cell_type": "code",
   "execution_count": 49,
   "metadata": {
    "colab": {
     "base_uri": "https://localhost:8080/"
    },
    "id": "hPq4LHc4LWGR",
    "outputId": "b33dc072-77ea-49d7-f7c9-f58415c4bb78"
   },
   "outputs": [
    {
     "data": {
      "text/plain": [
       "(0.555, array([0.633, 0.   , 0.719, 0.604, 0.529, 0.41 , 0.553, 0.649, 0.896]))"
      ]
     },
     "execution_count": 49,
     "metadata": {},
     "output_type": "execute_result"
    }
   ],
   "source": [
    "processing.get_incorrect_glances()"
   ]
  },
  {
   "cell_type": "code",
   "execution_count": 50,
   "metadata": {
    "colab": {
     "base_uri": "https://localhost:8080/"
    },
    "id": "69_yaU1zLWgz",
    "outputId": "79b42430-bb5d-4029-ead7-dade5e13d27f"
   },
   "outputs": [
    {
     "data": {
      "text/plain": [
       "(2.0, array([2, 2, 2, 2, 2, 2, 2, 2, 2]))"
      ]
     },
     "execution_count": 50,
     "metadata": {},
     "output_type": "execute_result"
    }
   ],
   "source": [
    "processing.get_gestures()"
   ]
  },
  {
   "cell_type": "code",
   "execution_count": 51,
   "metadata": {
    "colab": {
     "base_uri": "https://localhost:8080/"
    },
    "id": "4jDLDPH1LWsL",
    "outputId": "3cf39a69-e325-4d70-a5a4-4cd36003a9c6"
   },
   "outputs": [
    {
     "data": {
      "text/plain": [
       "True"
      ]
     },
     "execution_count": 51,
     "metadata": {},
     "output_type": "execute_result"
    }
   ],
   "source": [
    "processing.get_clothes()"
   ]
  },
  {
   "cell_type": "code",
   "execution_count": 52,
   "metadata": {
    "colab": {
     "base_uri": "https://localhost:8080/"
    },
    "id": "HdwxJIdwXXv1",
    "outputId": "bb7134a1-e0b6-4a9a-d3bf-83d46fbecbaf"
   },
   "outputs": [
    {
     "name": "stdout",
     "output_type": "stream",
     "text": [
      "{'speech_rate': array([0., 0., 0., 0., 0., 0., 0., 0., 0.]), 'emotionality': array([0.1, 0. , 0. , 0. , 0. , 0. , 0.1, 0. , 0.1]), 'background_noise': array([0.058 , 0.0475, 0.059 , 0.0415, 0.039 , 0.0245, 0.046 , 0.0825,\n",
      "       0.109 ]), 'intelligibility': array([0.866, 0.762, 0.753, 0.767, 0.769, 0.78 , 0.763, 0.734, 0.748]), 'glances': array([0.633, 0.   , 0.719, 0.604, 0.529, 0.41 , 0.553, 0.649, 0.896]), 'gestures': array([2, 2, 2, 2, 2, 2, 2, 2, 2])}\n",
      "background_noise [0.058  0.0475 0.059  0.0415 0.039  0.0245 0.046  0.0825 0.109 ]\n",
      "speech_rate [0. 0. 0. 0. 0. 0. 0. 0. 0.]\n",
      "emotionality [0.1 0.  0.  0.  0.  0.  0.1 0.  0.1]\n",
      "intelligibility [0.866 0.762 0.753 0.767 0.769 0.78  0.763 0.734 0.748]\n",
      "gestures [2 2 2 2 2 2 2 2 2]\n",
      "glances [0.633 0.    0.719 0.604 0.529 0.41  0.553 0.649 0.896]\n",
      "[['No background noise', 'No background noise', 'No background noise', 'No background noise', 'No background noise', 'No background noise', 'No background noise', 'No background noise', 'No background noise'], ['Optimal speech rate', 'Optimal speech rate', 'Optimal speech rate', 'Optimal speech rate', 'Optimal speech rate', 'Optimal speech rate', 'Optimal speech rate', 'Optimal speech rate', 'Optimal speech rate'], ['Mostly desired emotions', 'Mostly desired emotions', 'Mostly desired emotions', 'Mostly desired emotions', 'Mostly desired emotions', 'Mostly desired emotions', 'Mostly desired emotions', 'Mostly desired emotions', 'Mostly desired emotions'], ['Speech is fully intelligible', 'Speech is fully intelligible', 'Speech is fully intelligible', 'Speech is fully intelligible', 'Speech is fully intelligible', 'Speech is fully intelligible', 'Speech is fully intelligible', 'Speech is fully intelligible', 'Speech is fully intelligible'], ['Active gesturing', 'Active gesturing', 'Active gesturing', 'Active gesturing', 'Active gesturing', 'Active gesturing', 'Active gesturing', 'Active gesturing', 'Active gesturing'], ['You often look away', None, 'You often look away', 'You often look away', None, None, None, 'You often look away', 'You often look away'], ['Too dark lighting', 'Too dark lighting', 'Too dark lighting', 'Too dark lighting', 'Too dark lighting', 'Too dark lighting', 'Too dark lighting', 'Too dark lighting', 'Too dark lighting']]\n",
      "[[True, True, True, True, True, True, True, True, True], [True, True, True, True, True, True, True, True, True], [True, True, True, True, True, True, True, True, True], [True, True, True, True, True, True, True, True, True], [False, False, False, False, False, False, False, False, False], [False, True, False, False, True, True, True, False, False], [False, False, False, False, False, False, False, False, False]]\n",
      "Moviepy - Building video data/short_eng_painted.mp4.\n",
      "MoviePy - Writing audio in short_eng_paintedTEMP_MPY_wvf_snd.mp3\n"
     ]
    },
    {
     "name": "stderr",
     "output_type": "stream",
     "text": [
      "                                                                                                                                                                                                                                                                "
     ]
    },
    {
     "name": "stdout",
     "output_type": "stream",
     "text": [
      "MoviePy - Done.\n",
      "Moviepy - Writing video data/short_eng_painted.mp4\n",
      "\n"
     ]
    },
    {
     "name": "stderr",
     "output_type": "stream",
     "text": [
      "                                                                                                                                                                                                                                                                "
     ]
    },
    {
     "name": "stdout",
     "output_type": "stream",
     "text": [
      "Moviepy - Done !\n",
      "Moviepy - video ready data/short_eng_painted.mp4\n"
     ]
    }
   ],
   "source": [
    "painted_path = processing.draw()"
   ]
  },
  {
   "cell_type": "code",
   "execution_count": 53,
   "metadata": {
    "colab": {
     "base_uri": "https://localhost:8080/",
     "height": 503
    },
    "id": "Y2TggR_cuXa8",
    "outputId": "3d40f481-d230-4f0f-fbc5-330166d6e875"
   },
   "outputs": [],
   "source": [
    "video_path = painted_path\n",
    "video_clip = VideoFileClip(video_path)\n",
    "#video_clip.ipython_display(width=640)"
   ]
  },
  {
   "cell_type": "markdown",
   "metadata": {
    "jp-MarkdownHeadingCollapsed": true
   },
   "source": [
    "## Poor presentation in English"
   ]
  },
  {
   "cell_type": "code",
   "execution_count": 23,
   "metadata": {
    "colab": {
     "base_uri": "https://localhost:8080/"
    },
    "id": "JdUiHA6nStg4",
    "outputId": "31ec89e8-441e-4e72-ae76-bdc0c2cc74b5"
   },
   "outputs": [
    {
     "name": "stderr",
     "output_type": "stream",
     "text": [
      "  0%|                                                                                                                                                                                                                                     | 0/9 [00:00<?, ?it/s]"
     ]
    },
    {
     "name": "stdout",
     "output_type": "stream",
     "text": [
      "max() arg is an empty sequence\n",
      "max() arg is an empty sequence\n",
      "max() arg is an empty sequence\n",
      "max() arg is an empty sequence\n",
      "max() arg is an empty sequence\n",
      "max() arg is an empty sequence\n",
      "max() arg is an empty sequence\n",
      "max() arg is an empty sequence\n",
      "max() arg is an empty sequence\n",
      "max() arg is an empty sequence\n"
     ]
    },
    {
     "name": "stderr",
     "output_type": "stream",
     "text": [
      "I0000 00:00:1745957389.186068 9239742 gl_context.cc:369] GL version: 2.1 (2.1 ATI-5.2.4), renderer: AMD Radeon Pro 5500M OpenGL Engine\n",
      "W0000 00:00:1745957389.189347 9243392 inference_feedback_manager.cc:114] Feedback manager requires a model with a single signature inference. Disabling support for feedback tensors.\n",
      "W0000 00:00:1745957389.208660 9243391 inference_feedback_manager.cc:114] Feedback manager requires a model with a single signature inference. Disabling support for feedback tensors.\n",
      "I0000 00:00:1745957389.240561 9239742 gl_context.cc:369] GL version: 2.1 (2.1 ATI-5.2.4), renderer: AMD Radeon Pro 5500M OpenGL Engine\n",
      "W0000 00:00:1745957389.244894 9243419 inference_feedback_manager.cc:114] Feedback manager requires a model with a single signature inference. Disabling support for feedback tensors.\n",
      "W0000 00:00:1745957389.260813 9243424 inference_feedback_manager.cc:114] Feedback manager requires a model with a single signature inference. Disabling support for feedback tensors.\n",
      "W0000 00:00:1745957389.274015 9243419 landmark_projection_calculator.cc:186] Using NORM_RECT without IMAGE_DIMENSIONS is only supported for the square ROI. Provide IMAGE_DIMENSIONS or use PROJECTION_MATRIX.\n",
      "I0000 00:00:1745957389.288218 9239742 gl_context.cc:369] GL version: 2.1 (2.1 ATI-5.2.4), renderer: AMD Radeon Pro 5500M OpenGL Engine\n",
      "W0000 00:00:1745957389.292186 9243444 inference_feedback_manager.cc:114] Feedback manager requires a model with a single signature inference. Disabling support for feedback tensors.\n",
      "W0000 00:00:1745957389.308306 9243436 inference_feedback_manager.cc:114] Feedback manager requires a model with a single signature inference. Disabling support for feedback tensors.\n",
      "I0000 00:00:1745957389.328562 9239742 gl_context.cc:369] GL version: 2.1 (2.1 ATI-5.2.4), renderer: AMD Radeon Pro 5500M OpenGL Engine\n",
      "W0000 00:00:1745957389.332281 9243459 inference_feedback_manager.cc:114] Feedback manager requires a model with a single signature inference. Disabling support for feedback tensors.\n",
      "W0000 00:00:1745957389.347642 9243461 inference_feedback_manager.cc:114] Feedback manager requires a model with a single signature inference. Disabling support for feedback tensors.\n",
      "I0000 00:00:1745957389.367159 9239742 gl_context.cc:369] GL version: 2.1 (2.1 ATI-5.2.4), renderer: AMD Radeon Pro 5500M OpenGL Engine\n",
      "W0000 00:00:1745957389.370893 9243484 inference_feedback_manager.cc:114] Feedback manager requires a model with a single signature inference. Disabling support for feedback tensors.\n",
      "W0000 00:00:1745957389.385597 9243478 inference_feedback_manager.cc:114] Feedback manager requires a model with a single signature inference. Disabling support for feedback tensors.\n",
      "I0000 00:00:1745957389.408589 9239742 gl_context.cc:369] GL version: 2.1 (2.1 ATI-5.2.4), renderer: AMD Radeon Pro 5500M OpenGL Engine\n",
      "W0000 00:00:1745957389.412660 9243494 inference_feedback_manager.cc:114] Feedback manager requires a model with a single signature inference. Disabling support for feedback tensors.\n",
      "W0000 00:00:1745957389.429390 9243493 inference_feedback_manager.cc:114] Feedback manager requires a model with a single signature inference. Disabling support for feedback tensors.\n",
      "I0000 00:00:1745957389.465583 9239742 gl_context.cc:369] GL version: 2.1 (2.1 ATI-5.2.4), renderer: AMD Radeon Pro 5500M OpenGL Engine\n",
      "W0000 00:00:1745957389.469996 9243507 inference_feedback_manager.cc:114] Feedback manager requires a model with a single signature inference. Disabling support for feedback tensors.\n",
      "W0000 00:00:1745957389.486235 9243510 inference_feedback_manager.cc:114] Feedback manager requires a model with a single signature inference. Disabling support for feedback tensors.\n",
      "I0000 00:00:1745957389.506551 9239742 gl_context.cc:369] GL version: 2.1 (2.1 ATI-5.2.4), renderer: AMD Radeon Pro 5500M OpenGL Engine\n",
      "W0000 00:00:1745957389.510476 9243529 inference_feedback_manager.cc:114] Feedback manager requires a model with a single signature inference. Disabling support for feedback tensors.\n",
      "W0000 00:00:1745957389.524648 9243525 inference_feedback_manager.cc:114] Feedback manager requires a model with a single signature inference. Disabling support for feedback tensors.\n",
      "I0000 00:00:1745957389.544296 9239742 gl_context.cc:369] GL version: 2.1 (2.1 ATI-5.2.4), renderer: AMD Radeon Pro 5500M OpenGL Engine\n",
      "W0000 00:00:1745957389.547972 9243549 inference_feedback_manager.cc:114] Feedback manager requires a model with a single signature inference. Disabling support for feedback tensors.\n",
      "W0000 00:00:1745957389.562824 9243540 inference_feedback_manager.cc:114] Feedback manager requires a model with a single signature inference. Disabling support for feedback tensors.\n",
      "I0000 00:00:1745957389.582312 9239742 gl_context.cc:369] GL version: 2.1 (2.1 ATI-5.2.4), renderer: AMD Radeon Pro 5500M OpenGL Engine\n",
      "W0000 00:00:1745957389.585974 9243560 inference_feedback_manager.cc:114] Feedback manager requires a model with a single signature inference. Disabling support for feedback tensors.\n",
      "W0000 00:00:1745957389.600653 9243557 inference_feedback_manager.cc:114] Feedback manager requires a model with a single signature inference. Disabling support for feedback tensors.\n",
      "I0000 00:00:1745957389.623315 9239742 gl_context.cc:369] GL version: 2.1 (2.1 ATI-5.2.4), renderer: AMD Radeon Pro 5500M OpenGL Engine\n",
      "W0000 00:00:1745957389.734866 9243575 inference_feedback_manager.cc:114] Feedback manager requires a model with a single signature inference. Disabling support for feedback tensors.\n",
      "W0000 00:00:1745957389.773293 9243586 inference_feedback_manager.cc:114] Feedback manager requires a model with a single signature inference. Disabling support for feedback tensors.\n",
      "I0000 00:00:1745957389.908368 9239742 gl_context.cc:369] GL version: 2.1 (2.1 ATI-5.2.4), renderer: AMD Radeon Pro 5500M OpenGL Engine\n",
      "W0000 00:00:1745957390.024200 9243594 inference_feedback_manager.cc:114] Feedback manager requires a model with a single signature inference. Disabling support for feedback tensors.\n",
      "W0000 00:00:1745957390.055981 9243594 inference_feedback_manager.cc:114] Feedback manager requires a model with a single signature inference. Disabling support for feedback tensors.\n",
      "I0000 00:00:1745957390.193202 9239742 gl_context.cc:369] GL version: 2.1 (2.1 ATI-5.2.4), renderer: AMD Radeon Pro 5500M OpenGL Engine\n",
      "W0000 00:00:1745957390.323420 9243614 inference_feedback_manager.cc:114] Feedback manager requires a model with a single signature inference. Disabling support for feedback tensors.\n",
      "W0000 00:00:1745957390.357772 9243617 inference_feedback_manager.cc:114] Feedback manager requires a model with a single signature inference. Disabling support for feedback tensors.\n",
      "I0000 00:00:1745957390.502420 9239742 gl_context.cc:369] GL version: 2.1 (2.1 ATI-5.2.4), renderer: AMD Radeon Pro 5500M OpenGL Engine\n",
      "W0000 00:00:1745957390.618836 9243640 inference_feedback_manager.cc:114] Feedback manager requires a model with a single signature inference. Disabling support for feedback tensors.\n",
      "W0000 00:00:1745957390.649247 9243647 inference_feedback_manager.cc:114] Feedback manager requires a model with a single signature inference. Disabling support for feedback tensors.\n",
      "I0000 00:00:1745957390.780261 9239742 gl_context.cc:369] GL version: 2.1 (2.1 ATI-5.2.4), renderer: AMD Radeon Pro 5500M OpenGL Engine\n",
      "W0000 00:00:1745957390.902229 9243656 inference_feedback_manager.cc:114] Feedback manager requires a model with a single signature inference. Disabling support for feedback tensors.\n",
      "W0000 00:00:1745957390.933285 9243656 inference_feedback_manager.cc:114] Feedback manager requires a model with a single signature inference. Disabling support for feedback tensors.\n",
      "I0000 00:00:1745957391.065416 9239742 gl_context.cc:369] GL version: 2.1 (2.1 ATI-5.2.4), renderer: AMD Radeon Pro 5500M OpenGL Engine\n",
      "W0000 00:00:1745957391.180284 9243673 inference_feedback_manager.cc:114] Feedback manager requires a model with a single signature inference. Disabling support for feedback tensors.\n",
      "W0000 00:00:1745957391.213930 9243673 inference_feedback_manager.cc:114] Feedback manager requires a model with a single signature inference. Disabling support for feedback tensors.\n",
      "I0000 00:00:1745957391.346971 9239742 gl_context.cc:369] GL version: 2.1 (2.1 ATI-5.2.4), renderer: AMD Radeon Pro 5500M OpenGL Engine\n",
      "W0000 00:00:1745957391.468969 9243702 inference_feedback_manager.cc:114] Feedback manager requires a model with a single signature inference. Disabling support for feedback tensors.\n",
      "W0000 00:00:1745957391.507831 9243702 inference_feedback_manager.cc:114] Feedback manager requires a model with a single signature inference. Disabling support for feedback tensors.\n",
      "I0000 00:00:1745957391.648934 9239742 gl_context.cc:369] GL version: 2.1 (2.1 ATI-5.2.4), renderer: AMD Radeon Pro 5500M OpenGL Engine\n",
      "W0000 00:00:1745957391.762176 9243719 inference_feedback_manager.cc:114] Feedback manager requires a model with a single signature inference. Disabling support for feedback tensors.\n",
      "W0000 00:00:1745957391.791110 9243719 inference_feedback_manager.cc:114] Feedback manager requires a model with a single signature inference. Disabling support for feedback tensors.\n",
      "I0000 00:00:1745957391.921225 9239742 gl_context.cc:369] GL version: 2.1 (2.1 ATI-5.2.4), renderer: AMD Radeon Pro 5500M OpenGL Engine\n",
      "W0000 00:00:1745957392.045411 9243735 inference_feedback_manager.cc:114] Feedback manager requires a model with a single signature inference. Disabling support for feedback tensors.\n",
      "W0000 00:00:1745957392.079300 9243736 inference_feedback_manager.cc:114] Feedback manager requires a model with a single signature inference. Disabling support for feedback tensors.\n",
      "I0000 00:00:1745957392.213244 9239742 gl_context.cc:369] GL version: 2.1 (2.1 ATI-5.2.4), renderer: AMD Radeon Pro 5500M OpenGL Engine\n",
      "W0000 00:00:1745957392.327788 9243752 inference_feedback_manager.cc:114] Feedback manager requires a model with a single signature inference. Disabling support for feedback tensors.\n",
      "W0000 00:00:1745957392.361340 9243759 inference_feedback_manager.cc:114] Feedback manager requires a model with a single signature inference. Disabling support for feedback tensors.\n",
      "I0000 00:00:1745957392.499098 9239742 gl_context.cc:369] GL version: 2.1 (2.1 ATI-5.2.4), renderer: AMD Radeon Pro 5500M OpenGL Engine\n",
      "W0000 00:00:1745957392.623192 9243778 inference_feedback_manager.cc:114] Feedback manager requires a model with a single signature inference. Disabling support for feedback tensors.\n",
      "W0000 00:00:1745957392.657231 9243776 inference_feedback_manager.cc:114] Feedback manager requires a model with a single signature inference. Disabling support for feedback tensors.\n",
      "I0000 00:00:1745957398.099343 9239742 gl_context.cc:369] GL version: 2.1 (2.1 ATI-5.2.4), renderer: AMD Radeon Pro 5500M OpenGL Engine\n",
      "W0000 00:00:1745957398.100218 9239742 face_landmarker_graph.cc:174] Sets FaceBlendshapesGraph acceleration to xnnpack by default.\n",
      "W0000 00:00:1745957398.108929 9243889 inference_feedback_manager.cc:114] Feedback manager requires a model with a single signature inference. Disabling support for feedback tensors.\n",
      "W0000 00:00:1745957398.125518 9243889 inference_feedback_manager.cc:114] Feedback manager requires a model with a single signature inference. Disabling support for feedback tensors.\n",
      "I0000 00:00:1745957400.485439 9239742 gl_context.cc:369] GL version: 2.1 (2.1 ATI-5.2.4), renderer: AMD Radeon Pro 5500M OpenGL Engine\n",
      "W0000 00:00:1745957400.600610 9243961 inference_feedback_manager.cc:114] Feedback manager requires a model with a single signature inference. Disabling support for feedback tensors.\n",
      "W0000 00:00:1745957400.635138 9243961 inference_feedback_manager.cc:114] Feedback manager requires a model with a single signature inference. Disabling support for feedback tensors.\n",
      " 11%|████████████████████████▌                                                                                                                                                                                                    | 1/9 [00:12<01:40, 12.59s/it]"
     ]
    },
    {
     "name": "stdout",
     "output_type": "stream",
     "text": [
      "max() arg is an empty sequence\n",
      "max() arg is an empty sequence\n",
      "max() arg is an empty sequence\n",
      "max() arg is an empty sequence\n",
      "max() arg is an empty sequence\n",
      "max() arg is an empty sequence\n",
      "max() arg is an empty sequence\n",
      "max() arg is an empty sequence\n",
      "max() arg is an empty sequence\n"
     ]
    },
    {
     "name": "stderr",
     "output_type": "stream",
     "text": [
      "I0000 00:00:1745957401.802481 9239742 gl_context.cc:369] GL version: 2.1 (2.1 ATI-5.2.4), renderer: AMD Radeon Pro 5500M OpenGL Engine\n",
      "W0000 00:00:1745957401.806138 9244034 inference_feedback_manager.cc:114] Feedback manager requires a model with a single signature inference. Disabling support for feedback tensors.\n",
      "W0000 00:00:1745957401.821183 9244032 inference_feedback_manager.cc:114] Feedback manager requires a model with a single signature inference. Disabling support for feedback tensors.\n",
      "I0000 00:00:1745957401.843774 9239742 gl_context.cc:369] GL version: 2.1 (2.1 ATI-5.2.4), renderer: AMD Radeon Pro 5500M OpenGL Engine\n",
      "W0000 00:00:1745957401.847469 9244050 inference_feedback_manager.cc:114] Feedback manager requires a model with a single signature inference. Disabling support for feedback tensors.\n",
      "W0000 00:00:1745957401.863275 9244048 inference_feedback_manager.cc:114] Feedback manager requires a model with a single signature inference. Disabling support for feedback tensors.\n",
      "I0000 00:00:1745957401.883454 9239742 gl_context.cc:369] GL version: 2.1 (2.1 ATI-5.2.4), renderer: AMD Radeon Pro 5500M OpenGL Engine\n",
      "W0000 00:00:1745957401.887470 9244065 inference_feedback_manager.cc:114] Feedback manager requires a model with a single signature inference. Disabling support for feedback tensors.\n",
      "W0000 00:00:1745957401.902452 9244066 inference_feedback_manager.cc:114] Feedback manager requires a model with a single signature inference. Disabling support for feedback tensors.\n",
      "I0000 00:00:1745957401.922519 9239742 gl_context.cc:369] GL version: 2.1 (2.1 ATI-5.2.4), renderer: AMD Radeon Pro 5500M OpenGL Engine\n",
      "W0000 00:00:1745957401.926367 9244084 inference_feedback_manager.cc:114] Feedback manager requires a model with a single signature inference. Disabling support for feedback tensors.\n",
      "W0000 00:00:1745957401.945782 9244082 inference_feedback_manager.cc:114] Feedback manager requires a model with a single signature inference. Disabling support for feedback tensors.\n",
      "I0000 00:00:1745957401.965657 9239742 gl_context.cc:369] GL version: 2.1 (2.1 ATI-5.2.4), renderer: AMD Radeon Pro 5500M OpenGL Engine\n",
      "W0000 00:00:1745957401.969090 9244110 inference_feedback_manager.cc:114] Feedback manager requires a model with a single signature inference. Disabling support for feedback tensors.\n",
      "W0000 00:00:1745957401.983456 9244099 inference_feedback_manager.cc:114] Feedback manager requires a model with a single signature inference. Disabling support for feedback tensors.\n",
      "I0000 00:00:1745957402.003716 9239742 gl_context.cc:369] GL version: 2.1 (2.1 ATI-5.2.4), renderer: AMD Radeon Pro 5500M OpenGL Engine\n",
      "W0000 00:00:1745957402.007739 9244114 inference_feedback_manager.cc:114] Feedback manager requires a model with a single signature inference. Disabling support for feedback tensors.\n",
      "W0000 00:00:1745957402.028471 9244119 inference_feedback_manager.cc:114] Feedback manager requires a model with a single signature inference. Disabling support for feedback tensors.\n",
      "I0000 00:00:1745957402.049872 9239742 gl_context.cc:369] GL version: 2.1 (2.1 ATI-5.2.4), renderer: AMD Radeon Pro 5500M OpenGL Engine\n",
      "W0000 00:00:1745957402.053639 9244131 inference_feedback_manager.cc:114] Feedback manager requires a model with a single signature inference. Disabling support for feedback tensors.\n",
      "W0000 00:00:1745957402.070727 9244133 inference_feedback_manager.cc:114] Feedback manager requires a model with a single signature inference. Disabling support for feedback tensors.\n",
      "I0000 00:00:1745957402.091985 9239742 gl_context.cc:369] GL version: 2.1 (2.1 ATI-5.2.4), renderer: AMD Radeon Pro 5500M OpenGL Engine\n",
      "W0000 00:00:1745957402.095812 9244147 inference_feedback_manager.cc:114] Feedback manager requires a model with a single signature inference. Disabling support for feedback tensors.\n",
      "W0000 00:00:1745957402.112336 9244149 inference_feedback_manager.cc:114] Feedback manager requires a model with a single signature inference. Disabling support for feedback tensors.\n",
      "I0000 00:00:1745957402.133956 9239742 gl_context.cc:369] GL version: 2.1 (2.1 ATI-5.2.4), renderer: AMD Radeon Pro 5500M OpenGL Engine\n",
      "W0000 00:00:1745957402.137842 9244172 inference_feedback_manager.cc:114] Feedback manager requires a model with a single signature inference. Disabling support for feedback tensors.\n",
      "W0000 00:00:1745957402.153950 9244165 inference_feedback_manager.cc:114] Feedback manager requires a model with a single signature inference. Disabling support for feedback tensors.\n",
      "I0000 00:00:1745957402.174476 9239742 gl_context.cc:369] GL version: 2.1 (2.1 ATI-5.2.4), renderer: AMD Radeon Pro 5500M OpenGL Engine\n",
      "W0000 00:00:1745957402.178485 9244183 inference_feedback_manager.cc:114] Feedback manager requires a model with a single signature inference. Disabling support for feedback tensors.\n",
      "W0000 00:00:1745957402.195325 9244180 inference_feedback_manager.cc:114] Feedback manager requires a model with a single signature inference. Disabling support for feedback tensors.\n",
      "I0000 00:00:1745957402.218593 9239742 gl_context.cc:369] GL version: 2.1 (2.1 ATI-5.2.4), renderer: AMD Radeon Pro 5500M OpenGL Engine\n",
      "W0000 00:00:1745957402.339931 9244199 inference_feedback_manager.cc:114] Feedback manager requires a model with a single signature inference. Disabling support for feedback tensors.\n",
      "W0000 00:00:1745957402.374454 9244199 inference_feedback_manager.cc:114] Feedback manager requires a model with a single signature inference. Disabling support for feedback tensors.\n",
      "I0000 00:00:1745957402.499235 9239742 gl_context.cc:369] GL version: 2.1 (2.1 ATI-5.2.4), renderer: AMD Radeon Pro 5500M OpenGL Engine\n",
      "W0000 00:00:1745957402.605813 9244220 inference_feedback_manager.cc:114] Feedback manager requires a model with a single signature inference. Disabling support for feedback tensors.\n",
      "W0000 00:00:1745957402.636278 9244227 inference_feedback_manager.cc:114] Feedback manager requires a model with a single signature inference. Disabling support for feedback tensors.\n",
      "I0000 00:00:1745957402.759051 9239742 gl_context.cc:369] GL version: 2.1 (2.1 ATI-5.2.4), renderer: AMD Radeon Pro 5500M OpenGL Engine\n",
      "W0000 00:00:1745957402.877941 9244238 inference_feedback_manager.cc:114] Feedback manager requires a model with a single signature inference. Disabling support for feedback tensors.\n",
      "W0000 00:00:1745957402.913704 9244238 inference_feedback_manager.cc:114] Feedback manager requires a model with a single signature inference. Disabling support for feedback tensors.\n",
      "I0000 00:00:1745957403.034134 9239742 gl_context.cc:369] GL version: 2.1 (2.1 ATI-5.2.4), renderer: AMD Radeon Pro 5500M OpenGL Engine\n",
      "W0000 00:00:1745957403.147712 9244253 inference_feedback_manager.cc:114] Feedback manager requires a model with a single signature inference. Disabling support for feedback tensors.\n",
      "W0000 00:00:1745957403.186587 9244253 inference_feedback_manager.cc:114] Feedback manager requires a model with a single signature inference. Disabling support for feedback tensors.\n",
      "I0000 00:00:1745957403.316200 9239742 gl_context.cc:369] GL version: 2.1 (2.1 ATI-5.2.4), renderer: AMD Radeon Pro 5500M OpenGL Engine\n",
      "W0000 00:00:1745957403.432470 9244280 inference_feedback_manager.cc:114] Feedback manager requires a model with a single signature inference. Disabling support for feedback tensors.\n",
      "W0000 00:00:1745957403.471304 9244288 inference_feedback_manager.cc:114] Feedback manager requires a model with a single signature inference. Disabling support for feedback tensors.\n",
      "I0000 00:00:1745957403.601252 9239742 gl_context.cc:369] GL version: 2.1 (2.1 ATI-5.2.4), renderer: AMD Radeon Pro 5500M OpenGL Engine\n",
      "W0000 00:00:1745957403.712055 9244298 inference_feedback_manager.cc:114] Feedback manager requires a model with a single signature inference. Disabling support for feedback tensors.\n",
      "W0000 00:00:1745957403.743263 9244298 inference_feedback_manager.cc:114] Feedback manager requires a model with a single signature inference. Disabling support for feedback tensors.\n",
      "I0000 00:00:1745957403.868202 9239742 gl_context.cc:369] GL version: 2.1 (2.1 ATI-5.2.4), renderer: AMD Radeon Pro 5500M OpenGL Engine\n",
      "W0000 00:00:1745957403.979186 9244319 inference_feedback_manager.cc:114] Feedback manager requires a model with a single signature inference. Disabling support for feedback tensors.\n",
      "W0000 00:00:1745957404.012372 9244319 inference_feedback_manager.cc:114] Feedback manager requires a model with a single signature inference. Disabling support for feedback tensors.\n",
      "I0000 00:00:1745957404.136577 9239742 gl_context.cc:369] GL version: 2.1 (2.1 ATI-5.2.4), renderer: AMD Radeon Pro 5500M OpenGL Engine\n",
      "W0000 00:00:1745957404.255487 9244340 inference_feedback_manager.cc:114] Feedback manager requires a model with a single signature inference. Disabling support for feedback tensors.\n",
      "W0000 00:00:1745957404.288624 9244340 inference_feedback_manager.cc:114] Feedback manager requires a model with a single signature inference. Disabling support for feedback tensors.\n",
      "I0000 00:00:1745957404.419442 9239742 gl_context.cc:369] GL version: 2.1 (2.1 ATI-5.2.4), renderer: AMD Radeon Pro 5500M OpenGL Engine\n",
      "W0000 00:00:1745957404.535461 9244368 inference_feedback_manager.cc:114] Feedback manager requires a model with a single signature inference. Disabling support for feedback tensors.\n",
      "W0000 00:00:1745957404.568989 9244368 inference_feedback_manager.cc:114] Feedback manager requires a model with a single signature inference. Disabling support for feedback tensors.\n",
      "I0000 00:00:1745957404.694646 9239742 gl_context.cc:369] GL version: 2.1 (2.1 ATI-5.2.4), renderer: AMD Radeon Pro 5500M OpenGL Engine\n",
      "W0000 00:00:1745957404.816969 9244379 inference_feedback_manager.cc:114] Feedback manager requires a model with a single signature inference. Disabling support for feedback tensors.\n",
      "W0000 00:00:1745957404.849993 9244379 inference_feedback_manager.cc:114] Feedback manager requires a model with a single signature inference. Disabling support for feedback tensors.\n",
      "I0000 00:00:1745957404.981180 9239742 gl_context.cc:369] GL version: 2.1 (2.1 ATI-5.2.4), renderer: AMD Radeon Pro 5500M OpenGL Engine\n",
      "W0000 00:00:1745957405.181944 9244404 inference_feedback_manager.cc:114] Feedback manager requires a model with a single signature inference. Disabling support for feedback tensors.\n",
      "W0000 00:00:1745957405.226588 9244403 inference_feedback_manager.cc:114] Feedback manager requires a model with a single signature inference. Disabling support for feedback tensors.\n",
      "I0000 00:00:1745957410.821387 9239742 gl_context.cc:369] GL version: 2.1 (2.1 ATI-5.2.4), renderer: AMD Radeon Pro 5500M OpenGL Engine\n",
      "W0000 00:00:1745957410.822956 9239742 face_landmarker_graph.cc:174] Sets FaceBlendshapesGraph acceleration to xnnpack by default.\n",
      "W0000 00:00:1745957410.833827 9244490 inference_feedback_manager.cc:114] Feedback manager requires a model with a single signature inference. Disabling support for feedback tensors.\n",
      "W0000 00:00:1745957410.852181 9244490 inference_feedback_manager.cc:114] Feedback manager requires a model with a single signature inference. Disabling support for feedback tensors.\n",
      " 22%|█████████████████████████████████████████████████                                                                                                                                                                            | 2/9 [00:23<01:21, 11.66s/it]"
     ]
    },
    {
     "name": "stdout",
     "output_type": "stream",
     "text": [
      "max() arg is an empty sequence\n",
      "max() arg is an empty sequence\n",
      "max() arg is an empty sequence\n",
      "max() arg is an empty sequence\n",
      "max() arg is an empty sequence\n",
      "max() arg is an empty sequence\n",
      "max() arg is an empty sequence\n",
      "max() arg is an empty sequence\n",
      "max() arg is an empty sequence\n",
      "max() arg is an empty sequence\n"
     ]
    },
    {
     "name": "stderr",
     "output_type": "stream",
     "text": [
      "I0000 00:00:1745957412.816882 9239742 gl_context.cc:369] GL version: 2.1 (2.1 ATI-5.2.4), renderer: AMD Radeon Pro 5500M OpenGL Engine\n",
      "W0000 00:00:1745957412.820212 9244550 inference_feedback_manager.cc:114] Feedback manager requires a model with a single signature inference. Disabling support for feedback tensors.\n",
      "W0000 00:00:1745957412.838955 9244542 inference_feedback_manager.cc:114] Feedback manager requires a model with a single signature inference. Disabling support for feedback tensors.\n",
      "I0000 00:00:1745957412.860240 9239742 gl_context.cc:369] GL version: 2.1 (2.1 ATI-5.2.4), renderer: AMD Radeon Pro 5500M OpenGL Engine\n",
      "W0000 00:00:1745957412.864285 9244560 inference_feedback_manager.cc:114] Feedback manager requires a model with a single signature inference. Disabling support for feedback tensors.\n",
      "W0000 00:00:1745957412.879835 9244558 inference_feedback_manager.cc:114] Feedback manager requires a model with a single signature inference. Disabling support for feedback tensors.\n",
      "I0000 00:00:1745957412.900432 9239742 gl_context.cc:369] GL version: 2.1 (2.1 ATI-5.2.4), renderer: AMD Radeon Pro 5500M OpenGL Engine\n",
      "W0000 00:00:1745957412.904284 9244581 inference_feedback_manager.cc:114] Feedback manager requires a model with a single signature inference. Disabling support for feedback tensors.\n",
      "W0000 00:00:1745957412.921612 9244578 inference_feedback_manager.cc:114] Feedback manager requires a model with a single signature inference. Disabling support for feedback tensors.\n",
      "I0000 00:00:1745957412.945695 9239742 gl_context.cc:369] GL version: 2.1 (2.1 ATI-5.2.4), renderer: AMD Radeon Pro 5500M OpenGL Engine\n",
      "W0000 00:00:1745957412.949648 9244592 inference_feedback_manager.cc:114] Feedback manager requires a model with a single signature inference. Disabling support for feedback tensors.\n",
      "W0000 00:00:1745957412.965030 9244593 inference_feedback_manager.cc:114] Feedback manager requires a model with a single signature inference. Disabling support for feedback tensors.\n",
      "I0000 00:00:1745957412.986142 9239742 gl_context.cc:369] GL version: 2.1 (2.1 ATI-5.2.4), renderer: AMD Radeon Pro 5500M OpenGL Engine\n",
      "W0000 00:00:1745957412.989887 9244612 inference_feedback_manager.cc:114] Feedback manager requires a model with a single signature inference. Disabling support for feedback tensors.\n",
      "W0000 00:00:1745957413.005756 9244608 inference_feedback_manager.cc:114] Feedback manager requires a model with a single signature inference. Disabling support for feedback tensors.\n",
      "I0000 00:00:1745957413.048244 9239742 gl_context.cc:369] GL version: 2.1 (2.1 ATI-5.2.4), renderer: AMD Radeon Pro 5500M OpenGL Engine\n",
      "W0000 00:00:1745957413.052201 9244624 inference_feedback_manager.cc:114] Feedback manager requires a model with a single signature inference. Disabling support for feedback tensors.\n",
      "W0000 00:00:1745957413.069013 9244623 inference_feedback_manager.cc:114] Feedback manager requires a model with a single signature inference. Disabling support for feedback tensors.\n",
      "I0000 00:00:1745957413.129653 9239742 gl_context.cc:369] GL version: 2.1 (2.1 ATI-5.2.4), renderer: AMD Radeon Pro 5500M OpenGL Engine\n",
      "W0000 00:00:1745957413.136061 9244639 inference_feedback_manager.cc:114] Feedback manager requires a model with a single signature inference. Disabling support for feedback tensors.\n",
      "W0000 00:00:1745957413.152315 9244641 inference_feedback_manager.cc:114] Feedback manager requires a model with a single signature inference. Disabling support for feedback tensors.\n",
      "I0000 00:00:1745957413.172937 9239742 gl_context.cc:369] GL version: 2.1 (2.1 ATI-5.2.4), renderer: AMD Radeon Pro 5500M OpenGL Engine\n",
      "W0000 00:00:1745957413.176893 9244656 inference_feedback_manager.cc:114] Feedback manager requires a model with a single signature inference. Disabling support for feedback tensors.\n",
      "W0000 00:00:1745957413.192655 9244655 inference_feedback_manager.cc:114] Feedback manager requires a model with a single signature inference. Disabling support for feedback tensors.\n",
      "I0000 00:00:1745957413.214651 9239742 gl_context.cc:369] GL version: 2.1 (2.1 ATI-5.2.4), renderer: AMD Radeon Pro 5500M OpenGL Engine\n",
      "W0000 00:00:1745957413.219637 9244672 inference_feedback_manager.cc:114] Feedback manager requires a model with a single signature inference. Disabling support for feedback tensors.\n",
      "W0000 00:00:1745957413.239294 9244671 inference_feedback_manager.cc:114] Feedback manager requires a model with a single signature inference. Disabling support for feedback tensors.\n",
      "I0000 00:00:1745957413.260848 9239742 gl_context.cc:369] GL version: 2.1 (2.1 ATI-5.2.4), renderer: AMD Radeon Pro 5500M OpenGL Engine\n",
      "W0000 00:00:1745957413.264713 9244692 inference_feedback_manager.cc:114] Feedback manager requires a model with a single signature inference. Disabling support for feedback tensors.\n",
      "W0000 00:00:1745957413.280401 9244690 inference_feedback_manager.cc:114] Feedback manager requires a model with a single signature inference. Disabling support for feedback tensors.\n",
      "I0000 00:00:1745957413.304955 9239742 gl_context.cc:369] GL version: 2.1 (2.1 ATI-5.2.4), renderer: AMD Radeon Pro 5500M OpenGL Engine\n",
      "W0000 00:00:1745957413.423039 9244705 inference_feedback_manager.cc:114] Feedback manager requires a model with a single signature inference. Disabling support for feedback tensors.\n",
      "W0000 00:00:1745957413.460409 9244705 inference_feedback_manager.cc:114] Feedback manager requires a model with a single signature inference. Disabling support for feedback tensors.\n",
      "I0000 00:00:1745957413.593762 9239742 gl_context.cc:369] GL version: 2.1 (2.1 ATI-5.2.4), renderer: AMD Radeon Pro 5500M OpenGL Engine\n",
      "W0000 00:00:1745957413.710465 9244731 inference_feedback_manager.cc:114] Feedback manager requires a model with a single signature inference. Disabling support for feedback tensors.\n",
      "W0000 00:00:1745957413.746376 9244731 inference_feedback_manager.cc:114] Feedback manager requires a model with a single signature inference. Disabling support for feedback tensors.\n",
      "I0000 00:00:1745957413.871995 9239742 gl_context.cc:369] GL version: 2.1 (2.1 ATI-5.2.4), renderer: AMD Radeon Pro 5500M OpenGL Engine\n",
      "W0000 00:00:1745957413.981735 9244749 inference_feedback_manager.cc:114] Feedback manager requires a model with a single signature inference. Disabling support for feedback tensors.\n",
      "W0000 00:00:1745957414.018194 9244754 inference_feedback_manager.cc:114] Feedback manager requires a model with a single signature inference. Disabling support for feedback tensors.\n",
      "I0000 00:00:1745957414.143904 9239742 gl_context.cc:369] GL version: 2.1 (2.1 ATI-5.2.4), renderer: AMD Radeon Pro 5500M OpenGL Engine\n",
      "W0000 00:00:1745957414.257060 9244765 inference_feedback_manager.cc:114] Feedback manager requires a model with a single signature inference. Disabling support for feedback tensors.\n",
      "W0000 00:00:1745957414.293269 9244765 inference_feedback_manager.cc:114] Feedback manager requires a model with a single signature inference. Disabling support for feedback tensors.\n",
      "I0000 00:00:1745957414.434398 9239742 gl_context.cc:369] GL version: 2.1 (2.1 ATI-5.2.4), renderer: AMD Radeon Pro 5500M OpenGL Engine\n",
      "W0000 00:00:1745957414.561159 9244792 inference_feedback_manager.cc:114] Feedback manager requires a model with a single signature inference. Disabling support for feedback tensors.\n",
      "W0000 00:00:1745957414.593907 9244792 inference_feedback_manager.cc:114] Feedback manager requires a model with a single signature inference. Disabling support for feedback tensors.\n",
      "I0000 00:00:1745957414.729247 9239742 gl_context.cc:369] GL version: 2.1 (2.1 ATI-5.2.4), renderer: AMD Radeon Pro 5500M OpenGL Engine\n",
      "W0000 00:00:1745957414.846369 9244816 inference_feedback_manager.cc:114] Feedback manager requires a model with a single signature inference. Disabling support for feedback tensors.\n",
      "W0000 00:00:1745957414.878855 9244820 inference_feedback_manager.cc:114] Feedback manager requires a model with a single signature inference. Disabling support for feedback tensors.\n",
      "I0000 00:00:1745957415.004280 9239742 gl_context.cc:369] GL version: 2.1 (2.1 ATI-5.2.4), renderer: AMD Radeon Pro 5500M OpenGL Engine\n",
      "W0000 00:00:1745957415.119521 9244829 inference_feedback_manager.cc:114] Feedback manager requires a model with a single signature inference. Disabling support for feedback tensors.\n",
      "W0000 00:00:1745957415.152783 9244829 inference_feedback_manager.cc:114] Feedback manager requires a model with a single signature inference. Disabling support for feedback tensors.\n",
      "I0000 00:00:1745957415.281886 9239742 gl_context.cc:369] GL version: 2.1 (2.1 ATI-5.2.4), renderer: AMD Radeon Pro 5500M OpenGL Engine\n",
      "W0000 00:00:1745957415.405498 9244851 inference_feedback_manager.cc:114] Feedback manager requires a model with a single signature inference. Disabling support for feedback tensors.\n",
      "W0000 00:00:1745957415.441134 9244857 inference_feedback_manager.cc:114] Feedback manager requires a model with a single signature inference. Disabling support for feedback tensors.\n",
      "I0000 00:00:1745957415.569283 9239742 gl_context.cc:369] GL version: 2.1 (2.1 ATI-5.2.4), renderer: AMD Radeon Pro 5500M OpenGL Engine\n",
      "W0000 00:00:1745957415.679800 9244875 inference_feedback_manager.cc:114] Feedback manager requires a model with a single signature inference. Disabling support for feedback tensors.\n",
      "W0000 00:00:1745957415.714875 9244881 inference_feedback_manager.cc:114] Feedback manager requires a model with a single signature inference. Disabling support for feedback tensors.\n",
      "I0000 00:00:1745957415.837097 9239742 gl_context.cc:369] GL version: 2.1 (2.1 ATI-5.2.4), renderer: AMD Radeon Pro 5500M OpenGL Engine\n",
      "W0000 00:00:1745957415.945638 9244895 inference_feedback_manager.cc:114] Feedback manager requires a model with a single signature inference. Disabling support for feedback tensors.\n",
      "W0000 00:00:1745957415.980542 9244895 inference_feedback_manager.cc:114] Feedback manager requires a model with a single signature inference. Disabling support for feedback tensors.\n",
      "I0000 00:00:1745957416.108694 9239742 gl_context.cc:369] GL version: 2.1 (2.1 ATI-5.2.4), renderer: AMD Radeon Pro 5500M OpenGL Engine\n",
      "W0000 00:00:1745957416.238093 9244913 inference_feedback_manager.cc:114] Feedback manager requires a model with a single signature inference. Disabling support for feedback tensors.\n",
      "W0000 00:00:1745957416.272462 9244913 inference_feedback_manager.cc:114] Feedback manager requires a model with a single signature inference. Disabling support for feedback tensors.\n",
      "I0000 00:00:1745957421.505023 9239742 gl_context.cc:369] GL version: 2.1 (2.1 ATI-5.2.4), renderer: AMD Radeon Pro 5500M OpenGL Engine\n",
      "W0000 00:00:1745957421.505722 9239742 face_landmarker_graph.cc:174] Sets FaceBlendshapesGraph acceleration to xnnpack by default.\n",
      "W0000 00:00:1745957421.513678 9245029 inference_feedback_manager.cc:114] Feedback manager requires a model with a single signature inference. Disabling support for feedback tensors.\n",
      "W0000 00:00:1745957421.529098 9245029 inference_feedback_manager.cc:114] Feedback manager requires a model with a single signature inference. Disabling support for feedback tensors.\n",
      " 33%|█████████████████████████████████████████████████████████████████████████▋                                                                                                                                                   | 3/9 [00:34<01:06, 11.16s/it]"
     ]
    },
    {
     "name": "stdout",
     "output_type": "stream",
     "text": [
      "max() arg is an empty sequence\n",
      "max() arg is an empty sequence\n",
      "max() arg is an empty sequence\n",
      "max() arg is an empty sequence\n",
      "max() arg is an empty sequence\n",
      "max() arg is an empty sequence\n",
      "max() arg is an empty sequence\n",
      "max() arg is an empty sequence\n",
      "max() arg is an empty sequence\n",
      "max() arg is an empty sequence\n"
     ]
    },
    {
     "name": "stderr",
     "output_type": "stream",
     "text": [
      "I0000 00:00:1745957423.201041 9239742 gl_context.cc:369] GL version: 2.1 (2.1 ATI-5.2.4), renderer: AMD Radeon Pro 5500M OpenGL Engine\n",
      "W0000 00:00:1745957423.204410 9245075 inference_feedback_manager.cc:114] Feedback manager requires a model with a single signature inference. Disabling support for feedback tensors.\n",
      "W0000 00:00:1745957423.220242 9245077 inference_feedback_manager.cc:114] Feedback manager requires a model with a single signature inference. Disabling support for feedback tensors.\n",
      "I0000 00:00:1745957423.242020 9239742 gl_context.cc:369] GL version: 2.1 (2.1 ATI-5.2.4), renderer: AMD Radeon Pro 5500M OpenGL Engine\n",
      "W0000 00:00:1745957423.245587 9245095 inference_feedback_manager.cc:114] Feedback manager requires a model with a single signature inference. Disabling support for feedback tensors.\n",
      "W0000 00:00:1745957423.260641 9245092 inference_feedback_manager.cc:114] Feedback manager requires a model with a single signature inference. Disabling support for feedback tensors.\n",
      "I0000 00:00:1745957423.281211 9239742 gl_context.cc:369] GL version: 2.1 (2.1 ATI-5.2.4), renderer: AMD Radeon Pro 5500M OpenGL Engine\n",
      "W0000 00:00:1745957423.285023 9245117 inference_feedback_manager.cc:114] Feedback manager requires a model with a single signature inference. Disabling support for feedback tensors.\n",
      "W0000 00:00:1745957423.299836 9245111 inference_feedback_manager.cc:114] Feedback manager requires a model with a single signature inference. Disabling support for feedback tensors.\n",
      "I0000 00:00:1745957423.319838 9239742 gl_context.cc:369] GL version: 2.1 (2.1 ATI-5.2.4), renderer: AMD Radeon Pro 5500M OpenGL Engine\n",
      "W0000 00:00:1745957423.323623 9245137 inference_feedback_manager.cc:114] Feedback manager requires a model with a single signature inference. Disabling support for feedback tensors.\n",
      "W0000 00:00:1745957423.338960 9245132 inference_feedback_manager.cc:114] Feedback manager requires a model with a single signature inference. Disabling support for feedback tensors.\n",
      "I0000 00:00:1745957423.359052 9239742 gl_context.cc:369] GL version: 2.1 (2.1 ATI-5.2.4), renderer: AMD Radeon Pro 5500M OpenGL Engine\n",
      "W0000 00:00:1745957423.362551 9245153 inference_feedback_manager.cc:114] Feedback manager requires a model with a single signature inference. Disabling support for feedback tensors.\n",
      "W0000 00:00:1745957423.378247 9245149 inference_feedback_manager.cc:114] Feedback manager requires a model with a single signature inference. Disabling support for feedback tensors.\n",
      "I0000 00:00:1745957423.398163 9239742 gl_context.cc:369] GL version: 2.1 (2.1 ATI-5.2.4), renderer: AMD Radeon Pro 5500M OpenGL Engine\n",
      "W0000 00:00:1745957423.401777 9245174 inference_feedback_manager.cc:114] Feedback manager requires a model with a single signature inference. Disabling support for feedback tensors.\n",
      "W0000 00:00:1745957423.417023 9245171 inference_feedback_manager.cc:114] Feedback manager requires a model with a single signature inference. Disabling support for feedback tensors.\n",
      "I0000 00:00:1745957423.436830 9239742 gl_context.cc:369] GL version: 2.1 (2.1 ATI-5.2.4), renderer: AMD Radeon Pro 5500M OpenGL Engine\n",
      "W0000 00:00:1745957423.440644 9245187 inference_feedback_manager.cc:114] Feedback manager requires a model with a single signature inference. Disabling support for feedback tensors.\n",
      "W0000 00:00:1745957423.455442 9245184 inference_feedback_manager.cc:114] Feedback manager requires a model with a single signature inference. Disabling support for feedback tensors.\n",
      "I0000 00:00:1745957423.475286 9239742 gl_context.cc:369] GL version: 2.1 (2.1 ATI-5.2.4), renderer: AMD Radeon Pro 5500M OpenGL Engine\n",
      "W0000 00:00:1745957423.478916 9245204 inference_feedback_manager.cc:114] Feedback manager requires a model with a single signature inference. Disabling support for feedback tensors.\n",
      "W0000 00:00:1745957423.493914 9245200 inference_feedback_manager.cc:114] Feedback manager requires a model with a single signature inference. Disabling support for feedback tensors.\n",
      "I0000 00:00:1745957423.513666 9239742 gl_context.cc:369] GL version: 2.1 (2.1 ATI-5.2.4), renderer: AMD Radeon Pro 5500M OpenGL Engine\n",
      "W0000 00:00:1745957423.517129 9245215 inference_feedback_manager.cc:114] Feedback manager requires a model with a single signature inference. Disabling support for feedback tensors.\n",
      "W0000 00:00:1745957423.532188 9245213 inference_feedback_manager.cc:114] Feedback manager requires a model with a single signature inference. Disabling support for feedback tensors.\n",
      "I0000 00:00:1745957423.551897 9239742 gl_context.cc:369] GL version: 2.1 (2.1 ATI-5.2.4), renderer: AMD Radeon Pro 5500M OpenGL Engine\n",
      "W0000 00:00:1745957423.555303 9245230 inference_feedback_manager.cc:114] Feedback manager requires a model with a single signature inference. Disabling support for feedback tensors.\n",
      "W0000 00:00:1745957423.570417 9245236 inference_feedback_manager.cc:114] Feedback manager requires a model with a single signature inference. Disabling support for feedback tensors.\n",
      "I0000 00:00:1745957423.593210 9239742 gl_context.cc:369] GL version: 2.1 (2.1 ATI-5.2.4), renderer: AMD Radeon Pro 5500M OpenGL Engine\n",
      "W0000 00:00:1745957423.696449 9245244 inference_feedback_manager.cc:114] Feedback manager requires a model with a single signature inference. Disabling support for feedback tensors.\n",
      "W0000 00:00:1745957423.730107 9245244 inference_feedback_manager.cc:114] Feedback manager requires a model with a single signature inference. Disabling support for feedback tensors.\n",
      "I0000 00:00:1745957423.851057 9239742 gl_context.cc:369] GL version: 2.1 (2.1 ATI-5.2.4), renderer: AMD Radeon Pro 5500M OpenGL Engine\n",
      "W0000 00:00:1745957423.955344 9245262 inference_feedback_manager.cc:114] Feedback manager requires a model with a single signature inference. Disabling support for feedback tensors.\n",
      "W0000 00:00:1745957423.988139 9245262 inference_feedback_manager.cc:114] Feedback manager requires a model with a single signature inference. Disabling support for feedback tensors.\n",
      "I0000 00:00:1745957424.107212 9239742 gl_context.cc:369] GL version: 2.1 (2.1 ATI-5.2.4), renderer: AMD Radeon Pro 5500M OpenGL Engine\n",
      "W0000 00:00:1745957424.226829 9245280 inference_feedback_manager.cc:114] Feedback manager requires a model with a single signature inference. Disabling support for feedback tensors.\n",
      "W0000 00:00:1745957424.259010 9245280 inference_feedback_manager.cc:114] Feedback manager requires a model with a single signature inference. Disabling support for feedback tensors.\n",
      "I0000 00:00:1745957424.387804 9239742 gl_context.cc:369] GL version: 2.1 (2.1 ATI-5.2.4), renderer: AMD Radeon Pro 5500M OpenGL Engine\n",
      "W0000 00:00:1745957424.499121 9245303 inference_feedback_manager.cc:114] Feedback manager requires a model with a single signature inference. Disabling support for feedback tensors.\n",
      "W0000 00:00:1745957424.531747 9245303 inference_feedback_manager.cc:114] Feedback manager requires a model with a single signature inference. Disabling support for feedback tensors.\n",
      "I0000 00:00:1745957424.653240 9239742 gl_context.cc:369] GL version: 2.1 (2.1 ATI-5.2.4), renderer: AMD Radeon Pro 5500M OpenGL Engine\n",
      "W0000 00:00:1745957424.766970 9245317 inference_feedback_manager.cc:114] Feedback manager requires a model with a single signature inference. Disabling support for feedback tensors.\n",
      "W0000 00:00:1745957424.797231 9245317 inference_feedback_manager.cc:114] Feedback manager requires a model with a single signature inference. Disabling support for feedback tensors.\n",
      "I0000 00:00:1745957424.917610 9239742 gl_context.cc:369] GL version: 2.1 (2.1 ATI-5.2.4), renderer: AMD Radeon Pro 5500M OpenGL Engine\n",
      "W0000 00:00:1745957425.032261 9245334 inference_feedback_manager.cc:114] Feedback manager requires a model with a single signature inference. Disabling support for feedback tensors.\n",
      "W0000 00:00:1745957425.064600 9245341 inference_feedback_manager.cc:114] Feedback manager requires a model with a single signature inference. Disabling support for feedback tensors.\n",
      "I0000 00:00:1745957425.183522 9239742 gl_context.cc:369] GL version: 2.1 (2.1 ATI-5.2.4), renderer: AMD Radeon Pro 5500M OpenGL Engine\n",
      "W0000 00:00:1745957425.297305 9245353 inference_feedback_manager.cc:114] Feedback manager requires a model with a single signature inference. Disabling support for feedback tensors.\n",
      "W0000 00:00:1745957425.331830 9245352 inference_feedback_manager.cc:114] Feedback manager requires a model with a single signature inference. Disabling support for feedback tensors.\n",
      "I0000 00:00:1745957425.455584 9239742 gl_context.cc:369] GL version: 2.1 (2.1 ATI-5.2.4), renderer: AMD Radeon Pro 5500M OpenGL Engine\n",
      "W0000 00:00:1745957425.569821 9245379 inference_feedback_manager.cc:114] Feedback manager requires a model with a single signature inference. Disabling support for feedback tensors.\n",
      "W0000 00:00:1745957425.600322 9245388 inference_feedback_manager.cc:114] Feedback manager requires a model with a single signature inference. Disabling support for feedback tensors.\n",
      "I0000 00:00:1745957425.721883 9239742 gl_context.cc:369] GL version: 2.1 (2.1 ATI-5.2.4), renderer: AMD Radeon Pro 5500M OpenGL Engine\n",
      "W0000 00:00:1745957425.835598 9245397 inference_feedback_manager.cc:114] Feedback manager requires a model with a single signature inference. Disabling support for feedback tensors.\n",
      "W0000 00:00:1745957425.868075 9245397 inference_feedback_manager.cc:114] Feedback manager requires a model with a single signature inference. Disabling support for feedback tensors.\n",
      "I0000 00:00:1745957425.988619 9239742 gl_context.cc:369] GL version: 2.1 (2.1 ATI-5.2.4), renderer: AMD Radeon Pro 5500M OpenGL Engine\n",
      "W0000 00:00:1745957426.103560 9245413 inference_feedback_manager.cc:114] Feedback manager requires a model with a single signature inference. Disabling support for feedback tensors.\n",
      "W0000 00:00:1745957426.136229 9245418 inference_feedback_manager.cc:114] Feedback manager requires a model with a single signature inference. Disabling support for feedback tensors.\n",
      "I0000 00:00:1745957426.260253 9239742 gl_context.cc:369] GL version: 2.1 (2.1 ATI-5.2.4), renderer: AMD Radeon Pro 5500M OpenGL Engine\n",
      "W0000 00:00:1745957426.382119 9245435 inference_feedback_manager.cc:114] Feedback manager requires a model with a single signature inference. Disabling support for feedback tensors.\n",
      "W0000 00:00:1745957426.413837 9245435 inference_feedback_manager.cc:114] Feedback manager requires a model with a single signature inference. Disabling support for feedback tensors.\n",
      "I0000 00:00:1745957431.634738 9239742 gl_context.cc:369] GL version: 2.1 (2.1 ATI-5.2.4), renderer: AMD Radeon Pro 5500M OpenGL Engine\n",
      "W0000 00:00:1745957431.635687 9239742 face_landmarker_graph.cc:174] Sets FaceBlendshapesGraph acceleration to xnnpack by default.\n",
      "W0000 00:00:1745957431.643631 9245527 inference_feedback_manager.cc:114] Feedback manager requires a model with a single signature inference. Disabling support for feedback tensors.\n",
      "W0000 00:00:1745957431.659523 9245527 inference_feedback_manager.cc:114] Feedback manager requires a model with a single signature inference. Disabling support for feedback tensors.\n",
      " 44%|██████████████████████████████████████████████████████████████████████████████████████████████████▏                                                                                                                          | 4/9 [00:44<00:53, 10.76s/it]"
     ]
    },
    {
     "name": "stdout",
     "output_type": "stream",
     "text": [
      "max() arg is an empty sequence\n",
      "max() arg is an empty sequence\n",
      "max() arg is an empty sequence\n",
      "max() arg is an empty sequence\n",
      "max() arg is an empty sequence\n",
      "max() arg is an empty sequence\n",
      "max() arg is an empty sequence\n",
      "max() arg is an empty sequence\n",
      "max() arg is an empty sequence\n",
      "max() arg is an empty sequence\n"
     ]
    },
    {
     "name": "stderr",
     "output_type": "stream",
     "text": [
      "I0000 00:00:1745957433.352033 9239742 gl_context.cc:369] GL version: 2.1 (2.1 ATI-5.2.4), renderer: AMD Radeon Pro 5500M OpenGL Engine\n",
      "W0000 00:00:1745957433.355406 9245577 inference_feedback_manager.cc:114] Feedback manager requires a model with a single signature inference. Disabling support for feedback tensors.\n",
      "W0000 00:00:1745957433.370070 9245582 inference_feedback_manager.cc:114] Feedback manager requires a model with a single signature inference. Disabling support for feedback tensors.\n",
      "I0000 00:00:1745957433.389721 9239742 gl_context.cc:369] GL version: 2.1 (2.1 ATI-5.2.4), renderer: AMD Radeon Pro 5500M OpenGL Engine\n",
      "W0000 00:00:1745957433.393155 9245594 inference_feedback_manager.cc:114] Feedback manager requires a model with a single signature inference. Disabling support for feedback tensors.\n",
      "W0000 00:00:1745957433.407804 9245595 inference_feedback_manager.cc:114] Feedback manager requires a model with a single signature inference. Disabling support for feedback tensors.\n",
      "I0000 00:00:1745957433.427555 9239742 gl_context.cc:369] GL version: 2.1 (2.1 ATI-5.2.4), renderer: AMD Radeon Pro 5500M OpenGL Engine\n",
      "W0000 00:00:1745957433.431258 9245609 inference_feedback_manager.cc:114] Feedback manager requires a model with a single signature inference. Disabling support for feedback tensors.\n",
      "W0000 00:00:1745957433.446766 9245612 inference_feedback_manager.cc:114] Feedback manager requires a model with a single signature inference. Disabling support for feedback tensors.\n",
      "I0000 00:00:1745957433.467078 9239742 gl_context.cc:369] GL version: 2.1 (2.1 ATI-5.2.4), renderer: AMD Radeon Pro 5500M OpenGL Engine\n",
      "W0000 00:00:1745957433.470665 9245631 inference_feedback_manager.cc:114] Feedback manager requires a model with a single signature inference. Disabling support for feedback tensors.\n",
      "W0000 00:00:1745957433.486076 9245628 inference_feedback_manager.cc:114] Feedback manager requires a model with a single signature inference. Disabling support for feedback tensors.\n",
      "I0000 00:00:1745957433.506484 9239742 gl_context.cc:369] GL version: 2.1 (2.1 ATI-5.2.4), renderer: AMD Radeon Pro 5500M OpenGL Engine\n",
      "W0000 00:00:1745957433.510099 9245641 inference_feedback_manager.cc:114] Feedback manager requires a model with a single signature inference. Disabling support for feedback tensors.\n",
      "W0000 00:00:1745957433.525884 9245643 inference_feedback_manager.cc:114] Feedback manager requires a model with a single signature inference. Disabling support for feedback tensors.\n",
      "I0000 00:00:1745957433.545598 9239742 gl_context.cc:369] GL version: 2.1 (2.1 ATI-5.2.4), renderer: AMD Radeon Pro 5500M OpenGL Engine\n",
      "W0000 00:00:1745957433.549128 9245665 inference_feedback_manager.cc:114] Feedback manager requires a model with a single signature inference. Disabling support for feedback tensors.\n",
      "W0000 00:00:1745957433.565340 9245660 inference_feedback_manager.cc:114] Feedback manager requires a model with a single signature inference. Disabling support for feedback tensors.\n",
      "I0000 00:00:1745957433.585447 9239742 gl_context.cc:369] GL version: 2.1 (2.1 ATI-5.2.4), renderer: AMD Radeon Pro 5500M OpenGL Engine\n",
      "W0000 00:00:1745957433.588989 9245673 inference_feedback_manager.cc:114] Feedback manager requires a model with a single signature inference. Disabling support for feedback tensors.\n",
      "W0000 00:00:1745957433.605030 9245674 inference_feedback_manager.cc:114] Feedback manager requires a model with a single signature inference. Disabling support for feedback tensors.\n",
      "I0000 00:00:1745957433.625512 9239742 gl_context.cc:369] GL version: 2.1 (2.1 ATI-5.2.4), renderer: AMD Radeon Pro 5500M OpenGL Engine\n",
      "W0000 00:00:1745957433.629209 9245695 inference_feedback_manager.cc:114] Feedback manager requires a model with a single signature inference. Disabling support for feedback tensors.\n",
      "W0000 00:00:1745957433.645022 9245692 inference_feedback_manager.cc:114] Feedback manager requires a model with a single signature inference. Disabling support for feedback tensors.\n",
      "I0000 00:00:1745957433.664772 9239742 gl_context.cc:369] GL version: 2.1 (2.1 ATI-5.2.4), renderer: AMD Radeon Pro 5500M OpenGL Engine\n",
      "W0000 00:00:1745957433.668656 9245706 inference_feedback_manager.cc:114] Feedback manager requires a model with a single signature inference. Disabling support for feedback tensors.\n",
      "W0000 00:00:1745957433.684745 9245712 inference_feedback_manager.cc:114] Feedback manager requires a model with a single signature inference. Disabling support for feedback tensors.\n",
      "I0000 00:00:1745957433.705178 9239742 gl_context.cc:369] GL version: 2.1 (2.1 ATI-5.2.4), renderer: AMD Radeon Pro 5500M OpenGL Engine\n",
      "W0000 00:00:1745957433.708841 9245724 inference_feedback_manager.cc:114] Feedback manager requires a model with a single signature inference. Disabling support for feedback tensors.\n",
      "W0000 00:00:1745957433.726646 9245722 inference_feedback_manager.cc:114] Feedback manager requires a model with a single signature inference. Disabling support for feedback tensors.\n",
      "I0000 00:00:1745957433.750314 9239742 gl_context.cc:369] GL version: 2.1 (2.1 ATI-5.2.4), renderer: AMD Radeon Pro 5500M OpenGL Engine\n",
      "W0000 00:00:1745957433.857807 9245739 inference_feedback_manager.cc:114] Feedback manager requires a model with a single signature inference. Disabling support for feedback tensors.\n",
      "W0000 00:00:1745957433.889905 9245748 inference_feedback_manager.cc:114] Feedback manager requires a model with a single signature inference. Disabling support for feedback tensors.\n",
      "I0000 00:00:1745957434.008441 9239742 gl_context.cc:369] GL version: 2.1 (2.1 ATI-5.2.4), renderer: AMD Radeon Pro 5500M OpenGL Engine\n",
      "W0000 00:00:1745957434.113963 9245754 inference_feedback_manager.cc:114] Feedback manager requires a model with a single signature inference. Disabling support for feedback tensors.\n",
      "W0000 00:00:1745957434.145192 9245754 inference_feedback_manager.cc:114] Feedback manager requires a model with a single signature inference. Disabling support for feedback tensors.\n",
      "I0000 00:00:1745957434.270444 9239742 gl_context.cc:369] GL version: 2.1 (2.1 ATI-5.2.4), renderer: AMD Radeon Pro 5500M OpenGL Engine\n",
      "W0000 00:00:1745957434.386741 9245776 inference_feedback_manager.cc:114] Feedback manager requires a model with a single signature inference. Disabling support for feedback tensors.\n",
      "W0000 00:00:1745957434.423136 9245776 inference_feedback_manager.cc:114] Feedback manager requires a model with a single signature inference. Disabling support for feedback tensors.\n",
      "I0000 00:00:1745957434.542208 9239742 gl_context.cc:369] GL version: 2.1 (2.1 ATI-5.2.4), renderer: AMD Radeon Pro 5500M OpenGL Engine\n",
      "W0000 00:00:1745957434.653503 9245796 inference_feedback_manager.cc:114] Feedback manager requires a model with a single signature inference. Disabling support for feedback tensors.\n",
      "W0000 00:00:1745957434.684859 9245796 inference_feedback_manager.cc:114] Feedback manager requires a model with a single signature inference. Disabling support for feedback tensors.\n",
      "I0000 00:00:1745957434.807189 9239742 gl_context.cc:369] GL version: 2.1 (2.1 ATI-5.2.4), renderer: AMD Radeon Pro 5500M OpenGL Engine\n",
      "W0000 00:00:1745957434.917030 9245812 inference_feedback_manager.cc:114] Feedback manager requires a model with a single signature inference. Disabling support for feedback tensors.\n",
      "W0000 00:00:1745957434.946136 9245812 inference_feedback_manager.cc:114] Feedback manager requires a model with a single signature inference. Disabling support for feedback tensors.\n",
      "I0000 00:00:1745957435.066824 9239742 gl_context.cc:369] GL version: 2.1 (2.1 ATI-5.2.4), renderer: AMD Radeon Pro 5500M OpenGL Engine\n",
      "W0000 00:00:1745957435.176005 9245828 inference_feedback_manager.cc:114] Feedback manager requires a model with a single signature inference. Disabling support for feedback tensors.\n",
      "W0000 00:00:1745957435.209209 9245836 inference_feedback_manager.cc:114] Feedback manager requires a model with a single signature inference. Disabling support for feedback tensors.\n",
      "I0000 00:00:1745957435.331141 9239742 gl_context.cc:369] GL version: 2.1 (2.1 ATI-5.2.4), renderer: AMD Radeon Pro 5500M OpenGL Engine\n",
      "W0000 00:00:1745957435.444728 9245859 inference_feedback_manager.cc:114] Feedback manager requires a model with a single signature inference. Disabling support for feedback tensors.\n",
      "W0000 00:00:1745957435.476447 9245859 inference_feedback_manager.cc:114] Feedback manager requires a model with a single signature inference. Disabling support for feedback tensors.\n",
      "I0000 00:00:1745957435.596828 9239742 gl_context.cc:369] GL version: 2.1 (2.1 ATI-5.2.4), renderer: AMD Radeon Pro 5500M OpenGL Engine\n",
      "W0000 00:00:1745957435.706442 9245882 inference_feedback_manager.cc:114] Feedback manager requires a model with a single signature inference. Disabling support for feedback tensors.\n",
      "W0000 00:00:1745957435.736663 9245890 inference_feedback_manager.cc:114] Feedback manager requires a model with a single signature inference. Disabling support for feedback tensors.\n",
      "I0000 00:00:1745957435.855142 9239742 gl_context.cc:369] GL version: 2.1 (2.1 ATI-5.2.4), renderer: AMD Radeon Pro 5500M OpenGL Engine\n",
      "W0000 00:00:1745957435.963922 9245898 inference_feedback_manager.cc:114] Feedback manager requires a model with a single signature inference. Disabling support for feedback tensors.\n",
      "W0000 00:00:1745957435.992741 9245898 inference_feedback_manager.cc:114] Feedback manager requires a model with a single signature inference. Disabling support for feedback tensors.\n",
      "I0000 00:00:1745957436.140089 9239742 gl_context.cc:369] GL version: 2.1 (2.1 ATI-5.2.4), renderer: AMD Radeon Pro 5500M OpenGL Engine\n",
      "W0000 00:00:1745957436.253810 9245915 inference_feedback_manager.cc:114] Feedback manager requires a model with a single signature inference. Disabling support for feedback tensors.\n",
      "W0000 00:00:1745957436.283549 9245915 inference_feedback_manager.cc:114] Feedback manager requires a model with a single signature inference. Disabling support for feedback tensors.\n",
      "I0000 00:00:1745957436.408813 9239742 gl_context.cc:369] GL version: 2.1 (2.1 ATI-5.2.4), renderer: AMD Radeon Pro 5500M OpenGL Engine\n",
      "W0000 00:00:1745957436.523793 9245940 inference_feedback_manager.cc:114] Feedback manager requires a model with a single signature inference. Disabling support for feedback tensors.\n",
      "W0000 00:00:1745957436.561236 9245940 inference_feedback_manager.cc:114] Feedback manager requires a model with a single signature inference. Disabling support for feedback tensors.\n",
      "I0000 00:00:1745957441.839671 9239742 gl_context.cc:369] GL version: 2.1 (2.1 ATI-5.2.4), renderer: AMD Radeon Pro 5500M OpenGL Engine\n",
      "W0000 00:00:1745957441.840342 9239742 face_landmarker_graph.cc:174] Sets FaceBlendshapesGraph acceleration to xnnpack by default.\n",
      "W0000 00:00:1745957441.848704 9246023 inference_feedback_manager.cc:114] Feedback manager requires a model with a single signature inference. Disabling support for feedback tensors.\n",
      "W0000 00:00:1745957441.864612 9246023 inference_feedback_manager.cc:114] Feedback manager requires a model with a single signature inference. Disabling support for feedback tensors.\n",
      " 56%|██████████████████████████████████████████████████████████████████████████████████████████████████████████████████████████▊                                                                                                  | 5/9 [00:54<00:42, 10.56s/it]"
     ]
    },
    {
     "name": "stdout",
     "output_type": "stream",
     "text": [
      "max() arg is an empty sequence\n",
      "max() arg is an empty sequence\n",
      "max() arg is an empty sequence\n",
      "max() arg is an empty sequence\n",
      "max() arg is an empty sequence\n",
      "max() arg is an empty sequence\n",
      "max() arg is an empty sequence\n",
      "max() arg is an empty sequence\n"
     ]
    },
    {
     "name": "stderr",
     "output_type": "stream",
     "text": [
      "I0000 00:00:1745957443.522918 9239742 gl_context.cc:369] GL version: 2.1 (2.1 ATI-5.2.4), renderer: AMD Radeon Pro 5500M OpenGL Engine\n",
      "W0000 00:00:1745957443.527058 9246080 inference_feedback_manager.cc:114] Feedback manager requires a model with a single signature inference. Disabling support for feedback tensors.\n",
      "W0000 00:00:1745957443.541215 9246083 inference_feedback_manager.cc:114] Feedback manager requires a model with a single signature inference. Disabling support for feedback tensors.\n",
      "I0000 00:00:1745957443.561743 9239742 gl_context.cc:369] GL version: 2.1 (2.1 ATI-5.2.4), renderer: AMD Radeon Pro 5500M OpenGL Engine\n",
      "W0000 00:00:1745957443.564546 9246103 inference_feedback_manager.cc:114] Feedback manager requires a model with a single signature inference. Disabling support for feedback tensors.\n",
      "W0000 00:00:1745957443.579460 9246098 inference_feedback_manager.cc:114] Feedback manager requires a model with a single signature inference. Disabling support for feedback tensors.\n",
      "I0000 00:00:1745957443.599921 9239742 gl_context.cc:369] GL version: 2.1 (2.1 ATI-5.2.4), renderer: AMD Radeon Pro 5500M OpenGL Engine\n",
      "W0000 00:00:1745957443.603435 9246115 inference_feedback_manager.cc:114] Feedback manager requires a model with a single signature inference. Disabling support for feedback tensors.\n",
      "W0000 00:00:1745957443.619564 9246117 inference_feedback_manager.cc:114] Feedback manager requires a model with a single signature inference. Disabling support for feedback tensors.\n",
      "I0000 00:00:1745957443.639847 9239742 gl_context.cc:369] GL version: 2.1 (2.1 ATI-5.2.4), renderer: AMD Radeon Pro 5500M OpenGL Engine\n",
      "W0000 00:00:1745957443.643681 9246132 inference_feedback_manager.cc:114] Feedback manager requires a model with a single signature inference. Disabling support for feedback tensors.\n",
      "W0000 00:00:1745957443.659034 9246133 inference_feedback_manager.cc:114] Feedback manager requires a model with a single signature inference. Disabling support for feedback tensors.\n",
      "I0000 00:00:1745957443.680165 9239742 gl_context.cc:369] GL version: 2.1 (2.1 ATI-5.2.4), renderer: AMD Radeon Pro 5500M OpenGL Engine\n",
      "W0000 00:00:1745957443.685210 9246146 inference_feedback_manager.cc:114] Feedback manager requires a model with a single signature inference. Disabling support for feedback tensors.\n",
      "W0000 00:00:1745957443.703186 9246147 inference_feedback_manager.cc:114] Feedback manager requires a model with a single signature inference. Disabling support for feedback tensors.\n",
      "I0000 00:00:1745957443.723655 9239742 gl_context.cc:369] GL version: 2.1 (2.1 ATI-5.2.4), renderer: AMD Radeon Pro 5500M OpenGL Engine\n",
      "W0000 00:00:1745957443.727555 9246164 inference_feedback_manager.cc:114] Feedback manager requires a model with a single signature inference. Disabling support for feedback tensors.\n",
      "W0000 00:00:1745957443.743390 9246168 inference_feedback_manager.cc:114] Feedback manager requires a model with a single signature inference. Disabling support for feedback tensors.\n",
      "I0000 00:00:1745957443.768274 9239742 gl_context.cc:369] GL version: 2.1 (2.1 ATI-5.2.4), renderer: AMD Radeon Pro 5500M OpenGL Engine\n",
      "W0000 00:00:1745957443.772137 9246183 inference_feedback_manager.cc:114] Feedback manager requires a model with a single signature inference. Disabling support for feedback tensors.\n",
      "W0000 00:00:1745957443.788624 9246176 inference_feedback_manager.cc:114] Feedback manager requires a model with a single signature inference. Disabling support for feedback tensors.\n",
      "I0000 00:00:1745957443.810694 9239742 gl_context.cc:369] GL version: 2.1 (2.1 ATI-5.2.4), renderer: AMD Radeon Pro 5500M OpenGL Engine\n",
      "W0000 00:00:1745957443.814513 9246194 inference_feedback_manager.cc:114] Feedback manager requires a model with a single signature inference. Disabling support for feedback tensors.\n",
      "W0000 00:00:1745957443.830383 9246195 inference_feedback_manager.cc:114] Feedback manager requires a model with a single signature inference. Disabling support for feedback tensors.\n",
      "I0000 00:00:1745957443.852377 9239742 gl_context.cc:369] GL version: 2.1 (2.1 ATI-5.2.4), renderer: AMD Radeon Pro 5500M OpenGL Engine\n",
      "W0000 00:00:1745957443.856188 9246216 inference_feedback_manager.cc:114] Feedback manager requires a model with a single signature inference. Disabling support for feedback tensors.\n",
      "W0000 00:00:1745957443.873021 9246213 inference_feedback_manager.cc:114] Feedback manager requires a model with a single signature inference. Disabling support for feedback tensors.\n",
      "I0000 00:00:1745957443.896815 9239742 gl_context.cc:369] GL version: 2.1 (2.1 ATI-5.2.4), renderer: AMD Radeon Pro 5500M OpenGL Engine\n",
      "W0000 00:00:1745957443.900637 9246229 inference_feedback_manager.cc:114] Feedback manager requires a model with a single signature inference. Disabling support for feedback tensors.\n",
      "W0000 00:00:1745957443.916716 9246231 inference_feedback_manager.cc:114] Feedback manager requires a model with a single signature inference. Disabling support for feedback tensors.\n",
      "I0000 00:00:1745957443.941690 9239742 gl_context.cc:369] GL version: 2.1 (2.1 ATI-5.2.4), renderer: AMD Radeon Pro 5500M OpenGL Engine\n",
      "W0000 00:00:1745957444.053561 9246253 inference_feedback_manager.cc:114] Feedback manager requires a model with a single signature inference. Disabling support for feedback tensors.\n",
      "W0000 00:00:1745957444.093059 9246253 inference_feedback_manager.cc:114] Feedback manager requires a model with a single signature inference. Disabling support for feedback tensors.\n",
      "I0000 00:00:1745957444.221181 9239742 gl_context.cc:369] GL version: 2.1 (2.1 ATI-5.2.4), renderer: AMD Radeon Pro 5500M OpenGL Engine\n",
      "W0000 00:00:1745957444.328932 9246263 inference_feedback_manager.cc:114] Feedback manager requires a model with a single signature inference. Disabling support for feedback tensors.\n",
      "W0000 00:00:1745957444.364724 9246263 inference_feedback_manager.cc:114] Feedback manager requires a model with a single signature inference. Disabling support for feedback tensors.\n",
      "I0000 00:00:1745957444.491178 9239742 gl_context.cc:369] GL version: 2.1 (2.1 ATI-5.2.4), renderer: AMD Radeon Pro 5500M OpenGL Engine\n",
      "W0000 00:00:1745957444.597954 9246288 inference_feedback_manager.cc:114] Feedback manager requires a model with a single signature inference. Disabling support for feedback tensors.\n",
      "W0000 00:00:1745957444.627963 9246288 inference_feedback_manager.cc:114] Feedback manager requires a model with a single signature inference. Disabling support for feedback tensors.\n",
      "I0000 00:00:1745957444.748490 9239742 gl_context.cc:369] GL version: 2.1 (2.1 ATI-5.2.4), renderer: AMD Radeon Pro 5500M OpenGL Engine\n",
      "W0000 00:00:1745957444.862947 9246305 inference_feedback_manager.cc:114] Feedback manager requires a model with a single signature inference. Disabling support for feedback tensors.\n",
      "W0000 00:00:1745957444.898749 9246314 inference_feedback_manager.cc:114] Feedback manager requires a model with a single signature inference. Disabling support for feedback tensors.\n",
      "I0000 00:00:1745957445.113269 9239742 gl_context.cc:369] GL version: 2.1 (2.1 ATI-5.2.4), renderer: AMD Radeon Pro 5500M OpenGL Engine\n",
      "W0000 00:00:1745957445.258095 9246327 inference_feedback_manager.cc:114] Feedback manager requires a model with a single signature inference. Disabling support for feedback tensors.\n",
      "W0000 00:00:1745957445.294069 9246327 inference_feedback_manager.cc:114] Feedback manager requires a model with a single signature inference. Disabling support for feedback tensors.\n",
      "I0000 00:00:1745957445.452484 9239742 gl_context.cc:369] GL version: 2.1 (2.1 ATI-5.2.4), renderer: AMD Radeon Pro 5500M OpenGL Engine\n",
      "W0000 00:00:1745957445.579314 9246357 inference_feedback_manager.cc:114] Feedback manager requires a model with a single signature inference. Disabling support for feedback tensors.\n",
      "W0000 00:00:1745957445.624299 9246357 inference_feedback_manager.cc:114] Feedback manager requires a model with a single signature inference. Disabling support for feedback tensors.\n",
      "I0000 00:00:1745957445.784710 9239742 gl_context.cc:369] GL version: 2.1 (2.1 ATI-5.2.4), renderer: AMD Radeon Pro 5500M OpenGL Engine\n",
      "W0000 00:00:1745957445.904914 9246372 inference_feedback_manager.cc:114] Feedback manager requires a model with a single signature inference. Disabling support for feedback tensors.\n",
      "W0000 00:00:1745957445.945324 9246379 inference_feedback_manager.cc:114] Feedback manager requires a model with a single signature inference. Disabling support for feedback tensors.\n",
      "I0000 00:00:1745957446.093220 9239742 gl_context.cc:369] GL version: 2.1 (2.1 ATI-5.2.4), renderer: AMD Radeon Pro 5500M OpenGL Engine\n",
      "W0000 00:00:1745957446.210686 9246392 inference_feedback_manager.cc:114] Feedback manager requires a model with a single signature inference. Disabling support for feedback tensors.\n",
      "W0000 00:00:1745957446.249519 9246392 inference_feedback_manager.cc:114] Feedback manager requires a model with a single signature inference. Disabling support for feedback tensors.\n",
      "I0000 00:00:1745957446.493468 9239742 gl_context.cc:369] GL version: 2.1 (2.1 ATI-5.2.4), renderer: AMD Radeon Pro 5500M OpenGL Engine\n",
      "W0000 00:00:1745957446.615277 9246423 inference_feedback_manager.cc:114] Feedback manager requires a model with a single signature inference. Disabling support for feedback tensors.\n",
      "W0000 00:00:1745957446.651359 9246423 inference_feedback_manager.cc:114] Feedback manager requires a model with a single signature inference. Disabling support for feedback tensors.\n",
      "I0000 00:00:1745957446.783818 9239742 gl_context.cc:369] GL version: 2.1 (2.1 ATI-5.2.4), renderer: AMD Radeon Pro 5500M OpenGL Engine\n",
      "W0000 00:00:1745957446.895932 9246436 inference_feedback_manager.cc:114] Feedback manager requires a model with a single signature inference. Disabling support for feedback tensors.\n",
      "W0000 00:00:1745957446.926685 9246436 inference_feedback_manager.cc:114] Feedback manager requires a model with a single signature inference. Disabling support for feedback tensors.\n",
      "I0000 00:00:1745957447.054233 9239742 gl_context.cc:369] GL version: 2.1 (2.1 ATI-5.2.4), renderer: AMD Radeon Pro 5500M OpenGL Engine\n",
      "W0000 00:00:1745957447.174828 9246455 inference_feedback_manager.cc:114] Feedback manager requires a model with a single signature inference. Disabling support for feedback tensors.\n",
      "W0000 00:00:1745957447.208298 9246455 inference_feedback_manager.cc:114] Feedback manager requires a model with a single signature inference. Disabling support for feedback tensors.\n",
      "I0000 00:00:1745957452.985253 9239742 gl_context.cc:369] GL version: 2.1 (2.1 ATI-5.2.4), renderer: AMD Radeon Pro 5500M OpenGL Engine\n",
      "W0000 00:00:1745957452.986076 9239742 face_landmarker_graph.cc:174] Sets FaceBlendshapesGraph acceleration to xnnpack by default.\n",
      "W0000 00:00:1745957452.994507 9246598 inference_feedback_manager.cc:114] Feedback manager requires a model with a single signature inference. Disabling support for feedback tensors.\n",
      "W0000 00:00:1745957453.010371 9246612 inference_feedback_manager.cc:114] Feedback manager requires a model with a single signature inference. Disabling support for feedback tensors.\n",
      " 67%|███████████████████████████████████████████████████████████████████████████████████████████████████████████████████████████████████████████████████▎                                                                         | 6/9 [01:05<00:32, 10.77s/it]"
     ]
    },
    {
     "name": "stdout",
     "output_type": "stream",
     "text": [
      "max() arg is an empty sequence\n",
      "max() arg is an empty sequence\n",
      "max() arg is an empty sequence\n",
      "max() arg is an empty sequence\n",
      "max() arg is an empty sequence\n",
      "max() arg is an empty sequence\n",
      "max() arg is an empty sequence\n",
      "max() arg is an empty sequence\n",
      "max() arg is an empty sequence\n"
     ]
    },
    {
     "name": "stderr",
     "output_type": "stream",
     "text": [
      "I0000 00:00:1745957454.757050 9239742 gl_context.cc:369] GL version: 2.1 (2.1 ATI-5.2.4), renderer: AMD Radeon Pro 5500M OpenGL Engine\n",
      "W0000 00:00:1745957454.761287 9246655 inference_feedback_manager.cc:114] Feedback manager requires a model with a single signature inference. Disabling support for feedback tensors.\n",
      "W0000 00:00:1745957454.776952 9246651 inference_feedback_manager.cc:114] Feedback manager requires a model with a single signature inference. Disabling support for feedback tensors.\n",
      "I0000 00:00:1745957454.798000 9239742 gl_context.cc:369] GL version: 2.1 (2.1 ATI-5.2.4), renderer: AMD Radeon Pro 5500M OpenGL Engine\n",
      "W0000 00:00:1745957454.801590 9246667 inference_feedback_manager.cc:114] Feedback manager requires a model with a single signature inference. Disabling support for feedback tensors.\n",
      "W0000 00:00:1745957454.816383 9246669 inference_feedback_manager.cc:114] Feedback manager requires a model with a single signature inference. Disabling support for feedback tensors.\n",
      "I0000 00:00:1745957454.836758 9239742 gl_context.cc:369] GL version: 2.1 (2.1 ATI-5.2.4), renderer: AMD Radeon Pro 5500M OpenGL Engine\n",
      "W0000 00:00:1745957454.840497 9246687 inference_feedback_manager.cc:114] Feedback manager requires a model with a single signature inference. Disabling support for feedback tensors.\n",
      "W0000 00:00:1745957454.855543 9246683 inference_feedback_manager.cc:114] Feedback manager requires a model with a single signature inference. Disabling support for feedback tensors.\n",
      "I0000 00:00:1745957454.876266 9239742 gl_context.cc:369] GL version: 2.1 (2.1 ATI-5.2.4), renderer: AMD Radeon Pro 5500M OpenGL Engine\n",
      "W0000 00:00:1745957454.879647 9246698 inference_feedback_manager.cc:114] Feedback manager requires a model with a single signature inference. Disabling support for feedback tensors.\n",
      "W0000 00:00:1745957454.894572 9246701 inference_feedback_manager.cc:114] Feedback manager requires a model with a single signature inference. Disabling support for feedback tensors.\n",
      "I0000 00:00:1745957454.915701 9239742 gl_context.cc:369] GL version: 2.1 (2.1 ATI-5.2.4), renderer: AMD Radeon Pro 5500M OpenGL Engine\n",
      "W0000 00:00:1745957454.919640 9246720 inference_feedback_manager.cc:114] Feedback manager requires a model with a single signature inference. Disabling support for feedback tensors.\n",
      "W0000 00:00:1745957454.934773 9246717 inference_feedback_manager.cc:114] Feedback manager requires a model with a single signature inference. Disabling support for feedback tensors.\n",
      "I0000 00:00:1745957454.956976 9239742 gl_context.cc:369] GL version: 2.1 (2.1 ATI-5.2.4), renderer: AMD Radeon Pro 5500M OpenGL Engine\n",
      "W0000 00:00:1745957454.960595 9246745 inference_feedback_manager.cc:114] Feedback manager requires a model with a single signature inference. Disabling support for feedback tensors.\n",
      "W0000 00:00:1745957454.975927 9246735 inference_feedback_manager.cc:114] Feedback manager requires a model with a single signature inference. Disabling support for feedback tensors.\n",
      "I0000 00:00:1745957454.996222 9239742 gl_context.cc:369] GL version: 2.1 (2.1 ATI-5.2.4), renderer: AMD Radeon Pro 5500M OpenGL Engine\n",
      "W0000 00:00:1745957455.000129 9246757 inference_feedback_manager.cc:114] Feedback manager requires a model with a single signature inference. Disabling support for feedback tensors.\n",
      "W0000 00:00:1745957455.015685 9246754 inference_feedback_manager.cc:114] Feedback manager requires a model with a single signature inference. Disabling support for feedback tensors.\n",
      "I0000 00:00:1745957455.040201 9239742 gl_context.cc:369] GL version: 2.1 (2.1 ATI-5.2.4), renderer: AMD Radeon Pro 5500M OpenGL Engine\n",
      "W0000 00:00:1745957455.044125 9246775 inference_feedback_manager.cc:114] Feedback manager requires a model with a single signature inference. Disabling support for feedback tensors.\n",
      "W0000 00:00:1745957455.059249 9246768 inference_feedback_manager.cc:114] Feedback manager requires a model with a single signature inference. Disabling support for feedback tensors.\n",
      "I0000 00:00:1745957455.080455 9239742 gl_context.cc:369] GL version: 2.1 (2.1 ATI-5.2.4), renderer: AMD Radeon Pro 5500M OpenGL Engine\n",
      "W0000 00:00:1745957455.084331 9246792 inference_feedback_manager.cc:114] Feedback manager requires a model with a single signature inference. Disabling support for feedback tensors.\n",
      "W0000 00:00:1745957455.099665 9246785 inference_feedback_manager.cc:114] Feedback manager requires a model with a single signature inference. Disabling support for feedback tensors.\n",
      "I0000 00:00:1745957455.120666 9239742 gl_context.cc:369] GL version: 2.1 (2.1 ATI-5.2.4), renderer: AMD Radeon Pro 5500M OpenGL Engine\n",
      "W0000 00:00:1745957455.124299 9246800 inference_feedback_manager.cc:114] Feedback manager requires a model with a single signature inference. Disabling support for feedback tensors.\n",
      "W0000 00:00:1745957455.138942 9246801 inference_feedback_manager.cc:114] Feedback manager requires a model with a single signature inference. Disabling support for feedback tensors.\n",
      "I0000 00:00:1745957455.163609 9239742 gl_context.cc:369] GL version: 2.1 (2.1 ATI-5.2.4), renderer: AMD Radeon Pro 5500M OpenGL Engine\n",
      "W0000 00:00:1745957455.270596 9246818 inference_feedback_manager.cc:114] Feedback manager requires a model with a single signature inference. Disabling support for feedback tensors.\n",
      "W0000 00:00:1745957455.303775 9246821 inference_feedback_manager.cc:114] Feedback manager requires a model with a single signature inference. Disabling support for feedback tensors.\n",
      "I0000 00:00:1745957455.436751 9239742 gl_context.cc:369] GL version: 2.1 (2.1 ATI-5.2.4), renderer: AMD Radeon Pro 5500M OpenGL Engine\n",
      "W0000 00:00:1745957455.539229 9246845 inference_feedback_manager.cc:114] Feedback manager requires a model with a single signature inference. Disabling support for feedback tensors.\n",
      "W0000 00:00:1745957455.569884 9246849 inference_feedback_manager.cc:114] Feedback manager requires a model with a single signature inference. Disabling support for feedback tensors.\n",
      "I0000 00:00:1745957455.690481 9239742 gl_context.cc:369] GL version: 2.1 (2.1 ATI-5.2.4), renderer: AMD Radeon Pro 5500M OpenGL Engine\n",
      "W0000 00:00:1745957455.799000 9246863 inference_feedback_manager.cc:114] Feedback manager requires a model with a single signature inference. Disabling support for feedback tensors.\n",
      "W0000 00:00:1745957455.829175 9246863 inference_feedback_manager.cc:114] Feedback manager requires a model with a single signature inference. Disabling support for feedback tensors.\n",
      "I0000 00:00:1745957455.954237 9239742 gl_context.cc:369] GL version: 2.1 (2.1 ATI-5.2.4), renderer: AMD Radeon Pro 5500M OpenGL Engine\n",
      "W0000 00:00:1745957456.078079 9246876 inference_feedback_manager.cc:114] Feedback manager requires a model with a single signature inference. Disabling support for feedback tensors.\n",
      "W0000 00:00:1745957456.111983 9246876 inference_feedback_manager.cc:114] Feedback manager requires a model with a single signature inference. Disabling support for feedback tensors.\n",
      "I0000 00:00:1745957456.256007 9239742 gl_context.cc:369] GL version: 2.1 (2.1 ATI-5.2.4), renderer: AMD Radeon Pro 5500M OpenGL Engine\n",
      "W0000 00:00:1745957456.375685 9246901 inference_feedback_manager.cc:114] Feedback manager requires a model with a single signature inference. Disabling support for feedback tensors.\n",
      "W0000 00:00:1745957456.409734 9246903 inference_feedback_manager.cc:114] Feedback manager requires a model with a single signature inference. Disabling support for feedback tensors.\n",
      "I0000 00:00:1745957456.540771 9239742 gl_context.cc:369] GL version: 2.1 (2.1 ATI-5.2.4), renderer: AMD Radeon Pro 5500M OpenGL Engine\n",
      "W0000 00:00:1745957456.658343 9246923 inference_feedback_manager.cc:114] Feedback manager requires a model with a single signature inference. Disabling support for feedback tensors.\n",
      "W0000 00:00:1745957456.692346 9246923 inference_feedback_manager.cc:114] Feedback manager requires a model with a single signature inference. Disabling support for feedback tensors.\n",
      "I0000 00:00:1745957456.830997 9239742 gl_context.cc:369] GL version: 2.1 (2.1 ATI-5.2.4), renderer: AMD Radeon Pro 5500M OpenGL Engine\n",
      "W0000 00:00:1745957456.953274 9246941 inference_feedback_manager.cc:114] Feedback manager requires a model with a single signature inference. Disabling support for feedback tensors.\n",
      "W0000 00:00:1745957456.985172 9246948 inference_feedback_manager.cc:114] Feedback manager requires a model with a single signature inference. Disabling support for feedback tensors.\n",
      "I0000 00:00:1745957457.111994 9239742 gl_context.cc:369] GL version: 2.1 (2.1 ATI-5.2.4), renderer: AMD Radeon Pro 5500M OpenGL Engine\n",
      "W0000 00:00:1745957457.237394 9246957 inference_feedback_manager.cc:114] Feedback manager requires a model with a single signature inference. Disabling support for feedback tensors.\n",
      "W0000 00:00:1745957457.276566 9246964 inference_feedback_manager.cc:114] Feedback manager requires a model with a single signature inference. Disabling support for feedback tensors.\n",
      "I0000 00:00:1745957457.409722 9239742 gl_context.cc:369] GL version: 2.1 (2.1 ATI-5.2.4), renderer: AMD Radeon Pro 5500M OpenGL Engine\n",
      "W0000 00:00:1745957457.528685 9246980 inference_feedback_manager.cc:114] Feedback manager requires a model with a single signature inference. Disabling support for feedback tensors.\n",
      "W0000 00:00:1745957457.564538 9246980 inference_feedback_manager.cc:114] Feedback manager requires a model with a single signature inference. Disabling support for feedback tensors.\n",
      "I0000 00:00:1745957457.718536 9239742 gl_context.cc:369] GL version: 2.1 (2.1 ATI-5.2.4), renderer: AMD Radeon Pro 5500M OpenGL Engine\n",
      "W0000 00:00:1745957457.846642 9246998 inference_feedback_manager.cc:114] Feedback manager requires a model with a single signature inference. Disabling support for feedback tensors.\n",
      "W0000 00:00:1745957457.881357 9247002 inference_feedback_manager.cc:114] Feedback manager requires a model with a single signature inference. Disabling support for feedback tensors.\n",
      "I0000 00:00:1745957458.024268 9239742 gl_context.cc:369] GL version: 2.1 (2.1 ATI-5.2.4), renderer: AMD Radeon Pro 5500M OpenGL Engine\n",
      "W0000 00:00:1745957458.156468 9247015 inference_feedback_manager.cc:114] Feedback manager requires a model with a single signature inference. Disabling support for feedback tensors.\n",
      "W0000 00:00:1745957458.192475 9247015 inference_feedback_manager.cc:114] Feedback manager requires a model with a single signature inference. Disabling support for feedback tensors.\n",
      "I0000 00:00:1745957463.859176 9239742 gl_context.cc:369] GL version: 2.1 (2.1 ATI-5.2.4), renderer: AMD Radeon Pro 5500M OpenGL Engine\n",
      "W0000 00:00:1745957463.859892 9239742 face_landmarker_graph.cc:174] Sets FaceBlendshapesGraph acceleration to xnnpack by default.\n",
      "W0000 00:00:1745957463.868286 9247134 inference_feedback_manager.cc:114] Feedback manager requires a model with a single signature inference. Disabling support for feedback tensors.\n",
      "W0000 00:00:1745957463.884044 9247134 inference_feedback_manager.cc:114] Feedback manager requires a model with a single signature inference. Disabling support for feedback tensors.\n",
      " 78%|███████████████████████████████████████████████████████████████████████████████████████████████████████████████████████████████████████████████████████████████████████████▉                                                 | 7/9 [01:16<00:21, 10.81s/it]"
     ]
    },
    {
     "name": "stdout",
     "output_type": "stream",
     "text": [
      "max() arg is an empty sequence\n",
      "max() arg is an empty sequence\n",
      "max() arg is an empty sequence\n",
      "max() arg is an empty sequence\n",
      "max() arg is an empty sequence\n",
      "max() arg is an empty sequence\n",
      "max() arg is an empty sequence\n",
      "max() arg is an empty sequence\n",
      "max() arg is an empty sequence\n"
     ]
    },
    {
     "name": "stderr",
     "output_type": "stream",
     "text": [
      "I0000 00:00:1745957465.604226 9239742 gl_context.cc:369] GL version: 2.1 (2.1 ATI-5.2.4), renderer: AMD Radeon Pro 5500M OpenGL Engine\n",
      "W0000 00:00:1745957465.607768 9247187 inference_feedback_manager.cc:114] Feedback manager requires a model with a single signature inference. Disabling support for feedback tensors.\n",
      "W0000 00:00:1745957465.622764 9247187 inference_feedback_manager.cc:114] Feedback manager requires a model with a single signature inference. Disabling support for feedback tensors.\n",
      "I0000 00:00:1745957465.643524 9239742 gl_context.cc:369] GL version: 2.1 (2.1 ATI-5.2.4), renderer: AMD Radeon Pro 5500M OpenGL Engine\n",
      "W0000 00:00:1745957465.647162 9247204 inference_feedback_manager.cc:114] Feedback manager requires a model with a single signature inference. Disabling support for feedback tensors.\n",
      "W0000 00:00:1745957465.661796 9247202 inference_feedback_manager.cc:114] Feedback manager requires a model with a single signature inference. Disabling support for feedback tensors.\n",
      "I0000 00:00:1745957465.683586 9239742 gl_context.cc:369] GL version: 2.1 (2.1 ATI-5.2.4), renderer: AMD Radeon Pro 5500M OpenGL Engine\n",
      "W0000 00:00:1745957465.687939 9247220 inference_feedback_manager.cc:114] Feedback manager requires a model with a single signature inference. Disabling support for feedback tensors.\n",
      "W0000 00:00:1745957465.705224 9247219 inference_feedback_manager.cc:114] Feedback manager requires a model with a single signature inference. Disabling support for feedback tensors.\n",
      "I0000 00:00:1745957465.727258 9239742 gl_context.cc:369] GL version: 2.1 (2.1 ATI-5.2.4), renderer: AMD Radeon Pro 5500M OpenGL Engine\n",
      "W0000 00:00:1745957465.730873 9247236 inference_feedback_manager.cc:114] Feedback manager requires a model with a single signature inference. Disabling support for feedback tensors.\n",
      "W0000 00:00:1745957465.746609 9247238 inference_feedback_manager.cc:114] Feedback manager requires a model with a single signature inference. Disabling support for feedback tensors.\n",
      "I0000 00:00:1745957465.768725 9239742 gl_context.cc:369] GL version: 2.1 (2.1 ATI-5.2.4), renderer: AMD Radeon Pro 5500M OpenGL Engine\n",
      "W0000 00:00:1745957465.772587 9247254 inference_feedback_manager.cc:114] Feedback manager requires a model with a single signature inference. Disabling support for feedback tensors.\n",
      "W0000 00:00:1745957465.787815 9247249 inference_feedback_manager.cc:114] Feedback manager requires a model with a single signature inference. Disabling support for feedback tensors.\n",
      "I0000 00:00:1745957465.809926 9239742 gl_context.cc:369] GL version: 2.1 (2.1 ATI-5.2.4), renderer: AMD Radeon Pro 5500M OpenGL Engine\n",
      "W0000 00:00:1745957465.814119 9247277 inference_feedback_manager.cc:114] Feedback manager requires a model with a single signature inference. Disabling support for feedback tensors.\n",
      "W0000 00:00:1745957465.830051 9247273 inference_feedback_manager.cc:114] Feedback manager requires a model with a single signature inference. Disabling support for feedback tensors.\n",
      "I0000 00:00:1745957465.852200 9239742 gl_context.cc:369] GL version: 2.1 (2.1 ATI-5.2.4), renderer: AMD Radeon Pro 5500M OpenGL Engine\n",
      "W0000 00:00:1745957465.856105 9247293 inference_feedback_manager.cc:114] Feedback manager requires a model with a single signature inference. Disabling support for feedback tensors.\n",
      "W0000 00:00:1745957465.881829 9247300 inference_feedback_manager.cc:114] Feedback manager requires a model with a single signature inference. Disabling support for feedback tensors.\n",
      "I0000 00:00:1745957465.904771 9239742 gl_context.cc:369] GL version: 2.1 (2.1 ATI-5.2.4), renderer: AMD Radeon Pro 5500M OpenGL Engine\n",
      "W0000 00:00:1745957465.908932 9247309 inference_feedback_manager.cc:114] Feedback manager requires a model with a single signature inference. Disabling support for feedback tensors.\n",
      "W0000 00:00:1745957465.924273 9247308 inference_feedback_manager.cc:114] Feedback manager requires a model with a single signature inference. Disabling support for feedback tensors.\n",
      "I0000 00:00:1745957465.945824 9239742 gl_context.cc:369] GL version: 2.1 (2.1 ATI-5.2.4), renderer: AMD Radeon Pro 5500M OpenGL Engine\n",
      "W0000 00:00:1745957465.949898 9247324 inference_feedback_manager.cc:114] Feedback manager requires a model with a single signature inference. Disabling support for feedback tensors.\n",
      "W0000 00:00:1745957465.968495 9247322 inference_feedback_manager.cc:114] Feedback manager requires a model with a single signature inference. Disabling support for feedback tensors.\n",
      "I0000 00:00:1745957465.991013 9239742 gl_context.cc:369] GL version: 2.1 (2.1 ATI-5.2.4), renderer: AMD Radeon Pro 5500M OpenGL Engine\n",
      "W0000 00:00:1745957465.994736 9247341 inference_feedback_manager.cc:114] Feedback manager requires a model with a single signature inference. Disabling support for feedback tensors.\n",
      "W0000 00:00:1745957466.009666 9247342 inference_feedback_manager.cc:114] Feedback manager requires a model with a single signature inference. Disabling support for feedback tensors.\n",
      "I0000 00:00:1745957466.034603 9239742 gl_context.cc:369] GL version: 2.1 (2.1 ATI-5.2.4), renderer: AMD Radeon Pro 5500M OpenGL Engine\n",
      "W0000 00:00:1745957466.146762 9247356 inference_feedback_manager.cc:114] Feedback manager requires a model with a single signature inference. Disabling support for feedback tensors.\n",
      "W0000 00:00:1745957466.189496 9247356 inference_feedback_manager.cc:114] Feedback manager requires a model with a single signature inference. Disabling support for feedback tensors.\n",
      "I0000 00:00:1745957466.333499 9239742 gl_context.cc:369] GL version: 2.1 (2.1 ATI-5.2.4), renderer: AMD Radeon Pro 5500M OpenGL Engine\n",
      "W0000 00:00:1745957466.436774 9247375 inference_feedback_manager.cc:114] Feedback manager requires a model with a single signature inference. Disabling support for feedback tensors.\n",
      "W0000 00:00:1745957466.466371 9247375 inference_feedback_manager.cc:114] Feedback manager requires a model with a single signature inference. Disabling support for feedback tensors.\n",
      "I0000 00:00:1745957466.582678 9239742 gl_context.cc:369] GL version: 2.1 (2.1 ATI-5.2.4), renderer: AMD Radeon Pro 5500M OpenGL Engine\n",
      "W0000 00:00:1745957466.686682 9247400 inference_feedback_manager.cc:114] Feedback manager requires a model with a single signature inference. Disabling support for feedback tensors.\n",
      "W0000 00:00:1745957466.718484 9247403 inference_feedback_manager.cc:114] Feedback manager requires a model with a single signature inference. Disabling support for feedback tensors.\n",
      "I0000 00:00:1745957466.845100 9239742 gl_context.cc:369] GL version: 2.1 (2.1 ATI-5.2.4), renderer: AMD Radeon Pro 5500M OpenGL Engine\n",
      "W0000 00:00:1745957466.951707 9247419 inference_feedback_manager.cc:114] Feedback manager requires a model with a single signature inference. Disabling support for feedback tensors.\n",
      "W0000 00:00:1745957466.984117 9247419 inference_feedback_manager.cc:114] Feedback manager requires a model with a single signature inference. Disabling support for feedback tensors.\n",
      "I0000 00:00:1745957467.103299 9239742 gl_context.cc:369] GL version: 2.1 (2.1 ATI-5.2.4), renderer: AMD Radeon Pro 5500M OpenGL Engine\n",
      "W0000 00:00:1745957467.210798 9247432 inference_feedback_manager.cc:114] Feedback manager requires a model with a single signature inference. Disabling support for feedback tensors.\n",
      "W0000 00:00:1745957467.241977 9247432 inference_feedback_manager.cc:114] Feedback manager requires a model with a single signature inference. Disabling support for feedback tensors.\n",
      "I0000 00:00:1745957467.368890 9239742 gl_context.cc:369] GL version: 2.1 (2.1 ATI-5.2.4), renderer: AMD Radeon Pro 5500M OpenGL Engine\n",
      "W0000 00:00:1745957467.484281 9247456 inference_feedback_manager.cc:114] Feedback manager requires a model with a single signature inference. Disabling support for feedback tensors.\n",
      "W0000 00:00:1745957467.515292 9247462 inference_feedback_manager.cc:114] Feedback manager requires a model with a single signature inference. Disabling support for feedback tensors.\n",
      "I0000 00:00:1745957467.642709 9239742 gl_context.cc:369] GL version: 2.1 (2.1 ATI-5.2.4), renderer: AMD Radeon Pro 5500M OpenGL Engine\n",
      "W0000 00:00:1745957467.753208 9247475 inference_feedback_manager.cc:114] Feedback manager requires a model with a single signature inference. Disabling support for feedback tensors.\n",
      "W0000 00:00:1745957467.784130 9247475 inference_feedback_manager.cc:114] Feedback manager requires a model with a single signature inference. Disabling support for feedback tensors.\n",
      "I0000 00:00:1745957467.910403 9239742 gl_context.cc:369] GL version: 2.1 (2.1 ATI-5.2.4), renderer: AMD Radeon Pro 5500M OpenGL Engine\n",
      "W0000 00:00:1745957468.020357 9247493 inference_feedback_manager.cc:114] Feedback manager requires a model with a single signature inference. Disabling support for feedback tensors.\n",
      "W0000 00:00:1745957468.050921 9247493 inference_feedback_manager.cc:114] Feedback manager requires a model with a single signature inference. Disabling support for feedback tensors.\n",
      "I0000 00:00:1745957468.176493 9239742 gl_context.cc:369] GL version: 2.1 (2.1 ATI-5.2.4), renderer: AMD Radeon Pro 5500M OpenGL Engine\n",
      "W0000 00:00:1745957468.283816 9247510 inference_feedback_manager.cc:114] Feedback manager requires a model with a single signature inference. Disabling support for feedback tensors.\n",
      "W0000 00:00:1745957468.312463 9247510 inference_feedback_manager.cc:114] Feedback manager requires a model with a single signature inference. Disabling support for feedback tensors.\n",
      "I0000 00:00:1745957468.470680 9239742 gl_context.cc:369] GL version: 2.1 (2.1 ATI-5.2.4), renderer: AMD Radeon Pro 5500M OpenGL Engine\n",
      "W0000 00:00:1745957468.598520 9247580 inference_feedback_manager.cc:114] Feedback manager requires a model with a single signature inference. Disabling support for feedback tensors.\n",
      "W0000 00:00:1745957468.642181 9247587 inference_feedback_manager.cc:114] Feedback manager requires a model with a single signature inference. Disabling support for feedback tensors.\n",
      "I0000 00:00:1745957468.910206 9239742 gl_context.cc:369] GL version: 2.1 (2.1 ATI-5.2.4), renderer: AMD Radeon Pro 5500M OpenGL Engine\n",
      "W0000 00:00:1745957469.068994 9247642 inference_feedback_manager.cc:114] Feedback manager requires a model with a single signature inference. Disabling support for feedback tensors.\n",
      "W0000 00:00:1745957469.105666 9247649 inference_feedback_manager.cc:114] Feedback manager requires a model with a single signature inference. Disabling support for feedback tensors.\n",
      "I0000 00:00:1745957474.449583 9239742 gl_context.cc:369] GL version: 2.1 (2.1 ATI-5.2.4), renderer: AMD Radeon Pro 5500M OpenGL Engine\n",
      "W0000 00:00:1745957474.450279 9239742 face_landmarker_graph.cc:174] Sets FaceBlendshapesGraph acceleration to xnnpack by default.\n",
      "W0000 00:00:1745957474.458411 9247876 inference_feedback_manager.cc:114] Feedback manager requires a model with a single signature inference. Disabling support for feedback tensors.\n",
      "W0000 00:00:1745957474.487835 9247887 inference_feedback_manager.cc:114] Feedback manager requires a model with a single signature inference. Disabling support for feedback tensors.\n",
      " 89%|████████████████████████████████████████████████████████████████████████████████████████████████████████████████████████████████████████████████████████████████████████████████████████████████████▍                        | 8/9 [01:27<00:10, 10.76s/it]"
     ]
    },
    {
     "name": "stdout",
     "output_type": "stream",
     "text": [
      "max() arg is an empty sequence\n"
     ]
    },
    {
     "name": "stderr",
     "output_type": "stream",
     "text": [
      "I0000 00:00:1745957475.722359 9239742 gl_context.cc:369] GL version: 2.1 (2.1 ATI-5.2.4), renderer: AMD Radeon Pro 5500M OpenGL Engine\n",
      "W0000 00:00:1745957475.725438 9247953 inference_feedback_manager.cc:114] Feedback manager requires a model with a single signature inference. Disabling support for feedback tensors.\n",
      "W0000 00:00:1745957475.739141 9247955 inference_feedback_manager.cc:114] Feedback manager requires a model with a single signature inference. Disabling support for feedback tensors.\n",
      "I0000 00:00:1745957475.750791 9239742 gl_context.cc:369] GL version: 2.1 (2.1 ATI-5.2.4), renderer: AMD Radeon Pro 5500M OpenGL Engine\n",
      "W0000 00:00:1745957475.849029 9247970 inference_feedback_manager.cc:114] Feedback manager requires a model with a single signature inference. Disabling support for feedback tensors.\n",
      "W0000 00:00:1745957475.881846 9247970 inference_feedback_manager.cc:114] Feedback manager requires a model with a single signature inference. Disabling support for feedback tensors.\n",
      "I0000 00:00:1745957475.920842 9239742 gl_context.cc:369] GL version: 2.1 (2.1 ATI-5.2.4), renderer: AMD Radeon Pro 5500M OpenGL Engine\n",
      "W0000 00:00:1745957476.026442 9247987 inference_feedback_manager.cc:114] Feedback manager requires a model with a single signature inference. Disabling support for feedback tensors.\n",
      "W0000 00:00:1745957476.055458 9247987 inference_feedback_manager.cc:114] Feedback manager requires a model with a single signature inference. Disabling support for feedback tensors.\n",
      "I0000 00:00:1745957476.088197 9239742 gl_context.cc:369] GL version: 2.1 (2.1 ATI-5.2.4), renderer: AMD Radeon Pro 5500M OpenGL Engine\n",
      "W0000 00:00:1745957476.089409 9239742 face_landmarker_graph.cc:174] Sets FaceBlendshapesGraph acceleration to xnnpack by default.\n",
      "W0000 00:00:1745957476.097499 9248004 inference_feedback_manager.cc:114] Feedback manager requires a model with a single signature inference. Disabling support for feedback tensors.\n",
      "W0000 00:00:1745957476.114338 9248004 inference_feedback_manager.cc:114] Feedback manager requires a model with a single signature inference. Disabling support for feedback tensors.\n",
      "100%|█████████████████████████████████████████████████████████████████████████████████████████████████████████████████████████████████████████████████████████████████████████████████████████████████████████████████████████████| 9/9 [01:27<00:00,  9.78s/it]\n"
     ]
    }
   ],
   "source": [
    "processing = FileProcessingSystem(\"data/poor_presentation_short.mp4\", flags, negative_emotions, preferred_gestures, 10, \"en\")"
   ]
  },
  {
   "cell_type": "code",
   "execution_count": 24,
   "metadata": {
    "colab": {
     "base_uri": "https://localhost:8080/",
     "height": 175
    },
    "id": "vi1QA2enK_XU",
    "outputId": "7a2c07bd-36f2-4241-98e7-3b0a1467430c"
   },
   "outputs": [
    {
     "name": "stderr",
     "output_type": "stream",
     "text": [
      "100%|███████████████████████████████████████████████████████████████████████████████████████████████████████████████████████████████████████████████████████████████████████████████████████████████████████████████████| 8008/8008 [02:49<00:00, 47.14frames/s]\n"
     ]
    },
    {
     "data": {
      "text/plain": [
       "'let me just get this right right okay yeah i do have oh yeah ive got some my objectives well my agenda today is were gonna look at aims and objectives between and youre gonna do a oneminute presentation and im probably gonna video that as well establishing key messages were gonna after the break were gonna structure a presentation for impact start it off and were gonna punchline a presentation for powerful endings well be taking lunch between one and two in the afternoon how to keep the audience happy how to use your voice in effective presentations effective body language well take a break between well be looking at maximizing use of visual aids and yeah in the end well do a group presentation so youll all be doing a presentation i take it youve all bought yourself a presentation you have yeah right nodding yeah good yeah if youve got a presentation well get you to set that up and you will be able to deliver your presentations later on okay so weve got a full day and i wanna make sure that you are clear about what were gonna be doing and how were going to be doing it as well do have some if youve got a line set'"
      ]
     },
     "execution_count": 24,
     "metadata": {},
     "output_type": "execute_result"
    }
   ],
   "source": [
    "processing.get_transcription()"
   ]
  },
  {
   "cell_type": "code",
   "execution_count": 25,
   "metadata": {},
   "outputs": [
    {
     "name": "stdout",
     "output_type": "stream",
     "text": [
      "On the video a speaker give a presentation in English. The following characteristics of his video were highlighted by our models: \"rather smooth speech with few filler words, such as \"were gonna\", \"a presentation\", \"well\". Optimal speech rate. Mostly desired emotions presented on the video. Video doesn't have noticeable background noise. Intelligibility of speech is moderate; some words are difficult to recognize. Video recorded with significant issues with recording angle throughout the video. Speaker often look away from the camera. Gesturing is appropriate and natural. In average video recorded with too dark lighting. Looks like clothes are not suitable for the presentation.\"\n",
      "Here is the transcription of the presentation: let me just get this right right okay yeah i do have oh yeah ive got some my objectives well my agenda today is were gonna look at aims and objectives between and youre gonna do a oneminute presentation and im probably gonna video that as well establishing key messages were gonna after the break were gonna structure a presentation for impact start it off and were gonna punchline a presentation for powerful endings well be taking lunch between one and two in the afternoon how to keep the audience happy how to use your voice in effective presentations effective body language well take a break between well be looking at maximizing use of visual aids and yeah in the end well do a group presentation so youll all be doing a presentation i take it youve all bought yourself a presentation you have yeah right nodding yeah good yeah if youve got a presentation well get you to set that up and you will be able to deliver your presentations later on okay so weve got a full day and i wanna make sure that you are clear about what were gonna be doing and how were going to be doing it as well do have some if youve got a line set\n",
      "Note that the presentation has a educational style.\n",
      "Please, analyze the speach and characteristics and provide a brief recomendation how the presentor can improve the quality of the presentation and his presentation skills. The recomendation should be less than 150 words.\n"
     ]
    }
   ],
   "source": [
    "prompt = processing.get_recomendation_prompt(\"educational\")\n",
    "print(prompt)"
   ]
  },
  {
   "cell_type": "code",
   "execution_count": 26,
   "metadata": {},
   "outputs": [
    {
     "name": "stdout",
     "output_type": "stream",
     "text": [
      "The speaker delivers content smoothly with natural gestures and a good pace, but intelligibility suffers due to unclear articulation and moments of looking away from the camera. For a stronger educational presentation, consider improving lighting and camera positioning to create a more engaging visual experience. Maintain eye contact with the camera to better connect with the audience. Choose attire that matches the formality of the occasion. To boost clarity, practice enunciating words more deliberately, minimizing slurred or dropped syllables. While speech is mostly free of fillers, vary your vocal tone for emphasis and clearer transitions. These adjustments will enhance both audience engagement and comprehension.\n"
     ]
    }
   ],
   "source": [
    "print(processing.get_recommendation(prompt))"
   ]
  },
  {
   "cell_type": "code",
   "execution_count": 27,
   "metadata": {},
   "outputs": [
    {
     "name": "stdout",
     "output_type": "stream",
     "text": [
      "None\n",
      "None\n",
      "None\n"
     ]
    }
   ],
   "source": [
    "print(processing.get_age())\n",
    "print(processing.get_gender())\n",
    "print(processing.get_ethnicity())"
   ]
  },
  {
   "cell_type": "code",
   "execution_count": 28,
   "metadata": {
    "colab": {
     "base_uri": "https://localhost:8080/"
    },
    "id": "LG2OBVj5LDjL",
    "outputId": "aa604af6-5628-44e7-968a-d8d59c6a8417"
   },
   "outputs": [
    {
     "data": {
      "text/plain": [
       "(0.618, 0.0, array([0., 0., 0., 0., 0., 0., 0., 0., 0.]))"
      ]
     },
     "execution_count": 28,
     "metadata": {},
     "output_type": "execute_result"
    }
   ],
   "source": [
    "processing.get_emotionality()"
   ]
  },
  {
   "cell_type": "code",
   "execution_count": 29,
   "metadata": {
    "colab": {
     "base_uri": "https://localhost:8080/"
    },
    "id": "n-ndjKVzLJ8Z",
    "outputId": "4e53884d-b8d2-4839-883e-0c666b82d0dd"
   },
   "outputs": [
    {
     "data": {
      "text/plain": [
       "(2.02298,\n",
       " {'were gonna': 5,\n",
       "  'a presentation': 5,\n",
       "  'just': 1,\n",
       "  'right': 3,\n",
       "  'okay': 2,\n",
       "  'well': 8,\n",
       "  'so': 2,\n",
       "  'sure': 1},\n",
       " {'were gonna': 5, 'a presentation': 5, 'well': 8})"
      ]
     },
     "execution_count": 29,
     "metadata": {},
     "output_type": "execute_result"
    }
   ],
   "source": [
    "processing.get_filler_words()"
   ]
  },
  {
   "cell_type": "code",
   "execution_count": 30,
   "metadata": {
    "colab": {
     "base_uri": "https://localhost:8080/"
    },
    "id": "KvNf1uw1LMFm",
    "outputId": "4361a483-3442-494e-c438-4c089d17411c"
   },
   "outputs": [
    {
     "data": {
      "text/plain": [
       "(0.0, array([0., 0., 0., 0., 0., 0., 0., 0., 0.]), [])"
      ]
     },
     "execution_count": 30,
     "metadata": {},
     "output_type": "execute_result"
    }
   ],
   "source": [
    "processing.get_speech_rate()"
   ]
  },
  {
   "cell_type": "code",
   "execution_count": 31,
   "metadata": {
    "colab": {
     "base_uri": "https://localhost:8080/"
    },
    "id": "GwaDnGwTLT9R",
    "outputId": "0429f3e8-37bc-4e66-a629-b3904f3f84b6"
   },
   "outputs": [
    {
     "data": {
      "text/plain": [
       "(0.0,\n",
       " array([0.041 , 0.0365, 0.0465, 0.0465, 0.049 , 0.0605, 0.045 , 0.0575,\n",
       "        0.25  ]),\n",
       " [])"
      ]
     },
     "execution_count": 31,
     "metadata": {},
     "output_type": "execute_result"
    }
   ],
   "source": [
    "processing.get_background_noise()"
   ]
  },
  {
   "cell_type": "code",
   "execution_count": 32,
   "metadata": {
    "colab": {
     "base_uri": "https://localhost:8080/"
    },
    "id": "oJGLKRZcLVsu",
    "outputId": "98f4a34e-de4e-4577-f37c-c6725fab385e"
   },
   "outputs": [
    {
     "data": {
      "text/plain": [
       "(0.7487228327228327,\n",
       " array([0.792, 0.771, 0.763, 0.763, 0.761, 0.752, 0.764, 0.767, 0.8  ]))"
      ]
     },
     "execution_count": 32,
     "metadata": {},
     "output_type": "execute_result"
    }
   ],
   "source": [
    "processing.get_intelligibility()"
   ]
  },
  {
   "cell_type": "code",
   "execution_count": 33,
   "metadata": {
    "colab": {
     "base_uri": "https://localhost:8080/"
    },
    "id": "kVlShanfLV6j",
    "outputId": "e73d7a9f-1479-49d4-b85b-9cb9bbb3b36f"
   },
   "outputs": [
    {
     "data": {
      "text/plain": [
       "(0.934, array([1.   , 0.76 , 0.9  , 1.   , 1.   , 0.744, 1.   , 1.   , 1.   ]))"
      ]
     },
     "execution_count": 33,
     "metadata": {},
     "output_type": "execute_result"
    }
   ],
   "source": [
    "processing.get_incorrect_angle()"
   ]
  },
  {
   "cell_type": "code",
   "execution_count": 34,
   "metadata": {
    "colab": {
     "base_uri": "https://localhost:8080/"
    },
    "id": "hPq4LHc4LWGR",
    "outputId": "b33dc072-77ea-49d7-f7c9-f58415c4bb78"
   },
   "outputs": [
    {
     "data": {
      "text/plain": [
       "(1.0, array([1., 1., 1., 1., 1., 1., 1., 1., 1.]))"
      ]
     },
     "execution_count": 34,
     "metadata": {},
     "output_type": "execute_result"
    }
   ],
   "source": [
    "processing.get_incorrect_glances()"
   ]
  },
  {
   "cell_type": "code",
   "execution_count": 35,
   "metadata": {
    "colab": {
     "base_uri": "https://localhost:8080/"
    },
    "id": "69_yaU1zLWgz",
    "outputId": "79b42430-bb5d-4029-ead7-dade5e13d27f"
   },
   "outputs": [
    {
     "data": {
      "text/plain": [
       "(1.667, array([2, 2, 2, 2, 1, 2, 2, 2, 0]))"
      ]
     },
     "execution_count": 35,
     "metadata": {},
     "output_type": "execute_result"
    }
   ],
   "source": [
    "processing.get_gestures()"
   ]
  },
  {
   "cell_type": "code",
   "execution_count": 36,
   "metadata": {
    "colab": {
     "base_uri": "https://localhost:8080/"
    },
    "id": "4jDLDPH1LWsL",
    "outputId": "3cf39a69-e325-4d70-a5a4-4cd36003a9c6"
   },
   "outputs": [
    {
     "data": {
      "text/plain": [
       "False"
      ]
     },
     "execution_count": 36,
     "metadata": {},
     "output_type": "execute_result"
    }
   ],
   "source": [
    "processing.get_clothes()"
   ]
  },
  {
   "cell_type": "code",
   "execution_count": 37,
   "metadata": {
    "colab": {
     "base_uri": "https://localhost:8080/"
    },
    "id": "HdwxJIdwXXv1",
    "outputId": "bb7134a1-e0b6-4a9a-d3bf-83d46fbecbaf"
   },
   "outputs": [
    {
     "name": "stdout",
     "output_type": "stream",
     "text": [
      "{'speech_rate': array([0., 0., 0., 0., 0., 0., 0., 0., 0.]), 'emotionality': array([0., 0., 0., 0., 0., 0., 0., 0., 0.]), 'background_noise': array([0.041 , 0.0365, 0.0465, 0.0465, 0.049 , 0.0605, 0.045 , 0.0575,\n",
      "       0.25  ]), 'intelligibility': array([0.792, 0.771, 0.763, 0.763, 0.761, 0.752, 0.764, 0.767, 0.8  ]), 'glances': array([1., 1., 1., 1., 1., 1., 1., 1., 1.]), 'gestures': array([2, 2, 2, 2, 1, 2, 2, 2, 0])}\n",
      "background_noise [0.041  0.0365 0.0465 0.0465 0.049  0.0605 0.045  0.0575 0.25  ]\n",
      "speech_rate [0. 0. 0. 0. 0. 0. 0. 0. 0.]\n",
      "emotionality [0. 0. 0. 0. 0. 0. 0. 0. 0.]\n",
      "intelligibility [0.792 0.771 0.763 0.763 0.761 0.752 0.764 0.767 0.8  ]\n",
      "gestures [2 2 2 2 1 2 2 2 0]\n",
      "glances [1. 1. 1. 1. 1. 1. 1. 1. 1.]\n",
      "[['No background noise', 'No background noise', 'No background noise', 'No background noise', 'No background noise', 'No background noise', 'No background noise', 'No background noise', 'No background noise'], ['Optimal speech rate', 'Optimal speech rate', 'Optimal speech rate', 'Optimal speech rate', 'Optimal speech rate', 'Optimal speech rate', 'Optimal speech rate', 'Optimal speech rate', 'Optimal speech rate'], ['Mostly desired emotions', 'Mostly desired emotions', 'Mostly desired emotions', 'Mostly desired emotions', 'Mostly desired emotions', 'Mostly desired emotions', 'Mostly desired emotions', 'Mostly desired emotions', 'Mostly desired emotions'], ['Speech is fully intelligible', 'Speech is fully intelligible', 'Speech is fully intelligible', 'Speech is fully intelligible', 'Speech is fully intelligible', 'Speech is fully intelligible', 'Speech is fully intelligible', 'Speech is fully intelligible', 'Speech is fully intelligible'], ['Active gesturing', 'Active gesturing', 'Active gesturing', 'Active gesturing', 'Optimal gesturing', 'Active gesturing', 'Active gesturing', 'Active gesturing', 'Inactive gesturing'], ['You often look away', 'You often look away', 'You often look away', 'You often look away', 'You often look away', 'You often look away', 'You often look away', 'You often look away', 'You often look away'], ['Too dark lighting', 'Too dark lighting', 'Too dark lighting', 'Too dark lighting', 'Too dark lighting', 'Too dark lighting', 'Too dark lighting', 'Too dark lighting', 'Too dark lighting']]\n",
      "[[True, True, True, True, True, True, True, True, True], [True, True, True, True, True, True, True, True, True], [True, True, True, True, True, True, True, True, True], [True, True, True, True, True, True, True, True, True], [False, False, False, False, True, False, False, False, True], [False, False, False, False, False, False, False, False, False], [False, False, False, False, False, False, False, False, False]]\n",
      "Moviepy - Building video data/poor_presentation_short_painted.mp4.\n",
      "MoviePy - Writing audio in poor_presentation_short_paintedTEMP_MPY_wvf_snd.mp3\n"
     ]
    },
    {
     "name": "stderr",
     "output_type": "stream",
     "text": [
      "                                                                                                                                                                                                                                                                "
     ]
    },
    {
     "name": "stdout",
     "output_type": "stream",
     "text": [
      "MoviePy - Done.\n",
      "Moviepy - Writing video data/poor_presentation_short_painted.mp4\n",
      "\n"
     ]
    },
    {
     "name": "stderr",
     "output_type": "stream",
     "text": [
      "                                                                                                                                                                                                                                                                "
     ]
    },
    {
     "name": "stdout",
     "output_type": "stream",
     "text": [
      "Moviepy - Done !\n",
      "Moviepy - video ready data/poor_presentation_short_painted.mp4\n"
     ]
    }
   ],
   "source": [
    "painted_path = processing.draw()"
   ]
  },
  {
   "cell_type": "code",
   "execution_count": 38,
   "metadata": {
    "colab": {
     "base_uri": "https://localhost:8080/",
     "height": 503
    },
    "id": "Y2TggR_cuXa8",
    "outputId": "3d40f481-d230-4f0f-fbc5-330166d6e875"
   },
   "outputs": [],
   "source": [
    "video_path = painted_path\n",
    "video_clip = VideoFileClip(video_path)\n",
    "#video_clip.ipython_display(width=640)"
   ]
  },
  {
   "cell_type": "markdown",
   "metadata": {
    "jp-MarkdownHeadingCollapsed": true
   },
   "source": [
    "## Chinese presentation in English"
   ]
  },
  {
   "cell_type": "code",
   "execution_count": 22,
   "metadata": {
    "colab": {
     "base_uri": "https://localhost:8080/"
    },
    "id": "JdUiHA6nStg4",
    "outputId": "31ec89e8-441e-4e72-ae76-bdc0c2cc74b5"
   },
   "outputs": [
    {
     "name": "stderr",
     "output_type": "stream",
     "text": [
      "  0%|                                                                                                                                                                                                                                     | 0/8 [00:00<?, ?it/s]"
     ]
    },
    {
     "name": "stdout",
     "output_type": "stream",
     "text": [
      "max() arg is an empty sequence\n",
      "max() arg is an empty sequence\n",
      "max() arg is an empty sequence\n",
      "max() arg is an empty sequence\n"
     ]
    },
    {
     "name": "stderr",
     "output_type": "stream",
     "text": [
      "I0000 00:00:1745958301.482713 9271000 gl_context.cc:369] GL version: 2.1 (2.1 ATI-5.2.4), renderer: AMD Radeon Pro 5500M OpenGL Engine\n",
      "W0000 00:00:1745958301.484947 9271635 inference_feedback_manager.cc:114] Feedback manager requires a model with a single signature inference. Disabling support for feedback tensors.\n",
      "W0000 00:00:1745958301.500312 9271640 inference_feedback_manager.cc:114] Feedback manager requires a model with a single signature inference. Disabling support for feedback tensors.\n",
      "W0000 00:00:1745958301.507616 9271638 landmark_projection_calculator.cc:186] Using NORM_RECT without IMAGE_DIMENSIONS is only supported for the square ROI. Provide IMAGE_DIMENSIONS or use PROJECTION_MATRIX.\n",
      "I0000 00:00:1745958301.585903 9271000 gl_context.cc:369] GL version: 2.1 (2.1 ATI-5.2.4), renderer: AMD Radeon Pro 5500M OpenGL Engine\n",
      "W0000 00:00:1745958301.589884 9271665 inference_feedback_manager.cc:114] Feedback manager requires a model with a single signature inference. Disabling support for feedback tensors.\n",
      "W0000 00:00:1745958301.603931 9271661 inference_feedback_manager.cc:114] Feedback manager requires a model with a single signature inference. Disabling support for feedback tensors.\n",
      "I0000 00:00:1745958301.675472 9271000 gl_context.cc:369] GL version: 2.1 (2.1 ATI-5.2.4), renderer: AMD Radeon Pro 5500M OpenGL Engine\n",
      "W0000 00:00:1745958301.678796 9271684 inference_feedback_manager.cc:114] Feedback manager requires a model with a single signature inference. Disabling support for feedback tensors.\n",
      "W0000 00:00:1745958301.695094 9271690 inference_feedback_manager.cc:114] Feedback manager requires a model with a single signature inference. Disabling support for feedback tensors.\n",
      "I0000 00:00:1745958301.770610 9271000 gl_context.cc:369] GL version: 2.1 (2.1 ATI-5.2.4), renderer: AMD Radeon Pro 5500M OpenGL Engine\n",
      "W0000 00:00:1745958301.774129 9271694 inference_feedback_manager.cc:114] Feedback manager requires a model with a single signature inference. Disabling support for feedback tensors.\n",
      "W0000 00:00:1745958301.788349 9271694 inference_feedback_manager.cc:114] Feedback manager requires a model with a single signature inference. Disabling support for feedback tensors.\n",
      "I0000 00:00:1745958301.865655 9271000 gl_context.cc:369] GL version: 2.1 (2.1 ATI-5.2.4), renderer: AMD Radeon Pro 5500M OpenGL Engine\n",
      "W0000 00:00:1745958301.869314 9271714 inference_feedback_manager.cc:114] Feedback manager requires a model with a single signature inference. Disabling support for feedback tensors.\n",
      "W0000 00:00:1745958301.883722 9271718 inference_feedback_manager.cc:114] Feedback manager requires a model with a single signature inference. Disabling support for feedback tensors.\n",
      "I0000 00:00:1745958301.957113 9271000 gl_context.cc:369] GL version: 2.1 (2.1 ATI-5.2.4), renderer: AMD Radeon Pro 5500M OpenGL Engine\n",
      "W0000 00:00:1745958301.960460 9271726 inference_feedback_manager.cc:114] Feedback manager requires a model with a single signature inference. Disabling support for feedback tensors.\n",
      "W0000 00:00:1745958301.975047 9271730 inference_feedback_manager.cc:114] Feedback manager requires a model with a single signature inference. Disabling support for feedback tensors.\n",
      "I0000 00:00:1745958302.052613 9271000 gl_context.cc:369] GL version: 2.1 (2.1 ATI-5.2.4), renderer: AMD Radeon Pro 5500M OpenGL Engine\n",
      "W0000 00:00:1745958302.055648 9271754 inference_feedback_manager.cc:114] Feedback manager requires a model with a single signature inference. Disabling support for feedback tensors.\n",
      "W0000 00:00:1745958302.072201 9271755 inference_feedback_manager.cc:114] Feedback manager requires a model with a single signature inference. Disabling support for feedback tensors.\n",
      "I0000 00:00:1745958302.140341 9271000 gl_context.cc:369] GL version: 2.1 (2.1 ATI-5.2.4), renderer: AMD Radeon Pro 5500M OpenGL Engine\n",
      "W0000 00:00:1745958302.144030 9271771 inference_feedback_manager.cc:114] Feedback manager requires a model with a single signature inference. Disabling support for feedback tensors.\n",
      "W0000 00:00:1745958302.161603 9271767 inference_feedback_manager.cc:114] Feedback manager requires a model with a single signature inference. Disabling support for feedback tensors.\n",
      "I0000 00:00:1745958302.233786 9271000 gl_context.cc:369] GL version: 2.1 (2.1 ATI-5.2.4), renderer: AMD Radeon Pro 5500M OpenGL Engine\n",
      "W0000 00:00:1745958302.237306 9271787 inference_feedback_manager.cc:114] Feedback manager requires a model with a single signature inference. Disabling support for feedback tensors.\n",
      "W0000 00:00:1745958302.252819 9271784 inference_feedback_manager.cc:114] Feedback manager requires a model with a single signature inference. Disabling support for feedback tensors.\n",
      "I0000 00:00:1745958302.323808 9271000 gl_context.cc:369] GL version: 2.1 (2.1 ATI-5.2.4), renderer: AMD Radeon Pro 5500M OpenGL Engine\n",
      "W0000 00:00:1745958302.327255 9271803 inference_feedback_manager.cc:114] Feedback manager requires a model with a single signature inference. Disabling support for feedback tensors.\n",
      "W0000 00:00:1745958302.341246 9271803 inference_feedback_manager.cc:114] Feedback manager requires a model with a single signature inference. Disabling support for feedback tensors.\n",
      "I0000 00:00:1745958302.422721 9271000 gl_context.cc:369] GL version: 2.1 (2.1 ATI-5.2.4), renderer: AMD Radeon Pro 5500M OpenGL Engine\n",
      "W0000 00:00:1745958302.537676 9271817 inference_feedback_manager.cc:114] Feedback manager requires a model with a single signature inference. Disabling support for feedback tensors.\n",
      "W0000 00:00:1745958302.572155 9271818 inference_feedback_manager.cc:114] Feedback manager requires a model with a single signature inference. Disabling support for feedback tensors.\n",
      "I0000 00:00:1745958302.696534 9271000 gl_context.cc:369] GL version: 2.1 (2.1 ATI-5.2.4), renderer: AMD Radeon Pro 5500M OpenGL Engine\n",
      "W0000 00:00:1745958302.801144 9271835 inference_feedback_manager.cc:114] Feedback manager requires a model with a single signature inference. Disabling support for feedback tensors.\n",
      "W0000 00:00:1745958302.831879 9271843 inference_feedback_manager.cc:114] Feedback manager requires a model with a single signature inference. Disabling support for feedback tensors.\n",
      "I0000 00:00:1745958302.958022 9271000 gl_context.cc:369] GL version: 2.1 (2.1 ATI-5.2.4), renderer: AMD Radeon Pro 5500M OpenGL Engine\n",
      "W0000 00:00:1745958303.079191 9271856 inference_feedback_manager.cc:114] Feedback manager requires a model with a single signature inference. Disabling support for feedback tensors.\n",
      "W0000 00:00:1745958303.113342 9271856 inference_feedback_manager.cc:114] Feedback manager requires a model with a single signature inference. Disabling support for feedback tensors.\n",
      "I0000 00:00:1745958303.242450 9271000 gl_context.cc:369] GL version: 2.1 (2.1 ATI-5.2.4), renderer: AMD Radeon Pro 5500M OpenGL Engine\n",
      "W0000 00:00:1745958303.345403 9271889 inference_feedback_manager.cc:114] Feedback manager requires a model with a single signature inference. Disabling support for feedback tensors.\n",
      "W0000 00:00:1745958303.375070 9271889 inference_feedback_manager.cc:114] Feedback manager requires a model with a single signature inference. Disabling support for feedback tensors.\n",
      "I0000 00:00:1745958303.489716 9271000 gl_context.cc:369] GL version: 2.1 (2.1 ATI-5.2.4), renderer: AMD Radeon Pro 5500M OpenGL Engine\n",
      "W0000 00:00:1745958303.594001 9271903 inference_feedback_manager.cc:114] Feedback manager requires a model with a single signature inference. Disabling support for feedback tensors.\n",
      "W0000 00:00:1745958303.624234 9271903 inference_feedback_manager.cc:114] Feedback manager requires a model with a single signature inference. Disabling support for feedback tensors.\n",
      "I0000 00:00:1745958303.742717 9271000 gl_context.cc:369] GL version: 2.1 (2.1 ATI-5.2.4), renderer: AMD Radeon Pro 5500M OpenGL Engine\n",
      "W0000 00:00:1745958303.848888 9271918 inference_feedback_manager.cc:114] Feedback manager requires a model with a single signature inference. Disabling support for feedback tensors.\n",
      "W0000 00:00:1745958303.883935 9271918 inference_feedback_manager.cc:114] Feedback manager requires a model with a single signature inference. Disabling support for feedback tensors.\n",
      "I0000 00:00:1745958304.001228 9271000 gl_context.cc:369] GL version: 2.1 (2.1 ATI-5.2.4), renderer: AMD Radeon Pro 5500M OpenGL Engine\n",
      "W0000 00:00:1745958304.113484 9271940 inference_feedback_manager.cc:114] Feedback manager requires a model with a single signature inference. Disabling support for feedback tensors.\n",
      "W0000 00:00:1745958304.146034 9271940 inference_feedback_manager.cc:114] Feedback manager requires a model with a single signature inference. Disabling support for feedback tensors.\n",
      "I0000 00:00:1745958304.270061 9271000 gl_context.cc:369] GL version: 2.1 (2.1 ATI-5.2.4), renderer: AMD Radeon Pro 5500M OpenGL Engine\n",
      "W0000 00:00:1745958304.378749 9271961 inference_feedback_manager.cc:114] Feedback manager requires a model with a single signature inference. Disabling support for feedback tensors.\n",
      "W0000 00:00:1745958304.407127 9271961 inference_feedback_manager.cc:114] Feedback manager requires a model with a single signature inference. Disabling support for feedback tensors.\n",
      "I0000 00:00:1745958304.528337 9271000 gl_context.cc:369] GL version: 2.1 (2.1 ATI-5.2.4), renderer: AMD Radeon Pro 5500M OpenGL Engine\n",
      "W0000 00:00:1745958304.641685 9271981 inference_feedback_manager.cc:114] Feedback manager requires a model with a single signature inference. Disabling support for feedback tensors.\n",
      "W0000 00:00:1745958304.673656 9271986 inference_feedback_manager.cc:114] Feedback manager requires a model with a single signature inference. Disabling support for feedback tensors.\n",
      "I0000 00:00:1745958304.799392 9271000 gl_context.cc:369] GL version: 2.1 (2.1 ATI-5.2.4), renderer: AMD Radeon Pro 5500M OpenGL Engine\n",
      "W0000 00:00:1745958304.908341 9271993 inference_feedback_manager.cc:114] Feedback manager requires a model with a single signature inference. Disabling support for feedback tensors.\n",
      "W0000 00:00:1745958304.944470 9272002 inference_feedback_manager.cc:114] Feedback manager requires a model with a single signature inference. Disabling support for feedback tensors.\n",
      "I0000 00:00:1745958305.066974 9271000 gl_context.cc:369] GL version: 2.1 (2.1 ATI-5.2.4), renderer: AMD Radeon Pro 5500M OpenGL Engine\n",
      "W0000 00:00:1745958305.183605 9272017 inference_feedback_manager.cc:114] Feedback manager requires a model with a single signature inference. Disabling support for feedback tensors.\n",
      "W0000 00:00:1745958305.218619 9272025 inference_feedback_manager.cc:114] Feedback manager requires a model with a single signature inference. Disabling support for feedback tensors.\n",
      "I0000 00:00:1745958310.611089 9271000 gl_context.cc:369] GL version: 2.1 (2.1 ATI-5.2.4), renderer: AMD Radeon Pro 5500M OpenGL Engine\n",
      "W0000 00:00:1745958310.611814 9271000 face_landmarker_graph.cc:174] Sets FaceBlendshapesGraph acceleration to xnnpack by default.\n",
      "W0000 00:00:1745958310.620006 9272124 inference_feedback_manager.cc:114] Feedback manager requires a model with a single signature inference. Disabling support for feedback tensors.\n",
      "W0000 00:00:1745958310.635996 9272124 inference_feedback_manager.cc:114] Feedback manager requires a model with a single signature inference. Disabling support for feedback tensors.\n",
      "I0000 00:00:1745958313.767043 9271000 gl_context.cc:369] GL version: 2.1 (2.1 ATI-5.2.4), renderer: AMD Radeon Pro 5500M OpenGL Engine\n",
      "W0000 00:00:1745958313.893164 9272172 inference_feedback_manager.cc:114] Feedback manager requires a model with a single signature inference. Disabling support for feedback tensors.\n",
      "W0000 00:00:1745958313.926190 9272180 inference_feedback_manager.cc:114] Feedback manager requires a model with a single signature inference. Disabling support for feedback tensors.\n",
      " 12%|███████████████████████████▋                                                                                                                                                                                                 | 1/8 [00:13<01:35, 13.70s/it]I0000 00:00:1745958315.451664 9271000 gl_context.cc:369] GL version: 2.1 (2.1 ATI-5.2.4), renderer: AMD Radeon Pro 5500M OpenGL Engine\n",
      "W0000 00:00:1745958315.455668 9272237 inference_feedback_manager.cc:114] Feedback manager requires a model with a single signature inference. Disabling support for feedback tensors.\n",
      "W0000 00:00:1745958315.468950 9272229 inference_feedback_manager.cc:114] Feedback manager requires a model with a single signature inference. Disabling support for feedback tensors.\n",
      "I0000 00:00:1745958315.560661 9271000 gl_context.cc:369] GL version: 2.1 (2.1 ATI-5.2.4), renderer: AMD Radeon Pro 5500M OpenGL Engine\n",
      "W0000 00:00:1745958315.563501 9272246 inference_feedback_manager.cc:114] Feedback manager requires a model with a single signature inference. Disabling support for feedback tensors.\n",
      "W0000 00:00:1745958315.578970 9272249 inference_feedback_manager.cc:114] Feedback manager requires a model with a single signature inference. Disabling support for feedback tensors.\n",
      "I0000 00:00:1745958315.662962 9271000 gl_context.cc:369] GL version: 2.1 (2.1 ATI-5.2.4), renderer: AMD Radeon Pro 5500M OpenGL Engine\n",
      "W0000 00:00:1745958315.666612 9272263 inference_feedback_manager.cc:114] Feedback manager requires a model with a single signature inference. Disabling support for feedback tensors.\n",
      "W0000 00:00:1745958315.680323 9272263 inference_feedback_manager.cc:114] Feedback manager requires a model with a single signature inference. Disabling support for feedback tensors.\n",
      "I0000 00:00:1745958315.772528 9271000 gl_context.cc:369] GL version: 2.1 (2.1 ATI-5.2.4), renderer: AMD Radeon Pro 5500M OpenGL Engine\n",
      "W0000 00:00:1745958315.775943 9272282 inference_feedback_manager.cc:114] Feedback manager requires a model with a single signature inference. Disabling support for feedback tensors.\n",
      "W0000 00:00:1745958315.792437 9272281 inference_feedback_manager.cc:114] Feedback manager requires a model with a single signature inference. Disabling support for feedback tensors.\n",
      "I0000 00:00:1745958315.884322 9271000 gl_context.cc:369] GL version: 2.1 (2.1 ATI-5.2.4), renderer: AMD Radeon Pro 5500M OpenGL Engine\n",
      "W0000 00:00:1745958315.887870 9272307 inference_feedback_manager.cc:114] Feedback manager requires a model with a single signature inference. Disabling support for feedback tensors.\n",
      "W0000 00:00:1745958315.904240 9272306 inference_feedback_manager.cc:114] Feedback manager requires a model with a single signature inference. Disabling support for feedback tensors.\n",
      "I0000 00:00:1745958316.005640 9271000 gl_context.cc:369] GL version: 2.1 (2.1 ATI-5.2.4), renderer: AMD Radeon Pro 5500M OpenGL Engine\n",
      "W0000 00:00:1745958316.009178 9272327 inference_feedback_manager.cc:114] Feedback manager requires a model with a single signature inference. Disabling support for feedback tensors.\n",
      "W0000 00:00:1745958316.027309 9272333 inference_feedback_manager.cc:114] Feedback manager requires a model with a single signature inference. Disabling support for feedback tensors.\n",
      "I0000 00:00:1745958316.110289 9271000 gl_context.cc:369] GL version: 2.1 (2.1 ATI-5.2.4), renderer: AMD Radeon Pro 5500M OpenGL Engine\n",
      "W0000 00:00:1745958316.113644 9272350 inference_feedback_manager.cc:114] Feedback manager requires a model with a single signature inference. Disabling support for feedback tensors.\n",
      "W0000 00:00:1745958316.131088 9272351 inference_feedback_manager.cc:114] Feedback manager requires a model with a single signature inference. Disabling support for feedback tensors.\n",
      "I0000 00:00:1745958316.210434 9271000 gl_context.cc:369] GL version: 2.1 (2.1 ATI-5.2.4), renderer: AMD Radeon Pro 5500M OpenGL Engine\n",
      "W0000 00:00:1745958316.214559 9272367 inference_feedback_manager.cc:114] Feedback manager requires a model with a single signature inference. Disabling support for feedback tensors.\n",
      "W0000 00:00:1745958316.231932 9272366 inference_feedback_manager.cc:114] Feedback manager requires a model with a single signature inference. Disabling support for feedback tensors.\n",
      "I0000 00:00:1745958316.316949 9271000 gl_context.cc:369] GL version: 2.1 (2.1 ATI-5.2.4), renderer: AMD Radeon Pro 5500M OpenGL Engine\n",
      "W0000 00:00:1745958316.320386 9272379 inference_feedback_manager.cc:114] Feedback manager requires a model with a single signature inference. Disabling support for feedback tensors.\n",
      "W0000 00:00:1745958316.335485 9272383 inference_feedback_manager.cc:114] Feedback manager requires a model with a single signature inference. Disabling support for feedback tensors.\n",
      "I0000 00:00:1745958316.418724 9271000 gl_context.cc:369] GL version: 2.1 (2.1 ATI-5.2.4), renderer: AMD Radeon Pro 5500M OpenGL Engine\n",
      "W0000 00:00:1745958316.421892 9272398 inference_feedback_manager.cc:114] Feedback manager requires a model with a single signature inference. Disabling support for feedback tensors.\n",
      "W0000 00:00:1745958316.438975 9272404 inference_feedback_manager.cc:114] Feedback manager requires a model with a single signature inference. Disabling support for feedback tensors.\n",
      "I0000 00:00:1745958316.529098 9271000 gl_context.cc:369] GL version: 2.1 (2.1 ATI-5.2.4), renderer: AMD Radeon Pro 5500M OpenGL Engine\n",
      "W0000 00:00:1745958316.638529 9272416 inference_feedback_manager.cc:114] Feedback manager requires a model with a single signature inference. Disabling support for feedback tensors.\n",
      "W0000 00:00:1745958316.671569 9272416 inference_feedback_manager.cc:114] Feedback manager requires a model with a single signature inference. Disabling support for feedback tensors.\n",
      "I0000 00:00:1745958316.801497 9271000 gl_context.cc:369] GL version: 2.1 (2.1 ATI-5.2.4), renderer: AMD Radeon Pro 5500M OpenGL Engine\n",
      "W0000 00:00:1745958316.906837 9272429 inference_feedback_manager.cc:114] Feedback manager requires a model with a single signature inference. Disabling support for feedback tensors.\n",
      "W0000 00:00:1745958316.937044 9272435 inference_feedback_manager.cc:114] Feedback manager requires a model with a single signature inference. Disabling support for feedback tensors.\n",
      "I0000 00:00:1745958317.060114 9271000 gl_context.cc:369] GL version: 2.1 (2.1 ATI-5.2.4), renderer: AMD Radeon Pro 5500M OpenGL Engine\n",
      "W0000 00:00:1745958317.173356 9272448 inference_feedback_manager.cc:114] Feedback manager requires a model with a single signature inference. Disabling support for feedback tensors.\n",
      "W0000 00:00:1745958317.204323 9272448 inference_feedback_manager.cc:114] Feedback manager requires a model with a single signature inference. Disabling support for feedback tensors.\n",
      "I0000 00:00:1745958317.334015 9271000 gl_context.cc:369] GL version: 2.1 (2.1 ATI-5.2.4), renderer: AMD Radeon Pro 5500M OpenGL Engine\n",
      "W0000 00:00:1745958317.451110 9272466 inference_feedback_manager.cc:114] Feedback manager requires a model with a single signature inference. Disabling support for feedback tensors.\n",
      "W0000 00:00:1745958317.482466 9272466 inference_feedback_manager.cc:114] Feedback manager requires a model with a single signature inference. Disabling support for feedback tensors.\n",
      "I0000 00:00:1745958317.612481 9271000 gl_context.cc:369] GL version: 2.1 (2.1 ATI-5.2.4), renderer: AMD Radeon Pro 5500M OpenGL Engine\n",
      "W0000 00:00:1745958317.730136 9272485 inference_feedback_manager.cc:114] Feedback manager requires a model with a single signature inference. Disabling support for feedback tensors.\n",
      "W0000 00:00:1745958317.763312 9272485 inference_feedback_manager.cc:114] Feedback manager requires a model with a single signature inference. Disabling support for feedback tensors.\n",
      "I0000 00:00:1745958317.894082 9271000 gl_context.cc:369] GL version: 2.1 (2.1 ATI-5.2.4), renderer: AMD Radeon Pro 5500M OpenGL Engine\n",
      "W0000 00:00:1745958318.012966 9272506 inference_feedback_manager.cc:114] Feedback manager requires a model with a single signature inference. Disabling support for feedback tensors.\n",
      "W0000 00:00:1745958318.048492 9272506 inference_feedback_manager.cc:114] Feedback manager requires a model with a single signature inference. Disabling support for feedback tensors.\n",
      "I0000 00:00:1745958318.177346 9271000 gl_context.cc:369] GL version: 2.1 (2.1 ATI-5.2.4), renderer: AMD Radeon Pro 5500M OpenGL Engine\n",
      "W0000 00:00:1745958318.299731 9272545 inference_feedback_manager.cc:114] Feedback manager requires a model with a single signature inference. Disabling support for feedback tensors.\n",
      "W0000 00:00:1745958318.332096 9272553 inference_feedback_manager.cc:114] Feedback manager requires a model with a single signature inference. Disabling support for feedback tensors.\n",
      "I0000 00:00:1745958318.457729 9271000 gl_context.cc:369] GL version: 2.1 (2.1 ATI-5.2.4), renderer: AMD Radeon Pro 5500M OpenGL Engine\n",
      "W0000 00:00:1745958318.572212 9272562 inference_feedback_manager.cc:114] Feedback manager requires a model with a single signature inference. Disabling support for feedback tensors.\n",
      "W0000 00:00:1745958318.603714 9272562 inference_feedback_manager.cc:114] Feedback manager requires a model with a single signature inference. Disabling support for feedback tensors.\n",
      "I0000 00:00:1745958318.731400 9271000 gl_context.cc:369] GL version: 2.1 (2.1 ATI-5.2.4), renderer: AMD Radeon Pro 5500M OpenGL Engine\n",
      "W0000 00:00:1745958318.849823 9272578 inference_feedback_manager.cc:114] Feedback manager requires a model with a single signature inference. Disabling support for feedback tensors.\n",
      "W0000 00:00:1745958318.880716 9272578 inference_feedback_manager.cc:114] Feedback manager requires a model with a single signature inference. Disabling support for feedback tensors.\n",
      "I0000 00:00:1745958319.013307 9271000 gl_context.cc:369] GL version: 2.1 (2.1 ATI-5.2.4), renderer: AMD Radeon Pro 5500M OpenGL Engine\n",
      "W0000 00:00:1745958319.133028 9272595 inference_feedback_manager.cc:114] Feedback manager requires a model with a single signature inference. Disabling support for feedback tensors.\n",
      "W0000 00:00:1745958319.165717 9272595 inference_feedback_manager.cc:114] Feedback manager requires a model with a single signature inference. Disabling support for feedback tensors.\n",
      "I0000 00:00:1745958319.287653 9271000 gl_context.cc:369] GL version: 2.1 (2.1 ATI-5.2.4), renderer: AMD Radeon Pro 5500M OpenGL Engine\n",
      "W0000 00:00:1745958319.401624 9272615 inference_feedback_manager.cc:114] Feedback manager requires a model with a single signature inference. Disabling support for feedback tensors.\n",
      "W0000 00:00:1745958319.432805 9272615 inference_feedback_manager.cc:114] Feedback manager requires a model with a single signature inference. Disabling support for feedback tensors.\n",
      "I0000 00:00:1745958324.856959 9271000 gl_context.cc:369] GL version: 2.1 (2.1 ATI-5.2.4), renderer: AMD Radeon Pro 5500M OpenGL Engine\n",
      "W0000 00:00:1745958324.858052 9271000 face_landmarker_graph.cc:174] Sets FaceBlendshapesGraph acceleration to xnnpack by default.\n",
      "W0000 00:00:1745958324.866661 9272736 inference_feedback_manager.cc:114] Feedback manager requires a model with a single signature inference. Disabling support for feedback tensors.\n",
      "W0000 00:00:1745958324.882918 9272736 inference_feedback_manager.cc:114] Feedback manager requires a model with a single signature inference. Disabling support for feedback tensors.\n",
      " 25%|███████████████████████████████████████████████████████▎                                                                                                                                                                     | 2/8 [00:27<01:22, 13.77s/it]"
     ]
    },
    {
     "name": "stdout",
     "output_type": "stream",
     "text": [
      "max() arg is an empty sequence\n"
     ]
    },
    {
     "name": "stderr",
     "output_type": "stream",
     "text": [
      "I0000 00:00:1745958329.378176 9271000 gl_context.cc:369] GL version: 2.1 (2.1 ATI-5.2.4), renderer: AMD Radeon Pro 5500M OpenGL Engine\n",
      "W0000 00:00:1745958329.380912 9272868 inference_feedback_manager.cc:114] Feedback manager requires a model with a single signature inference. Disabling support for feedback tensors.\n",
      "W0000 00:00:1745958329.396055 9272866 inference_feedback_manager.cc:114] Feedback manager requires a model with a single signature inference. Disabling support for feedback tensors.\n",
      "I0000 00:00:1745958329.490802 9271000 gl_context.cc:369] GL version: 2.1 (2.1 ATI-5.2.4), renderer: AMD Radeon Pro 5500M OpenGL Engine\n",
      "W0000 00:00:1745958329.494299 9272886 inference_feedback_manager.cc:114] Feedback manager requires a model with a single signature inference. Disabling support for feedback tensors.\n",
      "W0000 00:00:1745958329.509629 9272885 inference_feedback_manager.cc:114] Feedback manager requires a model with a single signature inference. Disabling support for feedback tensors.\n",
      "I0000 00:00:1745958329.599720 9271000 gl_context.cc:369] GL version: 2.1 (2.1 ATI-5.2.4), renderer: AMD Radeon Pro 5500M OpenGL Engine\n",
      "W0000 00:00:1745958329.603819 9272901 inference_feedback_manager.cc:114] Feedback manager requires a model with a single signature inference. Disabling support for feedback tensors.\n",
      "W0000 00:00:1745958329.619600 9272899 inference_feedback_manager.cc:114] Feedback manager requires a model with a single signature inference. Disabling support for feedback tensors.\n",
      "I0000 00:00:1745958329.707099 9271000 gl_context.cc:369] GL version: 2.1 (2.1 ATI-5.2.4), renderer: AMD Radeon Pro 5500M OpenGL Engine\n",
      "W0000 00:00:1745958329.710591 9272921 inference_feedback_manager.cc:114] Feedback manager requires a model with a single signature inference. Disabling support for feedback tensors.\n",
      "W0000 00:00:1745958329.726665 9272919 inference_feedback_manager.cc:114] Feedback manager requires a model with a single signature inference. Disabling support for feedback tensors.\n",
      "I0000 00:00:1745958329.808756 9271000 gl_context.cc:369] GL version: 2.1 (2.1 ATI-5.2.4), renderer: AMD Radeon Pro 5500M OpenGL Engine\n",
      "W0000 00:00:1745958329.812364 9272937 inference_feedback_manager.cc:114] Feedback manager requires a model with a single signature inference. Disabling support for feedback tensors.\n",
      "W0000 00:00:1745958329.829261 9272934 inference_feedback_manager.cc:114] Feedback manager requires a model with a single signature inference. Disabling support for feedback tensors.\n",
      "I0000 00:00:1745958329.907455 9271000 gl_context.cc:369] GL version: 2.1 (2.1 ATI-5.2.4), renderer: AMD Radeon Pro 5500M OpenGL Engine\n",
      "W0000 00:00:1745958329.911287 9272950 inference_feedback_manager.cc:114] Feedback manager requires a model with a single signature inference. Disabling support for feedback tensors.\n",
      "W0000 00:00:1745958329.927060 9272956 inference_feedback_manager.cc:114] Feedback manager requires a model with a single signature inference. Disabling support for feedback tensors.\n",
      "I0000 00:00:1745958330.013714 9271000 gl_context.cc:369] GL version: 2.1 (2.1 ATI-5.2.4), renderer: AMD Radeon Pro 5500M OpenGL Engine\n",
      "W0000 00:00:1745958330.017790 9272977 inference_feedback_manager.cc:114] Feedback manager requires a model with a single signature inference. Disabling support for feedback tensors.\n",
      "W0000 00:00:1745958330.035321 9272978 inference_feedback_manager.cc:114] Feedback manager requires a model with a single signature inference. Disabling support for feedback tensors.\n",
      "I0000 00:00:1745958330.113795 9271000 gl_context.cc:369] GL version: 2.1 (2.1 ATI-5.2.4), renderer: AMD Radeon Pro 5500M OpenGL Engine\n",
      "W0000 00:00:1745958330.117581 9273000 inference_feedback_manager.cc:114] Feedback manager requires a model with a single signature inference. Disabling support for feedback tensors.\n",
      "W0000 00:00:1745958330.135724 9272999 inference_feedback_manager.cc:114] Feedback manager requires a model with a single signature inference. Disabling support for feedback tensors.\n",
      "I0000 00:00:1745958330.190881 9271000 gl_context.cc:369] GL version: 2.1 (2.1 ATI-5.2.4), renderer: AMD Radeon Pro 5500M OpenGL Engine\n",
      "W0000 00:00:1745958330.194712 9273017 inference_feedback_manager.cc:114] Feedback manager requires a model with a single signature inference. Disabling support for feedback tensors.\n",
      "W0000 00:00:1745958330.209938 9273017 inference_feedback_manager.cc:114] Feedback manager requires a model with a single signature inference. Disabling support for feedback tensors.\n",
      "I0000 00:00:1745958330.235754 9271000 gl_context.cc:369] GL version: 2.1 (2.1 ATI-5.2.4), renderer: AMD Radeon Pro 5500M OpenGL Engine\n",
      "W0000 00:00:1745958330.240554 9273033 inference_feedback_manager.cc:114] Feedback manager requires a model with a single signature inference. Disabling support for feedback tensors.\n",
      "W0000 00:00:1745958330.257532 9273031 inference_feedback_manager.cc:114] Feedback manager requires a model with a single signature inference. Disabling support for feedback tensors.\n",
      "I0000 00:00:1745958330.296684 9271000 gl_context.cc:369] GL version: 2.1 (2.1 ATI-5.2.4), renderer: AMD Radeon Pro 5500M OpenGL Engine\n",
      "W0000 00:00:1745958330.424055 9273048 inference_feedback_manager.cc:114] Feedback manager requires a model with a single signature inference. Disabling support for feedback tensors.\n",
      "W0000 00:00:1745958330.459772 9273057 inference_feedback_manager.cc:114] Feedback manager requires a model with a single signature inference. Disabling support for feedback tensors.\n",
      "I0000 00:00:1745958330.597160 9271000 gl_context.cc:369] GL version: 2.1 (2.1 ATI-5.2.4), renderer: AMD Radeon Pro 5500M OpenGL Engine\n",
      "W0000 00:00:1745958330.713767 9273066 inference_feedback_manager.cc:114] Feedback manager requires a model with a single signature inference. Disabling support for feedback tensors.\n",
      "W0000 00:00:1745958330.750196 9273066 inference_feedback_manager.cc:114] Feedback manager requires a model with a single signature inference. Disabling support for feedback tensors.\n",
      "I0000 00:00:1745958330.885033 9271000 gl_context.cc:369] GL version: 2.1 (2.1 ATI-5.2.4), renderer: AMD Radeon Pro 5500M OpenGL Engine\n",
      "W0000 00:00:1745958331.004873 9273082 inference_feedback_manager.cc:114] Feedback manager requires a model with a single signature inference. Disabling support for feedback tensors.\n",
      "W0000 00:00:1745958331.039832 9273082 inference_feedback_manager.cc:114] Feedback manager requires a model with a single signature inference. Disabling support for feedback tensors.\n",
      "I0000 00:00:1745958331.172584 9271000 gl_context.cc:369] GL version: 2.1 (2.1 ATI-5.2.4), renderer: AMD Radeon Pro 5500M OpenGL Engine\n",
      "W0000 00:00:1745958331.279064 9273103 inference_feedback_manager.cc:114] Feedback manager requires a model with a single signature inference. Disabling support for feedback tensors.\n",
      "W0000 00:00:1745958331.312845 9273103 inference_feedback_manager.cc:114] Feedback manager requires a model with a single signature inference. Disabling support for feedback tensors.\n",
      "I0000 00:00:1745958331.429584 9271000 gl_context.cc:369] GL version: 2.1 (2.1 ATI-5.2.4), renderer: AMD Radeon Pro 5500M OpenGL Engine\n",
      "W0000 00:00:1745958331.534371 9273119 inference_feedback_manager.cc:114] Feedback manager requires a model with a single signature inference. Disabling support for feedback tensors.\n",
      "W0000 00:00:1745958331.564628 9273119 inference_feedback_manager.cc:114] Feedback manager requires a model with a single signature inference. Disabling support for feedback tensors.\n",
      "I0000 00:00:1745958331.677544 9271000 gl_context.cc:369] GL version: 2.1 (2.1 ATI-5.2.4), renderer: AMD Radeon Pro 5500M OpenGL Engine\n",
      "W0000 00:00:1745958331.782262 9273140 inference_feedback_manager.cc:114] Feedback manager requires a model with a single signature inference. Disabling support for feedback tensors.\n",
      "W0000 00:00:1745958331.813123 9273140 inference_feedback_manager.cc:114] Feedback manager requires a model with a single signature inference. Disabling support for feedback tensors.\n",
      "I0000 00:00:1745958331.931037 9271000 gl_context.cc:369] GL version: 2.1 (2.1 ATI-5.2.4), renderer: AMD Radeon Pro 5500M OpenGL Engine\n",
      "W0000 00:00:1745958332.036245 9273157 inference_feedback_manager.cc:114] Feedback manager requires a model with a single signature inference. Disabling support for feedback tensors.\n",
      "W0000 00:00:1745958332.067891 9273157 inference_feedback_manager.cc:114] Feedback manager requires a model with a single signature inference. Disabling support for feedback tensors.\n",
      "I0000 00:00:1745958332.183641 9271000 gl_context.cc:369] GL version: 2.1 (2.1 ATI-5.2.4), renderer: AMD Radeon Pro 5500M OpenGL Engine\n",
      "W0000 00:00:1745958332.288536 9273181 inference_feedback_manager.cc:114] Feedback manager requires a model with a single signature inference. Disabling support for feedback tensors.\n",
      "W0000 00:00:1745958332.321013 9273186 inference_feedback_manager.cc:114] Feedback manager requires a model with a single signature inference. Disabling support for feedback tensors.\n",
      "I0000 00:00:1745958332.455466 9271000 gl_context.cc:369] GL version: 2.1 (2.1 ATI-5.2.4), renderer: AMD Radeon Pro 5500M OpenGL Engine\n",
      "W0000 00:00:1745958332.559277 9273202 inference_feedback_manager.cc:114] Feedback manager requires a model with a single signature inference. Disabling support for feedback tensors.\n",
      "W0000 00:00:1745958332.589793 9273202 inference_feedback_manager.cc:114] Feedback manager requires a model with a single signature inference. Disabling support for feedback tensors.\n",
      "I0000 00:00:1745958332.713485 9271000 gl_context.cc:369] GL version: 2.1 (2.1 ATI-5.2.4), renderer: AMD Radeon Pro 5500M OpenGL Engine\n",
      "W0000 00:00:1745958332.817473 9273217 inference_feedback_manager.cc:114] Feedback manager requires a model with a single signature inference. Disabling support for feedback tensors.\n",
      "W0000 00:00:1745958332.847142 9273217 inference_feedback_manager.cc:114] Feedback manager requires a model with a single signature inference. Disabling support for feedback tensors.\n",
      "I0000 00:00:1745958332.971182 9271000 gl_context.cc:369] GL version: 2.1 (2.1 ATI-5.2.4), renderer: AMD Radeon Pro 5500M OpenGL Engine\n",
      "W0000 00:00:1745958333.087772 9273239 inference_feedback_manager.cc:114] Feedback manager requires a model with a single signature inference. Disabling support for feedback tensors.\n",
      "W0000 00:00:1745958333.118590 9273239 inference_feedback_manager.cc:114] Feedback manager requires a model with a single signature inference. Disabling support for feedback tensors.\n",
      "I0000 00:00:1745958338.284326 9271000 gl_context.cc:369] GL version: 2.1 (2.1 ATI-5.2.4), renderer: AMD Radeon Pro 5500M OpenGL Engine\n",
      "W0000 00:00:1745958338.285154 9271000 face_landmarker_graph.cc:174] Sets FaceBlendshapesGraph acceleration to xnnpack by default.\n",
      "W0000 00:00:1745958338.293761 9273342 inference_feedback_manager.cc:114] Feedback manager requires a model with a single signature inference. Disabling support for feedback tensors.\n",
      "W0000 00:00:1745958338.310206 9273342 inference_feedback_manager.cc:114] Feedback manager requires a model with a single signature inference. Disabling support for feedback tensors.\n",
      " 38%|██████████████████████████████████████████████████████████████████████████████████▉                                                                                                                                          | 3/8 [00:40<01:06, 13.32s/it]"
     ]
    },
    {
     "name": "stdout",
     "output_type": "stream",
     "text": [
      "max() arg is an empty sequence\n",
      "max() arg is an empty sequence\n",
      "max() arg is an empty sequence\n",
      "max() arg is an empty sequence\n",
      "max() arg is an empty sequence\n"
     ]
    },
    {
     "name": "stderr",
     "output_type": "stream",
     "text": [
      "I0000 00:00:1745958341.702740 9271000 gl_context.cc:369] GL version: 2.1 (2.1 ATI-5.2.4), renderer: AMD Radeon Pro 5500M OpenGL Engine\n",
      "W0000 00:00:1745958341.706248 9273436 inference_feedback_manager.cc:114] Feedback manager requires a model with a single signature inference. Disabling support for feedback tensors.\n",
      "W0000 00:00:1745958341.721652 9273431 inference_feedback_manager.cc:114] Feedback manager requires a model with a single signature inference. Disabling support for feedback tensors.\n",
      "I0000 00:00:1745958341.755418 9271000 gl_context.cc:369] GL version: 2.1 (2.1 ATI-5.2.4), renderer: AMD Radeon Pro 5500M OpenGL Engine\n",
      "W0000 00:00:1745958341.759066 9273448 inference_feedback_manager.cc:114] Feedback manager requires a model with a single signature inference. Disabling support for feedback tensors.\n",
      "W0000 00:00:1745958341.775130 9273449 inference_feedback_manager.cc:114] Feedback manager requires a model with a single signature inference. Disabling support for feedback tensors.\n",
      "I0000 00:00:1745958341.799247 9271000 gl_context.cc:369] GL version: 2.1 (2.1 ATI-5.2.4), renderer: AMD Radeon Pro 5500M OpenGL Engine\n",
      "W0000 00:00:1745958341.803052 9273465 inference_feedback_manager.cc:114] Feedback manager requires a model with a single signature inference. Disabling support for feedback tensors.\n",
      "W0000 00:00:1745958341.819041 9273466 inference_feedback_manager.cc:114] Feedback manager requires a model with a single signature inference. Disabling support for feedback tensors.\n",
      "I0000 00:00:1745958341.854914 9271000 gl_context.cc:369] GL version: 2.1 (2.1 ATI-5.2.4), renderer: AMD Radeon Pro 5500M OpenGL Engine\n",
      "W0000 00:00:1745958341.858530 9273479 inference_feedback_manager.cc:114] Feedback manager requires a model with a single signature inference. Disabling support for feedback tensors.\n",
      "W0000 00:00:1745958341.873996 9273482 inference_feedback_manager.cc:114] Feedback manager requires a model with a single signature inference. Disabling support for feedback tensors.\n",
      "I0000 00:00:1745958341.911026 9271000 gl_context.cc:369] GL version: 2.1 (2.1 ATI-5.2.4), renderer: AMD Radeon Pro 5500M OpenGL Engine\n",
      "W0000 00:00:1745958341.914768 9273502 inference_feedback_manager.cc:114] Feedback manager requires a model with a single signature inference. Disabling support for feedback tensors.\n",
      "W0000 00:00:1745958341.931130 9273500 inference_feedback_manager.cc:114] Feedback manager requires a model with a single signature inference. Disabling support for feedback tensors.\n",
      "I0000 00:00:1745958341.968203 9271000 gl_context.cc:369] GL version: 2.1 (2.1 ATI-5.2.4), renderer: AMD Radeon Pro 5500M OpenGL Engine\n",
      "W0000 00:00:1745958341.972213 9273524 inference_feedback_manager.cc:114] Feedback manager requires a model with a single signature inference. Disabling support for feedback tensors.\n",
      "W0000 00:00:1745958341.988540 9273520 inference_feedback_manager.cc:114] Feedback manager requires a model with a single signature inference. Disabling support for feedback tensors.\n",
      "I0000 00:00:1745958342.019832 9271000 gl_context.cc:369] GL version: 2.1 (2.1 ATI-5.2.4), renderer: AMD Radeon Pro 5500M OpenGL Engine\n",
      "W0000 00:00:1745958342.023638 9273540 inference_feedback_manager.cc:114] Feedback manager requires a model with a single signature inference. Disabling support for feedback tensors.\n",
      "W0000 00:00:1745958342.040090 9273536 inference_feedback_manager.cc:114] Feedback manager requires a model with a single signature inference. Disabling support for feedback tensors.\n",
      "I0000 00:00:1745958342.088764 9271000 gl_context.cc:369] GL version: 2.1 (2.1 ATI-5.2.4), renderer: AMD Radeon Pro 5500M OpenGL Engine\n",
      "W0000 00:00:1745958342.092739 9273563 inference_feedback_manager.cc:114] Feedback manager requires a model with a single signature inference. Disabling support for feedback tensors.\n",
      "W0000 00:00:1745958342.110404 9273561 inference_feedback_manager.cc:114] Feedback manager requires a model with a single signature inference. Disabling support for feedback tensors.\n",
      "I0000 00:00:1745958342.193820 9271000 gl_context.cc:369] GL version: 2.1 (2.1 ATI-5.2.4), renderer: AMD Radeon Pro 5500M OpenGL Engine\n",
      "W0000 00:00:1745958342.197821 9273574 inference_feedback_manager.cc:114] Feedback manager requires a model with a single signature inference. Disabling support for feedback tensors.\n",
      "W0000 00:00:1745958342.217206 9273577 inference_feedback_manager.cc:114] Feedback manager requires a model with a single signature inference. Disabling support for feedback tensors.\n",
      "I0000 00:00:1745958342.309872 9271000 gl_context.cc:369] GL version: 2.1 (2.1 ATI-5.2.4), renderer: AMD Radeon Pro 5500M OpenGL Engine\n",
      "W0000 00:00:1745958342.313881 9273591 inference_feedback_manager.cc:114] Feedback manager requires a model with a single signature inference. Disabling support for feedback tensors.\n",
      "W0000 00:00:1745958342.332889 9273595 inference_feedback_manager.cc:114] Feedback manager requires a model with a single signature inference. Disabling support for feedback tensors.\n",
      "I0000 00:00:1745958342.425833 9271000 gl_context.cc:369] GL version: 2.1 (2.1 ATI-5.2.4), renderer: AMD Radeon Pro 5500M OpenGL Engine\n",
      "W0000 00:00:1745958342.541401 9273613 inference_feedback_manager.cc:114] Feedback manager requires a model with a single signature inference. Disabling support for feedback tensors.\n",
      "W0000 00:00:1745958342.576158 9273613 inference_feedback_manager.cc:114] Feedback manager requires a model with a single signature inference. Disabling support for feedback tensors.\n",
      "I0000 00:00:1745958342.722132 9271000 gl_context.cc:369] GL version: 2.1 (2.1 ATI-5.2.4), renderer: AMD Radeon Pro 5500M OpenGL Engine\n",
      "W0000 00:00:1745958342.835827 9273630 inference_feedback_manager.cc:114] Feedback manager requires a model with a single signature inference. Disabling support for feedback tensors.\n",
      "W0000 00:00:1745958342.868782 9273630 inference_feedback_manager.cc:114] Feedback manager requires a model with a single signature inference. Disabling support for feedback tensors.\n",
      "I0000 00:00:1745958343.073400 9271000 gl_context.cc:369] GL version: 2.1 (2.1 ATI-5.2.4), renderer: AMD Radeon Pro 5500M OpenGL Engine\n",
      "W0000 00:00:1745958343.190969 9273654 inference_feedback_manager.cc:114] Feedback manager requires a model with a single signature inference. Disabling support for feedback tensors.\n",
      "W0000 00:00:1745958343.223356 9273654 inference_feedback_manager.cc:114] Feedback manager requires a model with a single signature inference. Disabling support for feedback tensors.\n",
      "I0000 00:00:1745958343.351414 9271000 gl_context.cc:369] GL version: 2.1 (2.1 ATI-5.2.4), renderer: AMD Radeon Pro 5500M OpenGL Engine\n",
      "W0000 00:00:1745958343.460858 9273673 inference_feedback_manager.cc:114] Feedback manager requires a model with a single signature inference. Disabling support for feedback tensors.\n",
      "W0000 00:00:1745958343.495494 9273673 inference_feedback_manager.cc:114] Feedback manager requires a model with a single signature inference. Disabling support for feedback tensors.\n",
      "I0000 00:00:1745958343.618855 9271000 gl_context.cc:369] GL version: 2.1 (2.1 ATI-5.2.4), renderer: AMD Radeon Pro 5500M OpenGL Engine\n",
      "W0000 00:00:1745958343.736912 9273689 inference_feedback_manager.cc:114] Feedback manager requires a model with a single signature inference. Disabling support for feedback tensors.\n",
      "W0000 00:00:1745958343.769859 9273689 inference_feedback_manager.cc:114] Feedback manager requires a model with a single signature inference. Disabling support for feedback tensors.\n",
      "I0000 00:00:1745958343.899758 9271000 gl_context.cc:369] GL version: 2.1 (2.1 ATI-5.2.4), renderer: AMD Radeon Pro 5500M OpenGL Engine\n",
      "W0000 00:00:1745958344.021655 9273709 inference_feedback_manager.cc:114] Feedback manager requires a model with a single signature inference. Disabling support for feedback tensors.\n",
      "W0000 00:00:1745958344.059752 9273714 inference_feedback_manager.cc:114] Feedback manager requires a model with a single signature inference. Disabling support for feedback tensors.\n",
      "I0000 00:00:1745958344.187524 9271000 gl_context.cc:369] GL version: 2.1 (2.1 ATI-5.2.4), renderer: AMD Radeon Pro 5500M OpenGL Engine\n",
      "W0000 00:00:1745958344.302460 9273732 inference_feedback_manager.cc:114] Feedback manager requires a model with a single signature inference. Disabling support for feedback tensors.\n",
      "W0000 00:00:1745958344.335687 9273732 inference_feedback_manager.cc:114] Feedback manager requires a model with a single signature inference. Disabling support for feedback tensors.\n",
      "I0000 00:00:1745958344.464166 9271000 gl_context.cc:369] GL version: 2.1 (2.1 ATI-5.2.4), renderer: AMD Radeon Pro 5500M OpenGL Engine\n",
      "W0000 00:00:1745958344.579426 9273752 inference_feedback_manager.cc:114] Feedback manager requires a model with a single signature inference. Disabling support for feedback tensors.\n",
      "W0000 00:00:1745958344.613328 9273752 inference_feedback_manager.cc:114] Feedback manager requires a model with a single signature inference. Disabling support for feedback tensors.\n",
      "I0000 00:00:1745958344.743987 9271000 gl_context.cc:369] GL version: 2.1 (2.1 ATI-5.2.4), renderer: AMD Radeon Pro 5500M OpenGL Engine\n",
      "W0000 00:00:1745958344.862650 9273775 inference_feedback_manager.cc:114] Feedback manager requires a model with a single signature inference. Disabling support for feedback tensors.\n",
      "W0000 00:00:1745958344.895871 9273775 inference_feedback_manager.cc:114] Feedback manager requires a model with a single signature inference. Disabling support for feedback tensors.\n",
      "I0000 00:00:1745958345.034092 9271000 gl_context.cc:369] GL version: 2.1 (2.1 ATI-5.2.4), renderer: AMD Radeon Pro 5500M OpenGL Engine\n",
      "W0000 00:00:1745958345.159469 9273805 inference_feedback_manager.cc:114] Feedback manager requires a model with a single signature inference. Disabling support for feedback tensors.\n",
      "W0000 00:00:1745958345.195442 9273806 inference_feedback_manager.cc:114] Feedback manager requires a model with a single signature inference. Disabling support for feedback tensors.\n",
      "I0000 00:00:1745958345.340585 9271000 gl_context.cc:369] GL version: 2.1 (2.1 ATI-5.2.4), renderer: AMD Radeon Pro 5500M OpenGL Engine\n",
      "W0000 00:00:1745958345.464568 9273825 inference_feedback_manager.cc:114] Feedback manager requires a model with a single signature inference. Disabling support for feedback tensors.\n",
      "W0000 00:00:1745958345.497985 9273825 inference_feedback_manager.cc:114] Feedback manager requires a model with a single signature inference. Disabling support for feedback tensors.\n",
      "I0000 00:00:1745958351.045391 9271000 gl_context.cc:369] GL version: 2.1 (2.1 ATI-5.2.4), renderer: AMD Radeon Pro 5500M OpenGL Engine\n",
      "W0000 00:00:1745958351.046083 9271000 face_landmarker_graph.cc:174] Sets FaceBlendshapesGraph acceleration to xnnpack by default.\n",
      "W0000 00:00:1745958351.054661 9273961 inference_feedback_manager.cc:114] Feedback manager requires a model with a single signature inference. Disabling support for feedback tensors.\n",
      "W0000 00:00:1745958351.071717 9273969 inference_feedback_manager.cc:114] Feedback manager requires a model with a single signature inference. Disabling support for feedback tensors.\n",
      " 50%|██████████████████████████████████████████████████████████████████████████████████████████████████████████████▌                                                                                                              | 4/8 [00:52<00:50, 12.70s/it]"
     ]
    },
    {
     "name": "stdout",
     "output_type": "stream",
     "text": [
      "max() arg is an empty sequence\n",
      "max() arg is an empty sequence\n",
      "max() arg is an empty sequence\n",
      "max() arg is an empty sequence\n",
      "max() arg is an empty sequence\n"
     ]
    },
    {
     "name": "stderr",
     "output_type": "stream",
     "text": [
      "I0000 00:00:1745958353.467278 9271000 gl_context.cc:369] GL version: 2.1 (2.1 ATI-5.2.4), renderer: AMD Radeon Pro 5500M OpenGL Engine\n",
      "W0000 00:00:1745958353.471431 9274022 inference_feedback_manager.cc:114] Feedback manager requires a model with a single signature inference. Disabling support for feedback tensors.\n",
      "W0000 00:00:1745958353.486863 9274030 inference_feedback_manager.cc:114] Feedback manager requires a model with a single signature inference. Disabling support for feedback tensors.\n",
      "I0000 00:00:1745958353.574661 9271000 gl_context.cc:369] GL version: 2.1 (2.1 ATI-5.2.4), renderer: AMD Radeon Pro 5500M OpenGL Engine\n",
      "W0000 00:00:1745958353.578451 9274042 inference_feedback_manager.cc:114] Feedback manager requires a model with a single signature inference. Disabling support for feedback tensors.\n",
      "W0000 00:00:1745958353.594457 9274041 inference_feedback_manager.cc:114] Feedback manager requires a model with a single signature inference. Disabling support for feedback tensors.\n",
      "I0000 00:00:1745958353.693666 9271000 gl_context.cc:369] GL version: 2.1 (2.1 ATI-5.2.4), renderer: AMD Radeon Pro 5500M OpenGL Engine\n",
      "W0000 00:00:1745958353.698482 9274057 inference_feedback_manager.cc:114] Feedback manager requires a model with a single signature inference. Disabling support for feedback tensors.\n",
      "W0000 00:00:1745958353.724896 9274058 inference_feedback_manager.cc:114] Feedback manager requires a model with a single signature inference. Disabling support for feedback tensors.\n",
      "I0000 00:00:1745958353.829418 9271000 gl_context.cc:369] GL version: 2.1 (2.1 ATI-5.2.4), renderer: AMD Radeon Pro 5500M OpenGL Engine\n",
      "W0000 00:00:1745958353.833940 9274073 inference_feedback_manager.cc:114] Feedback manager requires a model with a single signature inference. Disabling support for feedback tensors.\n",
      "W0000 00:00:1745958353.854769 9274075 inference_feedback_manager.cc:114] Feedback manager requires a model with a single signature inference. Disabling support for feedback tensors.\n",
      "I0000 00:00:1745958353.950883 9271000 gl_context.cc:369] GL version: 2.1 (2.1 ATI-5.2.4), renderer: AMD Radeon Pro 5500M OpenGL Engine\n",
      "W0000 00:00:1745958353.954516 9274088 inference_feedback_manager.cc:114] Feedback manager requires a model with a single signature inference. Disabling support for feedback tensors.\n",
      "W0000 00:00:1745958353.972417 9274091 inference_feedback_manager.cc:114] Feedback manager requires a model with a single signature inference. Disabling support for feedback tensors.\n",
      "I0000 00:00:1745958354.073397 9271000 gl_context.cc:369] GL version: 2.1 (2.1 ATI-5.2.4), renderer: AMD Radeon Pro 5500M OpenGL Engine\n",
      "W0000 00:00:1745958354.078075 9274111 inference_feedback_manager.cc:114] Feedback manager requires a model with a single signature inference. Disabling support for feedback tensors.\n",
      "W0000 00:00:1745958354.101832 9274116 inference_feedback_manager.cc:114] Feedback manager requires a model with a single signature inference. Disabling support for feedback tensors.\n",
      "I0000 00:00:1745958354.375272 9271000 gl_context.cc:369] GL version: 2.1 (2.1 ATI-5.2.4), renderer: AMD Radeon Pro 5500M OpenGL Engine\n",
      "W0000 00:00:1745958354.380741 9274134 inference_feedback_manager.cc:114] Feedback manager requires a model with a single signature inference. Disabling support for feedback tensors.\n",
      "W0000 00:00:1745958354.403796 9274144 inference_feedback_manager.cc:114] Feedback manager requires a model with a single signature inference. Disabling support for feedback tensors.\n",
      "I0000 00:00:1745958354.536636 9271000 gl_context.cc:369] GL version: 2.1 (2.1 ATI-5.2.4), renderer: AMD Radeon Pro 5500M OpenGL Engine\n",
      "W0000 00:00:1745958354.541152 9274151 inference_feedback_manager.cc:114] Feedback manager requires a model with a single signature inference. Disabling support for feedback tensors.\n",
      "W0000 00:00:1745958354.560823 9274150 inference_feedback_manager.cc:114] Feedback manager requires a model with a single signature inference. Disabling support for feedback tensors.\n",
      "I0000 00:00:1745958354.647418 9271000 gl_context.cc:369] GL version: 2.1 (2.1 ATI-5.2.4), renderer: AMD Radeon Pro 5500M OpenGL Engine\n",
      "W0000 00:00:1745958354.651257 9274166 inference_feedback_manager.cc:114] Feedback manager requires a model with a single signature inference. Disabling support for feedback tensors.\n",
      "W0000 00:00:1745958354.666690 9274167 inference_feedback_manager.cc:114] Feedback manager requires a model with a single signature inference. Disabling support for feedback tensors.\n",
      "I0000 00:00:1745958354.754176 9271000 gl_context.cc:369] GL version: 2.1 (2.1 ATI-5.2.4), renderer: AMD Radeon Pro 5500M OpenGL Engine\n",
      "W0000 00:00:1745958354.757510 9274184 inference_feedback_manager.cc:114] Feedback manager requires a model with a single signature inference. Disabling support for feedback tensors.\n",
      "W0000 00:00:1745958354.775998 9274185 inference_feedback_manager.cc:114] Feedback manager requires a model with a single signature inference. Disabling support for feedback tensors.\n",
      "I0000 00:00:1745958354.829590 9271000 gl_context.cc:369] GL version: 2.1 (2.1 ATI-5.2.4), renderer: AMD Radeon Pro 5500M OpenGL Engine\n",
      "W0000 00:00:1745958354.951846 9274199 inference_feedback_manager.cc:114] Feedback manager requires a model with a single signature inference. Disabling support for feedback tensors.\n",
      "W0000 00:00:1745958355.004586 9274199 inference_feedback_manager.cc:114] Feedback manager requires a model with a single signature inference. Disabling support for feedback tensors.\n",
      "I0000 00:00:1745958355.150421 9271000 gl_context.cc:369] GL version: 2.1 (2.1 ATI-5.2.4), renderer: AMD Radeon Pro 5500M OpenGL Engine\n",
      "W0000 00:00:1745958355.270586 9274226 inference_feedback_manager.cc:114] Feedback manager requires a model with a single signature inference. Disabling support for feedback tensors.\n",
      "W0000 00:00:1745958355.304665 9274226 inference_feedback_manager.cc:114] Feedback manager requires a model with a single signature inference. Disabling support for feedback tensors.\n",
      "I0000 00:00:1745958355.435160 9271000 gl_context.cc:369] GL version: 2.1 (2.1 ATI-5.2.4), renderer: AMD Radeon Pro 5500M OpenGL Engine\n",
      "W0000 00:00:1745958355.552480 9274247 inference_feedback_manager.cc:114] Feedback manager requires a model with a single signature inference. Disabling support for feedback tensors.\n",
      "W0000 00:00:1745958355.585207 9274247 inference_feedback_manager.cc:114] Feedback manager requires a model with a single signature inference. Disabling support for feedback tensors.\n",
      "I0000 00:00:1745958355.722937 9271000 gl_context.cc:369] GL version: 2.1 (2.1 ATI-5.2.4), renderer: AMD Radeon Pro 5500M OpenGL Engine\n",
      "W0000 00:00:1745958355.848003 9274264 inference_feedback_manager.cc:114] Feedback manager requires a model with a single signature inference. Disabling support for feedback tensors.\n",
      "W0000 00:00:1745958355.881225 9274271 inference_feedback_manager.cc:114] Feedback manager requires a model with a single signature inference. Disabling support for feedback tensors.\n",
      "I0000 00:00:1745958356.017563 9271000 gl_context.cc:369] GL version: 2.1 (2.1 ATI-5.2.4), renderer: AMD Radeon Pro 5500M OpenGL Engine\n",
      "W0000 00:00:1745958356.136283 9274283 inference_feedback_manager.cc:114] Feedback manager requires a model with a single signature inference. Disabling support for feedback tensors.\n",
      "W0000 00:00:1745958356.172694 9274283 inference_feedback_manager.cc:114] Feedback manager requires a model with a single signature inference. Disabling support for feedback tensors.\n",
      "I0000 00:00:1745958356.304653 9271000 gl_context.cc:369] GL version: 2.1 (2.1 ATI-5.2.4), renderer: AMD Radeon Pro 5500M OpenGL Engine\n",
      "W0000 00:00:1745958356.429033 9274305 inference_feedback_manager.cc:114] Feedback manager requires a model with a single signature inference. Disabling support for feedback tensors.\n",
      "W0000 00:00:1745958356.463144 9274305 inference_feedback_manager.cc:114] Feedback manager requires a model with a single signature inference. Disabling support for feedback tensors.\n",
      "I0000 00:00:1745958356.603110 9271000 gl_context.cc:369] GL version: 2.1 (2.1 ATI-5.2.4), renderer: AMD Radeon Pro 5500M OpenGL Engine\n",
      "W0000 00:00:1745958356.731181 9274324 inference_feedback_manager.cc:114] Feedback manager requires a model with a single signature inference. Disabling support for feedback tensors.\n",
      "W0000 00:00:1745958356.764592 9274324 inference_feedback_manager.cc:114] Feedback manager requires a model with a single signature inference. Disabling support for feedback tensors.\n",
      "I0000 00:00:1745958356.900953 9271000 gl_context.cc:369] GL version: 2.1 (2.1 ATI-5.2.4), renderer: AMD Radeon Pro 5500M OpenGL Engine\n",
      "W0000 00:00:1745958357.022382 9274339 inference_feedback_manager.cc:114] Feedback manager requires a model with a single signature inference. Disabling support for feedback tensors.\n",
      "W0000 00:00:1745958357.057588 9274339 inference_feedback_manager.cc:114] Feedback manager requires a model with a single signature inference. Disabling support for feedback tensors.\n",
      "I0000 00:00:1745958357.197655 9271000 gl_context.cc:369] GL version: 2.1 (2.1 ATI-5.2.4), renderer: AMD Radeon Pro 5500M OpenGL Engine\n",
      "W0000 00:00:1745958357.321906 9274365 inference_feedback_manager.cc:114] Feedback manager requires a model with a single signature inference. Disabling support for feedback tensors.\n",
      "W0000 00:00:1745958357.357005 9274365 inference_feedback_manager.cc:114] Feedback manager requires a model with a single signature inference. Disabling support for feedback tensors.\n",
      "I0000 00:00:1745958357.491944 9271000 gl_context.cc:369] GL version: 2.1 (2.1 ATI-5.2.4), renderer: AMD Radeon Pro 5500M OpenGL Engine\n",
      "W0000 00:00:1745958357.611434 9274379 inference_feedback_manager.cc:114] Feedback manager requires a model with a single signature inference. Disabling support for feedback tensors.\n",
      "W0000 00:00:1745958357.649166 9274379 inference_feedback_manager.cc:114] Feedback manager requires a model with a single signature inference. Disabling support for feedback tensors.\n",
      "I0000 00:00:1745958357.767292 9271000 gl_context.cc:369] GL version: 2.1 (2.1 ATI-5.2.4), renderer: AMD Radeon Pro 5500M OpenGL Engine\n",
      "W0000 00:00:1745958357.895958 9274398 inference_feedback_manager.cc:114] Feedback manager requires a model with a single signature inference. Disabling support for feedback tensors.\n",
      "W0000 00:00:1745958357.933413 9274398 inference_feedback_manager.cc:114] Feedback manager requires a model with a single signature inference. Disabling support for feedback tensors.\n",
      "I0000 00:00:1745958363.701890 9271000 gl_context.cc:369] GL version: 2.1 (2.1 ATI-5.2.4), renderer: AMD Radeon Pro 5500M OpenGL Engine\n",
      "W0000 00:00:1745958363.702906 9271000 face_landmarker_graph.cc:174] Sets FaceBlendshapesGraph acceleration to xnnpack by default.\n",
      "W0000 00:00:1745958363.713060 9274524 inference_feedback_manager.cc:114] Feedback manager requires a model with a single signature inference. Disabling support for feedback tensors.\n",
      "W0000 00:00:1745958363.732856 9274524 inference_feedback_manager.cc:114] Feedback manager requires a model with a single signature inference. Disabling support for feedback tensors.\n",
      " 62%|██████████████████████████████████████████████████████████████████████████████████████████████████████████████████████████████████████████▏                                                                                  | 5/8 [01:04<00:37, 12.66s/it]"
     ]
    },
    {
     "name": "stdout",
     "output_type": "stream",
     "text": [
      "max() arg is an empty sequence\n",
      "max() arg is an empty sequence\n",
      "max() arg is an empty sequence\n",
      "max() arg is an empty sequence\n",
      "max() arg is an empty sequence\n",
      "max() arg is an empty sequence\n",
      "max() arg is an empty sequence\n",
      "max() arg is an empty sequence\n",
      "max() arg is an empty sequence\n"
     ]
    },
    {
     "name": "stderr",
     "output_type": "stream",
     "text": [
      "I0000 00:00:1745958366.012925 9271000 gl_context.cc:369] GL version: 2.1 (2.1 ATI-5.2.4), renderer: AMD Radeon Pro 5500M OpenGL Engine\n",
      "W0000 00:00:1745958366.016347 9274580 inference_feedback_manager.cc:114] Feedback manager requires a model with a single signature inference. Disabling support for feedback tensors.\n",
      "W0000 00:00:1745958366.033246 9274578 inference_feedback_manager.cc:114] Feedback manager requires a model with a single signature inference. Disabling support for feedback tensors.\n",
      "I0000 00:00:1745958366.072258 9271000 gl_context.cc:369] GL version: 2.1 (2.1 ATI-5.2.4), renderer: AMD Radeon Pro 5500M OpenGL Engine\n",
      "W0000 00:00:1745958366.075408 9274604 inference_feedback_manager.cc:114] Feedback manager requires a model with a single signature inference. Disabling support for feedback tensors.\n",
      "W0000 00:00:1745958366.090744 9274601 inference_feedback_manager.cc:114] Feedback manager requires a model with a single signature inference. Disabling support for feedback tensors.\n",
      "I0000 00:00:1745958366.128355 9271000 gl_context.cc:369] GL version: 2.1 (2.1 ATI-5.2.4), renderer: AMD Radeon Pro 5500M OpenGL Engine\n",
      "W0000 00:00:1745958366.132098 9274617 inference_feedback_manager.cc:114] Feedback manager requires a model with a single signature inference. Disabling support for feedback tensors.\n",
      "W0000 00:00:1745958366.153052 9274619 inference_feedback_manager.cc:114] Feedback manager requires a model with a single signature inference. Disabling support for feedback tensors.\n",
      "I0000 00:00:1745958366.197151 9271000 gl_context.cc:369] GL version: 2.1 (2.1 ATI-5.2.4), renderer: AMD Radeon Pro 5500M OpenGL Engine\n",
      "W0000 00:00:1745958366.200871 9274634 inference_feedback_manager.cc:114] Feedback manager requires a model with a single signature inference. Disabling support for feedback tensors.\n",
      "W0000 00:00:1745958366.227957 9274636 inference_feedback_manager.cc:114] Feedback manager requires a model with a single signature inference. Disabling support for feedback tensors.\n",
      "I0000 00:00:1745958366.266783 9271000 gl_context.cc:369] GL version: 2.1 (2.1 ATI-5.2.4), renderer: AMD Radeon Pro 5500M OpenGL Engine\n",
      "W0000 00:00:1745958366.270760 9274650 inference_feedback_manager.cc:114] Feedback manager requires a model with a single signature inference. Disabling support for feedback tensors.\n",
      "W0000 00:00:1745958366.298616 9274651 inference_feedback_manager.cc:114] Feedback manager requires a model with a single signature inference. Disabling support for feedback tensors.\n",
      "I0000 00:00:1745958366.335701 9271000 gl_context.cc:369] GL version: 2.1 (2.1 ATI-5.2.4), renderer: AMD Radeon Pro 5500M OpenGL Engine\n",
      "W0000 00:00:1745958366.345122 9274667 inference_feedback_manager.cc:114] Feedback manager requires a model with a single signature inference. Disabling support for feedback tensors.\n",
      "W0000 00:00:1745958366.368013 9274665 inference_feedback_manager.cc:114] Feedback manager requires a model with a single signature inference. Disabling support for feedback tensors.\n",
      "I0000 00:00:1745958366.389402 9271000 gl_context.cc:369] GL version: 2.1 (2.1 ATI-5.2.4), renderer: AMD Radeon Pro 5500M OpenGL Engine\n",
      "W0000 00:00:1745958366.393458 9274686 inference_feedback_manager.cc:114] Feedback manager requires a model with a single signature inference. Disabling support for feedback tensors.\n",
      "W0000 00:00:1745958366.409064 9274689 inference_feedback_manager.cc:114] Feedback manager requires a model with a single signature inference. Disabling support for feedback tensors.\n",
      "I0000 00:00:1745958366.432874 9271000 gl_context.cc:369] GL version: 2.1 (2.1 ATI-5.2.4), renderer: AMD Radeon Pro 5500M OpenGL Engine\n",
      "W0000 00:00:1745958366.436912 9274700 inference_feedback_manager.cc:114] Feedback manager requires a model with a single signature inference. Disabling support for feedback tensors.\n",
      "W0000 00:00:1745958366.452476 9274702 inference_feedback_manager.cc:114] Feedback manager requires a model with a single signature inference. Disabling support for feedback tensors.\n",
      "I0000 00:00:1745958366.474312 9271000 gl_context.cc:369] GL version: 2.1 (2.1 ATI-5.2.4), renderer: AMD Radeon Pro 5500M OpenGL Engine\n",
      "W0000 00:00:1745958366.478296 9274716 inference_feedback_manager.cc:114] Feedback manager requires a model with a single signature inference. Disabling support for feedback tensors.\n",
      "W0000 00:00:1745958366.502593 9274717 inference_feedback_manager.cc:114] Feedback manager requires a model with a single signature inference. Disabling support for feedback tensors.\n",
      "I0000 00:00:1745958366.587640 9271000 gl_context.cc:369] GL version: 2.1 (2.1 ATI-5.2.4), renderer: AMD Radeon Pro 5500M OpenGL Engine\n",
      "W0000 00:00:1745958366.591288 9274735 inference_feedback_manager.cc:114] Feedback manager requires a model with a single signature inference. Disabling support for feedback tensors.\n",
      "W0000 00:00:1745958366.621078 9274740 inference_feedback_manager.cc:114] Feedback manager requires a model with a single signature inference. Disabling support for feedback tensors.\n",
      "I0000 00:00:1745958366.726049 9271000 gl_context.cc:369] GL version: 2.1 (2.1 ATI-5.2.4), renderer: AMD Radeon Pro 5500M OpenGL Engine\n",
      "W0000 00:00:1745958366.862628 9274747 inference_feedback_manager.cc:114] Feedback manager requires a model with a single signature inference. Disabling support for feedback tensors.\n",
      "W0000 00:00:1745958366.926365 9274757 inference_feedback_manager.cc:114] Feedback manager requires a model with a single signature inference. Disabling support for feedback tensors.\n",
      "I0000 00:00:1745958367.078220 9271000 gl_context.cc:369] GL version: 2.1 (2.1 ATI-5.2.4), renderer: AMD Radeon Pro 5500M OpenGL Engine\n",
      "W0000 00:00:1745958367.199995 9274782 inference_feedback_manager.cc:114] Feedback manager requires a model with a single signature inference. Disabling support for feedback tensors.\n",
      "W0000 00:00:1745958367.233369 9274782 inference_feedback_manager.cc:114] Feedback manager requires a model with a single signature inference. Disabling support for feedback tensors.\n",
      "I0000 00:00:1745958367.321428 9271000 gl_context.cc:369] GL version: 2.1 (2.1 ATI-5.2.4), renderer: AMD Radeon Pro 5500M OpenGL Engine\n",
      "W0000 00:00:1745958367.445653 9274805 inference_feedback_manager.cc:114] Feedback manager requires a model with a single signature inference. Disabling support for feedback tensors.\n",
      "W0000 00:00:1745958367.479623 9274805 inference_feedback_manager.cc:114] Feedback manager requires a model with a single signature inference. Disabling support for feedback tensors.\n",
      "I0000 00:00:1745958367.567297 9271000 gl_context.cc:369] GL version: 2.1 (2.1 ATI-5.2.4), renderer: AMD Radeon Pro 5500M OpenGL Engine\n",
      "W0000 00:00:1745958367.682036 9274827 inference_feedback_manager.cc:114] Feedback manager requires a model with a single signature inference. Disabling support for feedback tensors.\n",
      "W0000 00:00:1745958367.716029 9274827 inference_feedback_manager.cc:114] Feedback manager requires a model with a single signature inference. Disabling support for feedback tensors.\n",
      "I0000 00:00:1745958367.800420 9271000 gl_context.cc:369] GL version: 2.1 (2.1 ATI-5.2.4), renderer: AMD Radeon Pro 5500M OpenGL Engine\n",
      "W0000 00:00:1745958367.924311 9274847 inference_feedback_manager.cc:114] Feedback manager requires a model with a single signature inference. Disabling support for feedback tensors.\n",
      "W0000 00:00:1745958367.958683 9274851 inference_feedback_manager.cc:114] Feedback manager requires a model with a single signature inference. Disabling support for feedback tensors.\n",
      "I0000 00:00:1745958368.053093 9271000 gl_context.cc:369] GL version: 2.1 (2.1 ATI-5.2.4), renderer: AMD Radeon Pro 5500M OpenGL Engine\n",
      "W0000 00:00:1745958368.173949 9274866 inference_feedback_manager.cc:114] Feedback manager requires a model with a single signature inference. Disabling support for feedback tensors.\n",
      "W0000 00:00:1745958368.207318 9274866 inference_feedback_manager.cc:114] Feedback manager requires a model with a single signature inference. Disabling support for feedback tensors.\n",
      "I0000 00:00:1745958368.296768 9271000 gl_context.cc:369] GL version: 2.1 (2.1 ATI-5.2.4), renderer: AMD Radeon Pro 5500M OpenGL Engine\n",
      "W0000 00:00:1745958368.416357 9274883 inference_feedback_manager.cc:114] Feedback manager requires a model with a single signature inference. Disabling support for feedback tensors.\n",
      "W0000 00:00:1745958368.451252 9274893 inference_feedback_manager.cc:114] Feedback manager requires a model with a single signature inference. Disabling support for feedback tensors.\n",
      "I0000 00:00:1745958368.536950 9271000 gl_context.cc:369] GL version: 2.1 (2.1 ATI-5.2.4), renderer: AMD Radeon Pro 5500M OpenGL Engine\n",
      "W0000 00:00:1745958368.665484 9274901 inference_feedback_manager.cc:114] Feedback manager requires a model with a single signature inference. Disabling support for feedback tensors.\n",
      "W0000 00:00:1745958368.746247 9274907 inference_feedback_manager.cc:114] Feedback manager requires a model with a single signature inference. Disabling support for feedback tensors.\n",
      "I0000 00:00:1745958368.856552 9271000 gl_context.cc:369] GL version: 2.1 (2.1 ATI-5.2.4), renderer: AMD Radeon Pro 5500M OpenGL Engine\n",
      "W0000 00:00:1745958368.983029 9274919 inference_feedback_manager.cc:114] Feedback manager requires a model with a single signature inference. Disabling support for feedback tensors.\n",
      "W0000 00:00:1745958369.018263 9274927 inference_feedback_manager.cc:114] Feedback manager requires a model with a single signature inference. Disabling support for feedback tensors.\n",
      "I0000 00:00:1745958369.162604 9271000 gl_context.cc:369] GL version: 2.1 (2.1 ATI-5.2.4), renderer: AMD Radeon Pro 5500M OpenGL Engine\n",
      "W0000 00:00:1745958369.304683 9274947 inference_feedback_manager.cc:114] Feedback manager requires a model with a single signature inference. Disabling support for feedback tensors.\n",
      "W0000 00:00:1745958369.349929 9274956 inference_feedback_manager.cc:114] Feedback manager requires a model with a single signature inference. Disabling support for feedback tensors.\n",
      "I0000 00:00:1745958369.538049 9271000 gl_context.cc:369] GL version: 2.1 (2.1 ATI-5.2.4), renderer: AMD Radeon Pro 5500M OpenGL Engine\n",
      "W0000 00:00:1745958369.683877 9274964 inference_feedback_manager.cc:114] Feedback manager requires a model with a single signature inference. Disabling support for feedback tensors.\n",
      "W0000 00:00:1745958369.772610 9274977 inference_feedback_manager.cc:114] Feedback manager requires a model with a single signature inference. Disabling support for feedback tensors.\n",
      "I0000 00:00:1745958377.062114 9271000 gl_context.cc:369] GL version: 2.1 (2.1 ATI-5.2.4), renderer: AMD Radeon Pro 5500M OpenGL Engine\n",
      "W0000 00:00:1745958377.062803 9271000 face_landmarker_graph.cc:174] Sets FaceBlendshapesGraph acceleration to xnnpack by default.\n",
      "W0000 00:00:1745958377.071219 9275117 inference_feedback_manager.cc:114] Feedback manager requires a model with a single signature inference. Disabling support for feedback tensors.\n",
      "W0000 00:00:1745958377.087290 9275117 inference_feedback_manager.cc:114] Feedback manager requires a model with a single signature inference. Disabling support for feedback tensors.\n",
      " 75%|█████████████████████████████████████████████████████████████████████████████████████████████████████████████████████████████████████████████████████████████████████▊                                                       | 6/8 [01:17<00:25, 12.78s/it]I0000 00:00:1745958379.171936 9271000 gl_context.cc:369] GL version: 2.1 (2.1 ATI-5.2.4), renderer: AMD Radeon Pro 5500M OpenGL Engine\n",
      "W0000 00:00:1745958379.174597 9275195 inference_feedback_manager.cc:114] Feedback manager requires a model with a single signature inference. Disabling support for feedback tensors.\n",
      "W0000 00:00:1745958379.192259 9275194 inference_feedback_manager.cc:114] Feedback manager requires a model with a single signature inference. Disabling support for feedback tensors.\n",
      "I0000 00:00:1745958379.296539 9271000 gl_context.cc:369] GL version: 2.1 (2.1 ATI-5.2.4), renderer: AMD Radeon Pro 5500M OpenGL Engine\n",
      "W0000 00:00:1745958379.300266 9275212 inference_feedback_manager.cc:114] Feedback manager requires a model with a single signature inference. Disabling support for feedback tensors.\n",
      "W0000 00:00:1745958379.315678 9275214 inference_feedback_manager.cc:114] Feedback manager requires a model with a single signature inference. Disabling support for feedback tensors.\n",
      "I0000 00:00:1745958379.407167 9271000 gl_context.cc:369] GL version: 2.1 (2.1 ATI-5.2.4), renderer: AMD Radeon Pro 5500M OpenGL Engine\n",
      "W0000 00:00:1745958379.410424 9275229 inference_feedback_manager.cc:114] Feedback manager requires a model with a single signature inference. Disabling support for feedback tensors.\n",
      "W0000 00:00:1745958379.426798 9275225 inference_feedback_manager.cc:114] Feedback manager requires a model with a single signature inference. Disabling support for feedback tensors.\n",
      "I0000 00:00:1745958379.522177 9271000 gl_context.cc:369] GL version: 2.1 (2.1 ATI-5.2.4), renderer: AMD Radeon Pro 5500M OpenGL Engine\n",
      "W0000 00:00:1745958379.525868 9275245 inference_feedback_manager.cc:114] Feedback manager requires a model with a single signature inference. Disabling support for feedback tensors.\n",
      "W0000 00:00:1745958379.544205 9275242 inference_feedback_manager.cc:114] Feedback manager requires a model with a single signature inference. Disabling support for feedback tensors.\n",
      "I0000 00:00:1745958379.646019 9271000 gl_context.cc:369] GL version: 2.1 (2.1 ATI-5.2.4), renderer: AMD Radeon Pro 5500M OpenGL Engine\n",
      "W0000 00:00:1745958379.650295 9275257 inference_feedback_manager.cc:114] Feedback manager requires a model with a single signature inference. Disabling support for feedback tensors.\n",
      "W0000 00:00:1745958379.674492 9275260 inference_feedback_manager.cc:114] Feedback manager requires a model with a single signature inference. Disabling support for feedback tensors.\n",
      "I0000 00:00:1745958379.772091 9271000 gl_context.cc:369] GL version: 2.1 (2.1 ATI-5.2.4), renderer: AMD Radeon Pro 5500M OpenGL Engine\n",
      "W0000 00:00:1745958379.780487 9275276 inference_feedback_manager.cc:114] Feedback manager requires a model with a single signature inference. Disabling support for feedback tensors.\n",
      "W0000 00:00:1745958379.800551 9275284 inference_feedback_manager.cc:114] Feedback manager requires a model with a single signature inference. Disabling support for feedback tensors.\n",
      "I0000 00:00:1745958379.896934 9271000 gl_context.cc:369] GL version: 2.1 (2.1 ATI-5.2.4), renderer: AMD Radeon Pro 5500M OpenGL Engine\n",
      "W0000 00:00:1745958379.900749 9275290 inference_feedback_manager.cc:114] Feedback manager requires a model with a single signature inference. Disabling support for feedback tensors.\n",
      "W0000 00:00:1745958379.915596 9275299 inference_feedback_manager.cc:114] Feedback manager requires a model with a single signature inference. Disabling support for feedback tensors.\n",
      "I0000 00:00:1745958380.011371 9271000 gl_context.cc:369] GL version: 2.1 (2.1 ATI-5.2.4), renderer: AMD Radeon Pro 5500M OpenGL Engine\n",
      "W0000 00:00:1745958380.015456 9275311 inference_feedback_manager.cc:114] Feedback manager requires a model with a single signature inference. Disabling support for feedback tensors.\n",
      "W0000 00:00:1745958380.034016 9275318 inference_feedback_manager.cc:114] Feedback manager requires a model with a single signature inference. Disabling support for feedback tensors.\n",
      "I0000 00:00:1745958380.140200 9271000 gl_context.cc:369] GL version: 2.1 (2.1 ATI-5.2.4), renderer: AMD Radeon Pro 5500M OpenGL Engine\n",
      "W0000 00:00:1745958380.144468 9275331 inference_feedback_manager.cc:114] Feedback manager requires a model with a single signature inference. Disabling support for feedback tensors.\n",
      "W0000 00:00:1745958380.162515 9275337 inference_feedback_manager.cc:114] Feedback manager requires a model with a single signature inference. Disabling support for feedback tensors.\n",
      "I0000 00:00:1745958380.256503 9271000 gl_context.cc:369] GL version: 2.1 (2.1 ATI-5.2.4), renderer: AMD Radeon Pro 5500M OpenGL Engine\n",
      "W0000 00:00:1745958380.260247 9275352 inference_feedback_manager.cc:114] Feedback manager requires a model with a single signature inference. Disabling support for feedback tensors.\n",
      "W0000 00:00:1745958380.275705 9275352 inference_feedback_manager.cc:114] Feedback manager requires a model with a single signature inference. Disabling support for feedback tensors.\n",
      "I0000 00:00:1745958380.374033 9271000 gl_context.cc:369] GL version: 2.1 (2.1 ATI-5.2.4), renderer: AMD Radeon Pro 5500M OpenGL Engine\n",
      "W0000 00:00:1745958380.499117 9275364 inference_feedback_manager.cc:114] Feedback manager requires a model with a single signature inference. Disabling support for feedback tensors.\n",
      "W0000 00:00:1745958380.533814 9275364 inference_feedback_manager.cc:114] Feedback manager requires a model with a single signature inference. Disabling support for feedback tensors.\n",
      "I0000 00:00:1745958380.669206 9271000 gl_context.cc:369] GL version: 2.1 (2.1 ATI-5.2.4), renderer: AMD Radeon Pro 5500M OpenGL Engine\n",
      "W0000 00:00:1745958380.788502 9275381 inference_feedback_manager.cc:114] Feedback manager requires a model with a single signature inference. Disabling support for feedback tensors.\n",
      "W0000 00:00:1745958380.828535 9275381 inference_feedback_manager.cc:114] Feedback manager requires a model with a single signature inference. Disabling support for feedback tensors.\n",
      "I0000 00:00:1745958380.973226 9271000 gl_context.cc:369] GL version: 2.1 (2.1 ATI-5.2.4), renderer: AMD Radeon Pro 5500M OpenGL Engine\n",
      "W0000 00:00:1745958381.100677 9275398 inference_feedback_manager.cc:114] Feedback manager requires a model with a single signature inference. Disabling support for feedback tensors.\n",
      "W0000 00:00:1745958381.137994 9275398 inference_feedback_manager.cc:114] Feedback manager requires a model with a single signature inference. Disabling support for feedback tensors.\n",
      "I0000 00:00:1745958381.289200 9271000 gl_context.cc:369] GL version: 2.1 (2.1 ATI-5.2.4), renderer: AMD Radeon Pro 5500M OpenGL Engine\n",
      "W0000 00:00:1745958381.405012 9275421 inference_feedback_manager.cc:114] Feedback manager requires a model with a single signature inference. Disabling support for feedback tensors.\n",
      "W0000 00:00:1745958381.440598 9275421 inference_feedback_manager.cc:114] Feedback manager requires a model with a single signature inference. Disabling support for feedback tensors.\n",
      "I0000 00:00:1745958381.590194 9271000 gl_context.cc:369] GL version: 2.1 (2.1 ATI-5.2.4), renderer: AMD Radeon Pro 5500M OpenGL Engine\n",
      "W0000 00:00:1745958381.721285 9275437 inference_feedback_manager.cc:114] Feedback manager requires a model with a single signature inference. Disabling support for feedback tensors.\n",
      "W0000 00:00:1745958381.754357 9275444 inference_feedback_manager.cc:114] Feedback manager requires a model with a single signature inference. Disabling support for feedback tensors.\n",
      "I0000 00:00:1745958381.890189 9271000 gl_context.cc:369] GL version: 2.1 (2.1 ATI-5.2.4), renderer: AMD Radeon Pro 5500M OpenGL Engine\n",
      "W0000 00:00:1745958382.019610 9275454 inference_feedback_manager.cc:114] Feedback manager requires a model with a single signature inference. Disabling support for feedback tensors.\n",
      "W0000 00:00:1745958382.062266 9275460 inference_feedback_manager.cc:114] Feedback manager requires a model with a single signature inference. Disabling support for feedback tensors.\n",
      "I0000 00:00:1745958382.212855 9271000 gl_context.cc:369] GL version: 2.1 (2.1 ATI-5.2.4), renderer: AMD Radeon Pro 5500M OpenGL Engine\n",
      "W0000 00:00:1745958382.343063 9275485 inference_feedback_manager.cc:114] Feedback manager requires a model with a single signature inference. Disabling support for feedback tensors.\n",
      "W0000 00:00:1745958382.379599 9275489 inference_feedback_manager.cc:114] Feedback manager requires a model with a single signature inference. Disabling support for feedback tensors.\n",
      "I0000 00:00:1745958382.534745 9271000 gl_context.cc:369] GL version: 2.1 (2.1 ATI-5.2.4), renderer: AMD Radeon Pro 5500M OpenGL Engine\n",
      "W0000 00:00:1745958382.664351 9275504 inference_feedback_manager.cc:114] Feedback manager requires a model with a single signature inference. Disabling support for feedback tensors.\n",
      "W0000 00:00:1745958382.706033 9275514 inference_feedback_manager.cc:114] Feedback manager requires a model with a single signature inference. Disabling support for feedback tensors.\n",
      "I0000 00:00:1745958382.868182 9271000 gl_context.cc:369] GL version: 2.1 (2.1 ATI-5.2.4), renderer: AMD Radeon Pro 5500M OpenGL Engine\n",
      "W0000 00:00:1745958382.999542 9275526 inference_feedback_manager.cc:114] Feedback manager requires a model with a single signature inference. Disabling support for feedback tensors.\n",
      "W0000 00:00:1745958383.036011 9275526 inference_feedback_manager.cc:114] Feedback manager requires a model with a single signature inference. Disabling support for feedback tensors.\n",
      "I0000 00:00:1745958383.190998 9271000 gl_context.cc:369] GL version: 2.1 (2.1 ATI-5.2.4), renderer: AMD Radeon Pro 5500M OpenGL Engine\n",
      "W0000 00:00:1745958383.319457 9275549 inference_feedback_manager.cc:114] Feedback manager requires a model with a single signature inference. Disabling support for feedback tensors.\n",
      "W0000 00:00:1745958383.362031 9275549 inference_feedback_manager.cc:114] Feedback manager requires a model with a single signature inference. Disabling support for feedback tensors.\n",
      "I0000 00:00:1745958383.518994 9271000 gl_context.cc:369] GL version: 2.1 (2.1 ATI-5.2.4), renderer: AMD Radeon Pro 5500M OpenGL Engine\n",
      "W0000 00:00:1745958383.654289 9275564 inference_feedback_manager.cc:114] Feedback manager requires a model with a single signature inference. Disabling support for feedback tensors.\n",
      "W0000 00:00:1745958383.691297 9275564 inference_feedback_manager.cc:114] Feedback manager requires a model with a single signature inference. Disabling support for feedback tensors.\n",
      "I0000 00:00:1745958389.250598 9271000 gl_context.cc:369] GL version: 2.1 (2.1 ATI-5.2.4), renderer: AMD Radeon Pro 5500M OpenGL Engine\n",
      "W0000 00:00:1745958389.251352 9271000 face_landmarker_graph.cc:174] Sets FaceBlendshapesGraph acceleration to xnnpack by default.\n",
      "W0000 00:00:1745958389.259870 9275663 inference_feedback_manager.cc:114] Feedback manager requires a model with a single signature inference. Disabling support for feedback tensors.\n",
      "W0000 00:00:1745958389.276322 9275663 inference_feedback_manager.cc:114] Feedback manager requires a model with a single signature inference. Disabling support for feedback tensors.\n",
      " 88%|█████████████████████████████████████████████████████████████████████████████████████████████████████████████████████████████████████████████████████████████████████████████████████████████████▍                           | 7/8 [01:30<00:12, 12.78s/it]I0000 00:00:1745958391.329577 9271000 gl_context.cc:369] GL version: 2.1 (2.1 ATI-5.2.4), renderer: AMD Radeon Pro 5500M OpenGL Engine\n",
      "W0000 00:00:1745958391.333520 9275720 inference_feedback_manager.cc:114] Feedback manager requires a model with a single signature inference. Disabling support for feedback tensors.\n",
      "W0000 00:00:1745958391.349659 9275718 inference_feedback_manager.cc:114] Feedback manager requires a model with a single signature inference. Disabling support for feedback tensors.\n",
      "I0000 00:00:1745958391.445457 9271000 gl_context.cc:369] GL version: 2.1 (2.1 ATI-5.2.4), renderer: AMD Radeon Pro 5500M OpenGL Engine\n",
      "W0000 00:00:1745958391.449397 9275735 inference_feedback_manager.cc:114] Feedback manager requires a model with a single signature inference. Disabling support for feedback tensors.\n",
      "W0000 00:00:1745958391.464483 9275736 inference_feedback_manager.cc:114] Feedback manager requires a model with a single signature inference. Disabling support for feedback tensors.\n",
      "I0000 00:00:1745958391.560558 9271000 gl_context.cc:369] GL version: 2.1 (2.1 ATI-5.2.4), renderer: AMD Radeon Pro 5500M OpenGL Engine\n",
      "W0000 00:00:1745958391.675842 9275750 inference_feedback_manager.cc:114] Feedback manager requires a model with a single signature inference. Disabling support for feedback tensors.\n",
      "W0000 00:00:1745958391.713934 9275756 inference_feedback_manager.cc:114] Feedback manager requires a model with a single signature inference. Disabling support for feedback tensors.\n",
      "I0000 00:00:1745958391.844535 9271000 gl_context.cc:369] GL version: 2.1 (2.1 ATI-5.2.4), renderer: AMD Radeon Pro 5500M OpenGL Engine\n",
      "W0000 00:00:1745958391.959469 9275770 inference_feedback_manager.cc:114] Feedback manager requires a model with a single signature inference. Disabling support for feedback tensors.\n",
      "W0000 00:00:1745958391.994237 9275774 inference_feedback_manager.cc:114] Feedback manager requires a model with a single signature inference. Disabling support for feedback tensors.\n",
      "I0000 00:00:1745958392.126639 9271000 gl_context.cc:369] GL version: 2.1 (2.1 ATI-5.2.4), renderer: AMD Radeon Pro 5500M OpenGL Engine\n",
      "W0000 00:00:1745958392.246462 9275790 inference_feedback_manager.cc:114] Feedback manager requires a model with a single signature inference. Disabling support for feedback tensors.\n",
      "W0000 00:00:1745958392.281450 9275790 inference_feedback_manager.cc:114] Feedback manager requires a model with a single signature inference. Disabling support for feedback tensors.\n",
      "I0000 00:00:1745958393.420329 9271000 gl_context.cc:369] GL version: 2.1 (2.1 ATI-5.2.4), renderer: AMD Radeon Pro 5500M OpenGL Engine\n",
      "W0000 00:00:1745958393.421552 9271000 face_landmarker_graph.cc:174] Sets FaceBlendshapesGraph acceleration to xnnpack by default.\n",
      "W0000 00:00:1745958393.429816 9275829 inference_feedback_manager.cc:114] Feedback manager requires a model with a single signature inference. Disabling support for feedback tensors.\n",
      "W0000 00:00:1745958393.451186 9275829 inference_feedback_manager.cc:114] Feedback manager requires a model with a single signature inference. Disabling support for feedback tensors.\n",
      "100%|█████████████████████████████████████████████████████████████████████████████████████████████████████████████████████████████████████████████████████████████████████████████████████████████████████████████████████████████| 8/8 [01:33<00:00, 11.67s/it]\n"
     ]
    }
   ],
   "source": [
    "processing = FileProcessingSystem(\"data/cs_china_short.mp4\", flags, negative_emotions, preferred_gestures, 10, \"en\")"
   ]
  },
  {
   "cell_type": "code",
   "execution_count": 23,
   "metadata": {
    "colab": {
     "base_uri": "https://localhost:8080/",
     "height": 175
    },
    "id": "vi1QA2enK_XU",
    "outputId": "7a2c07bd-36f2-4241-98e7-3b0a1467430c"
   },
   "outputs": [
    {
     "name": "stderr",
     "output_type": "stream",
     "text": [
      "100%|███████████████████████████████████████████████████████████████████████████████████████████████████████████████████████████████████████████████████████████████████████████████████████████████████████████████████| 7204/7204 [02:29<00:00, 48.31frames/s]\n"
     ]
    },
    {
     "data": {
      "text/plain": [
       "'hello im he shan im currently a phd student in computer science at the university of nottingham i also did my undergraduate in the university the foundation year and the first year were in ningbo campus and the last two years were in nottingham uk campus in ningbo we prepared ourselves in both the language and the subject after that we generally did not feel any difficulty when we came to the uk i like the course here its very flexible and we can choose a number of optional modules based on our interests in my second year i did a group project with another five students from different countries its a very nice experience for me i learned how to work within a team and how to communicate with others from different cultures and backgrounds after the project with the recommendation from my supervisor i then took an internship in a research centre within jubilee campus from that time i started to do research trying to design and implement algorithms to solve reallife problems during that time i also met a lot of nice and helpful people including my current second supervisor'"
      ]
     },
     "execution_count": 23,
     "metadata": {},
     "output_type": "execute_result"
    }
   ],
   "source": [
    "processing.get_transcription()"
   ]
  },
  {
   "cell_type": "code",
   "execution_count": 24,
   "metadata": {},
   "outputs": [
    {
     "name": "stdout",
     "output_type": "stream",
     "text": [
      "On the video a Asian female speaker about 20 years old give a presentation in English. The following characteristics of her video were highlighted by our models: \"rather clean speech with few filler words, such as \"and the\". Optimal speech rate. Mostly desired emotions presented on the video. Video doesn't have noticeable background noise. Intelligibility of speech is good; most words are easy to recognize with minimal effort. Video recorded with mostly proper recording angle with minor deviations. Speaker often look away from the camera. Gesturing is appropriate and natural. Video recorded with optimal lighting. Looks like clothes are suitable for the presentation.\"\n",
      "Here is the transcription of the presentation: \"hello im he shan im currently a phd student in computer science at the university of nottingham i also did my undergraduate in the university the foundation year and the first year were in ningbo campus and the last two years were in nottingham uk campus in ningbo we prepared ourselves in both the language and the subject after that we generally did not feel any difficulty when we came to the uk i like the course here its very flexible and we can choose a number of optional modules based on our interests in my second year i did a group project with another five students from different countries its a very nice experience for me i learned how to work within a team and how to communicate with others from different cultures and backgrounds after the project with the recommendation from my supervisor i then took an internship in a research centre within jubilee campus from that time i started to do research trying to design and implement algorithms to solve reallife problems during that time i also met a lot of nice and helpful people including my current second supervisor\".\n",
      "Note that the presentation has a bio style.\n",
      "Please, analyze the speach and characteristics and provide a brief recomendation how the presentor can improve the quality of the presentation and his presentation skills. The recomendation should be less than 150 words.\n"
     ]
    }
   ],
   "source": [
    "prompt = processing.get_recomendation_prompt(\"bio\")\n",
    "print(prompt)"
   ]
  },
  {
   "cell_type": "code",
   "execution_count": 25,
   "metadata": {},
   "outputs": [
    {
     "name": "stdout",
     "output_type": "stream",
     "text": [
      "The presenter delivers a clear, engaging biography with good lighting, audio, and professional attire. To enhance the presentation further, I suggest maintaining more consistent eye contact with the camera to strengthen audience connection. Introducing brief pauses between major points can help emphasize key ideas and improve overall pacing—this makes the narrative even easier to follow. Adding vocal variety—slight shifts in tone and volume—can give the delivery more energy and keep viewers' attention. For content, including a concise opening statement outlining main topics, and a closing remark summarizing key experiences or motivations, would provide a stronger structure. Overall, a confident and authentic presentation, just a little polish away from excellent.\n"
     ]
    }
   ],
   "source": [
    "print(processing.get_recommendation(prompt))"
   ]
  },
  {
   "cell_type": "code",
   "execution_count": 26,
   "metadata": {},
   "outputs": [
    {
     "name": "stdout",
     "output_type": "stream",
     "text": [
      "20.810318074615047\n",
      "female\n",
      "Asian\n"
     ]
    }
   ],
   "source": [
    "print(processing.get_age())\n",
    "print(processing.get_gender())\n",
    "print(processing.get_ethnicity())"
   ]
  },
  {
   "cell_type": "code",
   "execution_count": 27,
   "metadata": {
    "colab": {
     "base_uri": "https://localhost:8080/"
    },
    "id": "LG2OBVj5LDjL",
    "outputId": "aa604af6-5628-44e7-968a-d8d59c6a8417"
   },
   "outputs": [
    {
     "data": {
      "text/plain": [
       "(0.672, 0.0, array([0., 0., 0., 0., 0., 0., 0., 0.]))"
      ]
     },
     "execution_count": 27,
     "metadata": {},
     "output_type": "execute_result"
    }
   ],
   "source": [
    "processing.get_emotionality()"
   ]
  },
  {
   "cell_type": "code",
   "execution_count": 28,
   "metadata": {
    "colab": {
     "base_uri": "https://localhost:8080/"
    },
    "id": "n-ndjKVzLJ8Z",
    "outputId": "4e53884d-b8d2-4839-883e-0c666b82d0dd"
   },
   "outputs": [
    {
     "data": {
      "text/plain": [
       "(0.33315, {'and the': 3, 'like': 1}, {'and the': 3})"
      ]
     },
     "execution_count": 28,
     "metadata": {},
     "output_type": "execute_result"
    }
   ],
   "source": [
    "processing.get_filler_words()"
   ]
  },
  {
   "cell_type": "code",
   "execution_count": 29,
   "metadata": {
    "colab": {
     "base_uri": "https://localhost:8080/"
    },
    "id": "KvNf1uw1LMFm",
    "outputId": "4361a483-3442-494e-c438-4c089d17411c"
   },
   "outputs": [
    {
     "data": {
      "text/plain": [
       "(0.0, array([0., 0., 0., 0., 0., 0., 0., 0.]), [])"
      ]
     },
     "execution_count": 29,
     "metadata": {},
     "output_type": "execute_result"
    }
   ],
   "source": [
    "processing.get_speech_rate()"
   ]
  },
  {
   "cell_type": "code",
   "execution_count": 30,
   "metadata": {
    "colab": {
     "base_uri": "https://localhost:8080/"
    },
    "id": "GwaDnGwTLT9R",
    "outputId": "0429f3e8-37bc-4e66-a629-b3904f3f84b6"
   },
   "outputs": [
    {
     "data": {
      "text/plain": [
       "(0.0,\n",
       " array([0.053 , 0.0425, 0.05  , 0.0425, 0.041 , 0.0475, 0.045 , 0.25  ]),\n",
       " [])"
      ]
     },
     "execution_count": 30,
     "metadata": {},
     "output_type": "execute_result"
    }
   ],
   "source": [
    "processing.get_background_noise()"
   ]
  },
  {
   "cell_type": "code",
   "execution_count": 31,
   "metadata": {
    "colab": {
     "base_uri": "https://localhost:8080/"
    },
    "id": "oJGLKRZcLVsu",
    "outputId": "98f4a34e-de4e-4577-f37c-c6725fab385e"
   },
   "outputs": [
    {
     "data": {
      "text/plain": [
       "(0.7505124097723487,\n",
       " array([0.769, 0.766, 0.76 , 0.766, 0.767, 0.762, 0.767, 0.8  ]))"
      ]
     },
     "execution_count": 31,
     "metadata": {},
     "output_type": "execute_result"
    }
   ],
   "source": [
    "processing.get_intelligibility()"
   ]
  },
  {
   "cell_type": "code",
   "execution_count": 32,
   "metadata": {
    "colab": {
     "base_uri": "https://localhost:8080/"
    },
    "id": "kVlShanfLV6j",
    "outputId": "e73d7a9f-1479-49d4-b85b-9cb9bbb3b36f"
   },
   "outputs": [
    {
     "data": {
      "text/plain": [
       "(0.229, array([0.   , 0.   , 0.26 , 0.668, 0.092, 0.812, 0.   , 0.   ]))"
      ]
     },
     "execution_count": 32,
     "metadata": {},
     "output_type": "execute_result"
    }
   ],
   "source": [
    "processing.get_incorrect_angle()"
   ]
  },
  {
   "cell_type": "code",
   "execution_count": 33,
   "metadata": {
    "colab": {
     "base_uri": "https://localhost:8080/"
    },
    "id": "hPq4LHc4LWGR",
    "outputId": "b33dc072-77ea-49d7-f7c9-f58415c4bb78"
   },
   "outputs": [
    {
     "data": {
      "text/plain": [
       "(0.9, array([1.   , 0.923, 1.   , 1.   , 0.5  , 1.   , 0.774, 1.   ]))"
      ]
     },
     "execution_count": 33,
     "metadata": {},
     "output_type": "execute_result"
    }
   ],
   "source": [
    "processing.get_incorrect_glances()"
   ]
  },
  {
   "cell_type": "code",
   "execution_count": 34,
   "metadata": {
    "colab": {
     "base_uri": "https://localhost:8080/"
    },
    "id": "69_yaU1zLWgz",
    "outputId": "79b42430-bb5d-4029-ead7-dade5e13d27f"
   },
   "outputs": [
    {
     "data": {
      "text/plain": [
       "(1.5, array([1, 1, 2, 2, 2, 2, 2, 0]))"
      ]
     },
     "execution_count": 34,
     "metadata": {},
     "output_type": "execute_result"
    }
   ],
   "source": [
    "processing.get_gestures()"
   ]
  },
  {
   "cell_type": "code",
   "execution_count": 35,
   "metadata": {
    "colab": {
     "base_uri": "https://localhost:8080/"
    },
    "id": "4jDLDPH1LWsL",
    "outputId": "3cf39a69-e325-4d70-a5a4-4cd36003a9c6"
   },
   "outputs": [
    {
     "data": {
      "text/plain": [
       "True"
      ]
     },
     "execution_count": 35,
     "metadata": {},
     "output_type": "execute_result"
    }
   ],
   "source": [
    "processing.get_clothes()"
   ]
  },
  {
   "cell_type": "code",
   "execution_count": 36,
   "metadata": {
    "colab": {
     "base_uri": "https://localhost:8080/"
    },
    "id": "HdwxJIdwXXv1",
    "outputId": "bb7134a1-e0b6-4a9a-d3bf-83d46fbecbaf"
   },
   "outputs": [
    {
     "name": "stdout",
     "output_type": "stream",
     "text": [
      "{'speech_rate': array([0., 0., 0., 0., 0., 0., 0., 0.]), 'emotionality': array([0., 0., 0., 0., 0., 0., 0., 0.]), 'background_noise': array([0.053 , 0.0425, 0.05  , 0.0425, 0.041 , 0.0475, 0.045 , 0.25  ]), 'intelligibility': array([0.769, 0.766, 0.76 , 0.766, 0.767, 0.762, 0.767, 0.8  ]), 'glances': array([1.   , 0.923, 1.   , 1.   , 0.5  , 1.   , 0.774, 1.   ]), 'gestures': array([1, 1, 2, 2, 2, 2, 2, 0])}\n",
      "background_noise [0.053  0.0425 0.05   0.0425 0.041  0.0475 0.045  0.25  ]\n",
      "speech_rate [0. 0. 0. 0. 0. 0. 0. 0.]\n",
      "emotionality [0. 0. 0. 0. 0. 0. 0. 0.]\n",
      "intelligibility [0.769 0.766 0.76  0.766 0.767 0.762 0.767 0.8  ]\n",
      "gestures [1 1 2 2 2 2 2 0]\n",
      "glances [1.    0.923 1.    1.    0.5   1.    0.774 1.   ]\n",
      "[['No background noise', 'No background noise', 'No background noise', 'No background noise', 'No background noise', 'No background noise', 'No background noise', 'No background noise'], ['Optimal speech rate', 'Optimal speech rate', 'Optimal speech rate', 'Optimal speech rate', 'Optimal speech rate', 'Optimal speech rate', 'Optimal speech rate', 'Optimal speech rate'], ['Mostly desired emotions', 'Mostly desired emotions', 'Mostly desired emotions', 'Mostly desired emotions', 'Mostly desired emotions', 'Mostly desired emotions', 'Mostly desired emotions', 'Mostly desired emotions'], ['Speech is fully intelligible', 'Speech is fully intelligible', 'Speech is fully intelligible', 'Speech is fully intelligible', 'Speech is fully intelligible', 'Speech is fully intelligible', 'Speech is fully intelligible', 'Speech is fully intelligible'], ['Optimal gesturing', 'Optimal gesturing', 'Active gesturing', 'Active gesturing', 'Active gesturing', 'Active gesturing', 'Active gesturing', 'Inactive gesturing'], ['You often look away', 'You often look away', 'You often look away', 'You often look away', None, 'You often look away', 'You often look away', 'You often look away'], ['Too dark lighting', 'Too dark lighting', 'Too dark lighting', 'Optimal lighting', 'Too dark lighting', 'Too dark lighting', 'Too dark lighting', 'Too dark lighting']]\n",
      "[[True, True, True, True, True, True, True, True], [True, True, True, True, True, True, True, True], [True, True, True, True, True, True, True, True], [True, True, True, True, True, True, True, True], [True, True, False, False, False, False, False, True], [False, False, False, False, True, False, False, False], [False, False, False, True, False, False, False, False]]\n",
      "Moviepy - Building video data/cs_china_short_painted.mp4.\n",
      "MoviePy - Writing audio in cs_china_short_paintedTEMP_MPY_wvf_snd.mp3\n"
     ]
    },
    {
     "name": "stderr",
     "output_type": "stream",
     "text": [
      "                                                                                                                                                                                                                                                                "
     ]
    },
    {
     "name": "stdout",
     "output_type": "stream",
     "text": [
      "MoviePy - Done.\n",
      "Moviepy - Writing video data/cs_china_short_painted.mp4\n",
      "\n"
     ]
    },
    {
     "name": "stderr",
     "output_type": "stream",
     "text": [
      "                                                                                                                                                                                                                                                                "
     ]
    },
    {
     "name": "stdout",
     "output_type": "stream",
     "text": [
      "Moviepy - Done !\n",
      "Moviepy - video ready data/cs_china_short_painted.mp4\n"
     ]
    }
   ],
   "source": [
    "painted_path = processing.draw()"
   ]
  },
  {
   "cell_type": "code",
   "execution_count": 37,
   "metadata": {
    "colab": {
     "base_uri": "https://localhost:8080/",
     "height": 503
    },
    "id": "Y2TggR_cuXa8",
    "outputId": "3d40f481-d230-4f0f-fbc5-330166d6e875"
   },
   "outputs": [],
   "source": [
    "video_path = painted_path\n",
    "video_clip = VideoFileClip(video_path)\n",
    "#video_clip.ipython_display(width=640)"
   ]
  },
  {
   "cell_type": "markdown",
   "metadata": {},
   "source": [
    "## Mutko presentation"
   ]
  },
  {
   "cell_type": "code",
   "execution_count": 22,
   "metadata": {
    "colab": {
     "base_uri": "https://localhost:8080/"
    },
    "id": "JdUiHA6nStg4",
    "outputId": "31ec89e8-441e-4e72-ae76-bdc0c2cc74b5"
   },
   "outputs": [
    {
     "name": "stderr",
     "output_type": "stream",
     "text": [
      "  0%|                                                                                                                                                                                                                                    | 0/11 [00:00<?, ?it/s]"
     ]
    },
    {
     "name": "stdout",
     "output_type": "stream",
     "text": [
      "max() arg is an empty sequence\n",
      "max() arg is an empty sequence\n",
      "max() arg is an empty sequence\n",
      "max() arg is an empty sequence\n",
      "max() arg is an empty sequence\n",
      "max() arg is an empty sequence\n",
      "max() arg is an empty sequence\n",
      "max() arg is an empty sequence\n",
      "max() arg is an empty sequence\n"
     ]
    },
    {
     "name": "stderr",
     "output_type": "stream",
     "text": [
      "I0000 00:00:1745959174.671185 9296840 gl_context.cc:369] GL version: 2.1 (2.1 ATI-5.2.4), renderer: AMD Radeon Pro 5500M OpenGL Engine\n",
      "W0000 00:00:1745959174.674293 9297549 inference_feedback_manager.cc:114] Feedback manager requires a model with a single signature inference. Disabling support for feedback tensors.\n",
      "W0000 00:00:1745959174.693241 9297551 inference_feedback_manager.cc:114] Feedback manager requires a model with a single signature inference. Disabling support for feedback tensors.\n",
      "I0000 00:00:1745959174.723615 9296840 gl_context.cc:369] GL version: 2.1 (2.1 ATI-5.2.4), renderer: AMD Radeon Pro 5500M OpenGL Engine\n",
      "W0000 00:00:1745959174.727274 9297568 inference_feedback_manager.cc:114] Feedback manager requires a model with a single signature inference. Disabling support for feedback tensors.\n",
      "W0000 00:00:1745959174.742165 9297570 inference_feedback_manager.cc:114] Feedback manager requires a model with a single signature inference. Disabling support for feedback tensors.\n",
      "I0000 00:00:1745959174.760787 9296840 gl_context.cc:369] GL version: 2.1 (2.1 ATI-5.2.4), renderer: AMD Radeon Pro 5500M OpenGL Engine\n",
      "W0000 00:00:1745959174.764720 9297579 inference_feedback_manager.cc:114] Feedback manager requires a model with a single signature inference. Disabling support for feedback tensors.\n",
      "W0000 00:00:1745959174.781028 9297583 inference_feedback_manager.cc:114] Feedback manager requires a model with a single signature inference. Disabling support for feedback tensors.\n",
      "I0000 00:00:1745959174.798769 9296840 gl_context.cc:369] GL version: 2.1 (2.1 ATI-5.2.4), renderer: AMD Radeon Pro 5500M OpenGL Engine\n",
      "W0000 00:00:1745959174.802398 9297596 inference_feedback_manager.cc:114] Feedback manager requires a model with a single signature inference. Disabling support for feedback tensors.\n",
      "W0000 00:00:1745959174.816648 9297604 inference_feedback_manager.cc:114] Feedback manager requires a model with a single signature inference. Disabling support for feedback tensors.\n",
      "I0000 00:00:1745959174.834562 9296840 gl_context.cc:369] GL version: 2.1 (2.1 ATI-5.2.4), renderer: AMD Radeon Pro 5500M OpenGL Engine\n",
      "W0000 00:00:1745959174.838070 9297618 inference_feedback_manager.cc:114] Feedback manager requires a model with a single signature inference. Disabling support for feedback tensors.\n",
      "W0000 00:00:1745959174.854494 9297613 inference_feedback_manager.cc:114] Feedback manager requires a model with a single signature inference. Disabling support for feedback tensors.\n",
      "I0000 00:00:1745959174.872064 9296840 gl_context.cc:369] GL version: 2.1 (2.1 ATI-5.2.4), renderer: AMD Radeon Pro 5500M OpenGL Engine\n",
      "W0000 00:00:1745959174.875618 9297630 inference_feedback_manager.cc:114] Feedback manager requires a model with a single signature inference. Disabling support for feedback tensors.\n",
      "W0000 00:00:1745959174.895539 9297634 inference_feedback_manager.cc:114] Feedback manager requires a model with a single signature inference. Disabling support for feedback tensors.\n",
      "I0000 00:00:1745959174.929249 9296840 gl_context.cc:369] GL version: 2.1 (2.1 ATI-5.2.4), renderer: AMD Radeon Pro 5500M OpenGL Engine\n",
      "W0000 00:00:1745959174.933177 9297647 inference_feedback_manager.cc:114] Feedback manager requires a model with a single signature inference. Disabling support for feedback tensors.\n",
      "W0000 00:00:1745959174.951399 9297646 inference_feedback_manager.cc:114] Feedback manager requires a model with a single signature inference. Disabling support for feedback tensors.\n",
      "I0000 00:00:1745959174.986217 9296840 gl_context.cc:369] GL version: 2.1 (2.1 ATI-5.2.4), renderer: AMD Radeon Pro 5500M OpenGL Engine\n",
      "W0000 00:00:1745959174.989908 9297662 inference_feedback_manager.cc:114] Feedback manager requires a model with a single signature inference. Disabling support for feedback tensors.\n",
      "W0000 00:00:1745959175.004872 9297659 inference_feedback_manager.cc:114] Feedback manager requires a model with a single signature inference. Disabling support for feedback tensors.\n",
      "I0000 00:00:1745959175.022777 9296840 gl_context.cc:369] GL version: 2.1 (2.1 ATI-5.2.4), renderer: AMD Radeon Pro 5500M OpenGL Engine\n",
      "W0000 00:00:1745959175.026308 9297678 inference_feedback_manager.cc:114] Feedback manager requires a model with a single signature inference. Disabling support for feedback tensors.\n",
      "W0000 00:00:1745959175.042669 9297675 inference_feedback_manager.cc:114] Feedback manager requires a model with a single signature inference. Disabling support for feedback tensors.\n",
      "I0000 00:00:1745959175.064345 9296840 gl_context.cc:369] GL version: 2.1 (2.1 ATI-5.2.4), renderer: AMD Radeon Pro 5500M OpenGL Engine\n",
      "W0000 00:00:1745959175.067947 9297694 inference_feedback_manager.cc:114] Feedback manager requires a model with a single signature inference. Disabling support for feedback tensors.\n",
      "W0000 00:00:1745959175.083231 9297693 inference_feedback_manager.cc:114] Feedback manager requires a model with a single signature inference. Disabling support for feedback tensors.\n",
      "I0000 00:00:1745959175.125758 9296840 gl_context.cc:369] GL version: 2.1 (2.1 ATI-5.2.4), renderer: AMD Radeon Pro 5500M OpenGL Engine\n",
      "W0000 00:00:1745959175.249036 9297710 inference_feedback_manager.cc:114] Feedback manager requires a model with a single signature inference. Disabling support for feedback tensors.\n",
      "W0000 00:00:1745959175.282649 9297716 inference_feedback_manager.cc:114] Feedback manager requires a model with a single signature inference. Disabling support for feedback tensors.\n",
      "I0000 00:00:1745959175.369633 9296840 gl_context.cc:369] GL version: 2.1 (2.1 ATI-5.2.4), renderer: AMD Radeon Pro 5500M OpenGL Engine\n",
      "W0000 00:00:1745959175.481862 9297728 inference_feedback_manager.cc:114] Feedback manager requires a model with a single signature inference. Disabling support for feedback tensors.\n",
      "W0000 00:00:1745959175.512161 9297728 inference_feedback_manager.cc:114] Feedback manager requires a model with a single signature inference. Disabling support for feedback tensors.\n",
      "I0000 00:00:1745959175.621644 9296840 gl_context.cc:369] GL version: 2.1 (2.1 ATI-5.2.4), renderer: AMD Radeon Pro 5500M OpenGL Engine\n",
      "W0000 00:00:1745959175.739787 9297746 inference_feedback_manager.cc:114] Feedback manager requires a model with a single signature inference. Disabling support for feedback tensors.\n",
      "W0000 00:00:1745959175.772695 9297746 inference_feedback_manager.cc:114] Feedback manager requires a model with a single signature inference. Disabling support for feedback tensors.\n",
      "I0000 00:00:1745959175.873383 9296840 gl_context.cc:369] GL version: 2.1 (2.1 ATI-5.2.4), renderer: AMD Radeon Pro 5500M OpenGL Engine\n",
      "W0000 00:00:1745959175.983101 9297769 inference_feedback_manager.cc:114] Feedback manager requires a model with a single signature inference. Disabling support for feedback tensors.\n",
      "W0000 00:00:1745959176.022911 9297778 inference_feedback_manager.cc:114] Feedback manager requires a model with a single signature inference. Disabling support for feedback tensors.\n",
      "W0000 00:00:1745959176.087523 9297780 landmark_projection_calculator.cc:186] Using NORM_RECT without IMAGE_DIMENSIONS is only supported for the square ROI. Provide IMAGE_DIMENSIONS or use PROJECTION_MATRIX.\n",
      "I0000 00:00:1745959176.125518 9296840 gl_context.cc:369] GL version: 2.1 (2.1 ATI-5.2.4), renderer: AMD Radeon Pro 5500M OpenGL Engine\n",
      "W0000 00:00:1745959176.237160 9297788 inference_feedback_manager.cc:114] Feedback manager requires a model with a single signature inference. Disabling support for feedback tensors.\n",
      "W0000 00:00:1745959176.268037 9297788 inference_feedback_manager.cc:114] Feedback manager requires a model with a single signature inference. Disabling support for feedback tensors.\n",
      "I0000 00:00:1745959176.396171 9296840 gl_context.cc:369] GL version: 2.1 (2.1 ATI-5.2.4), renderer: AMD Radeon Pro 5500M OpenGL Engine\n",
      "W0000 00:00:1745959176.509677 9297805 inference_feedback_manager.cc:114] Feedback manager requires a model with a single signature inference. Disabling support for feedback tensors.\n",
      "W0000 00:00:1745959176.540683 9297805 inference_feedback_manager.cc:114] Feedback manager requires a model with a single signature inference. Disabling support for feedback tensors.\n",
      "I0000 00:00:1745959176.648188 9296840 gl_context.cc:369] GL version: 2.1 (2.1 ATI-5.2.4), renderer: AMD Radeon Pro 5500M OpenGL Engine\n",
      "W0000 00:00:1745959176.764507 9297831 inference_feedback_manager.cc:114] Feedback manager requires a model with a single signature inference. Disabling support for feedback tensors.\n",
      "W0000 00:00:1745959176.797202 9297831 inference_feedback_manager.cc:114] Feedback manager requires a model with a single signature inference. Disabling support for feedback tensors.\n",
      "I0000 00:00:1745959176.900172 9296840 gl_context.cc:369] GL version: 2.1 (2.1 ATI-5.2.4), renderer: AMD Radeon Pro 5500M OpenGL Engine\n",
      "W0000 00:00:1745959177.016521 9297849 inference_feedback_manager.cc:114] Feedback manager requires a model with a single signature inference. Disabling support for feedback tensors.\n",
      "W0000 00:00:1745959177.048941 9297849 inference_feedback_manager.cc:114] Feedback manager requires a model with a single signature inference. Disabling support for feedback tensors.\n",
      "I0000 00:00:1745959177.192253 9296840 gl_context.cc:369] GL version: 2.1 (2.1 ATI-5.2.4), renderer: AMD Radeon Pro 5500M OpenGL Engine\n",
      "W0000 00:00:1745959177.300842 9297865 inference_feedback_manager.cc:114] Feedback manager requires a model with a single signature inference. Disabling support for feedback tensors.\n",
      "W0000 00:00:1745959177.331964 9297865 inference_feedback_manager.cc:114] Feedback manager requires a model with a single signature inference. Disabling support for feedback tensors.\n",
      "I0000 00:00:1745959177.490332 9296840 gl_context.cc:369] GL version: 2.1 (2.1 ATI-5.2.4), renderer: AMD Radeon Pro 5500M OpenGL Engine\n",
      "W0000 00:00:1745959177.596350 9297885 inference_feedback_manager.cc:114] Feedback manager requires a model with a single signature inference. Disabling support for feedback tensors.\n",
      "W0000 00:00:1745959177.627773 9297885 inference_feedback_manager.cc:114] Feedback manager requires a model with a single signature inference. Disabling support for feedback tensors.\n",
      "I0000 00:00:1745959177.802062 9296840 gl_context.cc:369] GL version: 2.1 (2.1 ATI-5.2.4), renderer: AMD Radeon Pro 5500M OpenGL Engine\n",
      "W0000 00:00:1745959177.910399 9297910 inference_feedback_manager.cc:114] Feedback manager requires a model with a single signature inference. Disabling support for feedback tensors.\n",
      "W0000 00:00:1745959177.942026 9297910 inference_feedback_manager.cc:114] Feedback manager requires a model with a single signature inference. Disabling support for feedback tensors.\n",
      "I0000 00:00:1745959181.939295 9296840 gl_context.cc:369] GL version: 2.1 (2.1 ATI-5.2.4), renderer: AMD Radeon Pro 5500M OpenGL Engine\n",
      "W0000 00:00:1745959181.940184 9296840 face_landmarker_graph.cc:174] Sets FaceBlendshapesGraph acceleration to xnnpack by default.\n",
      "W0000 00:00:1745959181.947833 9297967 inference_feedback_manager.cc:114] Feedback manager requires a model with a single signature inference. Disabling support for feedback tensors.\n",
      "W0000 00:00:1745959181.965726 9297978 inference_feedback_manager.cc:114] Feedback manager requires a model with a single signature inference. Disabling support for feedback tensors.\n",
      "I0000 00:00:1745959183.044041 9296840 gl_context.cc:369] GL version: 2.1 (2.1 ATI-5.2.4), renderer: AMD Radeon Pro 5500M OpenGL Engine\n",
      "W0000 00:00:1745959183.176481 9298013 inference_feedback_manager.cc:114] Feedback manager requires a model with a single signature inference. Disabling support for feedback tensors.\n",
      "W0000 00:00:1745959183.208371 9298022 inference_feedback_manager.cc:114] Feedback manager requires a model with a single signature inference. Disabling support for feedback tensors.\n",
      "  9%|████████████████████                                                                                                                                                                                                        | 1/11 [00:09<01:31,  9.17s/it]"
     ]
    },
    {
     "name": "stdout",
     "output_type": "stream",
     "text": [
      "max() arg is an empty sequence\n",
      "max() arg is an empty sequence\n",
      "max() arg is an empty sequence\n",
      "max() arg is an empty sequence\n",
      "max() arg is an empty sequence\n",
      "max() arg is an empty sequence\n",
      "max() arg is an empty sequence\n",
      "max() arg is an empty sequence\n"
     ]
    },
    {
     "name": "stderr",
     "output_type": "stream",
     "text": [
      "I0000 00:00:1745959183.847641 9296840 gl_context.cc:369] GL version: 2.1 (2.1 ATI-5.2.4), renderer: AMD Radeon Pro 5500M OpenGL Engine\n",
      "W0000 00:00:1745959183.850578 9298068 inference_feedback_manager.cc:114] Feedback manager requires a model with a single signature inference. Disabling support for feedback tensors.\n",
      "W0000 00:00:1745959183.873908 9298067 inference_feedback_manager.cc:114] Feedback manager requires a model with a single signature inference. Disabling support for feedback tensors.\n",
      "I0000 00:00:1745959183.907666 9296840 gl_context.cc:369] GL version: 2.1 (2.1 ATI-5.2.4), renderer: AMD Radeon Pro 5500M OpenGL Engine\n",
      "W0000 00:00:1745959183.911231 9298086 inference_feedback_manager.cc:114] Feedback manager requires a model with a single signature inference. Disabling support for feedback tensors.\n",
      "W0000 00:00:1745959183.926032 9298083 inference_feedback_manager.cc:114] Feedback manager requires a model with a single signature inference. Disabling support for feedback tensors.\n",
      "I0000 00:00:1745959183.945214 9296840 gl_context.cc:369] GL version: 2.1 (2.1 ATI-5.2.4), renderer: AMD Radeon Pro 5500M OpenGL Engine\n",
      "W0000 00:00:1745959183.948833 9298100 inference_feedback_manager.cc:114] Feedback manager requires a model with a single signature inference. Disabling support for feedback tensors.\n",
      "W0000 00:00:1745959183.964775 9298103 inference_feedback_manager.cc:114] Feedback manager requires a model with a single signature inference. Disabling support for feedback tensors.\n",
      "I0000 00:00:1745959183.985135 9296840 gl_context.cc:369] GL version: 2.1 (2.1 ATI-5.2.4), renderer: AMD Radeon Pro 5500M OpenGL Engine\n",
      "W0000 00:00:1745959183.988627 9298115 inference_feedback_manager.cc:114] Feedback manager requires a model with a single signature inference. Disabling support for feedback tensors.\n",
      "W0000 00:00:1745959184.002628 9298123 inference_feedback_manager.cc:114] Feedback manager requires a model with a single signature inference. Disabling support for feedback tensors.\n",
      "I0000 00:00:1745959184.019926 9296840 gl_context.cc:369] GL version: 2.1 (2.1 ATI-5.2.4), renderer: AMD Radeon Pro 5500M OpenGL Engine\n",
      "W0000 00:00:1745959184.023247 9298137 inference_feedback_manager.cc:114] Feedback manager requires a model with a single signature inference. Disabling support for feedback tensors.\n",
      "W0000 00:00:1745959184.038879 9298139 inference_feedback_manager.cc:114] Feedback manager requires a model with a single signature inference. Disabling support for feedback tensors.\n",
      "I0000 00:00:1745959184.056440 9296840 gl_context.cc:369] GL version: 2.1 (2.1 ATI-5.2.4), renderer: AMD Radeon Pro 5500M OpenGL Engine\n",
      "W0000 00:00:1745959184.060032 9298152 inference_feedback_manager.cc:114] Feedback manager requires a model with a single signature inference. Disabling support for feedback tensors.\n",
      "W0000 00:00:1745959184.074368 9298151 inference_feedback_manager.cc:114] Feedback manager requires a model with a single signature inference. Disabling support for feedback tensors.\n",
      "I0000 00:00:1745959184.096962 9296840 gl_context.cc:369] GL version: 2.1 (2.1 ATI-5.2.4), renderer: AMD Radeon Pro 5500M OpenGL Engine\n",
      "W0000 00:00:1745959184.100558 9298169 inference_feedback_manager.cc:114] Feedback manager requires a model with a single signature inference. Disabling support for feedback tensors.\n",
      "W0000 00:00:1745959184.116634 9298170 inference_feedback_manager.cc:114] Feedback manager requires a model with a single signature inference. Disabling support for feedback tensors.\n",
      "I0000 00:00:1745959184.134171 9296840 gl_context.cc:369] GL version: 2.1 (2.1 ATI-5.2.4), renderer: AMD Radeon Pro 5500M OpenGL Engine\n",
      "W0000 00:00:1745959184.138256 9298184 inference_feedback_manager.cc:114] Feedback manager requires a model with a single signature inference. Disabling support for feedback tensors.\n",
      "W0000 00:00:1745959184.152935 9298185 inference_feedback_manager.cc:114] Feedback manager requires a model with a single signature inference. Disabling support for feedback tensors.\n",
      "I0000 00:00:1745959184.170458 9296840 gl_context.cc:369] GL version: 2.1 (2.1 ATI-5.2.4), renderer: AMD Radeon Pro 5500M OpenGL Engine\n",
      "W0000 00:00:1745959184.173874 9298202 inference_feedback_manager.cc:114] Feedback manager requires a model with a single signature inference. Disabling support for feedback tensors.\n",
      "W0000 00:00:1745959184.192352 9298205 inference_feedback_manager.cc:114] Feedback manager requires a model with a single signature inference. Disabling support for feedback tensors.\n",
      "I0000 00:00:1745959184.210840 9296840 gl_context.cc:369] GL version: 2.1 (2.1 ATI-5.2.4), renderer: AMD Radeon Pro 5500M OpenGL Engine\n",
      "W0000 00:00:1745959184.214412 9298220 inference_feedback_manager.cc:114] Feedback manager requires a model with a single signature inference. Disabling support for feedback tensors.\n",
      "W0000 00:00:1745959184.228643 9298222 inference_feedback_manager.cc:114] Feedback manager requires a model with a single signature inference. Disabling support for feedback tensors.\n",
      "I0000 00:00:1745959184.248861 9296840 gl_context.cc:369] GL version: 2.1 (2.1 ATI-5.2.4), renderer: AMD Radeon Pro 5500M OpenGL Engine\n",
      "W0000 00:00:1745959184.359300 9298233 inference_feedback_manager.cc:114] Feedback manager requires a model with a single signature inference. Disabling support for feedback tensors.\n",
      "W0000 00:00:1745959184.392875 9298233 inference_feedback_manager.cc:114] Feedback manager requires a model with a single signature inference. Disabling support for feedback tensors.\n",
      "I0000 00:00:1745959184.554320 9296840 gl_context.cc:369] GL version: 2.1 (2.1 ATI-5.2.4), renderer: AMD Radeon Pro 5500M OpenGL Engine\n",
      "W0000 00:00:1745959184.665659 9298255 inference_feedback_manager.cc:114] Feedback manager requires a model with a single signature inference. Disabling support for feedback tensors.\n",
      "W0000 00:00:1745959184.699973 9298255 inference_feedback_manager.cc:114] Feedback manager requires a model with a single signature inference. Disabling support for feedback tensors.\n",
      "I0000 00:00:1745959184.835492 9296840 gl_context.cc:369] GL version: 2.1 (2.1 ATI-5.2.4), renderer: AMD Radeon Pro 5500M OpenGL Engine\n",
      "W0000 00:00:1745959184.951953 9298275 inference_feedback_manager.cc:114] Feedback manager requires a model with a single signature inference. Disabling support for feedback tensors.\n",
      "W0000 00:00:1745959184.986590 9298275 inference_feedback_manager.cc:114] Feedback manager requires a model with a single signature inference. Disabling support for feedback tensors.\n",
      "I0000 00:00:1745959185.127183 9296840 gl_context.cc:369] GL version: 2.1 (2.1 ATI-5.2.4), renderer: AMD Radeon Pro 5500M OpenGL Engine\n",
      "W0000 00:00:1745959185.249057 9298301 inference_feedback_manager.cc:114] Feedback manager requires a model with a single signature inference. Disabling support for feedback tensors.\n",
      "W0000 00:00:1745959185.281518 9298301 inference_feedback_manager.cc:114] Feedback manager requires a model with a single signature inference. Disabling support for feedback tensors.\n",
      "I0000 00:00:1745959185.452548 9296840 gl_context.cc:369] GL version: 2.1 (2.1 ATI-5.2.4), renderer: AMD Radeon Pro 5500M OpenGL Engine\n",
      "W0000 00:00:1745959185.569369 9298320 inference_feedback_manager.cc:114] Feedback manager requires a model with a single signature inference. Disabling support for feedback tensors.\n",
      "W0000 00:00:1745959185.601668 9298330 inference_feedback_manager.cc:114] Feedback manager requires a model with a single signature inference. Disabling support for feedback tensors.\n",
      "I0000 00:00:1745959185.724407 9296840 gl_context.cc:369] GL version: 2.1 (2.1 ATI-5.2.4), renderer: AMD Radeon Pro 5500M OpenGL Engine\n",
      "W0000 00:00:1745959185.845885 9298346 inference_feedback_manager.cc:114] Feedback manager requires a model with a single signature inference. Disabling support for feedback tensors.\n",
      "W0000 00:00:1745959185.878146 9298346 inference_feedback_manager.cc:114] Feedback manager requires a model with a single signature inference. Disabling support for feedback tensors.\n",
      "I0000 00:00:1745959186.007941 9296840 gl_context.cc:369] GL version: 2.1 (2.1 ATI-5.2.4), renderer: AMD Radeon Pro 5500M OpenGL Engine\n",
      "W0000 00:00:1745959186.118877 9298366 inference_feedback_manager.cc:114] Feedback manager requires a model with a single signature inference. Disabling support for feedback tensors.\n",
      "W0000 00:00:1745959186.157092 9298366 inference_feedback_manager.cc:114] Feedback manager requires a model with a single signature inference. Disabling support for feedback tensors.\n",
      "I0000 00:00:1745959186.280729 9296840 gl_context.cc:369] GL version: 2.1 (2.1 ATI-5.2.4), renderer: AMD Radeon Pro 5500M OpenGL Engine\n",
      "W0000 00:00:1745959186.397107 9298380 inference_feedback_manager.cc:114] Feedback manager requires a model with a single signature inference. Disabling support for feedback tensors.\n",
      "W0000 00:00:1745959186.429626 9298380 inference_feedback_manager.cc:114] Feedback manager requires a model with a single signature inference. Disabling support for feedback tensors.\n",
      "I0000 00:00:1745959186.553607 9296840 gl_context.cc:369] GL version: 2.1 (2.1 ATI-5.2.4), renderer: AMD Radeon Pro 5500M OpenGL Engine\n",
      "W0000 00:00:1745959186.666261 9298396 inference_feedback_manager.cc:114] Feedback manager requires a model with a single signature inference. Disabling support for feedback tensors.\n",
      "W0000 00:00:1745959186.699134 9298396 inference_feedback_manager.cc:114] Feedback manager requires a model with a single signature inference. Disabling support for feedback tensors.\n",
      "I0000 00:00:1745959186.878836 9296840 gl_context.cc:369] GL version: 2.1 (2.1 ATI-5.2.4), renderer: AMD Radeon Pro 5500M OpenGL Engine\n",
      "W0000 00:00:1745959186.998893 9298420 inference_feedback_manager.cc:114] Feedback manager requires a model with a single signature inference. Disabling support for feedback tensors.\n",
      "W0000 00:00:1745959187.031476 9298420 inference_feedback_manager.cc:114] Feedback manager requires a model with a single signature inference. Disabling support for feedback tensors.\n",
      "I0000 00:00:1745959187.157452 9296840 gl_context.cc:369] GL version: 2.1 (2.1 ATI-5.2.4), renderer: AMD Radeon Pro 5500M OpenGL Engine\n",
      "W0000 00:00:1745959187.278877 9298438 inference_feedback_manager.cc:114] Feedback manager requires a model with a single signature inference. Disabling support for feedback tensors.\n",
      "W0000 00:00:1745959187.310619 9298438 inference_feedback_manager.cc:114] Feedback manager requires a model with a single signature inference. Disabling support for feedback tensors.\n",
      "I0000 00:00:1745959192.498271 9296840 gl_context.cc:369] GL version: 2.1 (2.1 ATI-5.2.4), renderer: AMD Radeon Pro 5500M OpenGL Engine\n",
      "W0000 00:00:1745959192.499025 9296840 face_landmarker_graph.cc:174] Sets FaceBlendshapesGraph acceleration to xnnpack by default.\n",
      "W0000 00:00:1745959192.506711 9298563 inference_feedback_manager.cc:114] Feedback manager requires a model with a single signature inference. Disabling support for feedback tensors.\n",
      "W0000 00:00:1745959192.524899 9298563 inference_feedback_manager.cc:114] Feedback manager requires a model with a single signature inference. Disabling support for feedback tensors.\n",
      " 18%|████████████████████████████████████████                                                                                                                                                                                    | 2/11 [00:19<01:26,  9.61s/it]"
     ]
    },
    {
     "name": "stdout",
     "output_type": "stream",
     "text": [
      "max() arg is an empty sequence\n",
      "max() arg is an empty sequence\n",
      "max() arg is an empty sequence\n",
      "max() arg is an empty sequence\n",
      "max() arg is an empty sequence\n",
      "max() arg is an empty sequence\n",
      "max() arg is an empty sequence\n",
      "max() arg is an empty sequence\n"
     ]
    },
    {
     "name": "stderr",
     "output_type": "stream",
     "text": [
      "I0000 00:00:1745959193.749695 9296840 gl_context.cc:369] GL version: 2.1 (2.1 ATI-5.2.4), renderer: AMD Radeon Pro 5500M OpenGL Engine\n",
      "W0000 00:00:1745959193.752492 9298610 inference_feedback_manager.cc:114] Feedback manager requires a model with a single signature inference. Disabling support for feedback tensors.\n",
      "W0000 00:00:1745959193.768974 9298609 inference_feedback_manager.cc:114] Feedback manager requires a model with a single signature inference. Disabling support for feedback tensors.\n",
      "I0000 00:00:1745959193.789962 9296840 gl_context.cc:369] GL version: 2.1 (2.1 ATI-5.2.4), renderer: AMD Radeon Pro 5500M OpenGL Engine\n",
      "W0000 00:00:1745959193.793366 9298628 inference_feedback_manager.cc:114] Feedback manager requires a model with a single signature inference. Disabling support for feedback tensors.\n",
      "W0000 00:00:1745959193.806544 9298625 inference_feedback_manager.cc:114] Feedback manager requires a model with a single signature inference. Disabling support for feedback tensors.\n",
      "I0000 00:00:1745959193.827314 9296840 gl_context.cc:369] GL version: 2.1 (2.1 ATI-5.2.4), renderer: AMD Radeon Pro 5500M OpenGL Engine\n",
      "W0000 00:00:1745959193.830563 9298644 inference_feedback_manager.cc:114] Feedback manager requires a model with a single signature inference. Disabling support for feedback tensors.\n",
      "W0000 00:00:1745959193.848620 9298650 inference_feedback_manager.cc:114] Feedback manager requires a model with a single signature inference. Disabling support for feedback tensors.\n",
      "I0000 00:00:1745959193.867048 9296840 gl_context.cc:369] GL version: 2.1 (2.1 ATI-5.2.4), renderer: AMD Radeon Pro 5500M OpenGL Engine\n",
      "W0000 00:00:1745959193.870444 9298659 inference_feedback_manager.cc:114] Feedback manager requires a model with a single signature inference. Disabling support for feedback tensors.\n",
      "W0000 00:00:1745959193.882998 9298660 inference_feedback_manager.cc:114] Feedback manager requires a model with a single signature inference. Disabling support for feedback tensors.\n",
      "I0000 00:00:1745959193.902829 9296840 gl_context.cc:369] GL version: 2.1 (2.1 ATI-5.2.4), renderer: AMD Radeon Pro 5500M OpenGL Engine\n",
      "W0000 00:00:1745959193.906276 9298677 inference_feedback_manager.cc:114] Feedback manager requires a model with a single signature inference. Disabling support for feedback tensors.\n",
      "W0000 00:00:1745959193.921924 9298675 inference_feedback_manager.cc:114] Feedback manager requires a model with a single signature inference. Disabling support for feedback tensors.\n",
      "I0000 00:00:1745959193.952503 9296840 gl_context.cc:369] GL version: 2.1 (2.1 ATI-5.2.4), renderer: AMD Radeon Pro 5500M OpenGL Engine\n",
      "W0000 00:00:1745959193.955964 9298700 inference_feedback_manager.cc:114] Feedback manager requires a model with a single signature inference. Disabling support for feedback tensors.\n",
      "W0000 00:00:1745959193.970902 9298697 inference_feedback_manager.cc:114] Feedback manager requires a model with a single signature inference. Disabling support for feedback tensors.\n",
      "I0000 00:00:1745959194.041423 9296840 gl_context.cc:369] GL version: 2.1 (2.1 ATI-5.2.4), renderer: AMD Radeon Pro 5500M OpenGL Engine\n",
      "W0000 00:00:1745959194.049206 9298713 inference_feedback_manager.cc:114] Feedback manager requires a model with a single signature inference. Disabling support for feedback tensors.\n",
      "W0000 00:00:1745959194.065027 9298711 inference_feedback_manager.cc:114] Feedback manager requires a model with a single signature inference. Disabling support for feedback tensors.\n",
      "I0000 00:00:1745959194.140722 9296840 gl_context.cc:369] GL version: 2.1 (2.1 ATI-5.2.4), renderer: AMD Radeon Pro 5500M OpenGL Engine\n",
      "W0000 00:00:1745959194.143678 9298725 inference_feedback_manager.cc:114] Feedback manager requires a model with a single signature inference. Disabling support for feedback tensors.\n",
      "W0000 00:00:1745959194.164762 9298728 inference_feedback_manager.cc:114] Feedback manager requires a model with a single signature inference. Disabling support for feedback tensors.\n",
      "I0000 00:00:1745959194.244202 9296840 gl_context.cc:369] GL version: 2.1 (2.1 ATI-5.2.4), renderer: AMD Radeon Pro 5500M OpenGL Engine\n",
      "W0000 00:00:1745959194.251857 9298744 inference_feedback_manager.cc:114] Feedback manager requires a model with a single signature inference. Disabling support for feedback tensors.\n",
      "W0000 00:00:1745959194.266874 9298745 inference_feedback_manager.cc:114] Feedback manager requires a model with a single signature inference. Disabling support for feedback tensors.\n",
      "I0000 00:00:1745959194.347516 9296840 gl_context.cc:369] GL version: 2.1 (2.1 ATI-5.2.4), renderer: AMD Radeon Pro 5500M OpenGL Engine\n",
      "W0000 00:00:1745959194.355197 9298765 inference_feedback_manager.cc:114] Feedback manager requires a model with a single signature inference. Disabling support for feedback tensors.\n",
      "W0000 00:00:1745959194.371947 9298764 inference_feedback_manager.cc:114] Feedback manager requires a model with a single signature inference. Disabling support for feedback tensors.\n",
      "I0000 00:00:1745959194.453932 9296840 gl_context.cc:369] GL version: 2.1 (2.1 ATI-5.2.4), renderer: AMD Radeon Pro 5500M OpenGL Engine\n",
      "W0000 00:00:1745959194.561523 9298783 inference_feedback_manager.cc:114] Feedback manager requires a model with a single signature inference. Disabling support for feedback tensors.\n",
      "W0000 00:00:1745959194.595016 9298783 inference_feedback_manager.cc:114] Feedback manager requires a model with a single signature inference. Disabling support for feedback tensors.\n",
      "I0000 00:00:1745959194.718452 9296840 gl_context.cc:369] GL version: 2.1 (2.1 ATI-5.2.4), renderer: AMD Radeon Pro 5500M OpenGL Engine\n",
      "W0000 00:00:1745959194.831815 9298802 inference_feedback_manager.cc:114] Feedback manager requires a model with a single signature inference. Disabling support for feedback tensors.\n",
      "W0000 00:00:1745959194.867150 9298802 inference_feedback_manager.cc:114] Feedback manager requires a model with a single signature inference. Disabling support for feedback tensors.\n",
      "I0000 00:00:1745959194.989099 9296840 gl_context.cc:369] GL version: 2.1 (2.1 ATI-5.2.4), renderer: AMD Radeon Pro 5500M OpenGL Engine\n",
      "W0000 00:00:1745959195.102754 9298818 inference_feedback_manager.cc:114] Feedback manager requires a model with a single signature inference. Disabling support for feedback tensors.\n",
      "W0000 00:00:1745959195.133704 9298818 inference_feedback_manager.cc:114] Feedback manager requires a model with a single signature inference. Disabling support for feedback tensors.\n",
      "I0000 00:00:1745959195.262541 9296840 gl_context.cc:369] GL version: 2.1 (2.1 ATI-5.2.4), renderer: AMD Radeon Pro 5500M OpenGL Engine\n",
      "W0000 00:00:1745959195.369882 9298838 inference_feedback_manager.cc:114] Feedback manager requires a model with a single signature inference. Disabling support for feedback tensors.\n",
      "W0000 00:00:1745959195.406476 9298838 inference_feedback_manager.cc:114] Feedback manager requires a model with a single signature inference. Disabling support for feedback tensors.\n",
      "I0000 00:00:1745959195.527982 9296840 gl_context.cc:369] GL version: 2.1 (2.1 ATI-5.2.4), renderer: AMD Radeon Pro 5500M OpenGL Engine\n",
      "W0000 00:00:1745959195.652666 9298857 inference_feedback_manager.cc:114] Feedback manager requires a model with a single signature inference. Disabling support for feedback tensors.\n",
      "W0000 00:00:1745959195.686056 9298857 inference_feedback_manager.cc:114] Feedback manager requires a model with a single signature inference. Disabling support for feedback tensors.\n",
      "I0000 00:00:1745959195.813128 9296840 gl_context.cc:369] GL version: 2.1 (2.1 ATI-5.2.4), renderer: AMD Radeon Pro 5500M OpenGL Engine\n",
      "W0000 00:00:1745959195.926875 9298881 inference_feedback_manager.cc:114] Feedback manager requires a model with a single signature inference. Disabling support for feedback tensors.\n",
      "W0000 00:00:1745959195.961163 9298881 inference_feedback_manager.cc:114] Feedback manager requires a model with a single signature inference. Disabling support for feedback tensors.\n",
      "I0000 00:00:1745959196.086532 9296840 gl_context.cc:369] GL version: 2.1 (2.1 ATI-5.2.4), renderer: AMD Radeon Pro 5500M OpenGL Engine\n",
      "W0000 00:00:1745959196.209611 9298902 inference_feedback_manager.cc:114] Feedback manager requires a model with a single signature inference. Disabling support for feedback tensors.\n",
      "W0000 00:00:1745959196.242816 9298902 inference_feedback_manager.cc:114] Feedback manager requires a model with a single signature inference. Disabling support for feedback tensors.\n",
      "I0000 00:00:1745959196.364412 9296840 gl_context.cc:369] GL version: 2.1 (2.1 ATI-5.2.4), renderer: AMD Radeon Pro 5500M OpenGL Engine\n",
      "W0000 00:00:1745959196.479681 9298917 inference_feedback_manager.cc:114] Feedback manager requires a model with a single signature inference. Disabling support for feedback tensors.\n",
      "W0000 00:00:1745959196.513326 9298925 inference_feedback_manager.cc:114] Feedback manager requires a model with a single signature inference. Disabling support for feedback tensors.\n",
      "I0000 00:00:1745959196.645174 9296840 gl_context.cc:369] GL version: 2.1 (2.1 ATI-5.2.4), renderer: AMD Radeon Pro 5500M OpenGL Engine\n",
      "W0000 00:00:1745959196.766751 9298942 inference_feedback_manager.cc:114] Feedback manager requires a model with a single signature inference. Disabling support for feedback tensors.\n",
      "W0000 00:00:1745959196.797950 9298942 inference_feedback_manager.cc:114] Feedback manager requires a model with a single signature inference. Disabling support for feedback tensors.\n",
      "I0000 00:00:1745959196.923199 9296840 gl_context.cc:369] GL version: 2.1 (2.1 ATI-5.2.4), renderer: AMD Radeon Pro 5500M OpenGL Engine\n",
      "W0000 00:00:1745959197.044900 9298960 inference_feedback_manager.cc:114] Feedback manager requires a model with a single signature inference. Disabling support for feedback tensors.\n",
      "W0000 00:00:1745959197.078437 9298960 inference_feedback_manager.cc:114] Feedback manager requires a model with a single signature inference. Disabling support for feedback tensors.\n",
      "I0000 00:00:1745959197.202703 9296840 gl_context.cc:369] GL version: 2.1 (2.1 ATI-5.2.4), renderer: AMD Radeon Pro 5500M OpenGL Engine\n",
      "W0000 00:00:1745959197.320394 9298997 inference_feedback_manager.cc:114] Feedback manager requires a model with a single signature inference. Disabling support for feedback tensors.\n",
      "W0000 00:00:1745959197.352538 9298997 inference_feedback_manager.cc:114] Feedback manager requires a model with a single signature inference. Disabling support for feedback tensors.\n",
      "I0000 00:00:1745959202.203053 9296840 gl_context.cc:369] GL version: 2.1 (2.1 ATI-5.2.4), renderer: AMD Radeon Pro 5500M OpenGL Engine\n",
      "W0000 00:00:1745959202.203814 9296840 face_landmarker_graph.cc:174] Sets FaceBlendshapesGraph acceleration to xnnpack by default.\n",
      "W0000 00:00:1745959202.211821 9299088 inference_feedback_manager.cc:114] Feedback manager requires a model with a single signature inference. Disabling support for feedback tensors.\n",
      "W0000 00:00:1745959202.229856 9299088 inference_feedback_manager.cc:114] Feedback manager requires a model with a single signature inference. Disabling support for feedback tensors.\n",
      " 27%|███████████████████████████████████████████████████████████▉                                                                                                                                                                | 3/11 [00:28<01:17,  9.65s/it]"
     ]
    },
    {
     "name": "stdout",
     "output_type": "stream",
     "text": [
      "max() arg is an empty sequence\n",
      "max() arg is an empty sequence\n",
      "max() arg is an empty sequence\n",
      "max() arg is an empty sequence\n",
      "max() arg is an empty sequence\n",
      "max() arg is an empty sequence\n",
      "max() arg is an empty sequence\n",
      "max() arg is an empty sequence\n",
      "max() arg is an empty sequence\n",
      "max() arg is an empty sequence\n"
     ]
    },
    {
     "name": "stderr",
     "output_type": "stream",
     "text": [
      "I0000 00:00:1745959203.405506 9296840 gl_context.cc:369] GL version: 2.1 (2.1 ATI-5.2.4), renderer: AMD Radeon Pro 5500M OpenGL Engine\n",
      "W0000 00:00:1745959203.408337 9299134 inference_feedback_manager.cc:114] Feedback manager requires a model with a single signature inference. Disabling support for feedback tensors.\n",
      "W0000 00:00:1745959203.425618 9299137 inference_feedback_manager.cc:114] Feedback manager requires a model with a single signature inference. Disabling support for feedback tensors.\n",
      "I0000 00:00:1745959203.483147 9296840 gl_context.cc:369] GL version: 2.1 (2.1 ATI-5.2.4), renderer: AMD Radeon Pro 5500M OpenGL Engine\n",
      "W0000 00:00:1745959203.486416 9299146 inference_feedback_manager.cc:114] Feedback manager requires a model with a single signature inference. Disabling support for feedback tensors.\n",
      "W0000 00:00:1745959203.499824 9299150 inference_feedback_manager.cc:114] Feedback manager requires a model with a single signature inference. Disabling support for feedback tensors.\n",
      "I0000 00:00:1745959203.537605 9296840 gl_context.cc:369] GL version: 2.1 (2.1 ATI-5.2.4), renderer: AMD Radeon Pro 5500M OpenGL Engine\n",
      "W0000 00:00:1745959203.541375 9299164 inference_feedback_manager.cc:114] Feedback manager requires a model with a single signature inference. Disabling support for feedback tensors.\n",
      "W0000 00:00:1745959203.562619 9299163 inference_feedback_manager.cc:114] Feedback manager requires a model with a single signature inference. Disabling support for feedback tensors.\n",
      "I0000 00:00:1745959203.642924 9296840 gl_context.cc:369] GL version: 2.1 (2.1 ATI-5.2.4), renderer: AMD Radeon Pro 5500M OpenGL Engine\n",
      "W0000 00:00:1745959203.646470 9299190 inference_feedback_manager.cc:114] Feedback manager requires a model with a single signature inference. Disabling support for feedback tensors.\n",
      "W0000 00:00:1745959203.665858 9299189 inference_feedback_manager.cc:114] Feedback manager requires a model with a single signature inference. Disabling support for feedback tensors.\n",
      "I0000 00:00:1745959203.744452 9296840 gl_context.cc:369] GL version: 2.1 (2.1 ATI-5.2.4), renderer: AMD Radeon Pro 5500M OpenGL Engine\n",
      "W0000 00:00:1745959203.747408 9299209 inference_feedback_manager.cc:114] Feedback manager requires a model with a single signature inference. Disabling support for feedback tensors.\n",
      "W0000 00:00:1745959203.764268 9299213 inference_feedback_manager.cc:114] Feedback manager requires a model with a single signature inference. Disabling support for feedback tensors.\n",
      "I0000 00:00:1745959203.787885 9296840 gl_context.cc:369] GL version: 2.1 (2.1 ATI-5.2.4), renderer: AMD Radeon Pro 5500M OpenGL Engine\n",
      "W0000 00:00:1745959203.791080 9299227 inference_feedback_manager.cc:114] Feedback manager requires a model with a single signature inference. Disabling support for feedback tensors.\n",
      "W0000 00:00:1745959203.804149 9299228 inference_feedback_manager.cc:114] Feedback manager requires a model with a single signature inference. Disabling support for feedback tensors.\n",
      "I0000 00:00:1745959203.828221 9296840 gl_context.cc:369] GL version: 2.1 (2.1 ATI-5.2.4), renderer: AMD Radeon Pro 5500M OpenGL Engine\n",
      "W0000 00:00:1745959203.831547 9299245 inference_feedback_manager.cc:114] Feedback manager requires a model with a single signature inference. Disabling support for feedback tensors.\n",
      "W0000 00:00:1745959203.846683 9299248 inference_feedback_manager.cc:114] Feedback manager requires a model with a single signature inference. Disabling support for feedback tensors.\n",
      "I0000 00:00:1745959203.867038 9296840 gl_context.cc:369] GL version: 2.1 (2.1 ATI-5.2.4), renderer: AMD Radeon Pro 5500M OpenGL Engine\n",
      "W0000 00:00:1745959203.873035 9299262 inference_feedback_manager.cc:114] Feedback manager requires a model with a single signature inference. Disabling support for feedback tensors.\n",
      "W0000 00:00:1745959203.887436 9299265 inference_feedback_manager.cc:114] Feedback manager requires a model with a single signature inference. Disabling support for feedback tensors.\n",
      "I0000 00:00:1745959203.905905 9296840 gl_context.cc:369] GL version: 2.1 (2.1 ATI-5.2.4), renderer: AMD Radeon Pro 5500M OpenGL Engine\n",
      "W0000 00:00:1745959203.909515 9299277 inference_feedback_manager.cc:114] Feedback manager requires a model with a single signature inference. Disabling support for feedback tensors.\n",
      "W0000 00:00:1745959203.925897 9299278 inference_feedback_manager.cc:114] Feedback manager requires a model with a single signature inference. Disabling support for feedback tensors.\n",
      "I0000 00:00:1745959203.944463 9296840 gl_context.cc:369] GL version: 2.1 (2.1 ATI-5.2.4), renderer: AMD Radeon Pro 5500M OpenGL Engine\n",
      "W0000 00:00:1745959203.947678 9299300 inference_feedback_manager.cc:114] Feedback manager requires a model with a single signature inference. Disabling support for feedback tensors.\n",
      "W0000 00:00:1745959203.962114 9299296 inference_feedback_manager.cc:114] Feedback manager requires a model with a single signature inference. Disabling support for feedback tensors.\n",
      "I0000 00:00:1745959203.989396 9296840 gl_context.cc:369] GL version: 2.1 (2.1 ATI-5.2.4), renderer: AMD Radeon Pro 5500M OpenGL Engine\n",
      "W0000 00:00:1745959204.099290 9299311 inference_feedback_manager.cc:114] Feedback manager requires a model with a single signature inference. Disabling support for feedback tensors.\n",
      "W0000 00:00:1745959204.128996 9299311 inference_feedback_manager.cc:114] Feedback manager requires a model with a single signature inference. Disabling support for feedback tensors.\n",
      "I0000 00:00:1745959204.250562 9296840 gl_context.cc:369] GL version: 2.1 (2.1 ATI-5.2.4), renderer: AMD Radeon Pro 5500M OpenGL Engine\n",
      "W0000 00:00:1745959204.362312 9299330 inference_feedback_manager.cc:114] Feedback manager requires a model with a single signature inference. Disabling support for feedback tensors.\n",
      "W0000 00:00:1745959204.395141 9299334 inference_feedback_manager.cc:114] Feedback manager requires a model with a single signature inference. Disabling support for feedback tensors.\n",
      "I0000 00:00:1745959204.519709 9296840 gl_context.cc:369] GL version: 2.1 (2.1 ATI-5.2.4), renderer: AMD Radeon Pro 5500M OpenGL Engine\n",
      "W0000 00:00:1745959204.629787 9299345 inference_feedback_manager.cc:114] Feedback manager requires a model with a single signature inference. Disabling support for feedback tensors.\n",
      "W0000 00:00:1745959204.667806 9299352 inference_feedback_manager.cc:114] Feedback manager requires a model with a single signature inference. Disabling support for feedback tensors.\n",
      "I0000 00:00:1745959204.793676 9296840 gl_context.cc:369] GL version: 2.1 (2.1 ATI-5.2.4), renderer: AMD Radeon Pro 5500M OpenGL Engine\n",
      "W0000 00:00:1745959204.907828 9299369 inference_feedback_manager.cc:114] Feedback manager requires a model with a single signature inference. Disabling support for feedback tensors.\n",
      "W0000 00:00:1745959204.944493 9299369 inference_feedback_manager.cc:114] Feedback manager requires a model with a single signature inference. Disabling support for feedback tensors.\n",
      "I0000 00:00:1745959205.066847 9296840 gl_context.cc:369] GL version: 2.1 (2.1 ATI-5.2.4), renderer: AMD Radeon Pro 5500M OpenGL Engine\n",
      "W0000 00:00:1745959205.180444 9299386 inference_feedback_manager.cc:114] Feedback manager requires a model with a single signature inference. Disabling support for feedback tensors.\n",
      "W0000 00:00:1745959205.214113 9299392 inference_feedback_manager.cc:114] Feedback manager requires a model with a single signature inference. Disabling support for feedback tensors.\n",
      "I0000 00:00:1745959205.298981 9296840 gl_context.cc:369] GL version: 2.1 (2.1 ATI-5.2.4), renderer: AMD Radeon Pro 5500M OpenGL Engine\n",
      "W0000 00:00:1745959205.412644 9299403 inference_feedback_manager.cc:114] Feedback manager requires a model with a single signature inference. Disabling support for feedback tensors.\n",
      "W0000 00:00:1745959205.449524 9299403 inference_feedback_manager.cc:114] Feedback manager requires a model with a single signature inference. Disabling support for feedback tensors.\n",
      "I0000 00:00:1745959205.570219 9296840 gl_context.cc:369] GL version: 2.1 (2.1 ATI-5.2.4), renderer: AMD Radeon Pro 5500M OpenGL Engine\n",
      "W0000 00:00:1745959205.685929 9299422 inference_feedback_manager.cc:114] Feedback manager requires a model with a single signature inference. Disabling support for feedback tensors.\n",
      "W0000 00:00:1745959205.719092 9299422 inference_feedback_manager.cc:114] Feedback manager requires a model with a single signature inference. Disabling support for feedback tensors.\n",
      "I0000 00:00:1745959205.849363 9296840 gl_context.cc:369] GL version: 2.1 (2.1 ATI-5.2.4), renderer: AMD Radeon Pro 5500M OpenGL Engine\n",
      "W0000 00:00:1745959205.960919 9299446 inference_feedback_manager.cc:114] Feedback manager requires a model with a single signature inference. Disabling support for feedback tensors.\n",
      "W0000 00:00:1745959205.993279 9299454 inference_feedback_manager.cc:114] Feedback manager requires a model with a single signature inference. Disabling support for feedback tensors.\n",
      "I0000 00:00:1745959206.142180 9296840 gl_context.cc:369] GL version: 2.1 (2.1 ATI-5.2.4), renderer: AMD Radeon Pro 5500M OpenGL Engine\n",
      "W0000 00:00:1745959206.253597 9299465 inference_feedback_manager.cc:114] Feedback manager requires a model with a single signature inference. Disabling support for feedback tensors.\n",
      "W0000 00:00:1745959206.284570 9299465 inference_feedback_manager.cc:114] Feedback manager requires a model with a single signature inference. Disabling support for feedback tensors.\n",
      "I0000 00:00:1745959206.431518 9296840 gl_context.cc:369] GL version: 2.1 (2.1 ATI-5.2.4), renderer: AMD Radeon Pro 5500M OpenGL Engine\n",
      "W0000 00:00:1745959206.547411 9299478 inference_feedback_manager.cc:114] Feedback manager requires a model with a single signature inference. Disabling support for feedback tensors.\n",
      "W0000 00:00:1745959206.580545 9299478 inference_feedback_manager.cc:114] Feedback manager requires a model with a single signature inference. Disabling support for feedback tensors.\n",
      "I0000 00:00:1745959206.735326 9296840 gl_context.cc:369] GL version: 2.1 (2.1 ATI-5.2.4), renderer: AMD Radeon Pro 5500M OpenGL Engine\n",
      "W0000 00:00:1745959206.851850 9299513 inference_feedback_manager.cc:114] Feedback manager requires a model with a single signature inference. Disabling support for feedback tensors.\n",
      "W0000 00:00:1745959206.883703 9299513 inference_feedback_manager.cc:114] Feedback manager requires a model with a single signature inference. Disabling support for feedback tensors.\n",
      "I0000 00:00:1745959211.604598 9296840 gl_context.cc:369] GL version: 2.1 (2.1 ATI-5.2.4), renderer: AMD Radeon Pro 5500M OpenGL Engine\n",
      "W0000 00:00:1745959211.605274 9296840 face_landmarker_graph.cc:174] Sets FaceBlendshapesGraph acceleration to xnnpack by default.\n",
      "W0000 00:00:1745959211.612660 9299598 inference_feedback_manager.cc:114] Feedback manager requires a model with a single signature inference. Disabling support for feedback tensors.\n",
      "W0000 00:00:1745959211.630676 9299598 inference_feedback_manager.cc:114] Feedback manager requires a model with a single signature inference. Disabling support for feedback tensors.\n",
      " 36%|████████████████████████████████████████████████████████████████████████████████                                                                                                                                            | 4/11 [00:38<01:06,  9.51s/it]"
     ]
    },
    {
     "name": "stdout",
     "output_type": "stream",
     "text": [
      "max() arg is an empty sequence\n",
      "max() arg is an empty sequence\n",
      "max() arg is an empty sequence\n",
      "max() arg is an empty sequence\n",
      "max() arg is an empty sequence\n",
      "max() arg is an empty sequence\n",
      "max() arg is an empty sequence\n",
      "max() arg is an empty sequence\n",
      "max() arg is an empty sequence\n",
      "max() arg is an empty sequence\n"
     ]
    },
    {
     "name": "stderr",
     "output_type": "stream",
     "text": [
      "I0000 00:00:1745959212.645669 9296840 gl_context.cc:369] GL version: 2.1 (2.1 ATI-5.2.4), renderer: AMD Radeon Pro 5500M OpenGL Engine\n",
      "W0000 00:00:1745959212.648966 9299638 inference_feedback_manager.cc:114] Feedback manager requires a model with a single signature inference. Disabling support for feedback tensors.\n",
      "W0000 00:00:1745959212.666630 9299646 inference_feedback_manager.cc:114] Feedback manager requires a model with a single signature inference. Disabling support for feedback tensors.\n",
      "I0000 00:00:1745959212.685029 9296840 gl_context.cc:369] GL version: 2.1 (2.1 ATI-5.2.4), renderer: AMD Radeon Pro 5500M OpenGL Engine\n",
      "W0000 00:00:1745959212.688566 9299659 inference_feedback_manager.cc:114] Feedback manager requires a model with a single signature inference. Disabling support for feedback tensors.\n",
      "W0000 00:00:1745959212.702238 9299662 inference_feedback_manager.cc:114] Feedback manager requires a model with a single signature inference. Disabling support for feedback tensors.\n",
      "I0000 00:00:1745959212.720370 9296840 gl_context.cc:369] GL version: 2.1 (2.1 ATI-5.2.4), renderer: AMD Radeon Pro 5500M OpenGL Engine\n",
      "W0000 00:00:1745959212.724058 9299677 inference_feedback_manager.cc:114] Feedback manager requires a model with a single signature inference. Disabling support for feedback tensors.\n",
      "W0000 00:00:1745959212.738761 9299676 inference_feedback_manager.cc:114] Feedback manager requires a model with a single signature inference. Disabling support for feedback tensors.\n",
      "I0000 00:00:1745959212.756169 9296840 gl_context.cc:369] GL version: 2.1 (2.1 ATI-5.2.4), renderer: AMD Radeon Pro 5500M OpenGL Engine\n",
      "W0000 00:00:1745959212.759684 9299695 inference_feedback_manager.cc:114] Feedback manager requires a model with a single signature inference. Disabling support for feedback tensors.\n",
      "W0000 00:00:1745959212.772512 9299692 inference_feedback_manager.cc:114] Feedback manager requires a model with a single signature inference. Disabling support for feedback tensors.\n",
      "I0000 00:00:1745959212.790350 9296840 gl_context.cc:369] GL version: 2.1 (2.1 ATI-5.2.4), renderer: AMD Radeon Pro 5500M OpenGL Engine\n",
      "W0000 00:00:1745959212.793817 9299708 inference_feedback_manager.cc:114] Feedback manager requires a model with a single signature inference. Disabling support for feedback tensors.\n",
      "W0000 00:00:1745959212.808410 9299709 inference_feedback_manager.cc:114] Feedback manager requires a model with a single signature inference. Disabling support for feedback tensors.\n",
      "I0000 00:00:1745959212.826731 9296840 gl_context.cc:369] GL version: 2.1 (2.1 ATI-5.2.4), renderer: AMD Radeon Pro 5500M OpenGL Engine\n",
      "W0000 00:00:1745959212.830421 9299727 inference_feedback_manager.cc:114] Feedback manager requires a model with a single signature inference. Disabling support for feedback tensors.\n",
      "W0000 00:00:1745959212.842972 9299723 inference_feedback_manager.cc:114] Feedback manager requires a model with a single signature inference. Disabling support for feedback tensors.\n",
      "I0000 00:00:1745959212.861924 9296840 gl_context.cc:369] GL version: 2.1 (2.1 ATI-5.2.4), renderer: AMD Radeon Pro 5500M OpenGL Engine\n",
      "W0000 00:00:1745959212.865422 9299740 inference_feedback_manager.cc:114] Feedback manager requires a model with a single signature inference. Disabling support for feedback tensors.\n",
      "W0000 00:00:1745959212.881305 9299748 inference_feedback_manager.cc:114] Feedback manager requires a model with a single signature inference. Disabling support for feedback tensors.\n",
      "I0000 00:00:1745959212.899322 9296840 gl_context.cc:369] GL version: 2.1 (2.1 ATI-5.2.4), renderer: AMD Radeon Pro 5500M OpenGL Engine\n",
      "W0000 00:00:1745959212.902811 9299763 inference_feedback_manager.cc:114] Feedback manager requires a model with a single signature inference. Disabling support for feedback tensors.\n",
      "W0000 00:00:1745959212.915626 9299761 inference_feedback_manager.cc:114] Feedback manager requires a model with a single signature inference. Disabling support for feedback tensors.\n",
      "I0000 00:00:1745959212.985803 9296840 gl_context.cc:369] GL version: 2.1 (2.1 ATI-5.2.4), renderer: AMD Radeon Pro 5500M OpenGL Engine\n",
      "W0000 00:00:1745959212.989071 9299775 inference_feedback_manager.cc:114] Feedback manager requires a model with a single signature inference. Disabling support for feedback tensors.\n",
      "W0000 00:00:1745959213.003951 9299771 inference_feedback_manager.cc:114] Feedback manager requires a model with a single signature inference. Disabling support for feedback tensors.\n",
      "I0000 00:00:1745959213.051015 9296840 gl_context.cc:369] GL version: 2.1 (2.1 ATI-5.2.4), renderer: AMD Radeon Pro 5500M OpenGL Engine\n",
      "W0000 00:00:1745959213.054070 9299790 inference_feedback_manager.cc:114] Feedback manager requires a model with a single signature inference. Disabling support for feedback tensors.\n",
      "W0000 00:00:1745959213.068815 9299787 inference_feedback_manager.cc:114] Feedback manager requires a model with a single signature inference. Disabling support for feedback tensors.\n",
      "I0000 00:00:1745959213.117390 9296840 gl_context.cc:369] GL version: 2.1 (2.1 ATI-5.2.4), renderer: AMD Radeon Pro 5500M OpenGL Engine\n",
      "W0000 00:00:1745959213.213249 9299803 inference_feedback_manager.cc:114] Feedback manager requires a model with a single signature inference. Disabling support for feedback tensors.\n",
      "W0000 00:00:1745959213.246915 9299812 inference_feedback_manager.cc:114] Feedback manager requires a model with a single signature inference. Disabling support for feedback tensors.\n",
      "I0000 00:00:1745959213.409687 9296840 gl_context.cc:369] GL version: 2.1 (2.1 ATI-5.2.4), renderer: AMD Radeon Pro 5500M OpenGL Engine\n",
      "W0000 00:00:1745959213.510309 9299820 inference_feedback_manager.cc:114] Feedback manager requires a model with a single signature inference. Disabling support for feedback tensors.\n",
      "W0000 00:00:1745959213.541083 9299820 inference_feedback_manager.cc:114] Feedback manager requires a model with a single signature inference. Disabling support for feedback tensors.\n",
      "I0000 00:00:1745959213.701485 9296840 gl_context.cc:369] GL version: 2.1 (2.1 ATI-5.2.4), renderer: AMD Radeon Pro 5500M OpenGL Engine\n",
      "W0000 00:00:1745959213.818441 9299847 inference_feedback_manager.cc:114] Feedback manager requires a model with a single signature inference. Disabling support for feedback tensors.\n",
      "W0000 00:00:1745959213.851742 9299847 inference_feedback_manager.cc:114] Feedback manager requires a model with a single signature inference. Disabling support for feedback tensors.\n",
      "I0000 00:00:1745959213.998813 9296840 gl_context.cc:369] GL version: 2.1 (2.1 ATI-5.2.4), renderer: AMD Radeon Pro 5500M OpenGL Engine\n",
      "W0000 00:00:1745959214.113274 9299872 inference_feedback_manager.cc:114] Feedback manager requires a model with a single signature inference. Disabling support for feedback tensors.\n",
      "W0000 00:00:1745959214.146902 9299872 inference_feedback_manager.cc:114] Feedback manager requires a model with a single signature inference. Disabling support for feedback tensors.\n",
      "I0000 00:00:1745959214.245713 9296840 gl_context.cc:369] GL version: 2.1 (2.1 ATI-5.2.4), renderer: AMD Radeon Pro 5500M OpenGL Engine\n",
      "W0000 00:00:1745959214.353763 9299891 inference_feedback_manager.cc:114] Feedback manager requires a model with a single signature inference. Disabling support for feedback tensors.\n",
      "W0000 00:00:1745959214.385032 9299891 inference_feedback_manager.cc:114] Feedback manager requires a model with a single signature inference. Disabling support for feedback tensors.\n",
      "I0000 00:00:1745959214.554554 9296840 gl_context.cc:369] GL version: 2.1 (2.1 ATI-5.2.4), renderer: AMD Radeon Pro 5500M OpenGL Engine\n",
      "W0000 00:00:1745959214.662737 9299910 inference_feedback_manager.cc:114] Feedback manager requires a model with a single signature inference. Disabling support for feedback tensors.\n",
      "W0000 00:00:1745959214.694884 9299910 inference_feedback_manager.cc:114] Feedback manager requires a model with a single signature inference. Disabling support for feedback tensors.\n",
      "I0000 00:00:1745959214.870245 9296840 gl_context.cc:369] GL version: 2.1 (2.1 ATI-5.2.4), renderer: AMD Radeon Pro 5500M OpenGL Engine\n",
      "W0000 00:00:1745959214.983000 9299934 inference_feedback_manager.cc:114] Feedback manager requires a model with a single signature inference. Disabling support for feedback tensors.\n",
      "W0000 00:00:1745959215.015023 9299934 inference_feedback_manager.cc:114] Feedback manager requires a model with a single signature inference. Disabling support for feedback tensors.\n",
      "I0000 00:00:1745959215.145401 9296840 gl_context.cc:369] GL version: 2.1 (2.1 ATI-5.2.4), renderer: AMD Radeon Pro 5500M OpenGL Engine\n",
      "W0000 00:00:1745959215.262913 9299952 inference_feedback_manager.cc:114] Feedback manager requires a model with a single signature inference. Disabling support for feedback tensors.\n",
      "W0000 00:00:1745959215.294659 9299952 inference_feedback_manager.cc:114] Feedback manager requires a model with a single signature inference. Disabling support for feedback tensors.\n",
      "I0000 00:00:1745959215.418073 9296840 gl_context.cc:369] GL version: 2.1 (2.1 ATI-5.2.4), renderer: AMD Radeon Pro 5500M OpenGL Engine\n",
      "W0000 00:00:1745959215.531507 9299973 inference_feedback_manager.cc:114] Feedback manager requires a model with a single signature inference. Disabling support for feedback tensors.\n",
      "W0000 00:00:1745959215.564950 9299973 inference_feedback_manager.cc:114] Feedback manager requires a model with a single signature inference. Disabling support for feedback tensors.\n",
      "I0000 00:00:1745959215.694389 9296840 gl_context.cc:369] GL version: 2.1 (2.1 ATI-5.2.4), renderer: AMD Radeon Pro 5500M OpenGL Engine\n",
      "W0000 00:00:1745959215.817384 9299992 inference_feedback_manager.cc:114] Feedback manager requires a model with a single signature inference. Disabling support for feedback tensors.\n",
      "W0000 00:00:1745959215.862938 9299992 inference_feedback_manager.cc:114] Feedback manager requires a model with a single signature inference. Disabling support for feedback tensors.\n",
      "I0000 00:00:1745959215.995283 9296840 gl_context.cc:369] GL version: 2.1 (2.1 ATI-5.2.4), renderer: AMD Radeon Pro 5500M OpenGL Engine\n",
      "W0000 00:00:1745959216.123025 9300013 inference_feedback_manager.cc:114] Feedback manager requires a model with a single signature inference. Disabling support for feedback tensors.\n",
      "W0000 00:00:1745959216.154320 9300015 inference_feedback_manager.cc:114] Feedback manager requires a model with a single signature inference. Disabling support for feedback tensors.\n",
      "I0000 00:00:1745959220.394219 9296840 gl_context.cc:369] GL version: 2.1 (2.1 ATI-5.2.4), renderer: AMD Radeon Pro 5500M OpenGL Engine\n",
      "W0000 00:00:1745959220.395109 9296840 face_landmarker_graph.cc:174] Sets FaceBlendshapesGraph acceleration to xnnpack by default.\n",
      "W0000 00:00:1745959220.403272 9300108 inference_feedback_manager.cc:114] Feedback manager requires a model with a single signature inference. Disabling support for feedback tensors.\n",
      "W0000 00:00:1745959220.421627 9300118 inference_feedback_manager.cc:114] Feedback manager requires a model with a single signature inference. Disabling support for feedback tensors.\n",
      " 45%|████████████████████████████████████████████████████████████████████████████████████████████████████                                                                                                                        | 5/11 [00:46<00:55,  9.26s/it]"
     ]
    },
    {
     "name": "stdout",
     "output_type": "stream",
     "text": [
      "max() arg is an empty sequence\n",
      "max() arg is an empty sequence\n",
      "max() arg is an empty sequence\n",
      "max() arg is an empty sequence\n",
      "max() arg is an empty sequence\n",
      "max() arg is an empty sequence\n",
      "max() arg is an empty sequence\n",
      "max() arg is an empty sequence\n",
      "max() arg is an empty sequence\n",
      "max() arg is an empty sequence\n"
     ]
    },
    {
     "name": "stderr",
     "output_type": "stream",
     "text": [
      "I0000 00:00:1745959221.479730 9296840 gl_context.cc:369] GL version: 2.1 (2.1 ATI-5.2.4), renderer: AMD Radeon Pro 5500M OpenGL Engine\n",
      "W0000 00:00:1745959221.482250 9300154 inference_feedback_manager.cc:114] Feedback manager requires a model with a single signature inference. Disabling support for feedback tensors.\n",
      "W0000 00:00:1745959221.499321 9300153 inference_feedback_manager.cc:114] Feedback manager requires a model with a single signature inference. Disabling support for feedback tensors.\n",
      "I0000 00:00:1745959221.571995 9296840 gl_context.cc:369] GL version: 2.1 (2.1 ATI-5.2.4), renderer: AMD Radeon Pro 5500M OpenGL Engine\n",
      "W0000 00:00:1745959221.575072 9300173 inference_feedback_manager.cc:114] Feedback manager requires a model with a single signature inference. Disabling support for feedback tensors.\n",
      "W0000 00:00:1745959221.588229 9300174 inference_feedback_manager.cc:114] Feedback manager requires a model with a single signature inference. Disabling support for feedback tensors.\n",
      "I0000 00:00:1745959221.661442 9296840 gl_context.cc:369] GL version: 2.1 (2.1 ATI-5.2.4), renderer: AMD Radeon Pro 5500M OpenGL Engine\n",
      "W0000 00:00:1745959221.664439 9300193 inference_feedback_manager.cc:114] Feedback manager requires a model with a single signature inference. Disabling support for feedback tensors.\n",
      "W0000 00:00:1745959221.680060 9300197 inference_feedback_manager.cc:114] Feedback manager requires a model with a single signature inference. Disabling support for feedback tensors.\n",
      "I0000 00:00:1745959221.715847 9296840 gl_context.cc:369] GL version: 2.1 (2.1 ATI-5.2.4), renderer: AMD Radeon Pro 5500M OpenGL Engine\n",
      "W0000 00:00:1745959221.719064 9300211 inference_feedback_manager.cc:114] Feedback manager requires a model with a single signature inference. Disabling support for feedback tensors.\n",
      "W0000 00:00:1745959221.732767 9300214 inference_feedback_manager.cc:114] Feedback manager requires a model with a single signature inference. Disabling support for feedback tensors.\n",
      "I0000 00:00:1745959221.788285 9296840 gl_context.cc:369] GL version: 2.1 (2.1 ATI-5.2.4), renderer: AMD Radeon Pro 5500M OpenGL Engine\n",
      "W0000 00:00:1745959221.791677 9300225 inference_feedback_manager.cc:114] Feedback manager requires a model with a single signature inference. Disabling support for feedback tensors.\n",
      "W0000 00:00:1745959221.806523 9300228 inference_feedback_manager.cc:114] Feedback manager requires a model with a single signature inference. Disabling support for feedback tensors.\n",
      "I0000 00:00:1745959221.845887 9296840 gl_context.cc:369] GL version: 2.1 (2.1 ATI-5.2.4), renderer: AMD Radeon Pro 5500M OpenGL Engine\n",
      "W0000 00:00:1745959221.849323 9300245 inference_feedback_manager.cc:114] Feedback manager requires a model with a single signature inference. Disabling support for feedback tensors.\n",
      "W0000 00:00:1745959221.862966 9300246 inference_feedback_manager.cc:114] Feedback manager requires a model with a single signature inference. Disabling support for feedback tensors.\n",
      "I0000 00:00:1745959221.919659 9296840 gl_context.cc:369] GL version: 2.1 (2.1 ATI-5.2.4), renderer: AMD Radeon Pro 5500M OpenGL Engine\n",
      "W0000 00:00:1745959221.923356 9300262 inference_feedback_manager.cc:114] Feedback manager requires a model with a single signature inference. Disabling support for feedback tensors.\n",
      "W0000 00:00:1745959221.939517 9300261 inference_feedback_manager.cc:114] Feedback manager requires a model with a single signature inference. Disabling support for feedback tensors.\n",
      "I0000 00:00:1745959222.010106 9296840 gl_context.cc:369] GL version: 2.1 (2.1 ATI-5.2.4), renderer: AMD Radeon Pro 5500M OpenGL Engine\n",
      "W0000 00:00:1745959222.013325 9300278 inference_feedback_manager.cc:114] Feedback manager requires a model with a single signature inference. Disabling support for feedback tensors.\n",
      "W0000 00:00:1745959222.027279 9300274 inference_feedback_manager.cc:114] Feedback manager requires a model with a single signature inference. Disabling support for feedback tensors.\n",
      "I0000 00:00:1745959222.078868 9296840 gl_context.cc:369] GL version: 2.1 (2.1 ATI-5.2.4), renderer: AMD Radeon Pro 5500M OpenGL Engine\n",
      "W0000 00:00:1745959222.082384 9300293 inference_feedback_manager.cc:114] Feedback manager requires a model with a single signature inference. Disabling support for feedback tensors.\n",
      "W0000 00:00:1745959222.096713 9300294 inference_feedback_manager.cc:114] Feedback manager requires a model with a single signature inference. Disabling support for feedback tensors.\n",
      "I0000 00:00:1745959222.116103 9296840 gl_context.cc:369] GL version: 2.1 (2.1 ATI-5.2.4), renderer: AMD Radeon Pro 5500M OpenGL Engine\n",
      "W0000 00:00:1745959222.119242 9300306 inference_feedback_manager.cc:114] Feedback manager requires a model with a single signature inference. Disabling support for feedback tensors.\n",
      "W0000 00:00:1745959222.133146 9300310 inference_feedback_manager.cc:114] Feedback manager requires a model with a single signature inference. Disabling support for feedback tensors.\n",
      "I0000 00:00:1745959222.157069 9296840 gl_context.cc:369] GL version: 2.1 (2.1 ATI-5.2.4), renderer: AMD Radeon Pro 5500M OpenGL Engine\n",
      "W0000 00:00:1745959222.258303 9300322 inference_feedback_manager.cc:114] Feedback manager requires a model with a single signature inference. Disabling support for feedback tensors.\n",
      "W0000 00:00:1745959222.290770 9300322 inference_feedback_manager.cc:114] Feedback manager requires a model with a single signature inference. Disabling support for feedback tensors.\n",
      "I0000 00:00:1745959222.415667 9296840 gl_context.cc:369] GL version: 2.1 (2.1 ATI-5.2.4), renderer: AMD Radeon Pro 5500M OpenGL Engine\n",
      "W0000 00:00:1745959222.517619 9300339 inference_feedback_manager.cc:114] Feedback manager requires a model with a single signature inference. Disabling support for feedback tensors.\n",
      "W0000 00:00:1745959222.549119 9300339 inference_feedback_manager.cc:114] Feedback manager requires a model with a single signature inference. Disabling support for feedback tensors.\n",
      "I0000 00:00:1745959222.669461 9296840 gl_context.cc:369] GL version: 2.1 (2.1 ATI-5.2.4), renderer: AMD Radeon Pro 5500M OpenGL Engine\n",
      "W0000 00:00:1745959222.776515 9300364 inference_feedback_manager.cc:114] Feedback manager requires a model with a single signature inference. Disabling support for feedback tensors.\n",
      "W0000 00:00:1745959222.807350 9300364 inference_feedback_manager.cc:114] Feedback manager requires a model with a single signature inference. Disabling support for feedback tensors.\n",
      "I0000 00:00:1745959222.929291 9296840 gl_context.cc:369] GL version: 2.1 (2.1 ATI-5.2.4), renderer: AMD Radeon Pro 5500M OpenGL Engine\n",
      "W0000 00:00:1745959223.035840 9300381 inference_feedback_manager.cc:114] Feedback manager requires a model with a single signature inference. Disabling support for feedback tensors.\n",
      "W0000 00:00:1745959223.066255 9300386 inference_feedback_manager.cc:114] Feedback manager requires a model with a single signature inference. Disabling support for feedback tensors.\n",
      "I0000 00:00:1745959223.191589 9296840 gl_context.cc:369] GL version: 2.1 (2.1 ATI-5.2.4), renderer: AMD Radeon Pro 5500M OpenGL Engine\n",
      "W0000 00:00:1745959223.301939 9300395 inference_feedback_manager.cc:114] Feedback manager requires a model with a single signature inference. Disabling support for feedback tensors.\n",
      "W0000 00:00:1745959223.333980 9300395 inference_feedback_manager.cc:114] Feedback manager requires a model with a single signature inference. Disabling support for feedback tensors.\n",
      "I0000 00:00:1745959223.454628 9296840 gl_context.cc:369] GL version: 2.1 (2.1 ATI-5.2.4), renderer: AMD Radeon Pro 5500M OpenGL Engine\n",
      "W0000 00:00:1745959223.561865 9300411 inference_feedback_manager.cc:114] Feedback manager requires a model with a single signature inference. Disabling support for feedback tensors.\n",
      "W0000 00:00:1745959223.592692 9300411 inference_feedback_manager.cc:114] Feedback manager requires a model with a single signature inference. Disabling support for feedback tensors.\n",
      "I0000 00:00:1745959223.714434 9296840 gl_context.cc:369] GL version: 2.1 (2.1 ATI-5.2.4), renderer: AMD Radeon Pro 5500M OpenGL Engine\n",
      "W0000 00:00:1745959223.821325 9300437 inference_feedback_manager.cc:114] Feedback manager requires a model with a single signature inference. Disabling support for feedback tensors.\n",
      "W0000 00:00:1745959223.852548 9300437 inference_feedback_manager.cc:114] Feedback manager requires a model with a single signature inference. Disabling support for feedback tensors.\n",
      "I0000 00:00:1745959223.974275 9296840 gl_context.cc:369] GL version: 2.1 (2.1 ATI-5.2.4), renderer: AMD Radeon Pro 5500M OpenGL Engine\n",
      "W0000 00:00:1745959224.080986 9300450 inference_feedback_manager.cc:114] Feedback manager requires a model with a single signature inference. Disabling support for feedback tensors.\n",
      "W0000 00:00:1745959224.111627 9300450 inference_feedback_manager.cc:114] Feedback manager requires a model with a single signature inference. Disabling support for feedback tensors.\n",
      "I0000 00:00:1745959224.231293 9296840 gl_context.cc:369] GL version: 2.1 (2.1 ATI-5.2.4), renderer: AMD Radeon Pro 5500M OpenGL Engine\n",
      "W0000 00:00:1745959224.338209 9300469 inference_feedback_manager.cc:114] Feedback manager requires a model with a single signature inference. Disabling support for feedback tensors.\n",
      "W0000 00:00:1745959224.368835 9300469 inference_feedback_manager.cc:114] Feedback manager requires a model with a single signature inference. Disabling support for feedback tensors.\n",
      "I0000 00:00:1745959224.512524 9296840 gl_context.cc:369] GL version: 2.1 (2.1 ATI-5.2.4), renderer: AMD Radeon Pro 5500M OpenGL Engine\n",
      "W0000 00:00:1745959224.620568 9300486 inference_feedback_manager.cc:114] Feedback manager requires a model with a single signature inference. Disabling support for feedback tensors.\n",
      "W0000 00:00:1745959224.651475 9300486 inference_feedback_manager.cc:114] Feedback manager requires a model with a single signature inference. Disabling support for feedback tensors.\n",
      "I0000 00:00:1745959224.802125 9296840 gl_context.cc:369] GL version: 2.1 (2.1 ATI-5.2.4), renderer: AMD Radeon Pro 5500M OpenGL Engine\n",
      "W0000 00:00:1745959224.921556 9300507 inference_feedback_manager.cc:114] Feedback manager requires a model with a single signature inference. Disabling support for feedback tensors.\n",
      "W0000 00:00:1745959224.953536 9300514 inference_feedback_manager.cc:114] Feedback manager requires a model with a single signature inference. Disabling support for feedback tensors.\n",
      "I0000 00:00:1745959229.901658 9296840 gl_context.cc:369] GL version: 2.1 (2.1 ATI-5.2.4), renderer: AMD Radeon Pro 5500M OpenGL Engine\n",
      "W0000 00:00:1745959229.902451 9296840 face_landmarker_graph.cc:174] Sets FaceBlendshapesGraph acceleration to xnnpack by default.\n",
      "W0000 00:00:1745959229.910385 9300607 inference_feedback_manager.cc:114] Feedback manager requires a model with a single signature inference. Disabling support for feedback tensors.\n",
      "W0000 00:00:1745959229.929236 9300613 inference_feedback_manager.cc:114] Feedback manager requires a model with a single signature inference. Disabling support for feedback tensors.\n",
      " 55%|███████████████████████████████████████████████████████████████████████████████████████████████████████████████████████▉                                                                                                    | 6/11 [00:56<00:46,  9.35s/it]"
     ]
    },
    {
     "name": "stdout",
     "output_type": "stream",
     "text": [
      "max() arg is an empty sequence\n",
      "max() arg is an empty sequence\n",
      "max() arg is an empty sequence\n",
      "max() arg is an empty sequence\n",
      "max() arg is an empty sequence\n",
      "max() arg is an empty sequence\n",
      "max() arg is an empty sequence\n",
      "max() arg is an empty sequence\n",
      "max() arg is an empty sequence\n",
      "max() arg is an empty sequence\n"
     ]
    },
    {
     "name": "stderr",
     "output_type": "stream",
     "text": [
      "I0000 00:00:1745959231.071328 9296840 gl_context.cc:369] GL version: 2.1 (2.1 ATI-5.2.4), renderer: AMD Radeon Pro 5500M OpenGL Engine\n",
      "W0000 00:00:1745959231.074104 9300648 inference_feedback_manager.cc:114] Feedback manager requires a model with a single signature inference. Disabling support for feedback tensors.\n",
      "W0000 00:00:1745959231.091351 9300654 inference_feedback_manager.cc:114] Feedback manager requires a model with a single signature inference. Disabling support for feedback tensors.\n",
      "I0000 00:00:1745959231.110568 9296840 gl_context.cc:369] GL version: 2.1 (2.1 ATI-5.2.4), renderer: AMD Radeon Pro 5500M OpenGL Engine\n",
      "W0000 00:00:1745959231.114009 9300667 inference_feedback_manager.cc:114] Feedback manager requires a model with a single signature inference. Disabling support for feedback tensors.\n",
      "W0000 00:00:1745959231.132433 9300673 inference_feedback_manager.cc:114] Feedback manager requires a model with a single signature inference. Disabling support for feedback tensors.\n",
      "I0000 00:00:1745959231.151121 9296840 gl_context.cc:369] GL version: 2.1 (2.1 ATI-5.2.4), renderer: AMD Radeon Pro 5500M OpenGL Engine\n",
      "W0000 00:00:1745959231.154661 9300682 inference_feedback_manager.cc:114] Feedback manager requires a model with a single signature inference. Disabling support for feedback tensors.\n",
      "W0000 00:00:1745959231.170865 9300681 inference_feedback_manager.cc:114] Feedback manager requires a model with a single signature inference. Disabling support for feedback tensors.\n",
      "I0000 00:00:1745959231.189983 9296840 gl_context.cc:369] GL version: 2.1 (2.1 ATI-5.2.4), renderer: AMD Radeon Pro 5500M OpenGL Engine\n",
      "W0000 00:00:1745959231.193188 9300698 inference_feedback_manager.cc:114] Feedback manager requires a model with a single signature inference. Disabling support for feedback tensors.\n",
      "W0000 00:00:1745959231.206303 9300701 inference_feedback_manager.cc:114] Feedback manager requires a model with a single signature inference. Disabling support for feedback tensors.\n",
      "I0000 00:00:1745959231.276813 9296840 gl_context.cc:369] GL version: 2.1 (2.1 ATI-5.2.4), renderer: AMD Radeon Pro 5500M OpenGL Engine\n",
      "W0000 00:00:1745959231.280897 9300718 inference_feedback_manager.cc:114] Feedback manager requires a model with a single signature inference. Disabling support for feedback tensors.\n",
      "W0000 00:00:1745959231.296973 9300716 inference_feedback_manager.cc:114] Feedback manager requires a model with a single signature inference. Disabling support for feedback tensors.\n",
      "I0000 00:00:1745959231.354524 9296840 gl_context.cc:369] GL version: 2.1 (2.1 ATI-5.2.4), renderer: AMD Radeon Pro 5500M OpenGL Engine\n",
      "W0000 00:00:1745959231.358029 9300734 inference_feedback_manager.cc:114] Feedback manager requires a model with a single signature inference. Disabling support for feedback tensors.\n",
      "W0000 00:00:1745959231.373217 9300733 inference_feedback_manager.cc:114] Feedback manager requires a model with a single signature inference. Disabling support for feedback tensors.\n",
      "I0000 00:00:1745959231.448906 9296840 gl_context.cc:369] GL version: 2.1 (2.1 ATI-5.2.4), renderer: AMD Radeon Pro 5500M OpenGL Engine\n",
      "W0000 00:00:1745959231.452178 9300747 inference_feedback_manager.cc:114] Feedback manager requires a model with a single signature inference. Disabling support for feedback tensors.\n",
      "W0000 00:00:1745959231.466636 9300748 inference_feedback_manager.cc:114] Feedback manager requires a model with a single signature inference. Disabling support for feedback tensors.\n",
      "I0000 00:00:1745959231.527230 9296840 gl_context.cc:369] GL version: 2.1 (2.1 ATI-5.2.4), renderer: AMD Radeon Pro 5500M OpenGL Engine\n",
      "W0000 00:00:1745959231.530792 9300766 inference_feedback_manager.cc:114] Feedback manager requires a model with a single signature inference. Disabling support for feedback tensors.\n",
      "W0000 00:00:1745959231.546906 9300767 inference_feedback_manager.cc:114] Feedback manager requires a model with a single signature inference. Disabling support for feedback tensors.\n",
      "I0000 00:00:1745959231.620279 9296840 gl_context.cc:369] GL version: 2.1 (2.1 ATI-5.2.4), renderer: AMD Radeon Pro 5500M OpenGL Engine\n",
      "W0000 00:00:1745959231.625314 9300784 inference_feedback_manager.cc:114] Feedback manager requires a model with a single signature inference. Disabling support for feedback tensors.\n",
      "W0000 00:00:1745959231.644222 9300780 inference_feedback_manager.cc:114] Feedback manager requires a model with a single signature inference. Disabling support for feedback tensors.\n",
      "I0000 00:00:1745959231.722441 9296840 gl_context.cc:369] GL version: 2.1 (2.1 ATI-5.2.4), renderer: AMD Radeon Pro 5500M OpenGL Engine\n",
      "W0000 00:00:1745959231.726659 9300806 inference_feedback_manager.cc:114] Feedback manager requires a model with a single signature inference. Disabling support for feedback tensors.\n",
      "W0000 00:00:1745959231.745723 9300808 inference_feedback_manager.cc:114] Feedback manager requires a model with a single signature inference. Disabling support for feedback tensors.\n",
      "I0000 00:00:1745959231.817526 9296840 gl_context.cc:369] GL version: 2.1 (2.1 ATI-5.2.4), renderer: AMD Radeon Pro 5500M OpenGL Engine\n",
      "W0000 00:00:1745959231.948097 9300825 inference_feedback_manager.cc:114] Feedback manager requires a model with a single signature inference. Disabling support for feedback tensors.\n",
      "W0000 00:00:1745959231.984048 9300829 inference_feedback_manager.cc:114] Feedback manager requires a model with a single signature inference. Disabling support for feedback tensors.\n",
      "I0000 00:00:1745959232.132765 9296840 gl_context.cc:369] GL version: 2.1 (2.1 ATI-5.2.4), renderer: AMD Radeon Pro 5500M OpenGL Engine\n",
      "W0000 00:00:1745959232.258099 9300839 inference_feedback_manager.cc:114] Feedback manager requires a model with a single signature inference. Disabling support for feedback tensors.\n",
      "W0000 00:00:1745959232.289274 9300839 inference_feedback_manager.cc:114] Feedback manager requires a model with a single signature inference. Disabling support for feedback tensors.\n",
      "I0000 00:00:1745959232.387522 9296840 gl_context.cc:369] GL version: 2.1 (2.1 ATI-5.2.4), renderer: AMD Radeon Pro 5500M OpenGL Engine\n",
      "W0000 00:00:1745959232.496246 9300854 inference_feedback_manager.cc:114] Feedback manager requires a model with a single signature inference. Disabling support for feedback tensors.\n",
      "W0000 00:00:1745959232.527512 9300854 inference_feedback_manager.cc:114] Feedback manager requires a model with a single signature inference. Disabling support for feedback tensors.\n",
      "I0000 00:00:1745959232.642452 9296840 gl_context.cc:369] GL version: 2.1 (2.1 ATI-5.2.4), renderer: AMD Radeon Pro 5500M OpenGL Engine\n",
      "W0000 00:00:1745959232.749735 9300872 inference_feedback_manager.cc:114] Feedback manager requires a model with a single signature inference. Disabling support for feedback tensors.\n",
      "W0000 00:00:1745959232.781368 9300872 inference_feedback_manager.cc:114] Feedback manager requires a model with a single signature inference. Disabling support for feedback tensors.\n",
      "I0000 00:00:1745959232.885763 9296840 gl_context.cc:369] GL version: 2.1 (2.1 ATI-5.2.4), renderer: AMD Radeon Pro 5500M OpenGL Engine\n",
      "W0000 00:00:1745959232.991860 9300896 inference_feedback_manager.cc:114] Feedback manager requires a model with a single signature inference. Disabling support for feedback tensors.\n",
      "W0000 00:00:1745959233.022270 9300896 inference_feedback_manager.cc:114] Feedback manager requires a model with a single signature inference. Disabling support for feedback tensors.\n",
      "I0000 00:00:1745959233.137520 9296840 gl_context.cc:369] GL version: 2.1 (2.1 ATI-5.2.4), renderer: AMD Radeon Pro 5500M OpenGL Engine\n",
      "W0000 00:00:1745959233.328851 9300915 inference_feedback_manager.cc:114] Feedback manager requires a model with a single signature inference. Disabling support for feedback tensors.\n",
      "W0000 00:00:1745959233.370534 9300922 inference_feedback_manager.cc:114] Feedback manager requires a model with a single signature inference. Disabling support for feedback tensors.\n",
      "I0000 00:00:1745959233.497903 9296840 gl_context.cc:369] GL version: 2.1 (2.1 ATI-5.2.4), renderer: AMD Radeon Pro 5500M OpenGL Engine\n",
      "W0000 00:00:1745959233.603546 9300933 inference_feedback_manager.cc:114] Feedback manager requires a model with a single signature inference. Disabling support for feedback tensors.\n",
      "W0000 00:00:1745959233.634005 9300933 inference_feedback_manager.cc:114] Feedback manager requires a model with a single signature inference. Disabling support for feedback tensors.\n",
      "I0000 00:00:1745959233.763625 9296840 gl_context.cc:369] GL version: 2.1 (2.1 ATI-5.2.4), renderer: AMD Radeon Pro 5500M OpenGL Engine\n",
      "W0000 00:00:1745959233.869043 9300955 inference_feedback_manager.cc:114] Feedback manager requires a model with a single signature inference. Disabling support for feedback tensors.\n",
      "W0000 00:00:1745959233.900004 9300955 inference_feedback_manager.cc:114] Feedback manager requires a model with a single signature inference. Disabling support for feedback tensors.\n",
      "I0000 00:00:1745959234.011983 9296840 gl_context.cc:369] GL version: 2.1 (2.1 ATI-5.2.4), renderer: AMD Radeon Pro 5500M OpenGL Engine\n",
      "W0000 00:00:1745959234.116339 9300972 inference_feedback_manager.cc:114] Feedback manager requires a model with a single signature inference. Disabling support for feedback tensors.\n",
      "W0000 00:00:1745959234.145582 9300972 inference_feedback_manager.cc:114] Feedback manager requires a model with a single signature inference. Disabling support for feedback tensors.\n",
      "I0000 00:00:1745959234.257286 9296840 gl_context.cc:369] GL version: 2.1 (2.1 ATI-5.2.4), renderer: AMD Radeon Pro 5500M OpenGL Engine\n",
      "W0000 00:00:1745959234.362227 9300989 inference_feedback_manager.cc:114] Feedback manager requires a model with a single signature inference. Disabling support for feedback tensors.\n",
      "W0000 00:00:1745959234.391738 9300989 inference_feedback_manager.cc:114] Feedback manager requires a model with a single signature inference. Disabling support for feedback tensors.\n",
      "I0000 00:00:1745959234.501295 9296840 gl_context.cc:369] GL version: 2.1 (2.1 ATI-5.2.4), renderer: AMD Radeon Pro 5500M OpenGL Engine\n",
      "W0000 00:00:1745959234.607764 9301006 inference_feedback_manager.cc:114] Feedback manager requires a model with a single signature inference. Disabling support for feedback tensors.\n",
      "W0000 00:00:1745959234.636978 9301006 inference_feedback_manager.cc:114] Feedback manager requires a model with a single signature inference. Disabling support for feedback tensors.\n",
      "I0000 00:00:1745959239.482825 9296840 gl_context.cc:369] GL version: 2.1 (2.1 ATI-5.2.4), renderer: AMD Radeon Pro 5500M OpenGL Engine\n",
      "W0000 00:00:1745959239.483653 9296840 face_landmarker_graph.cc:174] Sets FaceBlendshapesGraph acceleration to xnnpack by default.\n",
      "W0000 00:00:1745959239.492613 9301086 inference_feedback_manager.cc:114] Feedback manager requires a model with a single signature inference. Disabling support for feedback tensors.\n",
      "W0000 00:00:1745959239.510663 9301086 inference_feedback_manager.cc:114] Feedback manager requires a model with a single signature inference. Disabling support for feedback tensors.\n",
      " 64%|████████████████████████████████████████████████████████████████████████████████████████████████████████████████████████████████████████████                                                                                | 7/11 [01:06<00:37,  9.43s/it]"
     ]
    },
    {
     "name": "stdout",
     "output_type": "stream",
     "text": [
      "max() arg is an empty sequence\n",
      "max() arg is an empty sequence\n",
      "max() arg is an empty sequence\n",
      "max() arg is an empty sequence\n",
      "max() arg is an empty sequence\n",
      "max() arg is an empty sequence\n",
      "max() arg is an empty sequence\n",
      "max() arg is an empty sequence\n",
      "max() arg is an empty sequence\n",
      "max() arg is an empty sequence\n"
     ]
    },
    {
     "name": "stderr",
     "output_type": "stream",
     "text": [
      "I0000 00:00:1745959240.630463 9296840 gl_context.cc:369] GL version: 2.1 (2.1 ATI-5.2.4), renderer: AMD Radeon Pro 5500M OpenGL Engine\n",
      "W0000 00:00:1745959240.633544 9301126 inference_feedback_manager.cc:114] Feedback manager requires a model with a single signature inference. Disabling support for feedback tensors.\n",
      "W0000 00:00:1745959240.649656 9301128 inference_feedback_manager.cc:114] Feedback manager requires a model with a single signature inference. Disabling support for feedback tensors.\n",
      "I0000 00:00:1745959240.734989 9296840 gl_context.cc:369] GL version: 2.1 (2.1 ATI-5.2.4), renderer: AMD Radeon Pro 5500M OpenGL Engine\n",
      "W0000 00:00:1745959240.738428 9301155 inference_feedback_manager.cc:114] Feedback manager requires a model with a single signature inference. Disabling support for feedback tensors.\n",
      "W0000 00:00:1745959240.752115 9301154 inference_feedback_manager.cc:114] Feedback manager requires a model with a single signature inference. Disabling support for feedback tensors.\n",
      "I0000 00:00:1745959240.786567 9296840 gl_context.cc:369] GL version: 2.1 (2.1 ATI-5.2.4), renderer: AMD Radeon Pro 5500M OpenGL Engine\n",
      "W0000 00:00:1745959240.790220 9301173 inference_feedback_manager.cc:114] Feedback manager requires a model with a single signature inference. Disabling support for feedback tensors.\n",
      "W0000 00:00:1745959240.807437 9301168 inference_feedback_manager.cc:114] Feedback manager requires a model with a single signature inference. Disabling support for feedback tensors.\n",
      "I0000 00:00:1745959240.829380 9296840 gl_context.cc:369] GL version: 2.1 (2.1 ATI-5.2.4), renderer: AMD Radeon Pro 5500M OpenGL Engine\n",
      "W0000 00:00:1745959240.833279 9301186 inference_feedback_manager.cc:114] Feedback manager requires a model with a single signature inference. Disabling support for feedback tensors.\n",
      "W0000 00:00:1745959240.848936 9301187 inference_feedback_manager.cc:114] Feedback manager requires a model with a single signature inference. Disabling support for feedback tensors.\n",
      "I0000 00:00:1745959240.868944 9296840 gl_context.cc:369] GL version: 2.1 (2.1 ATI-5.2.4), renderer: AMD Radeon Pro 5500M OpenGL Engine\n",
      "W0000 00:00:1745959240.872326 9301202 inference_feedback_manager.cc:114] Feedback manager requires a model with a single signature inference. Disabling support for feedback tensors.\n",
      "W0000 00:00:1745959240.888414 9301200 inference_feedback_manager.cc:114] Feedback manager requires a model with a single signature inference. Disabling support for feedback tensors.\n",
      "I0000 00:00:1745959240.907741 9296840 gl_context.cc:369] GL version: 2.1 (2.1 ATI-5.2.4), renderer: AMD Radeon Pro 5500M OpenGL Engine\n",
      "W0000 00:00:1745959240.911494 9301215 inference_feedback_manager.cc:114] Feedback manager requires a model with a single signature inference. Disabling support for feedback tensors.\n",
      "W0000 00:00:1745959240.926921 9301222 inference_feedback_manager.cc:114] Feedback manager requires a model with a single signature inference. Disabling support for feedback tensors.\n",
      "I0000 00:00:1745959240.947400 9296840 gl_context.cc:369] GL version: 2.1 (2.1 ATI-5.2.4), renderer: AMD Radeon Pro 5500M OpenGL Engine\n",
      "W0000 00:00:1745959240.951641 9301245 inference_feedback_manager.cc:114] Feedback manager requires a model with a single signature inference. Disabling support for feedback tensors.\n",
      "W0000 00:00:1745959240.968111 9301244 inference_feedback_manager.cc:114] Feedback manager requires a model with a single signature inference. Disabling support for feedback tensors.\n",
      "I0000 00:00:1745959240.987756 9296840 gl_context.cc:369] GL version: 2.1 (2.1 ATI-5.2.4), renderer: AMD Radeon Pro 5500M OpenGL Engine\n",
      "W0000 00:00:1745959240.991303 9301259 inference_feedback_manager.cc:114] Feedback manager requires a model with a single signature inference. Disabling support for feedback tensors.\n",
      "W0000 00:00:1745959241.006065 9301256 inference_feedback_manager.cc:114] Feedback manager requires a model with a single signature inference. Disabling support for feedback tensors.\n",
      "I0000 00:00:1745959241.026017 9296840 gl_context.cc:369] GL version: 2.1 (2.1 ATI-5.2.4), renderer: AMD Radeon Pro 5500M OpenGL Engine\n",
      "W0000 00:00:1745959241.029961 9301269 inference_feedback_manager.cc:114] Feedback manager requires a model with a single signature inference. Disabling support for feedback tensors.\n",
      "W0000 00:00:1745959241.049130 9301277 inference_feedback_manager.cc:114] Feedback manager requires a model with a single signature inference. Disabling support for feedback tensors.\n",
      "I0000 00:00:1745959241.070291 9296840 gl_context.cc:369] GL version: 2.1 (2.1 ATI-5.2.4), renderer: AMD Radeon Pro 5500M OpenGL Engine\n",
      "W0000 00:00:1745959241.073993 9301288 inference_feedback_manager.cc:114] Feedback manager requires a model with a single signature inference. Disabling support for feedback tensors.\n",
      "W0000 00:00:1745959241.089012 9301294 inference_feedback_manager.cc:114] Feedback manager requires a model with a single signature inference. Disabling support for feedback tensors.\n",
      "I0000 00:00:1745959241.112483 9296840 gl_context.cc:369] GL version: 2.1 (2.1 ATI-5.2.4), renderer: AMD Radeon Pro 5500M OpenGL Engine\n",
      "W0000 00:00:1745959241.228355 9301303 inference_feedback_manager.cc:114] Feedback manager requires a model with a single signature inference. Disabling support for feedback tensors.\n",
      "W0000 00:00:1745959241.261374 9301312 inference_feedback_manager.cc:114] Feedback manager requires a model with a single signature inference. Disabling support for feedback tensors.\n",
      "I0000 00:00:1745959241.387301 9296840 gl_context.cc:369] GL version: 2.1 (2.1 ATI-5.2.4), renderer: AMD Radeon Pro 5500M OpenGL Engine\n",
      "W0000 00:00:1745959241.506974 9301318 inference_feedback_manager.cc:114] Feedback manager requires a model with a single signature inference. Disabling support for feedback tensors.\n",
      "W0000 00:00:1745959241.540979 9301318 inference_feedback_manager.cc:114] Feedback manager requires a model with a single signature inference. Disabling support for feedback tensors.\n",
      "I0000 00:00:1745959241.671115 9296840 gl_context.cc:369] GL version: 2.1 (2.1 ATI-5.2.4), renderer: AMD Radeon Pro 5500M OpenGL Engine\n",
      "W0000 00:00:1745959241.785700 9301344 inference_feedback_manager.cc:114] Feedback manager requires a model with a single signature inference. Disabling support for feedback tensors.\n",
      "W0000 00:00:1745959241.817629 9301344 inference_feedback_manager.cc:114] Feedback manager requires a model with a single signature inference. Disabling support for feedback tensors.\n",
      "I0000 00:00:1745959241.907491 9296840 gl_context.cc:369] GL version: 2.1 (2.1 ATI-5.2.4), renderer: AMD Radeon Pro 5500M OpenGL Engine\n",
      "W0000 00:00:1745959242.029968 9301361 inference_feedback_manager.cc:114] Feedback manager requires a model with a single signature inference. Disabling support for feedback tensors.\n",
      "W0000 00:00:1745959242.063596 9301366 inference_feedback_manager.cc:114] Feedback manager requires a model with a single signature inference. Disabling support for feedback tensors.\n",
      "I0000 00:00:1745959242.154401 9296840 gl_context.cc:369] GL version: 2.1 (2.1 ATI-5.2.4), renderer: AMD Radeon Pro 5500M OpenGL Engine\n",
      "W0000 00:00:1745959242.268837 9301383 inference_feedback_manager.cc:114] Feedback manager requires a model with a single signature inference. Disabling support for feedback tensors.\n",
      "W0000 00:00:1745959242.305372 9301383 inference_feedback_manager.cc:114] Feedback manager requires a model with a single signature inference. Disabling support for feedback tensors.\n",
      "I0000 00:00:1745959242.391674 9296840 gl_context.cc:369] GL version: 2.1 (2.1 ATI-5.2.4), renderer: AMD Radeon Pro 5500M OpenGL Engine\n",
      "W0000 00:00:1745959242.505537 9301403 inference_feedback_manager.cc:114] Feedback manager requires a model with a single signature inference. Disabling support for feedback tensors.\n",
      "W0000 00:00:1745959242.540350 9301406 inference_feedback_manager.cc:114] Feedback manager requires a model with a single signature inference. Disabling support for feedback tensors.\n",
      "I0000 00:00:1745959242.628851 9296840 gl_context.cc:369] GL version: 2.1 (2.1 ATI-5.2.4), renderer: AMD Radeon Pro 5500M OpenGL Engine\n",
      "W0000 00:00:1745959242.751563 9301421 inference_feedback_manager.cc:114] Feedback manager requires a model with a single signature inference. Disabling support for feedback tensors.\n",
      "W0000 00:00:1745959242.785151 9301421 inference_feedback_manager.cc:114] Feedback manager requires a model with a single signature inference. Disabling support for feedback tensors.\n",
      "I0000 00:00:1745959242.869173 9296840 gl_context.cc:369] GL version: 2.1 (2.1 ATI-5.2.4), renderer: AMD Radeon Pro 5500M OpenGL Engine\n",
      "W0000 00:00:1745959242.990181 9301441 inference_feedback_manager.cc:114] Feedback manager requires a model with a single signature inference. Disabling support for feedback tensors.\n",
      "W0000 00:00:1745959243.023314 9301441 inference_feedback_manager.cc:114] Feedback manager requires a model with a single signature inference. Disabling support for feedback tensors.\n",
      "I0000 00:00:1745959243.154397 9296840 gl_context.cc:369] GL version: 2.1 (2.1 ATI-5.2.4), renderer: AMD Radeon Pro 5500M OpenGL Engine\n",
      "W0000 00:00:1745959243.275777 9301458 inference_feedback_manager.cc:114] Feedback manager requires a model with a single signature inference. Disabling support for feedback tensors.\n",
      "W0000 00:00:1745959243.309196 9301458 inference_feedback_manager.cc:114] Feedback manager requires a model with a single signature inference. Disabling support for feedback tensors.\n",
      "I0000 00:00:1745959243.435463 9296840 gl_context.cc:369] GL version: 2.1 (2.1 ATI-5.2.4), renderer: AMD Radeon Pro 5500M OpenGL Engine\n",
      "W0000 00:00:1745959243.555345 9301478 inference_feedback_manager.cc:114] Feedback manager requires a model with a single signature inference. Disabling support for feedback tensors.\n",
      "W0000 00:00:1745959243.587424 9301478 inference_feedback_manager.cc:114] Feedback manager requires a model with a single signature inference. Disabling support for feedback tensors.\n",
      "I0000 00:00:1745959243.668547 9296840 gl_context.cc:369] GL version: 2.1 (2.1 ATI-5.2.4), renderer: AMD Radeon Pro 5500M OpenGL Engine\n",
      "W0000 00:00:1745959243.781240 9301496 inference_feedback_manager.cc:114] Feedback manager requires a model with a single signature inference. Disabling support for feedback tensors.\n",
      "W0000 00:00:1745959243.813811 9301496 inference_feedback_manager.cc:114] Feedback manager requires a model with a single signature inference. Disabling support for feedback tensors.\n",
      "I0000 00:00:1745959248.709453 9296840 gl_context.cc:369] GL version: 2.1 (2.1 ATI-5.2.4), renderer: AMD Radeon Pro 5500M OpenGL Engine\n",
      "W0000 00:00:1745959248.710245 9296840 face_landmarker_graph.cc:174] Sets FaceBlendshapesGraph acceleration to xnnpack by default.\n",
      "W0000 00:00:1745959248.718595 9301615 inference_feedback_manager.cc:114] Feedback manager requires a model with a single signature inference. Disabling support for feedback tensors.\n",
      "W0000 00:00:1745959248.737972 9301615 inference_feedback_manager.cc:114] Feedback manager requires a model with a single signature inference. Disabling support for feedback tensors.\n",
      " 73%|████████████████████████████████████████████████████████████████████████████████████████████████████████████████████████████████████████████████████████████████                                                            | 8/11 [01:15<00:28,  9.37s/it]"
     ]
    },
    {
     "name": "stdout",
     "output_type": "stream",
     "text": [
      "max() arg is an empty sequence\n",
      "max() arg is an empty sequence\n",
      "max() arg is an empty sequence\n",
      "max() arg is an empty sequence\n",
      "max() arg is an empty sequence\n",
      "max() arg is an empty sequence\n",
      "max() arg is an empty sequence\n",
      "max() arg is an empty sequence\n",
      "max() arg is an empty sequence\n"
     ]
    },
    {
     "name": "stderr",
     "output_type": "stream",
     "text": [
      "I0000 00:00:1745959249.933501 9296840 gl_context.cc:369] GL version: 2.1 (2.1 ATI-5.2.4), renderer: AMD Radeon Pro 5500M OpenGL Engine\n",
      "W0000 00:00:1745959249.936304 9301760 inference_feedback_manager.cc:114] Feedback manager requires a model with a single signature inference. Disabling support for feedback tensors.\n",
      "W0000 00:00:1745959249.955119 9301758 inference_feedback_manager.cc:114] Feedback manager requires a model with a single signature inference. Disabling support for feedback tensors.\n",
      "I0000 00:00:1745959249.975102 9296840 gl_context.cc:369] GL version: 2.1 (2.1 ATI-5.2.4), renderer: AMD Radeon Pro 5500M OpenGL Engine\n",
      "W0000 00:00:1745959249.978631 9301776 inference_feedback_manager.cc:114] Feedback manager requires a model with a single signature inference. Disabling support for feedback tensors.\n",
      "W0000 00:00:1745959249.992935 9301780 inference_feedback_manager.cc:114] Feedback manager requires a model with a single signature inference. Disabling support for feedback tensors.\n",
      "I0000 00:00:1745959250.013780 9296840 gl_context.cc:369] GL version: 2.1 (2.1 ATI-5.2.4), renderer: AMD Radeon Pro 5500M OpenGL Engine\n",
      "W0000 00:00:1745959250.017439 9301794 inference_feedback_manager.cc:114] Feedback manager requires a model with a single signature inference. Disabling support for feedback tensors.\n",
      "W0000 00:00:1745959250.032724 9301793 inference_feedback_manager.cc:114] Feedback manager requires a model with a single signature inference. Disabling support for feedback tensors.\n",
      "I0000 00:00:1745959250.054306 9296840 gl_context.cc:369] GL version: 2.1 (2.1 ATI-5.2.4), renderer: AMD Radeon Pro 5500M OpenGL Engine\n",
      "W0000 00:00:1745959250.057982 9301811 inference_feedback_manager.cc:114] Feedback manager requires a model with a single signature inference. Disabling support for feedback tensors.\n",
      "W0000 00:00:1745959250.072119 9301815 inference_feedback_manager.cc:114] Feedback manager requires a model with a single signature inference. Disabling support for feedback tensors.\n",
      "I0000 00:00:1745959250.092225 9296840 gl_context.cc:369] GL version: 2.1 (2.1 ATI-5.2.4), renderer: AMD Radeon Pro 5500M OpenGL Engine\n",
      "W0000 00:00:1745959250.095321 9301831 inference_feedback_manager.cc:114] Feedback manager requires a model with a single signature inference. Disabling support for feedback tensors.\n",
      "W0000 00:00:1745959250.111258 9301828 inference_feedback_manager.cc:114] Feedback manager requires a model with a single signature inference. Disabling support for feedback tensors.\n",
      "I0000 00:00:1745959250.132640 9296840 gl_context.cc:369] GL version: 2.1 (2.1 ATI-5.2.4), renderer: AMD Radeon Pro 5500M OpenGL Engine\n",
      "W0000 00:00:1745959250.136069 9301846 inference_feedback_manager.cc:114] Feedback manager requires a model with a single signature inference. Disabling support for feedback tensors.\n",
      "W0000 00:00:1745959250.154983 9301851 inference_feedback_manager.cc:114] Feedback manager requires a model with a single signature inference. Disabling support for feedback tensors.\n",
      "I0000 00:00:1745959250.237128 9296840 gl_context.cc:369] GL version: 2.1 (2.1 ATI-5.2.4), renderer: AMD Radeon Pro 5500M OpenGL Engine\n",
      "W0000 00:00:1745959250.240316 9301866 inference_feedback_manager.cc:114] Feedback manager requires a model with a single signature inference. Disabling support for feedback tensors.\n",
      "W0000 00:00:1745959250.260323 9301870 inference_feedback_manager.cc:114] Feedback manager requires a model with a single signature inference. Disabling support for feedback tensors.\n",
      "I0000 00:00:1745959250.343346 9296840 gl_context.cc:369] GL version: 2.1 (2.1 ATI-5.2.4), renderer: AMD Radeon Pro 5500M OpenGL Engine\n",
      "W0000 00:00:1745959250.350895 9301887 inference_feedback_manager.cc:114] Feedback manager requires a model with a single signature inference. Disabling support for feedback tensors.\n",
      "W0000 00:00:1745959250.365669 9301885 inference_feedback_manager.cc:114] Feedback manager requires a model with a single signature inference. Disabling support for feedback tensors.\n",
      "I0000 00:00:1745959250.432077 9296840 gl_context.cc:369] GL version: 2.1 (2.1 ATI-5.2.4), renderer: AMD Radeon Pro 5500M OpenGL Engine\n",
      "W0000 00:00:1745959250.436146 9301900 inference_feedback_manager.cc:114] Feedback manager requires a model with a single signature inference. Disabling support for feedback tensors.\n",
      "W0000 00:00:1745959250.455699 9301907 inference_feedback_manager.cc:114] Feedback manager requires a model with a single signature inference. Disabling support for feedback tensors.\n",
      "I0000 00:00:1745959250.536588 9296840 gl_context.cc:369] GL version: 2.1 (2.1 ATI-5.2.4), renderer: AMD Radeon Pro 5500M OpenGL Engine\n",
      "W0000 00:00:1745959250.540045 9301919 inference_feedback_manager.cc:114] Feedback manager requires a model with a single signature inference. Disabling support for feedback tensors.\n",
      "W0000 00:00:1745959250.557594 9301916 inference_feedback_manager.cc:114] Feedback manager requires a model with a single signature inference. Disabling support for feedback tensors.\n",
      "I0000 00:00:1745959250.646195 9296840 gl_context.cc:369] GL version: 2.1 (2.1 ATI-5.2.4), renderer: AMD Radeon Pro 5500M OpenGL Engine\n",
      "W0000 00:00:1745959250.757401 9301933 inference_feedback_manager.cc:114] Feedback manager requires a model with a single signature inference. Disabling support for feedback tensors.\n",
      "W0000 00:00:1745959250.789453 9301933 inference_feedback_manager.cc:114] Feedback manager requires a model with a single signature inference. Disabling support for feedback tensors.\n",
      "I0000 00:00:1745959250.925847 9296840 gl_context.cc:369] GL version: 2.1 (2.1 ATI-5.2.4), renderer: AMD Radeon Pro 5500M OpenGL Engine\n",
      "W0000 00:00:1745959251.038944 9301963 inference_feedback_manager.cc:114] Feedback manager requires a model with a single signature inference. Disabling support for feedback tensors.\n",
      "W0000 00:00:1745959251.071978 9301965 inference_feedback_manager.cc:114] Feedback manager requires a model with a single signature inference. Disabling support for feedback tensors.\n",
      "I0000 00:00:1745959251.227400 9296840 gl_context.cc:369] GL version: 2.1 (2.1 ATI-5.2.4), renderer: AMD Radeon Pro 5500M OpenGL Engine\n",
      "W0000 00:00:1745959251.339963 9301978 inference_feedback_manager.cc:114] Feedback manager requires a model with a single signature inference. Disabling support for feedback tensors.\n",
      "W0000 00:00:1745959251.371200 9301978 inference_feedback_manager.cc:114] Feedback manager requires a model with a single signature inference. Disabling support for feedback tensors.\n",
      "I0000 00:00:1745959251.455763 9296840 gl_context.cc:369] GL version: 2.1 (2.1 ATI-5.2.4), renderer: AMD Radeon Pro 5500M OpenGL Engine\n",
      "W0000 00:00:1745959251.576820 9301999 inference_feedback_manager.cc:114] Feedback manager requires a model with a single signature inference. Disabling support for feedback tensors.\n",
      "W0000 00:00:1745959251.609738 9301999 inference_feedback_manager.cc:114] Feedback manager requires a model with a single signature inference. Disabling support for feedback tensors.\n",
      "I0000 00:00:1745959251.701697 9296840 gl_context.cc:369] GL version: 2.1 (2.1 ATI-5.2.4), renderer: AMD Radeon Pro 5500M OpenGL Engine\n",
      "W0000 00:00:1745959251.824621 9302022 inference_feedback_manager.cc:114] Feedback manager requires a model with a single signature inference. Disabling support for feedback tensors.\n",
      "W0000 00:00:1745959251.858385 9302022 inference_feedback_manager.cc:114] Feedback manager requires a model with a single signature inference. Disabling support for feedback tensors.\n",
      "I0000 00:00:1745959251.951073 9296840 gl_context.cc:369] GL version: 2.1 (2.1 ATI-5.2.4), renderer: AMD Radeon Pro 5500M OpenGL Engine\n",
      "W0000 00:00:1745959252.063328 9302041 inference_feedback_manager.cc:114] Feedback manager requires a model with a single signature inference. Disabling support for feedback tensors.\n",
      "W0000 00:00:1745959252.096272 9302041 inference_feedback_manager.cc:114] Feedback manager requires a model with a single signature inference. Disabling support for feedback tensors.\n",
      "I0000 00:00:1745959252.219440 9296840 gl_context.cc:369] GL version: 2.1 (2.1 ATI-5.2.4), renderer: AMD Radeon Pro 5500M OpenGL Engine\n",
      "W0000 00:00:1745959252.337117 9302059 inference_feedback_manager.cc:114] Feedback manager requires a model with a single signature inference. Disabling support for feedback tensors.\n",
      "W0000 00:00:1745959252.368798 9302059 inference_feedback_manager.cc:114] Feedback manager requires a model with a single signature inference. Disabling support for feedback tensors.\n",
      "I0000 00:00:1745959252.504197 9296840 gl_context.cc:369] GL version: 2.1 (2.1 ATI-5.2.4), renderer: AMD Radeon Pro 5500M OpenGL Engine\n",
      "W0000 00:00:1745959252.615226 9302079 inference_feedback_manager.cc:114] Feedback manager requires a model with a single signature inference. Disabling support for feedback tensors.\n",
      "W0000 00:00:1745959252.652149 9302075 inference_feedback_manager.cc:114] Feedback manager requires a model with a single signature inference. Disabling support for feedback tensors.\n",
      "I0000 00:00:1745959252.783941 9296840 gl_context.cc:369] GL version: 2.1 (2.1 ATI-5.2.4), renderer: AMD Radeon Pro 5500M OpenGL Engine\n",
      "W0000 00:00:1745959252.898054 9302099 inference_feedback_manager.cc:114] Feedback manager requires a model with a single signature inference. Disabling support for feedback tensors.\n",
      "W0000 00:00:1745959252.930846 9302099 inference_feedback_manager.cc:114] Feedback manager requires a model with a single signature inference. Disabling support for feedback tensors.\n",
      "I0000 00:00:1745959253.058808 9296840 gl_context.cc:369] GL version: 2.1 (2.1 ATI-5.2.4), renderer: AMD Radeon Pro 5500M OpenGL Engine\n",
      "W0000 00:00:1745959253.169029 9302115 inference_feedback_manager.cc:114] Feedback manager requires a model with a single signature inference. Disabling support for feedback tensors.\n",
      "W0000 00:00:1745959253.203851 9302115 inference_feedback_manager.cc:114] Feedback manager requires a model with a single signature inference. Disabling support for feedback tensors.\n",
      "I0000 00:00:1745959253.332676 9296840 gl_context.cc:369] GL version: 2.1 (2.1 ATI-5.2.4), renderer: AMD Radeon Pro 5500M OpenGL Engine\n",
      "W0000 00:00:1745959253.440810 9302134 inference_feedback_manager.cc:114] Feedback manager requires a model with a single signature inference. Disabling support for feedback tensors.\n",
      "W0000 00:00:1745959253.473547 9302134 inference_feedback_manager.cc:114] Feedback manager requires a model with a single signature inference. Disabling support for feedback tensors.\n",
      "I0000 00:00:1745959258.923959 9296840 gl_context.cc:369] GL version: 2.1 (2.1 ATI-5.2.4), renderer: AMD Radeon Pro 5500M OpenGL Engine\n",
      "W0000 00:00:1745959258.924763 9296840 face_landmarker_graph.cc:174] Sets FaceBlendshapesGraph acceleration to xnnpack by default.\n",
      "W0000 00:00:1745959258.933040 9302227 inference_feedback_manager.cc:114] Feedback manager requires a model with a single signature inference. Disabling support for feedback tensors.\n",
      "W0000 00:00:1745959258.952209 9302227 inference_feedback_manager.cc:114] Feedback manager requires a model with a single signature inference. Disabling support for feedback tensors.\n",
      " 82%|████████████████████████████████████████████████████████████████████████████████████████████████████████████████████████████████████████████████████████████████████████████████████                                        | 9/11 [01:25<00:19,  9.65s/it]"
     ]
    },
    {
     "name": "stdout",
     "output_type": "stream",
     "text": [
      "max() arg is an empty sequence\n",
      "max() arg is an empty sequence\n",
      "max() arg is an empty sequence\n",
      "max() arg is an empty sequence\n",
      "max() arg is an empty sequence\n",
      "max() arg is an empty sequence\n",
      "max() arg is an empty sequence\n",
      "max() arg is an empty sequence\n"
     ]
    },
    {
     "name": "stderr",
     "output_type": "stream",
     "text": [
      "I0000 00:00:1745959260.197518 9296840 gl_context.cc:369] GL version: 2.1 (2.1 ATI-5.2.4), renderer: AMD Radeon Pro 5500M OpenGL Engine\n",
      "W0000 00:00:1745959260.199874 9302287 inference_feedback_manager.cc:114] Feedback manager requires a model with a single signature inference. Disabling support for feedback tensors.\n",
      "W0000 00:00:1745959260.217221 9302290 inference_feedback_manager.cc:114] Feedback manager requires a model with a single signature inference. Disabling support for feedback tensors.\n",
      "I0000 00:00:1745959260.309149 9296840 gl_context.cc:369] GL version: 2.1 (2.1 ATI-5.2.4), renderer: AMD Radeon Pro 5500M OpenGL Engine\n",
      "W0000 00:00:1745959260.312267 9302302 inference_feedback_manager.cc:114] Feedback manager requires a model with a single signature inference. Disabling support for feedback tensors.\n",
      "W0000 00:00:1745959260.332763 9302307 inference_feedback_manager.cc:114] Feedback manager requires a model with a single signature inference. Disabling support for feedback tensors.\n",
      "I0000 00:00:1745959260.415754 9296840 gl_context.cc:369] GL version: 2.1 (2.1 ATI-5.2.4), renderer: AMD Radeon Pro 5500M OpenGL Engine\n",
      "W0000 00:00:1745959260.419527 9302318 inference_feedback_manager.cc:114] Feedback manager requires a model with a single signature inference. Disabling support for feedback tensors.\n",
      "W0000 00:00:1745959260.439641 9302326 inference_feedback_manager.cc:114] Feedback manager requires a model with a single signature inference. Disabling support for feedback tensors.\n",
      "I0000 00:00:1745959260.520212 9296840 gl_context.cc:369] GL version: 2.1 (2.1 ATI-5.2.4), renderer: AMD Radeon Pro 5500M OpenGL Engine\n",
      "W0000 00:00:1745959260.523992 9302334 inference_feedback_manager.cc:114] Feedback manager requires a model with a single signature inference. Disabling support for feedback tensors.\n",
      "W0000 00:00:1745959260.542897 9302333 inference_feedback_manager.cc:114] Feedback manager requires a model with a single signature inference. Disabling support for feedback tensors.\n",
      "I0000 00:00:1745959260.625439 9296840 gl_context.cc:369] GL version: 2.1 (2.1 ATI-5.2.4), renderer: AMD Radeon Pro 5500M OpenGL Engine\n",
      "W0000 00:00:1745959260.629312 9302347 inference_feedback_manager.cc:114] Feedback manager requires a model with a single signature inference. Disabling support for feedback tensors.\n",
      "W0000 00:00:1745959260.647775 9302346 inference_feedback_manager.cc:114] Feedback manager requires a model with a single signature inference. Disabling support for feedback tensors.\n",
      "I0000 00:00:1745959260.735388 9296840 gl_context.cc:369] GL version: 2.1 (2.1 ATI-5.2.4), renderer: AMD Radeon Pro 5500M OpenGL Engine\n",
      "W0000 00:00:1745959260.738690 9302373 inference_feedback_manager.cc:114] Feedback manager requires a model with a single signature inference. Disabling support for feedback tensors.\n",
      "W0000 00:00:1745959260.753418 9302382 inference_feedback_manager.cc:114] Feedback manager requires a model with a single signature inference. Disabling support for feedback tensors.\n",
      "I0000 00:00:1745959260.847202 9296840 gl_context.cc:369] GL version: 2.1 (2.1 ATI-5.2.4), renderer: AMD Radeon Pro 5500M OpenGL Engine\n",
      "W0000 00:00:1745959260.850955 9302393 inference_feedback_manager.cc:114] Feedback manager requires a model with a single signature inference. Disabling support for feedback tensors.\n",
      "W0000 00:00:1745959260.874378 9302401 inference_feedback_manager.cc:114] Feedback manager requires a model with a single signature inference. Disabling support for feedback tensors.\n",
      "I0000 00:00:1745959260.941908 9296840 gl_context.cc:369] GL version: 2.1 (2.1 ATI-5.2.4), renderer: AMD Radeon Pro 5500M OpenGL Engine\n",
      "W0000 00:00:1745959260.947263 9302415 inference_feedback_manager.cc:114] Feedback manager requires a model with a single signature inference. Disabling support for feedback tensors.\n",
      "W0000 00:00:1745959260.961036 9302418 inference_feedback_manager.cc:114] Feedback manager requires a model with a single signature inference. Disabling support for feedback tensors.\n",
      "I0000 00:00:1745959261.048492 9296840 gl_context.cc:369] GL version: 2.1 (2.1 ATI-5.2.4), renderer: AMD Radeon Pro 5500M OpenGL Engine\n",
      "W0000 00:00:1745959261.052606 9302429 inference_feedback_manager.cc:114] Feedback manager requires a model with a single signature inference. Disabling support for feedback tensors.\n",
      "W0000 00:00:1745959261.069923 9302425 inference_feedback_manager.cc:114] Feedback manager requires a model with a single signature inference. Disabling support for feedback tensors.\n",
      "I0000 00:00:1745959261.147024 9296840 gl_context.cc:369] GL version: 2.1 (2.1 ATI-5.2.4), renderer: AMD Radeon Pro 5500M OpenGL Engine\n",
      "W0000 00:00:1745959261.150773 9302441 inference_feedback_manager.cc:114] Feedback manager requires a model with a single signature inference. Disabling support for feedback tensors.\n",
      "W0000 00:00:1745959261.167153 9302444 inference_feedback_manager.cc:114] Feedback manager requires a model with a single signature inference. Disabling support for feedback tensors.\n",
      "I0000 00:00:1745959261.233199 9296840 gl_context.cc:369] GL version: 2.1 (2.1 ATI-5.2.4), renderer: AMD Radeon Pro 5500M OpenGL Engine\n",
      "W0000 00:00:1745959261.340737 9302462 inference_feedback_manager.cc:114] Feedback manager requires a model with a single signature inference. Disabling support for feedback tensors.\n",
      "W0000 00:00:1745959261.373534 9302462 inference_feedback_manager.cc:114] Feedback manager requires a model with a single signature inference. Disabling support for feedback tensors.\n",
      "I0000 00:00:1745959261.505490 9296840 gl_context.cc:369] GL version: 2.1 (2.1 ATI-5.2.4), renderer: AMD Radeon Pro 5500M OpenGL Engine\n",
      "W0000 00:00:1745959261.617073 9302482 inference_feedback_manager.cc:114] Feedback manager requires a model with a single signature inference. Disabling support for feedback tensors.\n",
      "W0000 00:00:1745959261.650611 9302482 inference_feedback_manager.cc:114] Feedback manager requires a model with a single signature inference. Disabling support for feedback tensors.\n",
      "I0000 00:00:1745959261.779850 9296840 gl_context.cc:369] GL version: 2.1 (2.1 ATI-5.2.4), renderer: AMD Radeon Pro 5500M OpenGL Engine\n",
      "W0000 00:00:1745959261.891073 9302508 inference_feedback_manager.cc:114] Feedback manager requires a model with a single signature inference. Disabling support for feedback tensors.\n",
      "W0000 00:00:1745959261.924787 9302508 inference_feedback_manager.cc:114] Feedback manager requires a model with a single signature inference. Disabling support for feedback tensors.\n",
      "I0000 00:00:1745959262.051010 9296840 gl_context.cc:369] GL version: 2.1 (2.1 ATI-5.2.4), renderer: AMD Radeon Pro 5500M OpenGL Engine\n",
      "W0000 00:00:1745959262.165612 9302521 inference_feedback_manager.cc:114] Feedback manager requires a model with a single signature inference. Disabling support for feedback tensors.\n",
      "W0000 00:00:1745959262.196303 9302521 inference_feedback_manager.cc:114] Feedback manager requires a model with a single signature inference. Disabling support for feedback tensors.\n",
      "I0000 00:00:1745959262.321749 9296840 gl_context.cc:369] GL version: 2.1 (2.1 ATI-5.2.4), renderer: AMD Radeon Pro 5500M OpenGL Engine\n",
      "W0000 00:00:1745959262.437368 9302538 inference_feedback_manager.cc:114] Feedback manager requires a model with a single signature inference. Disabling support for feedback tensors.\n",
      "W0000 00:00:1745959262.470252 9302538 inference_feedback_manager.cc:114] Feedback manager requires a model with a single signature inference. Disabling support for feedback tensors.\n",
      "I0000 00:00:1745959262.596563 9296840 gl_context.cc:369] GL version: 2.1 (2.1 ATI-5.2.4), renderer: AMD Radeon Pro 5500M OpenGL Engine\n",
      "W0000 00:00:1745959262.712286 9302553 inference_feedback_manager.cc:114] Feedback manager requires a model with a single signature inference. Disabling support for feedback tensors.\n",
      "W0000 00:00:1745959262.746532 9302553 inference_feedback_manager.cc:114] Feedback manager requires a model with a single signature inference. Disabling support for feedback tensors.\n",
      "I0000 00:00:1745959262.874134 9296840 gl_context.cc:369] GL version: 2.1 (2.1 ATI-5.2.4), renderer: AMD Radeon Pro 5500M OpenGL Engine\n",
      "W0000 00:00:1745959262.987541 9302579 inference_feedback_manager.cc:114] Feedback manager requires a model with a single signature inference. Disabling support for feedback tensors.\n",
      "W0000 00:00:1745959263.017873 9302579 inference_feedback_manager.cc:114] Feedback manager requires a model with a single signature inference. Disabling support for feedback tensors.\n",
      "I0000 00:00:1745959263.143484 9296840 gl_context.cc:369] GL version: 2.1 (2.1 ATI-5.2.4), renderer: AMD Radeon Pro 5500M OpenGL Engine\n",
      "W0000 00:00:1745959263.261356 9302598 inference_feedback_manager.cc:114] Feedback manager requires a model with a single signature inference. Disabling support for feedback tensors.\n",
      "W0000 00:00:1745959263.295045 9302598 inference_feedback_manager.cc:114] Feedback manager requires a model with a single signature inference. Disabling support for feedback tensors.\n",
      "I0000 00:00:1745959263.426056 9296840 gl_context.cc:369] GL version: 2.1 (2.1 ATI-5.2.4), renderer: AMD Radeon Pro 5500M OpenGL Engine\n",
      "W0000 00:00:1745959263.544119 9302615 inference_feedback_manager.cc:114] Feedback manager requires a model with a single signature inference. Disabling support for feedback tensors.\n",
      "W0000 00:00:1745959263.577292 9302615 inference_feedback_manager.cc:114] Feedback manager requires a model with a single signature inference. Disabling support for feedback tensors.\n",
      "I0000 00:00:1745959263.706654 9296840 gl_context.cc:369] GL version: 2.1 (2.1 ATI-5.2.4), renderer: AMD Radeon Pro 5500M OpenGL Engine\n",
      "W0000 00:00:1745959263.825716 9302641 inference_feedback_manager.cc:114] Feedback manager requires a model with a single signature inference. Disabling support for feedback tensors.\n",
      "W0000 00:00:1745959263.858878 9302641 inference_feedback_manager.cc:114] Feedback manager requires a model with a single signature inference. Disabling support for feedback tensors.\n",
      "I0000 00:00:1745959263.990721 9296840 gl_context.cc:369] GL version: 2.1 (2.1 ATI-5.2.4), renderer: AMD Radeon Pro 5500M OpenGL Engine\n",
      "W0000 00:00:1745959264.105553 9302658 inference_feedback_manager.cc:114] Feedback manager requires a model with a single signature inference. Disabling support for feedback tensors.\n",
      "W0000 00:00:1745959264.137100 9302658 inference_feedback_manager.cc:114] Feedback manager requires a model with a single signature inference. Disabling support for feedback tensors.\n",
      "I0000 00:00:1745959269.150224 9296840 gl_context.cc:369] GL version: 2.1 (2.1 ATI-5.2.4), renderer: AMD Radeon Pro 5500M OpenGL Engine\n",
      "W0000 00:00:1745959269.150972 9296840 face_landmarker_graph.cc:174] Sets FaceBlendshapesGraph acceleration to xnnpack by default.\n",
      "W0000 00:00:1745959269.159178 9302747 inference_feedback_manager.cc:114] Feedback manager requires a model with a single signature inference. Disabling support for feedback tensors.\n",
      "W0000 00:00:1745959269.178788 9302747 inference_feedback_manager.cc:114] Feedback manager requires a model with a single signature inference. Disabling support for feedback tensors.\n",
      " 91%|███████████████████████████████████████████████████████████████████████████████████████████████████████████████████████████████████████████████████████████████████████████████████████████████████████                    | 10/11 [01:35<00:09,  9.87s/it]"
     ]
    },
    {
     "name": "stdout",
     "output_type": "stream",
     "text": [
      "max() arg is an empty sequence\n",
      "max() arg is an empty sequence\n"
     ]
    },
    {
     "name": "stderr",
     "output_type": "stream",
     "text": [
      "I0000 00:00:1745959270.387567 9296840 gl_context.cc:369] GL version: 2.1 (2.1 ATI-5.2.4), renderer: AMD Radeon Pro 5500M OpenGL Engine\n",
      "W0000 00:00:1745959270.389982 9302788 inference_feedback_manager.cc:114] Feedback manager requires a model with a single signature inference. Disabling support for feedback tensors.\n",
      "W0000 00:00:1745959270.405113 9302800 inference_feedback_manager.cc:114] Feedback manager requires a model with a single signature inference. Disabling support for feedback tensors.\n",
      "I0000 00:00:1745959270.489638 9296840 gl_context.cc:369] GL version: 2.1 (2.1 ATI-5.2.4), renderer: AMD Radeon Pro 5500M OpenGL Engine\n",
      "W0000 00:00:1745959270.493315 9302809 inference_feedback_manager.cc:114] Feedback manager requires a model with a single signature inference. Disabling support for feedback tensors.\n",
      "W0000 00:00:1745959270.510274 9302808 inference_feedback_manager.cc:114] Feedback manager requires a model with a single signature inference. Disabling support for feedback tensors.\n",
      "I0000 00:00:1745959270.609518 9296840 gl_context.cc:369] GL version: 2.1 (2.1 ATI-5.2.4), renderer: AMD Radeon Pro 5500M OpenGL Engine\n",
      "W0000 00:00:1745959270.718524 9302824 inference_feedback_manager.cc:114] Feedback manager requires a model with a single signature inference. Disabling support for feedback tensors.\n",
      "W0000 00:00:1745959270.762053 9302830 inference_feedback_manager.cc:114] Feedback manager requires a model with a single signature inference. Disabling support for feedback tensors.\n",
      "I0000 00:00:1745959270.899812 9296840 gl_context.cc:369] GL version: 2.1 (2.1 ATI-5.2.4), renderer: AMD Radeon Pro 5500M OpenGL Engine\n",
      "W0000 00:00:1745959271.008189 9302845 inference_feedback_manager.cc:114] Feedback manager requires a model with a single signature inference. Disabling support for feedback tensors.\n",
      "W0000 00:00:1745959271.044906 9302845 inference_feedback_manager.cc:114] Feedback manager requires a model with a single signature inference. Disabling support for feedback tensors.\n",
      "I0000 00:00:1745959271.172166 9296840 gl_context.cc:369] GL version: 2.1 (2.1 ATI-5.2.4), renderer: AMD Radeon Pro 5500M OpenGL Engine\n",
      "W0000 00:00:1745959271.282614 9302862 inference_feedback_manager.cc:114] Feedback manager requires a model with a single signature inference. Disabling support for feedback tensors.\n",
      "W0000 00:00:1745959271.316059 9302862 inference_feedback_manager.cc:114] Feedback manager requires a model with a single signature inference. Disabling support for feedback tensors.\n",
      "I0000 00:00:1745959272.356251 9296840 gl_context.cc:369] GL version: 2.1 (2.1 ATI-5.2.4), renderer: AMD Radeon Pro 5500M OpenGL Engine\n",
      "W0000 00:00:1745959272.357707 9296840 face_landmarker_graph.cc:174] Sets FaceBlendshapesGraph acceleration to xnnpack by default.\n",
      "W0000 00:00:1745959272.366574 9302887 inference_feedback_manager.cc:114] Feedback manager requires a model with a single signature inference. Disabling support for feedback tensors.\n",
      "W0000 00:00:1745959272.386486 9302898 inference_feedback_manager.cc:114] Feedback manager requires a model with a single signature inference. Disabling support for feedback tensors.\n",
      "100%|███████████████████████████████████████████████████████████████████████████████████████████████████████████████████████████████████████████████████████████████████████████████████████████████████████████████████████████| 11/11 [01:38<00:00,  8.95s/it]\n"
     ]
    }
   ],
   "source": [
    "processing = FileProcessingSystem(\"data/mutko.mp4\", flags, negative_emotions, preferred_gestures, 10, \"en\")"
   ]
  },
  {
   "cell_type": "code",
   "execution_count": 23,
   "metadata": {
    "colab": {
     "base_uri": "https://localhost:8080/",
     "height": 175
    },
    "id": "vi1QA2enK_XU",
    "outputId": "7a2c07bd-36f2-4241-98e7-3b0a1467430c"
   },
   "outputs": [
    {
     "name": "stderr",
     "output_type": "stream",
     "text": [
      "100%|█████████████████████████████████████████████████████████████████████████████████████████████████████████████████████████████████████████████████████████████████████████████████████████████████████████████████| 10205/10205 [01:54<00:00, 89.23frames/s]\n"
     ]
    },
    {
     "data": {
      "text/plain": [
       "'dear president blatter colleagues of the executive committee let me speak from my heart in english my friends today is a unique moment in time both for my country and for fifa russia represents its new horizons for fifa russia means a big promotion of our game millions of new hearts in minds it also means a great legacy after the world cup great new stadiums and millions of boys and girls embracing a game russias economy is large and growing the federal government has stable finances russias sports marketing is developing rapidly just one example today russian companies provided over billion in sponsorship for the sochi olympic games imagine how much investment would be made into football given that football is sport number one our bid is a national priority for the russian federation if you give us a chance fifa will never regret it you will be proud of your choice i guarantee it'"
      ]
     },
     "execution_count": 23,
     "metadata": {},
     "output_type": "execute_result"
    }
   ],
   "source": [
    "processing.get_transcription()"
   ]
  },
  {
   "cell_type": "code",
   "execution_count": 38,
   "metadata": {},
   "outputs": [
    {
     "name": "stdout",
     "output_type": "stream",
     "text": [
      "On the video a White male speaker about 60 years old give a presentation in English. The following characteristics of his video were highlighted by our models: \"rather clean speech with few filler words, such as \"for fifa\", \"fifa russia\", \"means a\", \"millions of\", \"for the\". Optimal speech rate. Mostly desired emotions presented on the video. Video doesn't have noticeable background noise. Intelligibility of speech is excellent; every word is clearly recognizable. Video recorded with noticeable deviations from proper recording angle. Speaker often look away from the camera. Gesturing is appropriate and natural. In average video recorded with too dark lighting. Looks like clothes are suitable for the presentation.\"\n",
      "Here is the transcription of the presentation: \"dear president blatter colleagues of the executive committee let me speak from my heart in english my friends today is a unique moment in time both for my country and for fifa russia represents its new horizons for fifa russia means a big promotion of our game millions of new hearts in minds it also means a great legacy after the world cup great new stadiums and millions of boys and girls embracing a game russias economy is large and growing the federal government has stable finances russias sports marketing is developing rapidly just one example today russian companies provided over billion in sponsorship for the sochi olympic games imagine how much investment would be made into football given that football is sport number one our bid is a national priority for the russian federation if you give us a chance fifa will never regret it you will be proud of your choice i guarantee it\".\n",
      "Note that the presentation has a official speach style.\n",
      "Please, analyze the speach and characteristics and provide a brief recomendation how the presentor can improve the quality of the presentation and his presentation skills. The recomendation should be less than 150 words.\n"
     ]
    }
   ],
   "source": [
    "prompt = processing.get_recomendation_prompt(\"official speach\")\n",
    "print(prompt)"
   ]
  },
  {
   "cell_type": "code",
   "execution_count": 39,
   "metadata": {},
   "outputs": [
    {
     "name": "stdout",
     "output_type": "stream",
     "text": [
      "The presentation is strong in clarity, speech rate, and emotional presence. To elevate it further, the speaker should address lighting and camera angle for a more professional visual impact—brighten the setup and position the camera level with the face. Maintaining steady eye contact with the camera will help establish a stronger connection with the audience. While the content and official style are appropriate, the language could be slightly polished for better flow (e.g., avoid repeated phrases like \"means a\" and improve sentence structure for smoother delivery). Overall, with minor visual and stylistic refinements, the speaker would achieve a more engaging and authoritative presentation.\n"
     ]
    }
   ],
   "source": [
    "print(processing.get_recommendation(prompt))"
   ]
  },
  {
   "cell_type": "code",
   "execution_count": 26,
   "metadata": {},
   "outputs": [
    {
     "name": "stdout",
     "output_type": "stream",
     "text": [
      "60.05452797946709\n",
      "male\n",
      "White\n"
     ]
    }
   ],
   "source": [
    "print(processing.get_age())\n",
    "print(processing.get_gender())\n",
    "print(processing.get_ethnicity())"
   ]
  },
  {
   "cell_type": "code",
   "execution_count": 27,
   "metadata": {
    "colab": {
     "base_uri": "https://localhost:8080/"
    },
    "id": "LG2OBVj5LDjL",
    "outputId": "aa604af6-5628-44e7-968a-d8d59c6a8417"
   },
   "outputs": [
    {
     "data": {
      "text/plain": [
       "(0.603, 0.0, array([0., 0., 0., 0., 0., 0., 0., 0., 0., 0., 0.]))"
      ]
     },
     "execution_count": 27,
     "metadata": {},
     "output_type": "execute_result"
    }
   ],
   "source": [
    "processing.get_emotionality()"
   ]
  },
  {
   "cell_type": "code",
   "execution_count": 28,
   "metadata": {
    "colab": {
     "base_uri": "https://localhost:8080/"
    },
    "id": "n-ndjKVzLJ8Z",
    "outputId": "4e53884d-b8d2-4839-883e-0c666b82d0dd"
   },
   "outputs": [
    {
     "data": {
      "text/plain": [
       "(0.64674,\n",
       " {'for fifa': 2,\n",
       "  'fifa russia': 2,\n",
       "  'means a': 2,\n",
       "  'millions of': 2,\n",
       "  'for the': 2,\n",
       "  'just': 1},\n",
       " {'for fifa': 2,\n",
       "  'fifa russia': 2,\n",
       "  'means a': 2,\n",
       "  'millions of': 2,\n",
       "  'for the': 2})"
      ]
     },
     "execution_count": 28,
     "metadata": {},
     "output_type": "execute_result"
    }
   ],
   "source": [
    "processing.get_filler_words()"
   ]
  },
  {
   "cell_type": "code",
   "execution_count": 29,
   "metadata": {
    "colab": {
     "base_uri": "https://localhost:8080/"
    },
    "id": "KvNf1uw1LMFm",
    "outputId": "4361a483-3442-494e-c438-4c089d17411c"
   },
   "outputs": [
    {
     "data": {
      "text/plain": [
       "(0.0, array([0., 0., 0., 0., 0., 0., 0., 0., 0., 0., 0.]), [])"
      ]
     },
     "execution_count": 29,
     "metadata": {},
     "output_type": "execute_result"
    }
   ],
   "source": [
    "processing.get_speech_rate()"
   ]
  },
  {
   "cell_type": "code",
   "execution_count": 30,
   "metadata": {
    "colab": {
     "base_uri": "https://localhost:8080/"
    },
    "id": "GwaDnGwTLT9R",
    "outputId": "0429f3e8-37bc-4e66-a629-b3904f3f84b6"
   },
   "outputs": [
    {
     "data": {
      "text/plain": [
       "(0.0,\n",
       " array([0.1105, 0.028 , 0.0595, 0.0245, 0.0255, 0.0255, 0.0235, 0.0255,\n",
       "        0.0245, 0.02  , 0.25  ]),\n",
       " [])"
      ]
     },
     "execution_count": 30,
     "metadata": {},
     "output_type": "execute_result"
    }
   ],
   "source": [
    "processing.get_background_noise()"
   ]
  },
  {
   "cell_type": "code",
   "execution_count": 31,
   "metadata": {
    "colab": {
     "base_uri": "https://localhost:8080/"
    },
    "id": "oJGLKRZcLVsu",
    "outputId": "98f4a34e-de4e-4577-f37c-c6725fab385e"
   },
   "outputs": [
    {
     "data": {
      "text/plain": [
       "(0.9551272727272726,\n",
       " array([0.912, 0.978, 0.952, 0.98 , 0.98 , 0.98 , 0.981, 0.98 , 0.98 ,\n",
       "        0.984, 0.8  ]))"
      ]
     },
     "execution_count": 31,
     "metadata": {},
     "output_type": "execute_result"
    }
   ],
   "source": [
    "processing.get_intelligibility()"
   ]
  },
  {
   "cell_type": "code",
   "execution_count": 32,
   "metadata": {
    "colab": {
     "base_uri": "https://localhost:8080/"
    },
    "id": "kVlShanfLV6j",
    "outputId": "e73d7a9f-1479-49d4-b85b-9cb9bbb3b36f"
   },
   "outputs": [
    {
     "data": {
      "text/plain": [
       "(0.684,\n",
       " array([1.   , 1.   , 0.78 , 0.696, 0.972, 0.536, 0.74 , 0.98 , 0.684,\n",
       "        0.132, 0.   ]))"
      ]
     },
     "execution_count": 32,
     "metadata": {},
     "output_type": "execute_result"
    }
   ],
   "source": [
    "processing.get_incorrect_angle()"
   ]
  },
  {
   "cell_type": "code",
   "execution_count": 33,
   "metadata": {
    "colab": {
     "base_uri": "https://localhost:8080/"
    },
    "id": "hPq4LHc4LWGR",
    "outputId": "b33dc072-77ea-49d7-f7c9-f58415c4bb78"
   },
   "outputs": [
    {
     "data": {
      "text/plain": [
       "(1.0, array([1., 1., 1., 1., 1., 1., 1., 1., 1., 1., 1.]))"
      ]
     },
     "execution_count": 33,
     "metadata": {},
     "output_type": "execute_result"
    }
   ],
   "source": [
    "processing.get_incorrect_glances()"
   ]
  },
  {
   "cell_type": "code",
   "execution_count": 34,
   "metadata": {
    "colab": {
     "base_uri": "https://localhost:8080/"
    },
    "id": "69_yaU1zLWgz",
    "outputId": "79b42430-bb5d-4029-ead7-dade5e13d27f"
   },
   "outputs": [
    {
     "data": {
      "text/plain": [
       "(1.818, array([0, 2, 2, 2, 2, 2, 2, 2, 2, 2, 2]))"
      ]
     },
     "execution_count": 34,
     "metadata": {},
     "output_type": "execute_result"
    }
   ],
   "source": [
    "processing.get_gestures()"
   ]
  },
  {
   "cell_type": "code",
   "execution_count": 35,
   "metadata": {
    "colab": {
     "base_uri": "https://localhost:8080/"
    },
    "id": "4jDLDPH1LWsL",
    "outputId": "3cf39a69-e325-4d70-a5a4-4cd36003a9c6"
   },
   "outputs": [
    {
     "data": {
      "text/plain": [
       "True"
      ]
     },
     "execution_count": 35,
     "metadata": {},
     "output_type": "execute_result"
    }
   ],
   "source": [
    "processing.get_clothes()"
   ]
  },
  {
   "cell_type": "code",
   "execution_count": 36,
   "metadata": {
    "colab": {
     "base_uri": "https://localhost:8080/"
    },
    "id": "HdwxJIdwXXv1",
    "outputId": "bb7134a1-e0b6-4a9a-d3bf-83d46fbecbaf"
   },
   "outputs": [
    {
     "name": "stdout",
     "output_type": "stream",
     "text": [
      "{'speech_rate': array([0., 0., 0., 0., 0., 0., 0., 0., 0., 0., 0.]), 'emotionality': array([0., 0., 0., 0., 0., 0., 0., 0., 0., 0., 0.]), 'background_noise': array([0.1105, 0.028 , 0.0595, 0.0245, 0.0255, 0.0255, 0.0235, 0.0255,\n",
      "       0.0245, 0.02  , 0.25  ]), 'intelligibility': array([0.912, 0.978, 0.952, 0.98 , 0.98 , 0.98 , 0.981, 0.98 , 0.98 ,\n",
      "       0.984, 0.8  ]), 'glances': array([1., 1., 1., 1., 1., 1., 1., 1., 1., 1., 1.]), 'gestures': array([0, 2, 2, 2, 2, 2, 2, 2, 2, 2, 2])}\n",
      "background_noise [0.1105 0.028  0.0595 0.0245 0.0255 0.0255 0.0235 0.0255 0.0245 0.02\n",
      " 0.25  ]\n",
      "speech_rate [0. 0. 0. 0. 0. 0. 0. 0. 0. 0. 0.]\n",
      "emotionality [0. 0. 0. 0. 0. 0. 0. 0. 0. 0. 0.]\n",
      "intelligibility [0.912 0.978 0.952 0.98  0.98  0.98  0.981 0.98  0.98  0.984 0.8  ]\n",
      "gestures [0 2 2 2 2 2 2 2 2 2 2]\n",
      "glances [1. 1. 1. 1. 1. 1. 1. 1. 1. 1. 1.]\n",
      "[['No background noise', 'No background noise', 'No background noise', 'No background noise', 'No background noise', 'No background noise', 'No background noise', 'No background noise', 'No background noise', 'No background noise', 'No background noise'], ['Optimal speech rate', 'Optimal speech rate', 'Optimal speech rate', 'Optimal speech rate', 'Optimal speech rate', 'Optimal speech rate', 'Optimal speech rate', 'Optimal speech rate', 'Optimal speech rate', 'Optimal speech rate', 'Optimal speech rate'], ['Mostly desired emotions', 'Mostly desired emotions', 'Mostly desired emotions', 'Mostly desired emotions', 'Mostly desired emotions', 'Mostly desired emotions', 'Mostly desired emotions', 'Mostly desired emotions', 'Mostly desired emotions', 'Mostly desired emotions', 'Mostly desired emotions'], ['Speech is fully intelligible', 'Speech is fully intelligible', 'Speech is fully intelligible', 'Speech is fully intelligible', 'Speech is fully intelligible', 'Speech is fully intelligible', 'Speech is fully intelligible', 'Speech is fully intelligible', 'Speech is fully intelligible', 'Speech is fully intelligible', 'Speech is fully intelligible'], ['Inactive gesturing', 'Active gesturing', 'Active gesturing', 'Active gesturing', 'Active gesturing', 'Active gesturing', 'Active gesturing', 'Active gesturing', 'Active gesturing', 'Active gesturing', 'Active gesturing'], ['You often look away', 'You often look away', 'You often look away', 'You often look away', 'You often look away', 'You often look away', 'You often look away', 'You often look away', 'You often look away', 'You often look away', 'You often look away'], ['Too dark lighting', 'Too dark lighting', 'Too dark lighting', 'Too dark lighting', 'Too dark lighting', 'Too dark lighting', 'Too dark lighting', 'Too dark lighting', 'Too dark lighting', 'Too dark lighting', 'Too dark lighting']]\n",
      "[[True, True, True, True, True, True, True, True, True, True, True], [True, True, True, True, True, True, True, True, True, True, True], [True, True, True, True, True, True, True, True, True, True, True], [True, True, True, True, True, True, True, True, True, True, True], [True, False, False, False, False, False, False, False, False, False, False], [False, False, False, False, False, False, False, False, False, False, False], [False, False, False, False, False, False, False, False, False, False, False]]\n",
      "Moviepy - Building video data/mutko_painted.mp4.\n",
      "MoviePy - Writing audio in mutko_paintedTEMP_MPY_wvf_snd.mp3\n"
     ]
    },
    {
     "name": "stderr",
     "output_type": "stream",
     "text": [
      "                                                                                                                                                                                                                                                                "
     ]
    },
    {
     "name": "stdout",
     "output_type": "stream",
     "text": [
      "MoviePy - Done.\n",
      "Moviepy - Writing video data/mutko_painted.mp4\n",
      "\n"
     ]
    },
    {
     "name": "stderr",
     "output_type": "stream",
     "text": [
      "                                                                                                                                                                                                                                                                "
     ]
    },
    {
     "name": "stdout",
     "output_type": "stream",
     "text": [
      "Moviepy - Done !\n",
      "Moviepy - video ready data/mutko_painted.mp4\n"
     ]
    }
   ],
   "source": [
    "painted_path = processing.draw()"
   ]
  },
  {
   "cell_type": "code",
   "execution_count": 37,
   "metadata": {
    "colab": {
     "base_uri": "https://localhost:8080/",
     "height": 503
    },
    "id": "Y2TggR_cuXa8",
    "outputId": "3d40f481-d230-4f0f-fbc5-330166d6e875"
   },
   "outputs": [],
   "source": [
    "video_path = painted_path\n",
    "video_clip = VideoFileClip(video_path)\n",
    "#video_clip.ipython_display(width=640)"
   ]
  },
  {
   "cell_type": "code",
   "execution_count": null,
   "metadata": {},
   "outputs": [],
   "source": []
  }
 ],
 "metadata": {
  "accelerator": "GPU",
  "colab": {
   "gpuType": "T4",
   "provenance": []
  },
  "kernelspec": {
   "display_name": "Python 3 (ipykernel)",
   "language": "python",
   "name": "python3"
  },
  "language_info": {
   "codemirror_mode": {
    "name": "ipython",
    "version": 3
   },
   "file_extension": ".py",
   "mimetype": "text/x-python",
   "name": "python",
   "nbconvert_exporter": "python",
   "pygments_lexer": "ipython3",
   "version": "3.11.5"
  }
 },
 "nbformat": 4,
 "nbformat_minor": 4
}
